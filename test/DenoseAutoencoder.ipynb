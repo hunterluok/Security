{
 "cells": [
  {
   "cell_type": "code",
   "execution_count": null,
   "metadata": {
    "collapsed": true
   },
   "outputs": [],
   "source": []
  },
  {
   "cell_type": "code",
   "execution_count": 2,
   "metadata": {},
   "outputs": [],
   "source": [
    "import tensorflow as tf\n",
    "import numpy as np"
   ]
  },
  {
   "cell_type": "code",
   "execution_count": 3,
   "metadata": {
    "collapsed": true
   },
   "outputs": [],
   "source": [
    "w1 = tf.Variable(tf.random_normal([2, 3], stddev=1, seed=1))\n",
    "w2 = tf.Variable(tf.random_normal([3, 1], stddev=1, seed=2))"
   ]
  },
  {
   "cell_type": "code",
   "execution_count": 5,
   "metadata": {},
   "outputs": [
    {
     "name": "stdout",
     "output_type": "stream",
     "text": [
      "[[0.5052353]]\n"
     ]
    }
   ],
   "source": [
    "x = tf.constant([[0.7, 0.1]])\n",
    "a = tf.matmul(x, w1)\n",
    "b = tf.matmul(a, w2)\n",
    "with tf.Session() as sess:\n",
    "    sess.run(tf.global_variables_initializer()) # 注意这里的写法\n",
    "    print(sess.run(b))"
   ]
  },
  {
   "cell_type": "code",
   "execution_count": 60,
   "metadata": {},
   "outputs": [],
   "source": [
    "# 构造一个简单的数据集。\n",
    "train_x = np.r_[np.random.randn(10000, 2), np.random.randn(10000, 2) + 2]\n",
    "train_y = np.r_[np.repeat(-1, 10000), np.repeat(1, 10000)].reshape(-1, 1)\n",
    "\n",
    "def generate_data(x, y, size=50):\n",
    "    alls = y.shape[0]\n",
    "    n = int(alls / size)\n",
    "    for i in range(n-1):\n",
    "        yield x[size * i : size * (i+1)] , y[size * i : size * (i+1)]"
   ]
  },
  {
   "cell_type": "code",
   "execution_count": 61,
   "metadata": {},
   "outputs": [
    {
     "name": "stdout",
     "output_type": "stream",
     "text": [
      "losses is 5.730784893035889\n",
      "losses is 5.552611351013184\n",
      "[[-0.62357974  1.679357   -0.14181904]\n",
      " [-2.8348477  -0.32124087  1.0384729 ]]\n",
      "[[-0.62357974  1.679357   -0.14181904]\n",
      " [-2.8348477  -0.32124087  1.0384729 ]]\n"
     ]
    }
   ],
   "source": [
    "# \n",
    "w1 = tf.Variable(tf.random_normal([2, 3], stddev=1, seed=1))\n",
    "w2 = tf.Variable(tf.random_normal([3, 1], stddev=1, seed=2))\n",
    "\n",
    "x = tf.placeholder(tf.float32, shape=[None, 2], name=\"input_x\")\n",
    "y_ = tf.placeholder(tf.float32, shape=[None, 1], name=\"out_y\")\n",
    "\n",
    "model_1 = tf.matmul(x, w1)\n",
    "model_2 = tf.matmul(model_1, w2)\n",
    "\n",
    "loss = - tf.reduce_mean(-y_ * tf.log(tf.clip_by_value(model_2, 1e-10, 1)))\n",
    "train_op = tf.train.AdamOptimizer(0.001).minimize(loss)\n",
    "\n",
    "with tf.Session() as sess:\n",
    "    sess.run(tf.global_variables_initializer())\n",
    "    for i in range(10):\n",
    "        for d_x, d_y in generate_data(train_x, train_y):\n",
    "            sess.run(train_op, feed_dict={x: d_x, y_: d_y})\n",
    "        if i % 5==0:\n",
    "            losses = sess.run(loss, feed_dict={x:train_x, y_: train_y})\n",
    "            print(\"losses is {}\".format(losses))\n",
    "    print(sess.run(w1))\n",
    "    print(sess.run(w1))"
   ]
  },
  {
   "cell_type": "code",
   "execution_count": 57,
   "metadata": {
    "collapsed": true
   },
   "outputs": [],
   "source": []
  },
  {
   "cell_type": "code",
   "execution_count": null,
   "metadata": {
    "collapsed": true
   },
   "outputs": [],
   "source": []
  }
 ],
 "metadata": {
  "kernelspec": {
   "display_name": "Python 3",
   "language": "python",
   "name": "python3"
  },
  "language_info": {
   "codemirror_mode": {
    "name": "ipython",
    "version": 3
   },
   "file_extension": ".py",
   "mimetype": "text/x-python",
   "name": "python",
   "nbconvert_exporter": "python",
   "pygments_lexer": "ipython3",
   "version": "3.6.2"
  }
 },
 "nbformat": 4,
 "nbformat_minor": 2
}
