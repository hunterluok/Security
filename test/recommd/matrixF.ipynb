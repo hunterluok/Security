{
 "cells": [
  {
   "cell_type": "code",
   "execution_count": 139,
   "metadata": {
    "collapsed": true
   },
   "outputs": [],
   "source": [
    "import numpy as np"
   ]
  },
  {
   "cell_type": "code",
   "execution_count": 226,
   "metadata": {},
   "outputs": [
    {
     "data": {
      "text/plain": [
       "array([[4., 0., 4., ..., 0., 0., 0.],\n",
       "       [5., 4., 3., ..., 4., 0., 3.],\n",
       "       [0., 5., 3., ..., 0., 4., 4.],\n",
       "       ...,\n",
       "       [4., 0., 0., ..., 3., 4., 5.],\n",
       "       [3., 3., 3., ..., 3., 3., 0.],\n",
       "       [4., 3., 5., ..., 4., 0., 0.]])"
      ]
     },
     "execution_count": 226,
     "metadata": {},
     "output_type": "execute_result"
    }
   ],
   "source": [
    "data = np.random.randn(200, 15) + 3\n",
    "mask = data<2.5\n",
    "data[mask] = 0\n",
    "data = np.round(data, 0)\n",
    "data"
   ]
  },
  {
   "cell_type": "code",
   "execution_count": 227,
   "metadata": {
    "collapsed": true
   },
   "outputs": [],
   "source": [
    "def cal_loss(data, P, Q):\n",
    "    m, n = data.shape\n",
    "    loss = 0.\n",
    "    count = 0\n",
    "    for i in range(m):\n",
    "        for j in range(n):\n",
    "            if data[i, j] !=0.:\n",
    "                loss += np.power((data[i, j] - np.matmul(P[i,:], Q[:,j])),2)\n",
    "                count += 1\n",
    "    return np.round(loss / (0.01 + count))"
   ]
  },
  {
   "cell_type": "markdown",
   "metadata": {},
   "source": [
    "# MF。 加减法更新权重"
   ]
  },
  {
   "cell_type": "code",
   "execution_count": 228,
   "metadata": {
    "scrolled": true
   },
   "outputs": [],
   "source": [
    "def up_date(data, k=2, maxiter=100, yuzhi=0.001, alpha=0.001, beta=0.5):\n",
    "    # m 过大时 无法收敛？,填加 正则化项之后，无法收敛的。\n",
    "    m, n =data.shape\n",
    "    P = np.random.randn(m, k) + 2\n",
    "    Q = np.random.randn(k, n) + 2\n",
    "    err = data - np.matmul(P, Q)\n",
    "    error_sum_old = np.sqrt(np.sum(err**2).sum())\n",
    "    max_print = int(maxiter / 10)\n",
    "    iters = 0\n",
    "    while iters < maxiter:\n",
    "        iters += 1\n",
    "        old_P = P\n",
    "        old_Q = Q # 可以不用的\n",
    "        P = old_P + alpha * (np.matmul(err, old_Q.T) - beta * old_P)\n",
    "        Q = old_Q + alpha * (np.matmul(old_P.T, err) - beta * old_Q)\n",
    "        \n",
    "        err = data - np.matmul(P, Q) # 这里讲 data[i,j]为0的直接不考虑了。算是一种近似吧\n",
    "        #error_sum = np.sqrt(np.sum(err**2).sum())\n",
    "        error_sum = cal_loss(data, P, Q)\n",
    "        \n",
    "        if iters % max_print == 0:\n",
    "            print(\"error_sum is {}.\".format(error_sum))\n",
    "        if abs(error_sum_old - error_sum) < yuzhi:\n",
    "            break\n",
    "        else:\n",
    "            error_sum_old = error_sum\n",
    "    return P, Q, error_sum"
   ]
  },
  {
   "cell_type": "code",
   "execution_count": 230,
   "metadata": {},
   "outputs": [
    {
     "data": {
      "text/plain": [
       "[(2, 2.52), (6, 2.34)]"
      ]
     },
     "execution_count": 230,
     "metadata": {},
     "output_type": "execute_result"
    }
   ],
   "source": [
    "def predicts(data, P, Q, user=0, top_k = 2):\n",
    "    # P, Q, err_sum = up_date(data, maxiter=1000)\n",
    "    m, n = data.shape\n",
    "    no_point = []\n",
    "    for index, value in enumerate(data[user]):\n",
    "        if value == 0.0:\n",
    "            no_point.append(index)\n",
    "    if not no_point:\n",
    "        return None\n",
    "        # raise KeyError(\"Not need to recommend,,,\")\n",
    "    \n",
    "    recond_dicts ={}\n",
    "    for index in no_point:\n",
    "        score = np.round(np.matmul(P[user,:], Q[:,index]),2)\n",
    "        recond_dicts[index] = score\n",
    "    \n",
    "    recond_dicts = sorted(recond_dicts.items(), key=lambda row: row[1], reverse=True)\n",
    "    if len(recond_dicts) < top_k:\n",
    "        return recond_dicts\n",
    "    else:\n",
    "        return recond_dicts[:2]\n",
    "    \n",
    "P, Q, _ = up_date(data, maxiter=100)\n",
    "predicts(data, P, Q, user=6)"
   ]
  },
  {
   "cell_type": "code",
   "execution_count": 231,
   "metadata": {
    "scrolled": true
   },
   "outputs": [
    {
     "name": "stdout",
     "output_type": "stream",
     "text": [
      "recomd 0, [(1, 2.33), (12, 2.33)]\n",
      "recomd 1, [(9, 2.24), (3, 2.14)]\n",
      "recomd 2, [(12, 2.54), (9, 2.47)]\n",
      "recomd 3, [(5, 0.91), (10, 0.83)]\n",
      "recomd 4, [(1, 3.65), (2, 3.63)]\n",
      "recomd 5, [(2, 3.18), (3, 2.99)]\n",
      "recomd 6, [(2, 2.52), (6, 2.34)]\n",
      "recomd 7, [(2, 2.05), (1, 1.98)]\n",
      "recomd 8, [(2, 2.71), (12, 2.61)]\n",
      "recomd 9, [(9, 2.87), (2, 2.86)]\n"
     ]
    }
   ],
   "source": [
    "def recomd(data, front_k):\n",
    "    m, _ = data.shape\n",
    "    if m <= front_k or front_k < 0:\n",
    "        raise KeyError(\"user must subject to [{}~{})\".format(0, m))\n",
    "    for i in range(front_k):\n",
    "        result = predicts(data, P, Q, user=i)\n",
    "        if result:\n",
    "            print(\"recomd {}, {}\".format(i, result))\n",
    "        else:\n",
    "            print(\"user_{}, no need to recommand\".format(i))\n",
    "            \n",
    "recomd(data, 10)"
   ]
  },
  {
   "cell_type": "code",
   "execution_count": null,
   "metadata": {
    "collapsed": true
   },
   "outputs": [],
   "source": [
    "# FM 乘法更新权重"
   ]
  },
  {
   "cell_type": "code",
   "execution_count": 246,
   "metadata": {},
   "outputs": [
    {
     "name": "stdout",
     "output_type": "stream",
     "text": [
      "error_sum is 137.17710358205917.\n",
      "error_sum is 137.17710333241368.\n",
      "error_sum is 137.17710333239904.\n",
      "error_sum is 137.17710333239916.\n",
      "error_sum is 137.17710333239927.\n",
      "error_sum is 137.17710333239916.\n",
      "error_sum is 137.1771033323989.\n",
      "error_sum is 137.17710333239884.\n",
      "error_sum is 137.17710333239887.\n",
      "error_sum is 137.17710333239884.\n"
     ]
    },
    {
     "data": {
      "text/plain": [
       "[(2, 0.66), (11, 0.66)]"
      ]
     },
     "execution_count": 246,
     "metadata": {},
     "output_type": "execute_result"
    }
   ],
   "source": [
    "def cal_loss(data, P, Q):\n",
    "    m, n = data.shape\n",
    "    loss = 0.\n",
    "    count = 0\n",
    "    for i in range(m):\n",
    "        for j in range(n):\n",
    "            if data[i, j] !=0.:\n",
    "                loss += np.power((data[i, j] - np.matmul(P[i,:], Q[:,j])),2)\n",
    "                count += 1\n",
    "    return np.round(loss / (0.01 + count))\n",
    "\n",
    "def up_date_multiply(data, k=2, maxiter=100, yuzhi=0.001, alpha=0.001, beta=0.5):\n",
    "    # m 过大时 无法收敛？,填加 正则化项之后，无法收敛的。\n",
    "    m, n =data.shape\n",
    "    P = np.random.random((m, k))\n",
    "    Q = np.random.random((k, n))\n",
    "    err = data - np.matmul(P, Q)\n",
    "    error_sum_old = np.sqrt(np.sum(err**2).sum())\n",
    "    max_print = int(maxiter / 10)\n",
    "    iters = 0\n",
    "    while iters < maxiter:\n",
    "        iters += 1\n",
    "        old_P = P\n",
    "        old_Q = Q # 可以不用的\n",
    "        # P = old_P + alpha * (np.matmul(err, old_Q.T) - beta * old_P)\n",
    "        # Q = old_Q + alpha * (np.matmul(old_P.T, err) - beta * old_Q)\n",
    "        # 需要注意这里的变换公式是什么\n",
    "        P = np.multiply(old_P, np.matmul(data, old_Q.T) / np.matmul(old_P, np.matmul(old_Q, old_Q.T)))\n",
    "        Q = np.multiply(old_Q, np.matmul(old_P.T, data) / np.matmul(old_P.T, np.matmul(old_P, old_Q)))\n",
    "        \n",
    "        err = data - np.matmul(P, Q) # 这里讲 data[i,j]为0的直接不考虑了。算是一种近似吧\n",
    "        error_sum = np.sqrt(np.sum(err**2).sum())\n",
    "        \n",
    "        if iters % max_print == 0:\n",
    "            print(\"error_sum is {}.\".format(error_sum))\n",
    "        #if abs(error_sum_old - error_sum) < yuzhi:\n",
    "        #   break\n",
    "        #else:\n",
    "            #error_sum_old = error_sum\n",
    "    return P, Q, error_sum\n",
    "\n",
    "def predicts(data, P, Q, user=0, top_k = 2):\n",
    "    m, n = data.shape\n",
    "    no_point = []\n",
    "    for index, value in enumerate(data[user]):\n",
    "        if value == 0.0:\n",
    "            no_point.append(index)\n",
    "    if not no_point:\n",
    "        raise KeyError(\"Not need to recommend,,,\")\n",
    "    recond_dicts ={}\n",
    "    for index in no_point:\n",
    "        score = np.round(np.matmul(P[user,:], Q[:,index]),2)\n",
    "        recond_dicts[index] = score\n",
    "    \n",
    "    recond_dicts = sorted(recond_dicts.items(), key=lambda row: row[1], reverse=True)\n",
    "    if len(recond_dicts) < top_k:\n",
    "        return recond_dicts\n",
    "    else:\n",
    "        return recond_dicts[:2]\n",
    "    \n",
    "P, Q, _ = up_date_multiply(data, maxiter=8000)\n",
    "predicts(data, P, Q, user=6)"
   ]
  },
  {
   "cell_type": "code",
   "execution_count": 249,
   "metadata": {},
   "outputs": [
    {
     "data": {
      "text/plain": [
       "array([], dtype=float64)"
      ]
     },
     "execution_count": 249,
     "metadata": {},
     "output_type": "execute_result"
    }
   ],
   "source": [
    "Q[Q<0]"
   ]
  },
  {
   "cell_type": "code",
   "execution_count": 250,
   "metadata": {},
   "outputs": [
    {
     "data": {
      "text/plain": [
       "array([], dtype=float64)"
      ]
     },
     "execution_count": 250,
     "metadata": {},
     "output_type": "execute_result"
    }
   ],
   "source": [
    "P[P<0]"
   ]
  },
  {
   "cell_type": "code",
   "execution_count": null,
   "metadata": {
    "collapsed": true
   },
   "outputs": [],
   "source": []
  }
 ],
 "metadata": {
  "kernelspec": {
   "display_name": "Python 3",
   "language": "python",
   "name": "python3"
  },
  "language_info": {
   "codemirror_mode": {
    "name": "ipython",
    "version": 3
   },
   "file_extension": ".py",
   "mimetype": "text/x-python",
   "name": "python",
   "nbconvert_exporter": "python",
   "pygments_lexer": "ipython3",
   "version": "3.6.2"
  }
 },
 "nbformat": 4,
 "nbformat_minor": 2
}
