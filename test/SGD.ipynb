{
 "cells": [
  {
   "cell_type": "code",
   "execution_count": 343,
   "metadata": {
    "collapsed": true
   },
   "outputs": [],
   "source": [
    "import numpy as np\n",
    "from numpy.random import randint\n",
    "from numpy.random import randn\n",
    "from numpy import ones\n",
    "from numpy import array\n",
    "from numpy import linalg\n",
    "np.set_printoptions(precision=2,suppress=True)\n",
    "import time\n",
    "import matplotlib.pyplot as plt"
   ]
  },
  {
   "cell_type": "markdown",
   "metadata": {},
   "source": [
    "# 1正规方程组求解线性回归"
   ]
  },
  {
   "cell_type": "code",
   "execution_count": 344,
   "metadata": {},
   "outputs": [],
   "source": [
    "K=100\n",
    "x = randn(K)+10\n",
    "o = array(ones(K))\n",
    "y = x*2+randn(K)\n",
    "#print(x,o)\n",
    "\n",
    "def c_data(x,y):\n",
    "    N = len(x)\n",
    "    data = np.zeros((N,2))\n",
    "    for i in range(N):\n",
    "        data[i,0]=x[i]\n",
    "        data[i,1]=y[i]\n",
    "    return data\n",
    "data = c_data(o,x)"
   ]
  },
  {
   "cell_type": "code",
   "execution_count": 345,
   "metadata": {},
   "outputs": [
    {
     "name": "stdout",
     "output_type": "stream",
     "text": [
      "0.842874258725\n",
      "0.0008409023284912109\n"
     ]
    }
   ],
   "source": [
    "start= time.time()\n",
    "xtx = np.matmul(data.T,data)\n",
    "invs = linalg.inv(xtx)\n",
    "xtx_inv = np.matmul(invs,data.T)\n",
    "w = np.matmul(xtx_inv,y)\n",
    "y_ = np.matmul(data,w)\n",
    "rmse = np.mean(np.sqrt((y_-y)**2))\n",
    "print(rmse)\n",
    "print(time.time()-start)"
   ]
  },
  {
   "cell_type": "code",
   "execution_count": 346,
   "metadata": {},
   "outputs": [
    {
     "data": {
      "image/png": "[encoded data removed]",
      "text/plain": [
       "<matplotlib.figure.Figure at 0x11da6b5c0>"
      ]
     },
     "metadata": {},
     "output_type": "display_data"
    }
   ],
   "source": [
    "fig = plt.figure()\n",
    "ax=fig.add_subplot(311)\n",
    "ax.scatter(x,y,c='b',marker='o')\n",
    "ax.plot(x,y_,c='r')\n",
    "ax.set_title(\"Line regression\")\n",
    "\n",
    "ax1= fig.add_subplot(313)\n",
    "ax1.scatter(x,y-y_,c='gray',marker='o')\n",
    "ax1.set_title('residual distribution')\n",
    "plt.show()"
   ]
  },
  {
   "cell_type": "markdown",
   "metadata": {},
   "source": [
    "# 2随机梯度下降求解,普通版"
   ]
  },
  {
   "cell_type": "code",
   "execution_count": 347,
   "metadata": {},
   "outputs": [],
   "source": [
    "w = np.zeros((2))\n",
    "steps = 100\n",
    "a = 0.001\n",
    "\n",
    "# 构造随机数据\n",
    "def random_index(K):\n",
    "    list_k = np.arange(K).tolist() # ver important\n",
    "    index=[]\n",
    "    while K>0:\n",
    "        t = np.random.randint(K) #sampling without replace\n",
    "        index.append(list_k[t])\n",
    "        list_k.remove(list_k[t])\n",
    "        K -=1\n",
    "    return index"
   ]
  },
  {
   "cell_type": "code",
   "execution_count": 348,
   "metadata": {},
   "outputs": [
    {
     "data": {
      "text/plain": [
       "(array([ 2.05,  1.68]), 2.1149094219763005)"
      ]
     },
     "execution_count": 348,
     "metadata": {},
     "output_type": "execute_result"
    }
   ],
   "source": [
    "def sgd_w(data,steps):\n",
    "    w = np.zeros(2)\n",
    "    m,n=data.shape\n",
    "    rmse = []\n",
    "    for j in range(steps):\n",
    "        index = random_index(m)\n",
    "        data = data[index]\n",
    "        for i in range(m):\n",
    "            error = y[i]-np.matmul(data[i],w)\n",
    "            gd = -data[i]* error\n",
    "            w = w-a*gd\n",
    "            # if the  a is big,the lagorithm can no be converged\n",
    "        y_ = np.matmul(data,w)\n",
    "        rmse.append(np.mean(np.sqrt((y_-y)**2)))\n",
    "        \n",
    "    return w,min(rmse)\n",
    "w,rmse = sgd_w(data,100)\n",
    "w,rmse   "
   ]
  },
  {
   "cell_type": "code",
   "execution_count": 349,
   "metadata": {},
   "outputs": [
    {
     "data": {
      "text/plain": [
       "'测试用\\nw=np.zeros(2)\\nfor i in range(100):\\n    error = y[i]-np.matmul(data[i],w)\\n    print(error)\\n    gd = -data[i]* error\\n    print(gd)\\n    w = w-0.001*gd\\nw\\na = np.arange(10).tolist()\\na.remove(a[1])\\n#del a[1]\\nnp.matmul(data[2],[2,2])\\nnp.multiply([2,3],2)\\nnp.zeros((2,2))\\n'"
      ]
     },
     "execution_count": 349,
     "metadata": {},
     "output_type": "execute_result"
    }
   ],
   "source": [
    "\"\"\"测试用\n",
    "w=np.zeros(2)\n",
    "for i in range(100):\n",
    "    error = y[i]-np.matmul(data[i],w)\n",
    "    print(error)\n",
    "    gd = -data[i]* error\n",
    "    print(gd)\n",
    "    w = w-0.001*gd\n",
    "w\n",
    "a = np.arange(10).tolist()\n",
    "a.remove(a[1])\n",
    "#del a[1]\n",
    "np.matmul(data[2],[2,2])\n",
    "np.multiply([2,3],2)\n",
    "np.zeros((2,2))\n",
    "\"\"\""
   ]
  },
  {
   "cell_type": "markdown",
   "metadata": {},
   "source": [
    "# "
   ]
  },
  {
   "cell_type": "markdown",
   "metadata": {},
   "source": [
    "# 3tf 版随机梯度下降"
   ]
  },
  {
   "cell_type": "code",
   "execution_count": 350,
   "metadata": {},
   "outputs": [],
   "source": [
    "import tensorflow as tf\n",
    "from sklearn.utils import shuffle"
   ]
  },
  {
   "cell_type": "code",
   "execution_count": 371,
   "metadata": {},
   "outputs": [],
   "source": [
    "# （1）参数\n",
    "w = tf.Variable(tf.random_normal([1],seed=1),name='w') #如何初始化\n",
    "b = tf.Variable(tf.random_normal([1],seed=1),name='b')\n",
    "\n",
    "# （2） 变量\n",
    "X = tf.placeholder('float',name='X')# shape=[None,2])\n",
    "Y = tf.placeholder('float',name='Y')# shape=[None,1])\n",
    "\n",
    "# （3） 模型\n",
    "with tf.name_scope('model'):\n",
    "    def model(x,w,b):\n",
    "        y_ = tf.add(tf.multiply(x,w),b)  # 这里注意 是multiply 不是matmul 否则就会出错。\n",
    "        return y_\n",
    "    y_ = model(X,w,b)\n",
    "\n",
    "# （4）损失函数\n",
    "with tf.name_scope('cost_func'):\n",
    "    cost= tf.reduce_mean(tf.pow(Y-y_,2))\n",
    "\n",
    "# （5） 训练\n",
    "train_op = tf.train.GradientDescentOptimizer(0.0001).minimize(cost) #这个值 不能太大。\n",
    "   "
   ]
  },
  {
   "cell_type": "code",
   "execution_count": 375,
   "metadata": {},
   "outputs": [],
   "source": [
    "sess=tf.Session()\n",
    "init= tf.global_variables_initializer()\n",
    "\n",
    "tf.train.write_graph(sess.graph,'./dir','graph.pbtxt')\n",
    "cost_op = tf.summary.scalar('loss',cost)\n",
    "merged = tf.summary.merge_all()\n",
    "sess.run(init)\n",
    "writer = tf.summary.FileWriter('./dir',sess.graph)\n",
    "N=len(y)"
   ]
  },
  {
   "cell_type": "code",
   "execution_count": 383,
   "metadata": {},
   "outputs": [],
   "source": [
    "for a in range(1000):\n",
    "    cost1 = 0.0\n",
    "    for i,j in zip(x,y):\n",
    "        sess.run(train_op,feed_dict={X:i,Y:j})\n",
    "        summary_str =sess.run(cost_op,feed_dict={X:i,Y:j})\n",
    "        cost1 += sess.run(cost,feed_dict={X:i,Y:j})/N\n",
    "    writer.add_summary(summary_str,a)\n",
    "    data,y=shuffle(x,y)"
   ]
  },
  {
   "cell_type": "code",
   "execution_count": 384,
   "metadata": {},
   "outputs": [
    {
     "name": "stdout",
     "output_type": "stream",
     "text": [
      "[ 1.62]\n",
      "[ 3.51]\n"
     ]
    },
    {
     "data": {
      "text/plain": [
       "8.7941712295752978"
      ]
     },
     "execution_count": 384,
     "metadata": {},
     "output_type": "execute_result"
    }
   ],
   "source": [
    "print(sess.run(w))\n",
    "print(sess.run(b))\n",
    "cost1"
   ]
  },
  {
   "cell_type": "code",
   "execution_count": null,
   "metadata": {},
   "outputs": [],
   "source": []
  },
  {
   "cell_type": "code",
   "execution_count": null,
   "metadata": {
    "collapsed": true
   },
   "outputs": [],
   "source": []
  }
 ],
 "metadata": {
  "kernelspec": {
   "display_name": "Python 3",
   "language": "python",
   "name": "python3"
  },
  "language_info": {
   "codemirror_mode": {
    "name": "ipython",
    "version": 3
   },
   "file_extension": ".py",
   "mimetype": "text/x-python",
   "name": "python",
   "nbconvert_exporter": "python",
   "pygments_lexer": "ipython3",
   "version": "3.6.2"
  }
 },
 "nbformat": 4,
 "nbformat_minor": 2
}
