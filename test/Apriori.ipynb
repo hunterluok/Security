{
 "cells": [
  {
   "cell_type": "code",
   "execution_count": 1,
   "metadata": {
    "collapsed": true
   },
   "outputs": [],
   "source": [
    "import numpy as np\n",
    "from numpy import *"
   ]
  },
  {
   "cell_type": "code",
   "execution_count": 2,
   "metadata": {
    "collapsed": true
   },
   "outputs": [],
   "source": [
    "def loadDataSet():\n",
    "    return [[1,3,4],[2,3,5],[1,2,3,5],[2,5]]\n",
    "\n",
    "#frozenset([1,2])\n",
    "data = loadDataSet()"
   ]
  },
  {
   "cell_type": "code",
   "execution_count": 4,
   "metadata": {},
   "outputs": [
    {
     "data": {
      "text/plain": [
       "frozenset({1, 2, 3, 4, 5})"
      ]
     },
     "execution_count": 4,
     "metadata": {},
     "output_type": "execute_result"
    }
   ],
   "source": [
    "\"\"\"\n",
    "def createC1(dataSet):\n",
    "    C1 = set()\n",
    "    for transaction in dataSet:\n",
    "        for item in transaction:\n",
    "            if not item in C1:\n",
    "                C1 = C1 | set([item])\n",
    "    #C1.sort()\n",
    "    return frozenset(C1)\n",
    "createC1(data)\n",
    "\"\"\""
   ]
  },
  {
   "cell_type": "code",
   "execution_count": 119,
   "metadata": {},
   "outputs": [
    {
     "data": {
      "text/plain": [
       "{(1,): 2, (2,): 3, (3,): 3, (4,): 1, (5,): 3}"
      ]
     },
     "execution_count": 119,
     "metadata": {},
     "output_type": "execute_result"
    }
   ],
   "source": [
    "bag_fisrt = first_create(data)\n",
    "bag_fisrt"
   ]
  },
  {
   "cell_type": "code",
   "execution_count": 121,
   "metadata": {},
   "outputs": [
    {
     "data": {
      "text/plain": [
       "({(1,): 0.5, (2,): 0.75, (3,): 0.75, (5,): 0.75}, [(3,), (2,), (5,), (1,)])"
      ]
     },
     "execution_count": 121,
     "metadata": {},
     "output_type": "execute_result"
    }
   ],
   "source": [
    "freq_item,item_set = cal_support(data,minsupport=0.5,bags=bag_fisrt)\n",
    "freq_item,item_set"
   ]
  },
  {
   "cell_type": "code",
   "execution_count": 124,
   "metadata": {},
   "outputs": [
    {
     "data": {
      "text/plain": [
       "[(1, 2), (1, 3), (1, 5), (2, 3), (2, 5), (3, 5)]"
      ]
     },
     "execution_count": 124,
     "metadata": {},
     "output_type": "execute_result"
    }
   ],
   "source": [
    "bag1 = create_set(item_set,2)\n",
    "bag1"
   ]
  },
  {
   "cell_type": "code",
   "execution_count": 125,
   "metadata": {},
   "outputs": [
    {
     "data": {
      "text/plain": [
       "({(1, 3): 0.5, (2, 3): 0.5, (2, 5): 0.75, (3, 5): 0.5},\n",
       " [(2, 5), (1, 3), (2, 3), (3, 5)])"
      ]
     },
     "execution_count": 125,
     "metadata": {},
     "output_type": "execute_result"
    }
   ],
   "source": [
    "freq_item_1,item_set_1 = cal_support(data,minsupport=0.5,bags=bag1)\n",
    "freq_item_1,item_set_1"
   ]
  },
  {
   "cell_type": "code",
   "execution_count": 126,
   "metadata": {},
   "outputs": [
    {
     "data": {
      "text/plain": [
       "[(1, 2, 3), (1, 2, 5), (1, 3, 5), (2, 3, 5)]"
      ]
     },
     "execution_count": 126,
     "metadata": {},
     "output_type": "execute_result"
    }
   ],
   "source": [
    "bag2 = create_set(item_set_1,k=3)\n",
    "bag2"
   ]
  },
  {
   "cell_type": "code",
   "execution_count": 127,
   "metadata": {},
   "outputs": [
    {
     "data": {
      "text/plain": [
       "({(2, 3, 5): 0.5}, [(2, 3, 5)])"
      ]
     },
     "execution_count": 127,
     "metadata": {},
     "output_type": "execute_result"
    }
   ],
   "source": [
    "freq_item_2,item_set_2 = cal_support(data,minsupport=0.5,bags=bag2)\n",
    "freq_item_2,item_set_2"
   ]
  },
  {
   "cell_type": "code",
   "execution_count": 9,
   "metadata": {},
   "outputs": [],
   "source": [
    "# 创建初始化bag\n",
    "def first_create(data):\n",
    "    bag ={}\n",
    "    for i in data:\n",
    "        for j in i:\n",
    "            bag.setdefault(tuple([j]),0)\n",
    "            bag[tuple([j])]+=1\n",
    "    return bag\n",
    "\n",
    "# 构建 bag 后续使用\n",
    "def createC2(dataSet,bag):\n",
    "    C1 = {}\n",
    "    for transaction in dataSet:\n",
    "        for i in bag:\n",
    "            if set(i).issubset(set(transaction)):\n",
    "                C1.setdefault(i,0)\n",
    "                C1[i] +=1\n",
    "    C1 = sorted(C1.items(),key=lambda row:row[1],reverse=True)\n",
    "    return C1\n",
    "\n",
    "# 构建 高频词组 过滤低频词组。 \n",
    "def cal_support(data,minsupport,bags):\n",
    "    dic_c1 = createC2(data,bags)\n",
    "    m = len(data)\n",
    "    dic_n = {k:v/m for k,v in dic_c1}\n",
    "    dic_new = {k:v for k,v in dic_n.items() if v>=minsupport}\n",
    "    item_set = [k for k in dic_new.keys()]\n",
    "    return dic_new,item_set\n",
    "\n",
    "# 构建新的 候选集合。\n",
    "from itertools import combinations as cchose\n",
    "def create_set(item_set,k):\n",
    "    if k>len(item_set):\n",
    "        raise KeyError(\"The value is wrong\")\n",
    "    if isinstance(item_set,list):\n",
    "        pass\n",
    "    else:\n",
    "        raise KeyError(\"Wrong\")\n",
    "        \n",
    "    z =set()\n",
    "    for i in item_set:\n",
    "        for j in i:\n",
    "            z |=set([j])\n",
    "    z = list(z)\n",
    "    \n",
    "    temp = list(cchose(z,k))\n",
    "    item_set = np.array(item_set)\n",
    "    \n",
    "    new_items = []\n",
    "    for i in temp:\n",
    "        temp_tuple=()\n",
    "        for j in i:\n",
    "            temp_tuple +=tuple([j])\n",
    "        new_items.append(temp_tuple)\n",
    "    return new_items\n",
    "\n",
    "def find_max_freq(data,minsup=0.5):\n",
    "    freq_items = []\n",
    "    item_sets = []\n",
    "    \n",
    "    # item_set is a list of candidate itemsets\n",
    "    bag_first = first_create(data)\n",
    "    freq_item,item_set = cal_support(data,minsupport=0.5,bags=bag_first)\n",
    "    \n",
    "    freq_items.append(freq_item)\n",
    "    item_sets.append(item_set)\n",
    "    \n",
    "    i = 2\n",
    "    while i>1:\n",
    "        \n",
    "        bag1 = create_set(item_set,k=i)\n",
    "        freq_item,item_set = cal_support(data,minsupport=minsup,bags=bag1)\n",
    "        \n",
    "        freq_items.append(freq_item)\n",
    "        item_sets.append(item_set)\n",
    "        i += 1\n",
    "        \n",
    "        if len(item_set)<=i:\n",
    "            break\n",
    "    return freq_items,item_sets\n",
    "            \n",
    "a,b=find_max_freq(data,minsup=0.5)\n",
    "\n",
    "def get_rule(data,minsup=0.5,minconf=0.5):\n",
    "    candi,_ = find_max_freq(data,minsup=minsup)\n",
    "    length = len(candi)\n",
    "    rules = []\n",
    "    \n",
    "    count=1\n",
    "    for j in range(-length+1,0):\n",
    "        for a,b in candi[j].items():              # Supper itemset \n",
    "            for i in range(-length,j,1):          # 注意这个地方需要注意。\n",
    "                for x,y in candi[i].items():      # sub itemset\n",
    "                    if set(x).issubset(set(a)) and b / y > minconf:\n",
    "                        temp = set(a)-set(x)\n",
    "                        rule = [\"rule{}: qx{} ===> re{}. freq_set({}),conf:{:.2f},Qsup_{:.2f},Rsup_{:.2f}\"\\\n",
    "                                .format(count,x,temp,a,b/y,y,b)]\n",
    "                        rules.append(rule)\n",
    "                        count += 1\n",
    "    return rules"
   ]
  },
  {
   "cell_type": "code",
   "execution_count": 118,
   "metadata": {},
   "outputs": [
    {
     "data": {
      "text/plain": [
       "[['rule1: qx(2,) ===> re{5}. freq_set((2, 5)),conf:1.00,Qsup_0.75,Rsup_0.75'],\n",
       " ['rule2: qx(5,) ===> re{2}. freq_set((2, 5)),conf:1.00,Qsup_0.75,Rsup_0.75'],\n",
       " ['rule3: qx(1,) ===> re{3}. freq_set((1, 3)),conf:1.00,Qsup_0.50,Rsup_0.50'],\n",
       " ['rule4: qx(2, 3) ===> re{5}. freq_set((2, 3, 5)),conf:1.00,Qsup_0.50,Rsup_0.50'],\n",
       " ['rule5: qx(3, 5) ===> re{2}. freq_set((2, 3, 5)),conf:1.00,Qsup_0.50,Rsup_0.50']]"
      ]
     },
     "execution_count": 118,
     "metadata": {},
     "output_type": "execute_result"
    }
   ],
   "source": [
    "get_rule(data,minconf=0.7)"
   ]
  },
  {
   "cell_type": "code",
   "execution_count": 119,
   "metadata": {
    "collapsed": true
   },
   "outputs": [],
   "source": [
    "path ='/Users/luokui/Documents/机器学习实战/机器学习实战及配套代码/machinelearninginaction/Ch11/mushroom.dat'\n",
    "\n",
    "def get_data(path):\n",
    "    with open(path,'r') as f:\n",
    "        data = []\n",
    "        line = f.readline()\n",
    "        while line:\n",
    "            #line =[float(i) for i in line.strip().split()]\n",
    "            line = line.strip().split()\n",
    "            data.append(line)\n",
    "            line = f.readline()\n",
    "    return data\n",
    "\n",
    "nd = get_data(path)\n",
    "\n",
    "rules = get_rule(nd,minsup=0.8,minconf=0.9)\n",
    "\n",
    "len(rules)\n",
    "rules[1]"
   ]
  },
  {
   "cell_type": "code",
   "execution_count": null,
   "metadata": {
    "collapsed": true
   },
   "outputs": [],
   "source": []
  },
  {
   "cell_type": "code",
   "execution_count": 114,
   "metadata": {},
   "outputs": [],
   "source": [
    "def get_rule_test1(data,minsup=0.5,minconf=0.5):\n",
    "    candi,_ = find_max_freq(data,minsup=minsup)\n",
    "    \n",
    "    length = len(candi)\n",
    "    max_len_item = candi[-1]\n",
    "    \n",
    "    for a,b in max_len_item.items():\n",
    "        for i in range(-length,0-1,1):\n",
    "            for x,y in candi[i].items():\n",
    "                if set(x).issubset(set(a)) and b / y>0.5:\n",
    "                    temp = set(a)-set(x)\n",
    "                    print(\"rule:\",x,\"===>\",temp,\"conf(a):\",b/y)\n",
    "    return \"ok\""
   ]
  },
  {
   "cell_type": "code",
   "execution_count": 115,
   "metadata": {},
   "outputs": [],
   "source": [
    "def get_rule_test2(data,minsup=0.5,minconf=0.5):\n",
    "    candi,_ = find_max_freq(data,minsup=minsup)\n",
    "    \n",
    "    length = len(candi)\n",
    "    max_len_item = candi[-1]\n",
    "    \n",
    "    for a,b in max_len_item.items():\n",
    "        for i in range(-length,0-1,1):\n",
    "            for x,y in candi[i].items():\n",
    "                if set(x).issubset(set(a)) and b / y>0.5:\n",
    "                    temp = set(a)-set(x)\n",
    "                    print(\"rule:\",x,\"===>\",temp,\"conf(a):\",b/y)\n",
    "    return \"ok\""
   ]
  },
  {
   "cell_type": "code",
   "execution_count": null,
   "metadata": {
    "collapsed": true
   },
   "outputs": [],
   "source": []
  }
 ],
 "metadata": {
  "kernelspec": {
   "display_name": "Python 3",
   "language": "python",
   "name": "python3"
  },
  "language_info": {
   "codemirror_mode": {
    "name": "ipython",
    "version": 3
   },
   "file_extension": ".py",
   "mimetype": "text/x-python",
   "name": "python",
   "nbconvert_exporter": "python",
   "pygments_lexer": "ipython3",
   "version": "3.6.2"
  }
 },
 "nbformat": 4,
 "nbformat_minor": 2
}
