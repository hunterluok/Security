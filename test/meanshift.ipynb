{
 "cells": [
  {
   "cell_type": "code",
   "execution_count": 70,
   "metadata": {},
   "outputs": [],
   "source": [
    "import numpy as np\n",
    "from collections import Counter"
   ]
  },
  {
   "cell_type": "code",
   "execution_count": 71,
   "metadata": {},
   "outputs": [],
   "source": [
    "d = np.load(\"nd.npy\")"
   ]
  },
  {
   "cell_type": "code",
   "execution_count": 72,
   "metadata": {},
   "outputs": [
    {
     "name": "stdout",
     "output_type": "stream",
     "text": [
      "['5.8_3.1_3.7_1.2', '5.9_3.1_3.8_1.2', '5.8_3.1_3.8_1.2']\n"
     ]
    }
   ],
   "source": [
    "def get_label(data=d):\n",
    "    label = []\n",
    "    for line in data:\n",
    "        temp = np.round(list(line[0]), 1)\n",
    "        temp = \"_\".join([str(i) for i in temp])\n",
    "        label.append(temp)\n",
    "\n",
    "    classes = [i for i in Counter(label).keys()]\n",
    "    print(classes)\n",
    "    max_class = len(Counter(label))\n",
    "    \n",
    "    pred = []\n",
    "    for line in label:\n",
    "        for j in range(max_class):\n",
    "            if line == classes[j]:\n",
    "                pred.append(j)\n",
    "    return label, pred\n",
    "lable, pred = get_label(d)"
   ]
  },
  {
   "cell_type": "code",
   "execution_count": 73,
   "metadata": {},
   "outputs": [],
   "source": [
    "from sklearn.datasets import load_iris\n",
    "import matplotlib.pyplot as plt\n",
    "%matplotlib inline\n",
    "data = load_iris()['data']\n"
   ]
  },
  {
   "cell_type": "code",
   "execution_count": 74,
   "metadata": {},
   "outputs": [
    {
     "data": {
      "text/plain": [
       "<matplotlib.collections.PathCollection at 0x1a18194358>"
      ]
     },
     "execution_count": 74,
     "metadata": {},
     "output_type": "execute_result"
    },
    {
     "data": {
      "image/png": "[encoded data removed]",
      "text/plain": [
       "<Figure size 432x288 with 1 Axes>"
      ]
     },
     "metadata": {
      "needs_background": "light"
     },
     "output_type": "display_data"
    }
   ],
   "source": [
    "myresult = np.array(pred).reshape(150, 1)\n",
    "plt.scatter(data[myresult[:, 0] == 1, 0], data[myresult[:, 0] == 1, 1])\n",
    "plt.scatter(data[myresult[:, 0] == 2, 0], data[myresult[:, 0] == 2, 1])\n",
    "plt.scatter(data[myresult[:, 0] == 0, 0], data[myresult[:, 0] == 0, 1])"
   ]
  },
  {
   "cell_type": "code",
   "execution_count": 101,
   "metadata": {},
   "outputs": [],
   "source": [
    "d = np.load(\"nd_multi.npy\")"
   ]
  },
  {
   "cell_type": "code",
   "execution_count": 102,
   "metadata": {},
   "outputs": [
    {
     "data": {
      "text/plain": [
       "(150, 4)"
      ]
     },
     "execution_count": 102,
     "metadata": {},
     "output_type": "execute_result"
    }
   ],
   "source": [
    "d.shape"
   ]
  },
  {
   "cell_type": "code",
   "execution_count": 104,
   "metadata": {},
   "outputs": [
    {
     "name": "stdout",
     "output_type": "stream",
     "text": [
      "[5.00615318 3.42812607 1.46205702 0.24599369]\n",
      "[5.00542272 3.42721955 1.46197038 0.24591757]\n",
      "[5.0053016  3.42730231 1.4619111  0.24591025]\n",
      "[5.00515893 3.42713611 1.46196028 0.24590571]\n",
      "[5.0061043  3.4281813  1.46205125 0.24599332]\n",
      "[5.00681574 3.42888183 1.46222795 0.24610428]\n",
      "[5.005404   3.42753305 1.46196259 0.24594665]\n",
      "[5.00592446 3.42787541 1.46207581 0.2459779 ]\n",
      "[5.00492127 3.42689771 1.46187448 0.24588547]\n",
      "[5.00550165 3.42733456 1.46201508 0.24591533]\n"
     ]
    }
   ],
   "source": [
    "for line in d[:10]:\n",
    "    print(line)"
   ]
  },
  {
   "cell_type": "code",
   "execution_count": 108,
   "metadata": {},
   "outputs": [],
   "source": [
    "rest = np.concatenate([data, np.arange(150).reshape((150, 1))], axis=1)"
   ]
  },
  {
   "cell_type": "code",
   "execution_count": 110,
   "metadata": {},
   "outputs": [
    {
     "name": "stdout",
     "output_type": "stream",
     "text": [
      "[5.1 3.5 1.4 0.2 0. ]\n",
      "[4.9 3.  1.4 0.2 1. ]\n",
      "[4.7 3.2 1.3 0.2 2. ]\n",
      "[4.6 3.1 1.5 0.2 3. ]\n",
      "[5.  3.6 1.4 0.2 4. ]\n",
      "[5.4 3.9 1.7 0.4 5. ]\n",
      "[4.6 3.4 1.4 0.3 6. ]\n",
      "[5.  3.4 1.5 0.2 7. ]\n",
      "[4.4 2.9 1.4 0.2 8. ]\n",
      "[4.9 3.1 1.5 0.1 9. ]\n"
     ]
    }
   ],
   "source": [
    "for line in rest[:10]:\n",
    "    temp =line\n",
    "    print(line)"
   ]
  },
  {
   "cell_type": "code",
   "execution_count": 111,
   "metadata": {},
   "outputs": [
    {
     "data": {
      "text/plain": [
       "array([4.9, 3.1, 1.5, 0.1, 9. ])"
      ]
     },
     "execution_count": 111,
     "metadata": {},
     "output_type": "execute_result"
    }
   ],
   "source": [
    "temp"
   ]
  },
  {
   "cell_type": "code",
   "execution_count": 112,
   "metadata": {},
   "outputs": [
    {
     "data": {
      "text/plain": [
       "array([4.9, 3.1, 1.5, 0.1])"
      ]
     },
     "execution_count": 112,
     "metadata": {},
     "output_type": "execute_result"
    }
   ],
   "source": [
    "temp[0:-1]"
   ]
  },
  {
   "cell_type": "code",
   "execution_count": 134,
   "metadata": {},
   "outputs": [],
   "source": [
    "d = np.load(\"nd_multi_test.npy\")"
   ]
  },
  {
   "cell_type": "code",
   "execution_count": 135,
   "metadata": {},
   "outputs": [
    {
     "name": "stdout",
     "output_type": "stream",
     "text": [
      "[array([[5.00606811, 3.4280561 , 1.46202539, 0.24599719]]) 0.0]\n",
      "[array([[5.00574321, 3.42765291, 1.46198684, 0.24596336]]) 1.0]\n"
     ]
    }
   ],
   "source": [
    "for line in d[:2]:\n",
    "    print(line)"
   ]
  },
  {
   "cell_type": "code",
   "execution_count": 136,
   "metadata": {},
   "outputs": [
    {
     "data": {
      "text/plain": [
       "array([[5.00574321, 3.42765291, 1.46198684, 0.24596336]])"
      ]
     },
     "execution_count": 136,
     "metadata": {},
     "output_type": "execute_result"
    }
   ],
   "source": [
    "line[0]"
   ]
  },
  {
   "cell_type": "code",
   "execution_count": null,
   "metadata": {},
   "outputs": [],
   "source": []
  }
 ],
 "metadata": {
  "kernelspec": {
   "display_name": "Python 3",
   "language": "python",
   "name": "python3"
  },
  "language_info": {
   "codemirror_mode": {
    "name": "ipython",
    "version": 3
   },
   "file_extension": ".py",
   "mimetype": "text/x-python",
   "name": "python",
   "nbconvert_exporter": "python",
   "pygments_lexer": "ipython3",
   "version": "3.6.8"
  }
 },
 "nbformat": 4,
 "nbformat_minor": 2
}
