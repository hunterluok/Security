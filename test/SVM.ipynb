{
 "cells": [
  {
   "cell_type": "code",
   "execution_count": 58,
   "metadata": {},
   "outputs": [],
   "source": [
    "import numpy as np\n",
    "from sklearn.datasets import  load_iris\n",
    "data = load_iris()['data']\n",
    "\n",
    "label = load_iris()['target']\n",
    "label[:2]\n",
    "td = data[label != 1]\n",
    "la = label[label != 1] - 1"
   ]
  },
  {
   "cell_type": "markdown",
   "metadata": {},
   "source": [
    "# sgd SVM"
   ]
  },
  {
   "cell_type": "code",
   "execution_count": 59,
   "metadata": {},
   "outputs": [
    {
     "name": "stdout",
     "output_type": "stream",
     "text": [
      "100 100\n"
     ]
    },
    {
     "data": {
      "text/plain": [
       "1.0"
      ]
     },
     "execution_count": 59,
     "metadata": {},
     "output_type": "execute_result"
    }
   ],
   "source": [
    "def pegasos(da, la, alpha=0.001, k=50, maxiters=100):\n",
    "    m, n = da.shape\n",
    "    w = np.random.randn(n, 1) \n",
    "    if k >= m:\n",
    "        raise ValueError(\"kkkkk\")\n",
    "    iters = 0\n",
    "    while iters < maxiters:\n",
    "        iters += 1\n",
    "        index = np.random.permutation(m)\n",
    "        temp_data = da[index[:k]]\n",
    "        temp_la = la[index[:k]].reshape(-1, 1)\n",
    "        # 随机采样 然后进行计算 pred。\n",
    "        pred = np.multiply(np.matmul(temp_data, w), temp_la)\n",
    "        #print(pred.shape)\n",
    "        \n",
    "        t_d = []\n",
    "        for i in range(k):\n",
    "            # 对于误分的样本， 进行 w的累加。\n",
    "            if pred[i] < 1:\n",
    "                t_d.append(temp_data[i].tolist())\n",
    "        td_temp_la = temp_la[pred<1].reshape(-1, 1)\n",
    "        \n",
    "        w_delta = np.matmul(np.array(t_d).T, td_temp_la)\n",
    "        w = np.multiply((1 - 1 / iters), w) + np.multiply(alpha * (1 / k), w_delta)\n",
    "    return w\n",
    "\n",
    "\n",
    "def get_acc(test_data, test_la, w):\n",
    "    pred_old = np.matmul(test_data, w)    \n",
    "    pred_new = [[1] if i>=0.5 else [-1] for i in pred_old]\n",
    "    acc = np.sum(pred_new == test_la.reshape((-1, 1)))\n",
    "    lens = len(test_la)\n",
    "    print(acc, lens)\n",
    "    return acc / lens, pred_new, pred_old\n",
    "\n",
    "\n",
    "w = pegasos(td, la)\n",
    "#acc, pred = get_acc(td[40:70], la[40:70], w)\n",
    "acc, pred, pred_old = get_acc(td, la, w)\n",
    "acc"
   ]
  },
  {
   "cell_type": "code",
   "execution_count": 61,
   "metadata": {},
   "outputs": [],
   "source": [
    "data = load_iris()['data']\n",
    "label = load_iris()['target']\n",
    "    # print(label)\n",
    "data = data[label != 2]\n",
    "label = label[label != 2]\n",
    "#label = label - 1\n",
    "#\n",
    "label = np.array([-1 if i==0 else 1 for i in label]).reshape((-1, 1))"
   ]
  },
  {
   "cell_type": "code",
   "execution_count": 62,
   "metadata": {},
   "outputs": [
    {
     "data": {
      "text/plain": [
       "array([-1, -1, -1, -1, -1, -1, -1, -1, -1, -1, -1, -1, -1, -1, -1, -1, -1,\n",
       "       -1, -1, -1, -1, -1, -1, -1, -1, -1, -1, -1, -1, -1, -1, -1, -1, -1,\n",
       "       -1, -1, -1, -1, -1, -1, -1, -1, -1, -1, -1, -1, -1, -1, -1, -1,  1,\n",
       "        1,  1,  1,  1,  1,  1,  1,  1,  1,  1,  1,  1,  1,  1,  1,  1,  1,\n",
       "        1,  1,  1,  1,  1,  1,  1,  1,  1,  1,  1,  1,  1,  1,  1,  1,  1,\n",
       "        1,  1,  1,  1,  1,  1,  1,  1,  1,  1,  1,  1,  1,  1,  1])"
      ]
     },
     "execution_count": 62,
     "metadata": {},
     "output_type": "execute_result"
    }
   ],
   "source": [
    "label = label.reshape(-1)\n",
    "label"
   ]
  },
  {
   "cell_type": "code",
   "execution_count": null,
   "metadata": {},
   "outputs": [],
   "source": []
  },
  {
   "cell_type": "code",
   "execution_count": 63,
   "metadata": {},
   "outputs": [
    {
     "name": "stdout",
     "output_type": "stream",
     "text": [
      "59 100\n"
     ]
    },
    {
     "data": {
      "text/plain": [
       "0.59"
      ]
     },
     "execution_count": 63,
     "metadata": {},
     "output_type": "execute_result"
    }
   ],
   "source": [
    "w = pegasos(data, label)\n",
    "#acc, pred = get_acc(td[40:70], la[40:70], w)\n",
    "acc, pred, pred_old = get_acc(data, label, w)\n",
    "acc"
   ]
  },
  {
   "cell_type": "code",
   "execution_count": null,
   "metadata": {},
   "outputs": [],
   "source": []
  },
  {
   "cell_type": "code",
   "execution_count": null,
   "metadata": {},
   "outputs": [],
   "source": []
  },
  {
   "cell_type": "code",
   "execution_count": 5,
   "metadata": {},
   "outputs": [
    {
     "data": {
      "text/plain": [
       "array([[-0.13439842],\n",
       "       [-0.0909307 ],\n",
       "       [-0.03972065],\n",
       "       [-0.00580105]])"
      ]
     },
     "execution_count": 5,
     "metadata": {},
     "output_type": "execute_result"
    }
   ],
   "source": [
    "# 单样本计算\n",
    "def get_w(data, w):\n",
    "    return np.matmul(data, w)\n",
    "\n",
    "alpha = 0.001\n",
    "m ,n = td.shape\n",
    "w = np.random.randn(n, 1)\n",
    "la = la.reshape(m, 1)\n",
    "\n",
    "k = int(0.4 * m)\n",
    "iters = 0\n",
    "while iters < 100:\n",
    "    iters += 1\n",
    "    \n",
    "    w_delta = np.zeros((n, 1))\n",
    "    for i in range(k):\n",
    "        temp = get_w(td[i], w)\n",
    "        if np.multiply(la[i], temp) < 1:\n",
    "            w_delta += np.matmul(td[i].reshape(n, 1), la[i]).reshape(n, 1)\n",
    "    w = (1 - 1/iters) * w + alpha * ( 1 / k) * w_delta\n",
    "w"
   ]
  },
  {
   "cell_type": "code",
   "execution_count": 6,
   "metadata": {
    "scrolled": true
   },
   "outputs": [
    {
     "data": {
      "text/plain": [
       "array([[ 0.03692377],\n",
       "       [-0.01302973],\n",
       "       [ 0.10170057],\n",
       "       [ 0.04463459]])"
      ]
     },
     "execution_count": 6,
     "metadata": {},
     "output_type": "execute_result"
    }
   ],
   "source": [
    "# 矩阵运算。\n",
    "    \n",
    "iters = 1\n",
    "while iters < 100:\n",
    "    iters += 1\n",
    "    index = np.random.permutation(m)\n",
    "    temp_data = td[index[:k]]\n",
    "    temp_la = la[index[:k]]\n",
    "    pred = np.multiply(get_w(temp_data, w), temp_la)\n",
    "    \n",
    "    t_d = []\n",
    "    for i in range(k):\n",
    "        if pred[i] < 1:\n",
    "            t_d.append(temp_data[i].tolist())\n",
    "    td_temp_la = temp_la[pred<1].reshape(-1,1)\n",
    "    \n",
    "    w_delta = np.matmul(np.array(t_d).T, td_temp_la)\n",
    "    w = np.multiply((1 - 1 / iters), w) + np.multiply(alpha * (1 / k), w_delta)\n",
    "w"
   ]
  },
  {
   "cell_type": "markdown",
   "metadata": {},
   "source": [
    "# SMO算法 计算"
   ]
  },
  {
   "cell_type": "code",
   "execution_count": 7,
   "metadata": {},
   "outputs": [],
   "source": [
    "from numpy import *"
   ]
  },
  {
   "cell_type": "code",
   "execution_count": 8,
   "metadata": {},
   "outputs": [],
   "source": [
    "def loaddataset(filename):\n",
    "    datamat =[];label=[]\n",
    "    fr = open(filename)\n",
    "    for line in fr.readlines():\n",
    "        linearr = line.strip().split('\\t')\n",
    "        datamat.append([float(linearr[0]),float(linearr[1])])\n",
    "        label.append(float(linearr[2]))\n",
    "    return datamat,label"
   ]
  },
  {
   "cell_type": "code",
   "execution_count": 9,
   "metadata": {},
   "outputs": [
    {
     "ename": "NameError",
     "evalue": "name 'path' is not defined",
     "traceback": [
      "\u001b[0;31m---------------------------------------------------------------------------\u001b[0m",
      "\u001b[0;31mNameError\u001b[0m                                 Traceback (most recent call last)",
      "\u001b[0;32m<ipython-input-9-fbd8ac7d6aad>\u001b[0m in \u001b[0;36m<module>\u001b[0;34m\u001b[0m\n\u001b[0;32m----> 1\u001b[0;31m \u001b[0mdata\u001b[0m\u001b[0;34m,\u001b[0m\u001b[0mlabel\u001b[0m \u001b[0;34m=\u001b[0m \u001b[0mloaddataset\u001b[0m\u001b[0;34m(\u001b[0m\u001b[0mpath\u001b[0m\u001b[0;34m)\u001b[0m\u001b[0;34m\u001b[0m\u001b[0;34m\u001b[0m\u001b[0m\n\u001b[0m",
      "\u001b[0;31mNameError\u001b[0m: name 'path' is not defined"
     ],
     "output_type": "error"
    }
   ],
   "source": [
    "data,label = loaddataset(path)"
   ]
  },
  {
   "cell_type": "code",
   "execution_count": 10,
   "metadata": {},
   "outputs": [],
   "source": [
    "def selectJrand(i,m):\n",
    "    if i>m:\n",
    "        #raise ValueError(\"The i: %d must smaller than m\"%(i))\n",
    "        raise ValueError(\"The i: {} must smaller than m\".format(i))\n",
    "    j = i\n",
    "    while j==i:\n",
    "        j = int(np.random.uniform(0,m))\n",
    "    return j\n",
    "\n",
    "def clipAlpha(aj,H,L):\n",
    "    if aj > H:\n",
    "        aj = H\n",
    "    elif aj < L:\n",
    "        aj = L\n",
    "    else:\n",
    "        pass\n",
    "    return aj"
   ]
  },
  {
   "cell_type": "code",
   "execution_count": 11,
   "metadata": {},
   "outputs": [],
   "source": [
    "def smosimple(dataMatIn,classLabels,C,toler,MaxIter):\n",
    "    dataMatrix = mat(dataMatIn);\n",
    "    labelMat = mat(classLabels).transpose()\n",
    "    b = 0\n",
    "    m,n=shape(dataMatIn)\n",
    "    alphas = mat(zeros((m,1)))\n",
    "    iters =0\n",
    "    while (iters<MaxIter):\n",
    "        alphaPairsChanged = 0\n",
    "        for i in range(m):\n",
    "            fxi = float(np.multiply(alphas,labelMat).T*(dataMatrix*dataMatrix[i,:].T))+b\n",
    "            Ei = fxi - float(labelMat[i])\n",
    "            if((labelMat[i]*Ei<-toler) and (alphas[i]<C)) or ((labelMat[i]*Ei>toler and (alphas[i]<C))):\n",
    "                j = selectJrand(i,m)\n",
    "                fxj = float(np.multiply(alphas,labelMat).T*(dataMatrix*dataMatrix[j,:].T))+b\n",
    "                Ej =fxj-float(labelMat[j])\n",
    "               \n",
    "            # 复制 以备用。\n",
    "                alphaIold = alphas[i].copy()\n",
    "                alphaJold = alphas[j].copy()\n",
    "                                             \n",
    "                if (labelMat[i]!=labelMat[j]):\n",
    "                    L = max(0,alphas[j]-alphas[i])\n",
    "                    H = min(C,C+alphas[j]-alphas[i])\n",
    "                else:\n",
    "                    L = max(0,alphas[j]+alphas[i]-C)\n",
    "                    H = min(C,alphas[j]+alphas[i])\n",
    "                if L==H:\n",
    "                    print(\"L==H\")\n",
    "                    continue\n",
    "               \n",
    "            # 计算eta 用来更新alpha\n",
    "                eta = 2.0 * dataMatrix[i,:]*dataMatrix[j,:].T-dataMatrix[i,:]*dataMatrix[i,:].T-\\\n",
    "                                                             dataMatrix[j,:] * dataMatrix[j,:].T\n",
    "               \n",
    "                if eta>=0:\n",
    "                    print(\"eta>=0\")\n",
    "                    continue\n",
    "               \n",
    "            # 更新 alphas [j]\n",
    "                alphas[j] -= labelMat[j] *(Ei-Ej)/eta\n",
    "                alphas[j] = clipAlpha(alphas[j],H,L)\n",
    "               \n",
    "                if (abs(alphas[j]-alphaJold)<0.00001):\n",
    "                    print(\"j not moving enough\")\n",
    "                    continue\n",
    "                   \n",
    "            # 更新 alphas [i]\n",
    "                alphas[i] += labelMat[j]*labelMat[i]*(alphaJold-alphas[j])\n",
    "               \n",
    "            # 更新 b 两个  不满足条件 就求均值。\n",
    "                b1 = b - Ei - labelMat[i] * (alphas[i]-alphaIold)*dataMatrix[i,:]*dataMatrix[i,:].T-\\\n",
    "                labelMat[j]*(alphas[j]-alphaJold)*dataMatrix[i,:]*dataMatrix[j, :].T\n",
    "               \n",
    "                b2 = b - Ej - labelMat[i] * (alphas[i]-alphaIold)*dataMatrix[i, :]*dataMatrix[j,:].T-\\\n",
    "                labelMat[j]*(alphas[j]-alphaJold)*dataMatrix[j, :]*dataMatrix[j, :].T\n",
    "               \n",
    "                if (0<alphas[i]) and (C>alphas[i]):\n",
    "                    b = b1\n",
    "                elif (0<alphas[j]) and (C>alphas[j]):\n",
    "                    b = b2\n",
    "                else:\n",
    "                    b = (b1+b2)/2.\n",
    "                \n",
    "                alphaPairsChanged +=1\n",
    "                print(\"iterL%d i :%d,pairs changed %d\" %(iters,i,alphaPairsChanged))\n",
    "               \n",
    "        if (alphaPairsChanged==0):\n",
    "            iters +=1\n",
    "        else:\n",
    "            iters =0\n",
    "        print(\"iteration number :%d\" % iters)\n",
    "    return b,alphas           "
   ]
  },
  {
   "cell_type": "code",
   "execution_count": 12,
   "metadata": {},
   "outputs": [
    {
     "data": {
      "text/plain": [
       "\"\\nlabel = []\\ndata = []\\nwith open(path,'r') as f:\\n    line = f.readline().strip().split('\\t')\\n    print(line)\\n    while line:\\n        temp = [i for i in line[:2]]\\n        temp_label = [i for i in line[2:3]]\\n        data.append(temp)\\n        label.append(temp_label)\\n        line = f.readline().strip().split('\\t')\\n\""
      ]
     },
     "execution_count": 12,
     "metadata": {},
     "output_type": "execute_result"
    }
   ],
   "source": [
    "\"\"\"\n",
    "label = []\n",
    "data = []\n",
    "with open(path,'r') as f:\n",
    "    line = f.readline().strip().split('\\t')\n",
    "    print(line)\n",
    "    while line:\n",
    "        temp = [i for i in line[:2]]\n",
    "        temp_label = [i for i in line[2:3]]\n",
    "        data.append(temp)\n",
    "        label.append(temp_label)\n",
    "        line = f.readline().strip().split('\\t')\n",
    "\"\"\""
   ]
  },
  {
   "cell_type": "code",
   "execution_count": 13,
   "metadata": {},
   "outputs": [],
   "source": [
    "# b,alphas = smosimple(data,label,0.6,0.001,40)\n"
   ]
  },
  {
   "cell_type": "code",
   "execution_count": null,
   "metadata": {},
   "outputs": [],
   "source": []
  }
 ],
 "metadata": {
  "kernelspec": {
   "display_name": "Python 3",
   "language": "python",
   "name": "python3"
  },
  "language_info": {
   "codemirror_mode": {
    "name": "ipython",
    "version": 3
   },
   "file_extension": ".py",
   "mimetype": "text/x-python",
   "name": "python",
   "nbconvert_exporter": "python",
   "pygments_lexer": "ipython3",
   "version": "3.6.8"
  }
 },
 "nbformat": 4,
 "nbformat_minor": 2
}
