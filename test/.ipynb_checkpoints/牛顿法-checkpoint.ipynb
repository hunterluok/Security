{
 "cells": [
  {
   "cell_type": "code",
   "execution_count": 29,
   "metadata": {
    "collapsed": true
   },
   "outputs": [],
   "source": [
    "import numpy as np"
   ]
  },
  {
   "cell_type": "code",
   "execution_count": 38,
   "metadata": {
    "collapsed": true
   },
   "outputs": [],
   "source": [
    "m = 100\n",
    "n = 3\n",
    "w = np.array([[2], [1], [1.5]])\n",
    "x = np.random.randn(m, n)\n",
    "y = np.matmul(x, w) + 2"
   ]
  },
  {
   "cell_type": "markdown",
   "metadata": {},
   "source": [
    "# 1基本牛顿法"
   ]
  },
  {
   "cell_type": "code",
   "execution_count": 35,
   "metadata": {},
   "outputs": [
    {
     "data": {
      "text/plain": [
       "matrix([[2.13179612],\n",
       "        [0.79154765],\n",
       "        [1.65039555]])"
      ]
     },
     "execution_count": 35,
     "metadata": {},
     "output_type": "execute_result"
    }
   ],
   "source": [
    "def get_gradient(x, w, y, m):\n",
    "    \"\"\"\n",
    "    求解一阶和二阶梯度，其中grad_2为对称矩阵， 海森矩阵。\n",
    "    \"\"\"\n",
    "    grad_1 = (1 / m) * np.matmul(x.T, (np.matmul(x, w) - y))\n",
    "    grad_2 = (1 / m) * np.matmul(x.T, x)\n",
    "    return grad_1, grad_2\n",
    "\n",
    "\n",
    "def update(x, y, error=0.01, maxiters=100):\n",
    "    m, n = x.shape\n",
    "    w = np.random.randn(n, 1)\n",
    "    iters = 0\n",
    "    while iters < maxiters:\n",
    "        iters += 1\n",
    "        grad_1, grad_2 = get_gradient(x, w, y, m)\n",
    "        if np.sum(np.abs(grad_1).sum()) < error:\n",
    "            return w\n",
    "        w = w - np.matmul(np.mat(grad_2).I, grad_1)\n",
    "        # 这里注意是 举证的乘法，不是简单的相除 否则出现问题\n",
    "    return w\n",
    "\n",
    "w = update(x, y, error=0.0001, maxiters=1000)\n",
    "w"
   ]
  },
  {
   "cell_type": "markdown",
   "metadata": {},
   "source": [
    "# 2全局牛顿法"
   ]
  },
  {
   "cell_type": "code",
   "execution_count": 51,
   "metadata": {
    "collapsed": true
   },
   "outputs": [],
   "source": [
    "def get_gradient(x, w, y, m):\n",
    "    \"\"\"\n",
    "    求解一阶和二阶梯度，其中grad_2为对称矩阵， 海森矩阵。\n",
    "    \"\"\"\n",
    "    grad_1 = (1 / m) * np.matmul(x.T, (np.matmul(x, w) - y))\n",
    "    grad_2 = (1 / m) * np.matmul(x.T, x)\n",
    "    return grad_1, grad_2"
   ]
  },
  {
   "cell_type": "code",
   "execution_count": 76,
   "metadata": {
    "collapsed": true
   },
   "outputs": [],
   "source": [
    "def get_loss(x, y, w, m):\n",
    "    \"\"\"\n",
    "    求解损失函数， loss = 0.5 * (XW - Y)...\n",
    "    \"\"\"\n",
    "    error = np.matmul(x, w) - y\n",
    "    loss = 1 / m * (0.5) * np.matmul(error.T, error)\n",
    "    return loss"
   ]
  },
  {
   "cell_type": "code",
   "execution_count": 77,
   "metadata": {
    "collapsed": true
   },
   "outputs": [],
   "source": [
    "def get_p(x, y, m, w, grad_1, dk, theta, sigma):\n",
    "    p = 0\n",
    "    while True:\n",
    "        w_new = w + np.power(theta, p)\n",
    "        constants = sigma * np.power(theta, p) * np.matmul(grad_1.T, dk)\n",
    "        lefts = get_loss(x, y, w_new, m)\n",
    "        right = get_loss(x,y, w, m) + constants\n",
    "        if lefts <= right:\n",
    "            break\n",
    "        else:\n",
    "            p += 1\n",
    "    return p"
   ]
  },
  {
   "cell_type": "code",
   "execution_count": 79,
   "metadata": {},
   "outputs": [
    {
     "data": {
      "text/plain": [
       "matrix([[1.52695235],\n",
       "        [1.0448632 ],\n",
       "        [1.84665652]])"
      ]
     },
     "execution_count": 79,
     "metadata": {},
     "output_type": "execute_result"
    }
   ],
   "source": [
    "def update_s(x, y, error=0.005, maxiters=100, theta=0.2, sigma=0.4):\n",
    "    m, n = x.shape\n",
    "    w = np.random.randn(n, 1)\n",
    "    iters = 0\n",
    "    while iters < maxiters:\n",
    "        grad_1, grad_2 = get_gradient(x, w, y, m)\n",
    "        if np.sum(np.abs(grad_1).sum()) < error:\n",
    "            return w\n",
    "        dk = -np.matmul(np.mat(grad_2).I, grad_1)\n",
    "        #  这里注意是 矩阵的乘法，不是简单的相除否则出现问题\n",
    "        p = get_p(x, y, m, w, grad_1, dk, theta, sigma)\n",
    "        w = w + np.power(theta, p) * dk    \n",
    "        iters += 1\n",
    "    return w\n",
    "\n",
    "w = update_s(x, y)\n",
    "w"
   ]
  },
  {
   "cell_type": "code",
   "execution_count": null,
   "metadata": {
    "collapsed": true
   },
   "outputs": [],
   "source": []
  }
 ],
 "metadata": {
  "kernelspec": {
   "display_name": "Python 3",
   "language": "python",
   "name": "python3"
  },
  "language_info": {
   "codemirror_mode": {
    "name": "ipython",
    "version": 3
   },
   "file_extension": ".py",
   "mimetype": "text/x-python",
   "name": "python",
   "nbconvert_exporter": "python",
   "pygments_lexer": "ipython3",
   "version": "3.6.2"
  }
 },
 "nbformat": 4,
 "nbformat_minor": 2
}
