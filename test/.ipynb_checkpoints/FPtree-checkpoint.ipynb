{
 "cells": [
  {
   "cell_type": "markdown",
   "metadata": {
    "collapsed": true
   },
   "source": [
    "# FP树"
   ]
  },
  {
   "cell_type": "code",
   "execution_count": 4,
   "metadata": {
    "collapsed": true
   },
   "outputs": [],
   "source": [
    "class treeNode:\n",
    "    def __init__(self, nameValue, numOccur, parentNode):\n",
    "        self.name = nameValue   # \n",
    "        self.count = numOccur   # 出现的次数\n",
    "        self.nodeLink = None\n",
    "        self.parent = parentNode # 存储父节点\n",
    "        self.children = {}\n",
    "        \n",
    "    def inc(self, numOccur):\n",
    "        self.count += numOccur\n",
    "        \n",
    "    def disp(self, ind=1):\n",
    "        print(' ' * ind, self.name, ' ', self.count)\n",
    "        for child in self.children.values():\n",
    "            child.disp(ind + 1)"
   ]
  },
  {
   "cell_type": "code",
   "execution_count": 35,
   "metadata": {
    "collapsed": true
   },
   "outputs": [],
   "source": [
    "rootnode = treeNode('pyramid', 9, None)\n",
    "rootnode.children['eye'] = treeNode('eye', 13, None)\n",
    "rootnode.children['phoenix'] = treeNode('phoenix', 3, None)\n",
    "rootnode.children['hbase'] = treeNode('hbase', 10, None)\n",
    "rootnode.children['phoenix'].children['test'] = treeNode(\"test\", 22, \"phoenix\")"
   ]
  },
  {
   "cell_type": "code",
   "execution_count": 46,
   "metadata": {},
   "outputs": [
    {
     "data": {
      "text/plain": [
       "{'test': <__main__.treeNode at 0x10f59cd30>}"
      ]
     },
     "execution_count": 46,
     "metadata": {},
     "output_type": "execute_result"
    }
   ],
   "source": [
    "rootnode.children['phoenix'] #.children['test'].parent\n",
    "# rootnode.name\n",
    "rootnode.children['phoenix'].children"
   ]
  },
  {
   "cell_type": "code",
   "execution_count": 36,
   "metadata": {},
   "outputs": [
    {
     "name": "stdout",
     "output_type": "stream",
     "text": [
      "  pyramid   9\n",
      "   eye   13\n",
      "   phoenix   3\n",
      "    test   22\n",
      "   hbase   10\n"
     ]
    }
   ],
   "source": [
    "rootnode.disp()"
   ]
  },
  {
   "cell_type": "code",
   "execution_count": 24,
   "metadata": {
    "collapsed": true
   },
   "outputs": [],
   "source": [
    "def loadSimpDat():\n",
    "    simpDat = [['r', 'z', 'h', 'j', 'p'],\n",
    "               ['z', 'y', 'x', 'w', 'v', 'u', 't', 's'],\n",
    "               ['z'],\n",
    "               ['z'],\n",
    "               ['r', 'x', 'n', 'o', 's'],\n",
    "               ['y', 'r', 'x', 'z', 'q', 't', 'p'],\n",
    "               ['y', 'z', 'x', 'e', 'q', 's', 't', 'm']]\n",
    "    return simpDat\n",
    "\n",
    "def createInitSet(dataSet):\n",
    "    retDict = {}\n",
    "    for trans in dataSet:\n",
    "        retDict[frozenset(trans)] = 1 # 相当于是去掉了 重复的数据\n",
    "    return retDict"
   ]
  },
  {
   "cell_type": "code",
   "execution_count": 25,
   "metadata": {},
   "outputs": [
    {
     "data": {
      "text/plain": [
       "{frozenset({'z'}): 1,\n",
       " frozenset({'h', 'j', 'p', 'r', 'z'}): 1,\n",
       " frozenset({'s', 't', 'u', 'v', 'w', 'x', 'y', 'z'}): 1,\n",
       " frozenset({'n', 'o', 'r', 's', 'x'}): 1,\n",
       " frozenset({'p', 'q', 'r', 't', 'x', 'y', 'z'}): 1,\n",
       " frozenset({'e', 'm', 'q', 's', 't', 'x', 'y', 'z'}): 1}"
      ]
     },
     "execution_count": 25,
     "metadata": {},
     "output_type": "execute_result"
    }
   ],
   "source": [
    "redDict= createInitSet(loadSimpDat())\n",
    "redDict"
   ]
  },
  {
   "cell_type": "code",
   "execution_count": 79,
   "metadata": {
    "collapsed": true
   },
   "outputs": [],
   "source": [
    "def updatetree(items, inTree, headtable, count):\n",
    "    \"\"\"\n",
    "    相当于有两个链表， 一个存储tree, 一个存储头表。\n",
    "    \"\"\"\n",
    "    if items[0] in inTree.children:\n",
    "        inTree.children[items[0]].inc(count)\n",
    "    else:\n",
    "        inTree.children[items[0]] = treeNode(items[0], count, inTree)\n",
    "        if headtable[items[0]][1] is None:\n",
    "            headtable[items[0]][1] = inTree.children[items[0]]\n",
    "        else:\n",
    "            updateheader(headtable[items[0]][1], inTree.children[items[0]])\n",
    "            # 将相同的 item, 但是 不是来自同一个样本的数据 追加起来的。\n",
    "    if len(items) > 1:\n",
    "        updatetree(items[1::], inTree.children[items[0]], headtable, count)\n",
    "        \n",
    "        \n",
    "def updateheader(node, new_node):\n",
    "    \"\"\"\n",
    "    利用链表的性质，进行分析。\n",
    "    \"\"\"\n",
    "    while (node.nodeLink is not None):\n",
    "        node = node.nodeLink\n",
    "    node.nodeLink = new_node"
   ]
  },
  {
   "cell_type": "code",
   "execution_count": 80,
   "metadata": {},
   "outputs": [
    {
     "name": "stdout",
     "output_type": "stream",
     "text": [
      "['z', 'r', 'p']\n",
      "['z', 'x', 't', 'y', 's']\n",
      "['z']\n",
      "['x', 'r', 's']\n",
      "['z', 'x', 'r', 't', 'y', 'q', 'p']\n",
      "['z', 'x', 't', 'y', 's', 'q']\n"
     ]
    }
   ],
   "source": [
    "def get_headtable(dataset, minsup=1):\n",
    "    headtable = {}\n",
    "    for line in dataset:\n",
    "        for key in line:\n",
    "            headtable[key] = headtable.get(key, 0) + dataset[line]\n",
    "    \n",
    "    headtable = {k:v for k, v in headtable.items() if v > minsup}\n",
    "    freqset = set(headtable.keys())\n",
    "    \n",
    "    if not freqset:\n",
    "        return None, None\n",
    "    \n",
    "    for k in headtable:\n",
    "        headtable[k] = [headtable[k], None]\n",
    "        \n",
    "    retTree = treeNode(\"Null set\", 1, None)\n",
    "    for key, count in dataset.items():\n",
    "        localD = {}\n",
    "        for item in key:\n",
    "            if item in freqset:\n",
    "                localD[item] = headtable[item][0]\n",
    "        if len(localD) > 0:\n",
    "            # 这里的排序是根据 在频繁项集中的 数目进行排序的，\n",
    "            orderitems = [v[0] for v in sorted(localD.items(), key=lambda row: row[1], reverse=True)]\n",
    "            print(orderitems)\n",
    "            updatetree(orderitems, retTree, headtable, count)\n",
    "            \n",
    "    return headtable, retTree\n",
    "ht, rt = get_headtable(redDict)"
   ]
  },
  {
   "cell_type": "code",
   "execution_count": 87,
   "metadata": {},
   "outputs": [
    {
     "data": {
      "text/plain": [
       "{'r': <__main__.treeNode at 0x10f5aa2b0>,\n",
       " 'x': <__main__.treeNode at 0x10f4e0ba8>}"
      ]
     },
     "execution_count": 87,
     "metadata": {},
     "output_type": "execute_result"
    }
   ],
   "source": [
    "ht['z'][1].children "
   ]
  },
  {
   "cell_type": "code",
   "execution_count": 82,
   "metadata": {},
   "outputs": [
    {
     "data": {
      "text/plain": [
       "<__main__.treeNode at 0x10f4e0550>"
      ]
     },
     "execution_count": 82,
     "metadata": {},
     "output_type": "execute_result"
    }
   ],
   "source": [
    "rt.children['x'].children['r'].children['s']"
   ]
  },
  {
   "cell_type": "code",
   "execution_count": 78,
   "metadata": {},
   "outputs": [
    {
     "data": {
      "text/plain": [
       "True"
      ]
     },
     "execution_count": 78,
     "metadata": {},
     "output_type": "execute_result"
    }
   ],
   "source": [
    "ht['p'][1] is None"
   ]
  },
  {
   "cell_type": "code",
   "execution_count": null,
   "metadata": {
    "collapsed": true
   },
   "outputs": [],
   "source": []
  }
 ],
 "metadata": {
  "kernelspec": {
   "display_name": "Python 3",
   "language": "python",
   "name": "python3"
  },
  "language_info": {
   "codemirror_mode": {
    "name": "ipython",
    "version": 3
   },
   "file_extension": ".py",
   "mimetype": "text/x-python",
   "name": "python",
   "nbconvert_exporter": "python",
   "pygments_lexer": "ipython3",
   "version": "3.6.2"
  }
 },
 "nbformat": 4,
 "nbformat_minor": 2
}
