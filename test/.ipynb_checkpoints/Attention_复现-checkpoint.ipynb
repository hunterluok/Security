{
 "cells": [
  {
   "cell_type": "code",
   "execution_count": 1,
   "metadata": {},
   "outputs": [
    {
     "ename": "FileNotFoundError",
     "evalue": "[Errno 2] File b'/Users/luokui/Documents/Akeras/yelp_2013.csv' does not exist: b'/Users/luokui/Documents/Akeras/yelp_2013.csv'",
     "output_type": "error",
     "traceback": [
      "\u001b[0;31m---------------------------------------------------------------------------\u001b[0m",
      "\u001b[0;31mFileNotFoundError\u001b[0m                         Traceback (most recent call last)",
      "\u001b[0;32m<ipython-input-1-e4e3c8b957a5>\u001b[0m in \u001b[0;36m<module>\u001b[0;34m\u001b[0m\n\u001b[1;32m      4\u001b[0m \u001b[0;31m# \"\\n\\ns.\".replace(\"\\n\",\"\").strip('.')\u001b[0m\u001b[0;34m\u001b[0m\u001b[0;34m\u001b[0m\u001b[0;34m\u001b[0m\u001b[0m\n\u001b[1;32m      5\u001b[0m \u001b[0mpath\u001b[0m \u001b[0;34m=\u001b[0m \u001b[0;34m\"/Users/luokui/Documents/Akeras/yelp_2013.csv\"\u001b[0m\u001b[0;34m\u001b[0m\u001b[0;34m\u001b[0m\u001b[0m\n\u001b[0;32m----> 6\u001b[0;31m \u001b[0mdata\u001b[0m \u001b[0;34m=\u001b[0m \u001b[0mpd\u001b[0m\u001b[0;34m.\u001b[0m\u001b[0mread_csv\u001b[0m\u001b[0;34m(\u001b[0m\u001b[0mpath\u001b[0m\u001b[0;34m)\u001b[0m\u001b[0;34m\u001b[0m\u001b[0;34m\u001b[0m\u001b[0m\n\u001b[0m",
      "\u001b[0;32m~/anaconda3/lib/python3.7/site-packages/pandas/io/parsers.py\u001b[0m in \u001b[0;36mparser_f\u001b[0;34m(filepath_or_buffer, sep, delimiter, header, names, index_col, usecols, squeeze, prefix, mangle_dupe_cols, dtype, engine, converters, true_values, false_values, skipinitialspace, skiprows, skipfooter, nrows, na_values, keep_default_na, na_filter, verbose, skip_blank_lines, parse_dates, infer_datetime_format, keep_date_col, date_parser, dayfirst, cache_dates, iterator, chunksize, compression, thousands, decimal, lineterminator, quotechar, quoting, doublequote, escapechar, comment, encoding, dialect, error_bad_lines, warn_bad_lines, delim_whitespace, low_memory, memory_map, float_precision)\u001b[0m\n\u001b[1;32m    683\u001b[0m         )\n\u001b[1;32m    684\u001b[0m \u001b[0;34m\u001b[0m\u001b[0m\n\u001b[0;32m--> 685\u001b[0;31m         \u001b[0;32mreturn\u001b[0m \u001b[0m_read\u001b[0m\u001b[0;34m(\u001b[0m\u001b[0mfilepath_or_buffer\u001b[0m\u001b[0;34m,\u001b[0m \u001b[0mkwds\u001b[0m\u001b[0;34m)\u001b[0m\u001b[0;34m\u001b[0m\u001b[0;34m\u001b[0m\u001b[0m\n\u001b[0m\u001b[1;32m    686\u001b[0m \u001b[0;34m\u001b[0m\u001b[0m\n\u001b[1;32m    687\u001b[0m     \u001b[0mparser_f\u001b[0m\u001b[0;34m.\u001b[0m\u001b[0m__name__\u001b[0m \u001b[0;34m=\u001b[0m \u001b[0mname\u001b[0m\u001b[0;34m\u001b[0m\u001b[0;34m\u001b[0m\u001b[0m\n",
      "\u001b[0;32m~/anaconda3/lib/python3.7/site-packages/pandas/io/parsers.py\u001b[0m in \u001b[0;36m_read\u001b[0;34m(filepath_or_buffer, kwds)\u001b[0m\n\u001b[1;32m    455\u001b[0m \u001b[0;34m\u001b[0m\u001b[0m\n\u001b[1;32m    456\u001b[0m     \u001b[0;31m# Create the parser.\u001b[0m\u001b[0;34m\u001b[0m\u001b[0;34m\u001b[0m\u001b[0;34m\u001b[0m\u001b[0m\n\u001b[0;32m--> 457\u001b[0;31m     \u001b[0mparser\u001b[0m \u001b[0;34m=\u001b[0m \u001b[0mTextFileReader\u001b[0m\u001b[0;34m(\u001b[0m\u001b[0mfp_or_buf\u001b[0m\u001b[0;34m,\u001b[0m \u001b[0;34m**\u001b[0m\u001b[0mkwds\u001b[0m\u001b[0;34m)\u001b[0m\u001b[0;34m\u001b[0m\u001b[0;34m\u001b[0m\u001b[0m\n\u001b[0m\u001b[1;32m    458\u001b[0m \u001b[0;34m\u001b[0m\u001b[0m\n\u001b[1;32m    459\u001b[0m     \u001b[0;32mif\u001b[0m \u001b[0mchunksize\u001b[0m \u001b[0;32mor\u001b[0m \u001b[0miterator\u001b[0m\u001b[0;34m:\u001b[0m\u001b[0;34m\u001b[0m\u001b[0;34m\u001b[0m\u001b[0m\n",
      "\u001b[0;32m~/anaconda3/lib/python3.7/site-packages/pandas/io/parsers.py\u001b[0m in \u001b[0;36m__init__\u001b[0;34m(self, f, engine, **kwds)\u001b[0m\n\u001b[1;32m    893\u001b[0m             \u001b[0mself\u001b[0m\u001b[0;34m.\u001b[0m\u001b[0moptions\u001b[0m\u001b[0;34m[\u001b[0m\u001b[0;34m\"has_index_names\"\u001b[0m\u001b[0;34m]\u001b[0m \u001b[0;34m=\u001b[0m \u001b[0mkwds\u001b[0m\u001b[0;34m[\u001b[0m\u001b[0;34m\"has_index_names\"\u001b[0m\u001b[0;34m]\u001b[0m\u001b[0;34m\u001b[0m\u001b[0;34m\u001b[0m\u001b[0m\n\u001b[1;32m    894\u001b[0m \u001b[0;34m\u001b[0m\u001b[0m\n\u001b[0;32m--> 895\u001b[0;31m         \u001b[0mself\u001b[0m\u001b[0;34m.\u001b[0m\u001b[0m_make_engine\u001b[0m\u001b[0;34m(\u001b[0m\u001b[0mself\u001b[0m\u001b[0;34m.\u001b[0m\u001b[0mengine\u001b[0m\u001b[0;34m)\u001b[0m\u001b[0;34m\u001b[0m\u001b[0;34m\u001b[0m\u001b[0m\n\u001b[0m\u001b[1;32m    896\u001b[0m \u001b[0;34m\u001b[0m\u001b[0m\n\u001b[1;32m    897\u001b[0m     \u001b[0;32mdef\u001b[0m \u001b[0mclose\u001b[0m\u001b[0;34m(\u001b[0m\u001b[0mself\u001b[0m\u001b[0;34m)\u001b[0m\u001b[0;34m:\u001b[0m\u001b[0;34m\u001b[0m\u001b[0;34m\u001b[0m\u001b[0m\n",
      "\u001b[0;32m~/anaconda3/lib/python3.7/site-packages/pandas/io/parsers.py\u001b[0m in \u001b[0;36m_make_engine\u001b[0;34m(self, engine)\u001b[0m\n\u001b[1;32m   1133\u001b[0m     \u001b[0;32mdef\u001b[0m \u001b[0m_make_engine\u001b[0m\u001b[0;34m(\u001b[0m\u001b[0mself\u001b[0m\u001b[0;34m,\u001b[0m \u001b[0mengine\u001b[0m\u001b[0;34m=\u001b[0m\u001b[0;34m\"c\"\u001b[0m\u001b[0;34m)\u001b[0m\u001b[0;34m:\u001b[0m\u001b[0;34m\u001b[0m\u001b[0;34m\u001b[0m\u001b[0m\n\u001b[1;32m   1134\u001b[0m         \u001b[0;32mif\u001b[0m \u001b[0mengine\u001b[0m \u001b[0;34m==\u001b[0m \u001b[0;34m\"c\"\u001b[0m\u001b[0;34m:\u001b[0m\u001b[0;34m\u001b[0m\u001b[0;34m\u001b[0m\u001b[0m\n\u001b[0;32m-> 1135\u001b[0;31m             \u001b[0mself\u001b[0m\u001b[0;34m.\u001b[0m\u001b[0m_engine\u001b[0m \u001b[0;34m=\u001b[0m \u001b[0mCParserWrapper\u001b[0m\u001b[0;34m(\u001b[0m\u001b[0mself\u001b[0m\u001b[0;34m.\u001b[0m\u001b[0mf\u001b[0m\u001b[0;34m,\u001b[0m \u001b[0;34m**\u001b[0m\u001b[0mself\u001b[0m\u001b[0;34m.\u001b[0m\u001b[0moptions\u001b[0m\u001b[0;34m)\u001b[0m\u001b[0;34m\u001b[0m\u001b[0;34m\u001b[0m\u001b[0m\n\u001b[0m\u001b[1;32m   1136\u001b[0m         \u001b[0;32melse\u001b[0m\u001b[0;34m:\u001b[0m\u001b[0;34m\u001b[0m\u001b[0;34m\u001b[0m\u001b[0m\n\u001b[1;32m   1137\u001b[0m             \u001b[0;32mif\u001b[0m \u001b[0mengine\u001b[0m \u001b[0;34m==\u001b[0m \u001b[0;34m\"python\"\u001b[0m\u001b[0;34m:\u001b[0m\u001b[0;34m\u001b[0m\u001b[0;34m\u001b[0m\u001b[0m\n",
      "\u001b[0;32m~/anaconda3/lib/python3.7/site-packages/pandas/io/parsers.py\u001b[0m in \u001b[0;36m__init__\u001b[0;34m(self, src, **kwds)\u001b[0m\n\u001b[1;32m   1915\u001b[0m         \u001b[0mkwds\u001b[0m\u001b[0;34m[\u001b[0m\u001b[0;34m\"usecols\"\u001b[0m\u001b[0;34m]\u001b[0m \u001b[0;34m=\u001b[0m \u001b[0mself\u001b[0m\u001b[0;34m.\u001b[0m\u001b[0musecols\u001b[0m\u001b[0;34m\u001b[0m\u001b[0;34m\u001b[0m\u001b[0m\n\u001b[1;32m   1916\u001b[0m \u001b[0;34m\u001b[0m\u001b[0m\n\u001b[0;32m-> 1917\u001b[0;31m         \u001b[0mself\u001b[0m\u001b[0;34m.\u001b[0m\u001b[0m_reader\u001b[0m \u001b[0;34m=\u001b[0m \u001b[0mparsers\u001b[0m\u001b[0;34m.\u001b[0m\u001b[0mTextReader\u001b[0m\u001b[0;34m(\u001b[0m\u001b[0msrc\u001b[0m\u001b[0;34m,\u001b[0m \u001b[0;34m**\u001b[0m\u001b[0mkwds\u001b[0m\u001b[0;34m)\u001b[0m\u001b[0;34m\u001b[0m\u001b[0;34m\u001b[0m\u001b[0m\n\u001b[0m\u001b[1;32m   1918\u001b[0m         \u001b[0mself\u001b[0m\u001b[0;34m.\u001b[0m\u001b[0munnamed_cols\u001b[0m \u001b[0;34m=\u001b[0m \u001b[0mself\u001b[0m\u001b[0;34m.\u001b[0m\u001b[0m_reader\u001b[0m\u001b[0;34m.\u001b[0m\u001b[0munnamed_cols\u001b[0m\u001b[0;34m\u001b[0m\u001b[0;34m\u001b[0m\u001b[0m\n\u001b[1;32m   1919\u001b[0m \u001b[0;34m\u001b[0m\u001b[0m\n",
      "\u001b[0;32mpandas/_libs/parsers.pyx\u001b[0m in \u001b[0;36mpandas._libs.parsers.TextReader.__cinit__\u001b[0;34m()\u001b[0m\n",
      "\u001b[0;32mpandas/_libs/parsers.pyx\u001b[0m in \u001b[0;36mpandas._libs.parsers.TextReader._setup_parser_source\u001b[0;34m()\u001b[0m\n",
      "\u001b[0;31mFileNotFoundError\u001b[0m: [Errno 2] File b'/Users/luokui/Documents/Akeras/yelp_2013.csv' does not exist: b'/Users/luokui/Documents/Akeras/yelp_2013.csv'"
     ]
    }
   ],
   "source": [
    "import pandas as pd\n",
    "import numpy as np\n",
    "import re  \n",
    "# \"\\n\\ns.\".replace(\"\\n\",\"\").strip('.')\n",
    "path = \"/Users/luokui/Documents/Akeras/yelp_2013.csv\"\n",
    "data = pd.read_csv(path)"
   ]
  },
  {
   "cell_type": "code",
   "execution_count": 2,
   "metadata": {},
   "outputs": [],
   "source": [
    "import glob"
   ]
  },
  {
   "cell_type": "code",
   "execution_count": 3,
   "metadata": {},
   "outputs": [
    {
     "data": {
      "text/plain": [
       "['/Users/luokui/Documents/Akeras/keras_ActivationCompare.ipynb',\n",
       " '/Users/luokui/Documents/Akeras/Untitled.ipynb',\n",
       " '/Users/luokui/Documents/Akeras/try1.txt',\n",
       " '/Users/luokui/Documents/Akeras/ISOlationForest.ipynb',\n",
       " '/Users/luokui/Documents/Akeras/MaskEmbeddingDNN.ipynb',\n",
       " '/Users/luokui/Documents/Akeras/textCluster.ipynb',\n",
       " '/Users/luokui/Documents/Akeras/no4.ipynb',\n",
       " '/Users/luokui/Documents/Akeras/Word2Vect.ipynb',\n",
       " '/Users/luokui/Documents/Akeras/DocumentTest.ipynb',\n",
       " '/Users/luokui/Documents/Akeras/Attention_复现.ipynb',\n",
       " '/Users/luokui/Documents/Akeras/stock163',\n",
       " '/Users/luokui/Documents/Akeras/SlicedRNN.ipynb',\n",
       " '/Users/luokui/Documents/Akeras/kerasEncode.ipynb',\n",
       " '/Users/luokui/Documents/Akeras/ResNetTest.ipynb',\n",
       " '/Users/luokui/Documents/Akeras/RNN_DropoutTest.ipynb',\n",
       " '/Users/luokui/Documents/Akeras/EmbedingView.ipynb',\n",
       " '/Users/luokui/Documents/Akeras/TorchDnn.ipynb',\n",
       " '/Users/luokui/Documents/Akeras/csv_log.csv',\n",
       " '/Users/luokui/Documents/Akeras/testSlicedRNN.ipynb',\n",
       " '/Users/luokui/Documents/Akeras/KerasCNN差异.ipynb',\n",
       " '/Users/luokui/Documents/Akeras/KerasAIPlay.ipynb',\n",
       " '/Users/luokui/Documents/Akeras/rnnAdd.ipynb']"
      ]
     },
     "execution_count": 3,
     "metadata": {},
     "output_type": "execute_result"
    }
   ],
   "source": [
    "glob.glob(\"/Users/luokui/Documents/Akeras/*\")"
   ]
  },
  {
   "cell_type": "code",
   "execution_count": 3,
   "metadata": {
    "collapsed": true
   },
   "outputs": [],
   "source": [
    "def get_data(path):\n",
    "    token = {}\n",
    "    data = pd.read_csv(path)\n",
    "    last_data = {}\n",
    "    last_data.setdefault(\"data\", [])\n",
    "    last_data.setdefault(\"label\", [])\n",
    "    \n",
    "    for line in data.text:\n",
    "        line = line.strip().split(\" \")\n",
    "        temp_line = [word.replace('\\n', '').strip('[.,\"\"]').lower() for word in line if len(word)>0]\n",
    "        last_data[\"data\"].append(temp_line)\n",
    "        for word in temp_line:\n",
    "            token.setdefault(word,0)\n",
    "            token[word] += 1\n",
    "    for line in data.stars:\n",
    "        last_data[\"label\"].append(line)\n",
    "    \n",
    "    word2indx = {}\n",
    "    word_list = []\n",
    "    for key in token.keys():\n",
    "        word_list.append(key)\n",
    "        word2indx.setdefault(key, len(word_list)-1)\n",
    "    return token, word2indx, word_list, last_data\n",
    "        \n",
    "tokens, word2indx, word_list, last_data= get_data(path)"
   ]
  },
  {
   "cell_type": "code",
   "execution_count": 4,
   "metadata": {
    "collapsed": true,
    "scrolled": true
   },
   "outputs": [],
   "source": [
    "\"\"\"\n",
    "token = {}\n",
    "for line in data.text[:10]:\n",
    "    temp_line = line.strip().split(\" \")\n",
    "    for word in temp_line:\n",
    "        word = word.replace('\\n', '').strip('[.,\"\"]')\n",
    "        token.setdefault(word, 0)\n",
    "        token[word] += 1\n",
    "\"\"\""
   ]
  },
  {
   "cell_type": "code",
   "execution_count": 5,
   "metadata": {
    "collapsed": true
   },
   "outputs": [],
   "source": [
    "# word_list\n",
    "da = []\n",
    "for line in last_data['data']:\n",
    "    temp = []\n",
    "    for key in line:\n",
    "        index = word2indx[key]\n",
    "        temp.append(index)\n",
    "    da.append(temp)"
   ]
  },
  {
   "cell_type": "code",
   "execution_count": null,
   "metadata": {
    "collapsed": true
   },
   "outputs": [],
   "source": [
    "\"\"\"\n",
    "def get_batch(das, labels, batch_size=128):\n",
    "    m = len(das)\n",
    "    index = np.random.permutation(m)\n",
    "    das = np.array(das)[index]\n",
    "    labels = np.array(labels)[index]\n",
    "    n_batch = int(m / batch_size)\n",
    "    for i in range(n_batch):\n",
    "        yield das[i * batch_size : (i + 1) * batch_size], labels[i * batch_size : (i+1) * batch_size]\n",
    "\"\"\""
   ]
  },
  {
   "cell_type": "code",
   "execution_count": 23,
   "metadata": {
    "scrolled": true
   },
   "outputs": [],
   "source": [
    "import keras\n",
    "from keras.layers import Embedding, Input, GRU, Wrapper, Bidirectional, Dense, Lambda\n",
    "from keras import Sequential\n",
    "from keras.models import Model\n",
    "from keras.preprocessing.sequence import pad_sequences\n",
    "from keras.utils import  to_categorical\n",
    "import keras.backend as K"
   ]
  },
  {
   "cell_type": "code",
   "execution_count": 8,
   "metadata": {},
   "outputs": [
    {
     "name": "stdout",
     "output_type": "stream",
     "text": [
      "687583 72\n"
     ]
    }
   ],
   "source": [
    "vocab_size = len(word2indx)\n",
    "input_len = 72\n",
    "print(vocab_size, input_len)\n",
    "atten_size  = 10\n",
    "hidden_size = 50\n",
    "hop = 3"
   ]
  },
  {
   "cell_type": "code",
   "execution_count": 11,
   "metadata": {},
   "outputs": [],
   "source": [
    "# 切分数据\n",
    "data  = pad_sequences(da, maxlen=input_len, padding=\"post\", truncating=\"post\")\n",
    "labels = to_categorical(np.array(last_data['label']) - 1)\n",
    "\n",
    "def split_data(data, label):\n",
    "    m = len(data)\n",
    "    data = np.array(data)\n",
    "    label = np.array(label)\n",
    "    train_data = data[:int(m * 0.7)]\n",
    "    train_label = label[:int(m * 0.7)]\n",
    "    valid_data = data[int(m * 0.7) : int(m * 0.9)]\n",
    "    valid_label = label[int(m * 0.7) : int(m * 0.9)]\n",
    "    test_data = data[int(m * 0.9) :]\n",
    "    test_label = label[int(m * 0.9) : ]\n",
    "    return train_data, train_label, valid_data, valid_label, test_data, test_label\n",
    "    \n",
    "train_data, train_label, valid_data, valid_label, test_data, test_label = split_data(data, labels)  "
   ]
  },
  {
   "cell_type": "code",
   "execution_count": 28,
   "metadata": {
    "collapsed": true
   },
   "outputs": [],
   "source": [
    "def change_shape(tensors):\n",
    "    atten_3 = K.permute_dimensions(tensors, [0, 2, 1])\n",
    "    # atten_3 = K.reshape(tensors, [-1, 3, 72])                           # 这种搞法有问题的\n",
    "    atten_result = K.batch_dot(atten_3, rnn_result)\n",
    "    flatted = K.batch_flatten(atten_result)                               # 注意这里的两个步骤\n",
    "    atten_flatten = K.reshape(flatted, [-1, hop * 2 * hidden_size])\n",
    "    return atten_flatten\n",
    "\n",
    "\n",
    "# 对 attention norm\n",
    "def norm_atten(tensors):\n",
    "    atten2_t = K.batch_dot(K.permute_dimensions(tensors, [0, 2, 1]), tensors) - 1\n",
    "    atten2_t = K.pow(atten2_t, 2)\n",
    "    atten2_norm = K.sqrt(K.mean(K.sum(K.sum(atten2_t, axis=-1), axis=-1)))\n",
    "    return atten2_norm"
   ]
  },
  {
   "cell_type": "code",
   "execution_count": 29,
   "metadata": {
    "collapsed": true
   },
   "outputs": [],
   "source": [
    "inputs = Input(shape=(input_len,))\n",
    "embed = Embedding(input_dim=vocab_size + 1, input_length=input_len, output_dim=100)\n",
    "embed_inputs = embed(inputs)\n",
    "\n",
    "rnn_model = Bidirectional(GRU(hidden_size, return_sequences=True))\n",
    "rnn_result = rnn_model(embed_inputs)                                       # b, n , zu\n",
    "atten_1 = Dense(atten_size, activation=\"tanh\", use_bias=False)(rnn_result) # b * n * da\n",
    "atten_2 = Dense(hop, activation=\"softmax\", use_bias=False)(atten_1)        # b * n * r\n",
    "\n",
    "atten_flatten = Lambda(change_shape)(atten_2)             # b * r * n   // b * n * 2u\n",
    "atten2_norms = Lambda(norm_atten)(atten_2)"
   ]
  },
  {
   "cell_type": "code",
   "execution_count": 18,
   "metadata": {},
   "outputs": [
    {
     "data": {
      "text/plain": [
       "TensorShape([Dimension(None), Dimension(5)])"
      ]
     },
     "execution_count": 18,
     "metadata": {},
     "output_type": "execute_result"
    }
   ],
   "source": [
    "# y_class = 5\n",
    "# fc = 10\n",
    "fc_model = Dense(10)(atten_flatten)\n",
    "out_put = Dense(5, activation=\"softmax\")(fc_model)\n",
    "model = Model(inputs, out_put)\n",
    "model.summary()"
   ]
  },
  {
   "cell_type": "code",
   "execution_count": 24,
   "metadata": {},
   "outputs": [],
   "source": [
    "# 可自定义 损失函数，及使用 r * r 的正则化项目， 在其他电脑。 sliced rnn\n",
    "# model.compile(optimizer=\"adam\", loss=\"categorical_crossentropy\", metrics=[\"acc\"])\n",
    "def my_loss(y, y_pred):\n",
    "    return K.mean(K.categorical_crossentropy(y, y_pred, from_logits=True)) + atten2_norms\n",
    "\n",
    "model.compile(optimizer=\"adam\", loss=my_loss, metrics=[\"acc\"])"
   ]
  },
  {
   "cell_type": "code",
   "execution_count": 27,
   "metadata": {
    "scrolled": true
   },
   "outputs": [
    {
     "name": "stdout",
     "output_type": "stream",
     "text": [
      "iter is 0\n",
      "iter is 1\n",
      "iter is 2\n",
      "iter is 3\n"
     ]
    }
   ],
   "source": [
    "# just test !!\n",
    "for iters in range(4):\n",
    "    print(\"iter is {}\".format(iters))\n",
    "    \"\"\"\n",
    "    model.fit(train_data[:10000], train_label[:10000], verbose=1, batch_size=512*4, epochs=10,\n",
    "             validation_data=(valid_data[:1000], valid_label[:1000]))\n",
    "    if iters % 2 ==0:\n",
    "        score = model.evaluate(test_data, test_label)\n",
    "    \"\"\""
   ]
  },
  {
   "cell_type": "code",
   "execution_count": null,
   "metadata": {
    "collapsed": true
   },
   "outputs": [],
   "source": []
  }
 ],
 "metadata": {
  "kernelspec": {
   "display_name": "Python 3",
   "language": "python",
   "name": "python3"
  },
  "language_info": {
   "codemirror_mode": {
    "name": "ipython",
    "version": 3
   },
   "file_extension": ".py",
   "mimetype": "text/x-python",
   "name": "python",
   "nbconvert_exporter": "python",
   "pygments_lexer": "ipython3",
   "version": "3.7.4"
  }
 },
 "nbformat": 4,
 "nbformat_minor": 2
}
