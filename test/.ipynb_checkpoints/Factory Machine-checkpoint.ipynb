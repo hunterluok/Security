{
 "cells": [
  {
   "cell_type": "markdown",
   "metadata": {},
   "source": [
    "# FM python普通版"
   ]
  },
  {
   "cell_type": "code",
   "execution_count": 1,
   "metadata": {
    "collapsed": true
   },
   "outputs": [],
   "source": [
    "import numpy as np\n",
    "from sklearn.datasets import load_iris, load_wine\n",
    "data = load_iris()[\"data\"]\n",
    "label = load_iris()[\"target\"]\n",
    "td = data[label !=2]\n",
    "la = label[label !=2]\n",
    "mean_td = np.mean(td, axis=0)\n",
    "new_td = td - mean_td\n",
    "\n",
    "\n",
    "ntd = []\n",
    "for line in new_td:\n",
    "    temp = [1 if i>0 else 0 for i in line]\n",
    "    ntd.append(temp)\n",
    "\n",
    "    \n",
    "def sigm(x):\n",
    "    return 1.0 / (1.0 + np.exp(-x))"
   ]
  },
  {
   "cell_type": "code",
   "execution_count": 4,
   "metadata": {
    "scrolled": true
   },
   "outputs": [
    {
     "data": {
      "text/plain": [
       "45"
      ]
     },
     "execution_count": 4,
     "metadata": {},
     "output_type": "execute_result"
    }
   ],
   "source": [
    "la = np.array([-1 if i<1 else 1 for i in la])\n",
    "def update_w_matrix(data, k=2, maxiter=100, label=la, alpha=0.01):\n",
    "    if isinstance(data, list):\n",
    "        data = np.array(data)\n",
    "    elif not isinstance(data, np.ndarray):\n",
    "        raise TypeError(\"data type must be np.ndarray\")\n",
    "    else:\n",
    "        pass\n",
    "    m, n = data.shape\n",
    "    w0 = 0\n",
    "    w1 = np.random.randn(n, 1)\n",
    "    v = np.random.randn(n, k)\n",
    "    iters = 0\n",
    "    label = label.reshape(m, 1)\n",
    "    while iters < maxiter:\n",
    "        iters += 1\n",
    "        \n",
    "        inter1 = np.matmul(data, v)\n",
    "        # print(\"inter1 shape : {}\".format(inter1.shape)) 100*2\n",
    "        \n",
    "        inter2 = np.matmul(np.power(data, 2), np.power(v, 2))\n",
    "        # print(\"inter2 shape : {}\".format(inter2.shape))\n",
    "        \n",
    "        temp = np.sum(np.power(inter1, 2) - inter2, axis=1, keepdims=True)\n",
    "        prob = w0 + np.matmul(data, w1) + 0.5 * temp\n",
    "        \n",
    "        cost = 0.0\n",
    "        for i in range(m):\n",
    "            cost += -np.log(sigm(prob[i] * label[i]))\n",
    "        # print(\"cost is {}\".format(cost / m))\n",
    "        # print(\"prob shape : {}\".format(prob.shape))\n",
    "        # loss = -np.sum(np.log(sigm(np.multiply(prob, label))))\n",
    "        loss = sigm(np.multiply(prob, label.reshape(m, 1)))\n",
    "        # print(\"loss shape : {}\".format(loss.shape))\n",
    "        error = np.multiply(1 - sigm(np.multiply(prob, label)), label)\n",
    "        # m * 1 print(error.shape)\n",
    "        w0 = w0 - (1 / m) * alpha * np.matmul(np.ones((m, 1)).T, error)\n",
    "        # print(\"w0 shape : {}\".format(w0.shape))\n",
    "        w1 = w1 - (1 / m) * alpha * np.matmul(data.T, error)\n",
    "        # print(\"w1 shape : {}\".format(w1.shape))\n",
    "        \n",
    "        cost1 = np.multiply(np.matmul(np.multiply(data, data).T, error), v)\n",
    "        # cost1 = np.matmul(np.multiply(data, data), v)\n",
    "        # print(cost1.shape)\n",
    "        \n",
    "        cost2 = np.matmul(data.T, np.matmul(data, v) * error)\n",
    "        # n * 1 \n",
    "        temp = cost2 - cost1\n",
    "        \n",
    "        # temp = np.matmul(data.T, np.matmul(data, v)) - np.matmul(np.multiply(data, data), v)\n",
    "        # temp = np.sum(np.matmul(data, v), axis=0) - np.matmul(data, v) \n",
    "        # print(\"temp shape : {}\".format(temp.shape))\n",
    "        \n",
    "        # print(\"temp is {}\".format(temp.shape))\n",
    "        v =  v - (1 / m) * alpha * temp\n",
    "        # n* 1, n* k\n",
    "        \n",
    "        # print(\"v shape {} \".format(v.shape))\n",
    "    return w0, w1, v\n",
    "\n",
    "\n",
    "def get_predict(traindata, testdata, maxiter=100, la=la):\n",
    "    w0, w1, v = update_w_matrix(traindata, maxiter=100)\n",
    "    int1 = np.matmul(testdata, v)\n",
    "    int2 = np.matmul(np.multiply(testdata, testdata), np.multiply(v, v))\n",
    "    pred = (w0 + np.matmul(traindata, w1) + 0.5 * np.sum((np.power(int1, 2) -int2), axis=1, keepdims=True))\n",
    "    # print(pred.shape)\n",
    "    pred = [1 if i>=0 else -1 for i in pred]\n",
    "    return np.sum(pred==la)\n",
    "\n",
    "get_predict(ntd, ntd, maxiter=1000)"
   ]
  },
  {
   "cell_type": "code",
   "execution_count": 5,
   "metadata": {},
   "outputs": [
    {
     "name": "stderr",
     "output_type": "stream",
     "text": [
      "/Users/luokui/anaconda3/lib/python3.6/site-packages/ipykernel_launcher.py:2: RuntimeWarning: overflow encountered in exp\n",
      "  \n"
     ]
    },
    {
     "data": {
      "text/plain": [
       "100"
      ]
     },
     "execution_count": 5,
     "metadata": {},
     "output_type": "execute_result"
    }
   ],
   "source": [
    "def update_wss(datas, k=2, maxiter=100, label=la, alpha=0.01):\n",
    "    m, n = datas.shape\n",
    "    w0 = 0\n",
    "    w1 = np.random.randn(n, 1)\n",
    "    v = np.random.randn(n, k)\n",
    "    iters = 0\n",
    "    while iters < maxiter:\n",
    "        iters += 1\n",
    "        for i in range(m):\n",
    "            data = np.mat(datas[i])\n",
    "            inter1 = np.power(np.matmul(data, v), 2) # 1 * k\n",
    "            inter2 = np.matmul(np.power(data, 2), np.power(v, 2)) # 1* k\n",
    "            prob = w0 + np.matmul(data, w1) + 0.5 * np.sum(inter1 - inter2, axis=1)\n",
    "            # loss = -np.sum(np.log(sigm(np.multiply(prob, label))))\n",
    "            error = (1 - sigm(prob * label[i])) * label[i]\n",
    "            w0 = w0 - alpha * error\n",
    "            w1 = w1 - alpha * data.T * error\n",
    "            temp = np.matmul(data.T, np.matmul(data, v)) - np.matmul(np.multiply(data, data), v)\n",
    "            # temp = np.matmul(data.T, np.matmul(data, v)) - np.matmul(np.matmul(data.T, data), v)\n",
    "            v =  v - alpha * np.multiply(temp, error)\n",
    "    return w0, w1, v\n",
    "\n",
    "\n",
    "w0, w1, v = update_wss(td, maxiter=10)\n",
    "int1 = np.power(np.matmul(td, v), 2)\n",
    "int2 = np.matmul(np.multiply(td, td), np.multiply(v, v))\n",
    "# multiply 类似于平方了\n",
    "pred = sigm(w0 + np.matmul(td, w1) + 0.5 * np.sum(int1 -int2, axis=1))\n",
    "pred = [1 if i >0.5 else -1 for i in pred]\n",
    "np.sum(pred==la)"
   ]
  },
  {
   "cell_type": "markdown",
   "metadata": {
    "collapsed": true
   },
   "source": [
    "## Keras 实现Neural H-FM"
   ]
  },
  {
   "cell_type": "code",
   "execution_count": 11,
   "metadata": {
    "collapsed": true
   },
   "outputs": [],
   "source": [
    "from keras.layers import Dense, Input, Embedding,Activation, Dropout, regularizers\n",
    "from keras import  Sequential\n",
    "import keras.backend as K\n",
    "import keras\n",
    "from keras.models import Model"
   ]
  },
  {
   "cell_type": "code",
   "execution_count": 12,
   "metadata": {
    "collapsed": true
   },
   "outputs": [],
   "source": [
    "# txs = np.array(ntd)"
   ]
  },
  {
   "cell_type": "code",
   "execution_count": null,
   "metadata": {
    "collapsed": true
   },
   "outputs": [],
   "source": [
    "tx = np.zeros_like(txs)\n",
    "m = len(ntd)\n",
    "k = 0\n",
    "for i in range(4):\n",
    "    for j in range(m):\n",
    "        if txs[j,i]==0:\n",
    "            tx[j,i]=k\n",
    "        else:\n",
    "            tx[j,i]=k+1\n",
    "    k +=2\n",
    "tx[:2]\n",
    "\n",
    "y = label[label !=2]\n",
    "y[:2]\n",
    "tx[:2]"
   ]
  },
  {
   "cell_type": "code",
   "execution_count": 79,
   "metadata": {
    "collapsed": true
   },
   "outputs": [],
   "source": [
    "y = y.reshape(-1,1)"
   ]
  },
  {
   "cell_type": "code",
   "execution_count": 113,
   "metadata": {
    "collapsed": true
   },
   "outputs": [],
   "source": [
    "n_feature = 4\n",
    "out_feature = 2\n",
    "vocab = 8\n",
    "wx_feature = 1"
   ]
  },
  {
   "cell_type": "code",
   "execution_count": 121,
   "metadata": {
    "collapsed": true
   },
   "outputs": [],
   "source": [
    "inputs = Input(shape=(n_feature,))\n",
    "embed_1 = Embedding(input_dim=vocab, output_dim=out_feature, input_length=n_feature)(inputs)\n",
    "embed_2 = Embedding(input_dim=vocab, output_dim=wx_feature, input_length=n_feature)(inputs)"
   ]
  },
  {
   "cell_type": "code",
   "execution_count": 130,
   "metadata": {
    "collapsed": true
   },
   "outputs": [],
   "source": [
    "from keras.layers import Lambda\n",
    "def get_intsect(x):\n",
    "    inter1 = K.pow(K.sum(x, axis=1), 2)\n",
    "    inter2 = K.sum(K.pow(x, 2), axis=1)\n",
    "    inters = 0.5 * (inter1 - inter2)\n",
    "    bilinear = K.sum(inters, axis=-1, keepdims=True)\n",
    "    # 这种地方需要特别注意\n",
    "    bilinears = Dropout(0.2)(bilinear)\n",
    "    # 加入dropout.\n",
    "    return bilinears\n",
    "\n",
    "def get_wx(x):\n",
    "    wx = K.sum(x, axis=1)\n",
    "    return wx\n",
    "\n",
    "\n",
    "# 自定义损失函数的\n",
    "def loss_function(y, y_pred):\n",
    "    error = y * y_pred\n",
    "    resu = 1 / (1 + K.exp(-error))\n",
    "    return K.mean(resu, axis=-1)\n",
    "\n",
    "def bcs(y_true, y_pred):\n",
    "    return K.mean(K.binary_crossentropy(y_true, y_pred), axis=-1)"
   ]
  },
  {
   "cell_type": "code",
   "execution_count": 139,
   "metadata": {
    "collapsed": true
   },
   "outputs": [],
   "source": [
    "#init_bias = K.constant(value=0.01)\n",
    "bis = Lambda(get_intsect)(embed_1)\n",
    "wxs = Lambda(get_wx)(embed_2)\n",
    "bis_w = keras.layers.Add()([bis, wxs])\n",
    "output =Dense(1, activation=\"sigmoid\")(bis_w)\n",
    "model = Model(inputs, output)"
   ]
  },
  {
   "cell_type": "code",
   "execution_count": 140,
   "metadata": {
    "scrolled": true
   },
   "outputs": [
    {
     "name": "stdout",
     "output_type": "stream",
     "text": [
      "Epoch 1/20\n",
      "100/100 [==============================] - 1s 9ms/step - loss: 0.5219 - acc: 1.0000\n",
      "Epoch 2/20\n",
      "100/100 [==============================] - 0s 216us/step - loss: 0.5069 - acc: 1.0000\n",
      "Epoch 3/20\n",
      "100/100 [==============================] - 0s 211us/step - loss: 0.4909 - acc: 1.0000\n",
      "Epoch 4/20\n",
      "100/100 [==============================] - 0s 208us/step - loss: 0.4747 - acc: 1.0000\n",
      "Epoch 5/20\n",
      "100/100 [==============================] - 0s 215us/step - loss: 0.4650 - acc: 1.0000\n",
      "Epoch 6/20\n",
      "100/100 [==============================] - 0s 198us/step - loss: 0.4488 - acc: 1.0000\n",
      "Epoch 7/20\n",
      "100/100 [==============================] - 0s 264us/step - loss: 0.4289 - acc: 1.0000\n",
      "Epoch 8/20\n",
      "100/100 [==============================] - 0s 277us/step - loss: 0.4151 - acc: 1.0000\n",
      "Epoch 9/20\n",
      "100/100 [==============================] - 0s 232us/step - loss: 0.4072 - acc: 1.0000\n",
      "Epoch 10/20\n",
      "100/100 [==============================] - 0s 242us/step - loss: 0.3855 - acc: 1.0000\n",
      "Epoch 11/20\n",
      "100/100 [==============================] - 0s 252us/step - loss: 0.3596 - acc: 1.0000\n",
      "Epoch 12/20\n",
      "100/100 [==============================] - 0s 248us/step - loss: 0.3543 - acc: 1.0000\n",
      "Epoch 13/20\n",
      "100/100 [==============================] - 0s 255us/step - loss: 0.3262 - acc: 1.0000\n",
      "Epoch 14/20\n",
      "100/100 [==============================] - 0s 246us/step - loss: 0.2999 - acc: 1.0000\n",
      "Epoch 15/20\n",
      "100/100 [==============================] - 0s 229us/step - loss: 0.3038 - acc: 1.0000\n",
      "Epoch 16/20\n",
      "100/100 [==============================] - 0s 239us/step - loss: 0.2933 - acc: 1.0000\n",
      "Epoch 17/20\n",
      "100/100 [==============================] - 0s 238us/step - loss: 0.2862 - acc: 1.0000\n",
      "Epoch 18/20\n",
      "100/100 [==============================] - 0s 229us/step - loss: 0.2617 - acc: 1.0000\n",
      "Epoch 19/20\n",
      "100/100 [==============================] - 0s 225us/step - loss: 0.2547 - acc: 1.0000\n",
      "Epoch 20/20\n",
      "100/100 [==============================] - 0s 224us/step - loss: 0.2253 - acc: 1.0000\n",
      "__________________________________________________________________________________________________\n",
      "Layer (type)                    Output Shape         Param #     Connected to                     \n",
      "==================================================================================================\n",
      "input_14 (InputLayer)           (None, 4)            0                                            \n",
      "__________________________________________________________________________________________________\n",
      "embedding_14 (Embedding)        (None, 4, 2)         16          input_14[0][0]                   \n",
      "__________________________________________________________________________________________________\n",
      "embedding_15 (Embedding)        (None, 4, 1)         8           input_14[0][0]                   \n",
      "__________________________________________________________________________________________________\n",
      "lambda_43 (Lambda)              (None, 1)            0           embedding_14[0][0]               \n",
      "__________________________________________________________________________________________________\n",
      "lambda_44 (Lambda)              (None, 1)            0           embedding_15[0][0]               \n",
      "__________________________________________________________________________________________________\n",
      "add_25 (Add)                    (None, 1)            0           lambda_43[0][0]                  \n",
      "                                                                 lambda_44[0][0]                  \n",
      "__________________________________________________________________________________________________\n",
      "dense_13 (Dense)                (None, 1)            2           add_25[0][0]                     \n",
      "==================================================================================================\n",
      "Total params: 26\n",
      "Trainable params: 26\n",
      "Non-trainable params: 0\n",
      "__________________________________________________________________________________________________\n"
     ]
    }
   ],
   "source": [
    "#model.compile(loss=loss_function, optimizer=\"sgd\", metrics=[\"acc\"])\n",
    "model.compile(loss=bcs, optimizer=\"adam\", metrics=[\"acc\"])\n",
    "model.fit(tx, y, epochs=20, batch_size=10)\n",
    "model.summary()"
   ]
  },
  {
   "cell_type": "code",
   "execution_count": 141,
   "metadata": {},
   "outputs": [
    {
     "data": {
      "text/plain": [
       "100"
      ]
     },
     "execution_count": 141,
     "metadata": {},
     "output_type": "execute_result"
    }
   ],
   "source": [
    "pred = model.predict(tx)\n",
    "pr = [ [1] if i>=0.5 else [0] for i in pred]\n",
    "np.sum(pr==y)"
   ]
  },
  {
   "cell_type": "markdown",
   "metadata": {},
   "source": [
    "# NFM 在Frappe 上的测试"
   ]
  },
  {
   "cell_type": "code",
   "execution_count": 13,
   "metadata": {
    "collapsed": true
   },
   "outputs": [],
   "source": [
    "import numpy as np\n",
    "import os\n",
    "import matplotlib.pyplot as plt\n",
    "%matplotlib inline\n",
    "\n",
    "class LoadData(object):\n",
    "    # Three files are needed in the path\n",
    "    def __init__(self, path, dataset, loss_type):\n",
    "        self.path = path + dataset + \"/\"\n",
    "        self.trainfile = self.path + dataset +\".train.libfm\"\n",
    "        self.testfile = self.path + dataset + \".test.libfm\"\n",
    "        self.validationfile = self.path + dataset + \".validation.libfm\"\n",
    "        self.features_M = self.map_features( )\n",
    "        self.Train_data, self.Validation_data, self.Test_data = self.construct_data( loss_type )\n",
    "\n",
    "    def map_features(self): # map the feature entries in all files, kept in self.features dictionary\n",
    "        self.features = {}\n",
    "        self.read_features(self.trainfile)\n",
    "        self.read_features(self.testfile)\n",
    "        self.read_features(self.validationfile)\n",
    "        #print(\"features_M:\", len(self.features))\n",
    "        return  len(self.features)\n",
    "\n",
    "    def read_features(self, file): # read a feature file\n",
    "        f = open( file )\n",
    "        line = f.readline()\n",
    "        i = len(self.features)\n",
    "        while line:\n",
    "            items = line.strip().split(' ')\n",
    "            for item in items[1:]:\n",
    "                if item not in self.features:\n",
    "                    self.features[ item ] = i\n",
    "                    i = i + 1\n",
    "            line = f.readline()\n",
    "        f.close()\n",
    "\n",
    "    def construct_data(self, loss_type):\n",
    "        X_, Y_ , Y_for_logloss= self.read_data(self.trainfile)\n",
    "        if loss_type == 'log_loss':\n",
    "            Train_data = self.construct_dataset(X_, Y_for_logloss)\n",
    "        else:\n",
    "            Train_data = self.construct_dataset(X_, Y_)\n",
    "        print(\"# of training:\" , len(Y_))\n",
    "\n",
    "        X_, Y_ , Y_for_logloss= self.read_data(self.validationfile)\n",
    "        if loss_type == 'log_loss':\n",
    "            Validation_data = self.construct_dataset(X_, Y_for_logloss)\n",
    "        else:\n",
    "            Validation_data = self.construct_dataset(X_, Y_)\n",
    "        print(\"# of validation:\", len(Y_))\n",
    "\n",
    "        X_, Y_ , Y_for_logloss = self.read_data(self.testfile)\n",
    "        if loss_type == 'log_loss':\n",
    "            Test_data = self.construct_dataset(X_, Y_for_logloss)\n",
    "        else:\n",
    "            Test_data = self.construct_dataset(X_, Y_)\n",
    "        print(\"# of test:\", len(Y_))\n",
    "\n",
    "        return Train_data,  Validation_data,  Test_data\n",
    "\n",
    "    def read_data(self, file):\n",
    "        # read a data file. For a row, the first column goes into Y_;\n",
    "        # the other columns become a row in X_ and entries are maped to indexs in self.features\n",
    "        f = open( file )\n",
    "        X_ = []\n",
    "        Y_ = []\n",
    "        Y_for_logloss = []\n",
    "        line = f.readline()\n",
    "        while line:\n",
    "            items = line.strip().split(' ')\n",
    "            Y_.append( 1.0*float(items[0]) )\n",
    "\n",
    "            if float(items[0]) > 0:# > 0 as 1; others as 0\n",
    "                v = 1.0\n",
    "            else:\n",
    "                v = 0.0\n",
    "            Y_for_logloss.append( v )\n",
    "\n",
    "            X_.append( [ self.features[item] for item in items[1:]] )\n",
    "            line = f.readline()\n",
    "        f.close()\n",
    "        return X_, Y_, Y_for_logloss\n",
    "\n",
    "    def construct_dataset(self, X_, Y_):\n",
    "        Data_Dic = {}\n",
    "        X_lens = [ len(line) for line in X_]\n",
    "        indexs = np.argsort(X_lens)\n",
    "        Data_Dic['Y'] = [ Y_[i] for i in indexs]\n",
    "        Data_Dic['X'] = [ X_[i] for i in indexs]\n",
    "        return Data_Dic\n",
    "    \n",
    "    def truncate_features(self):\n",
    "        \"\"\"\n",
    "        Make sure each feature vector is of the same length\n",
    "        \"\"\"\n",
    "        num_variable = len(self.Train_data['X'][0])\n",
    "        for i in xrange(len(self.Train_data['X'])):\n",
    "            num_variable = min([num_variable, len(self.Train_data['X'][i])])\n",
    "        # truncate train, validation and test\n",
    "        for i in xrange(len(self.Train_data['X'])):\n",
    "            self.Train_data['X'][i] = self.Train_data['X'][i][0:num_variable]\n",
    "        for i in xrange(len(self.Validation_data['X'])):\n",
    "            self.Validation_data['X'][i] = self.Validation_data['X'][i][0:num_variable]\n",
    "        for i in xrange(len(self.Test_data['X'])):\n",
    "            self.Test_data['X'][i] = self.Test_data['X'][i][0:num_variable]\n",
    "        return num_variable"
   ]
  },
  {
   "cell_type": "code",
   "execution_count": 14,
   "metadata": {},
   "outputs": [
    {
     "name": "stdout",
     "output_type": "stream",
     "text": [
      "# of training: 202027\n",
      "# of validation: 57722\n",
      "# of test: 28860\n"
     ]
    }
   ],
   "source": [
    "paths = \"/Users/luokui/Documents/FM/neural_factorization_machine-master/data/\"\n",
    "data = LoadData(paths, \"frappe\", loss_type=\"log_loss\")\n",
    "train_data = data.Train_data\n",
    "v_data = data.Validation_data\n",
    "test_data = data.Test_data"
   ]
  },
  {
   "cell_type": "code",
   "execution_count": 43,
   "metadata": {
    "collapsed": true
   },
   "outputs": [],
   "source": [
    "n_feature = 10\n",
    "out_feature = 64\n",
    "vocab = data.features_M\n",
    "wx_feature = 1\n",
    "epoch = 10\n",
    "batch_size = 128\n",
    "\n",
    "inputs = Input(shape=(n_feature,))\n",
    "embed_1 = Embedding(input_dim=vocab, output_dim=out_feature, input_length=n_feature)(inputs)\n",
    "embed_2 = Embedding(input_dim=vocab, output_dim=wx_feature, input_length=n_feature)(inputs)"
   ]
  },
  {
   "cell_type": "code",
   "execution_count": 59,
   "metadata": {
    "scrolled": true
   },
   "outputs": [
    {
     "name": "stdout",
     "output_type": "stream",
     "text": [
      "__________________________________________________________________________________________________\n",
      "Layer (type)                    Output Shape         Param #     Connected to                     \n",
      "==================================================================================================\n",
      "input_1 (InputLayer)            (None, 10)           0                                            \n",
      "__________________________________________________________________________________________________\n",
      "embedding_1 (Embedding)         (None, 10, 64)       344448      input_1[0][0]                    \n",
      "__________________________________________________________________________________________________\n",
      "embedding_2 (Embedding)         (None, 10, 1)        5382        input_1[0][0]                    \n",
      "__________________________________________________________________________________________________\n",
      "lambda_21 (Lambda)              (None, 1)            0           embedding_1[0][0]                \n",
      "__________________________________________________________________________________________________\n",
      "lambda_22 (Lambda)              (None, 1)            0           embedding_2[0][0]                \n",
      "__________________________________________________________________________________________________\n",
      "add_11 (Add)                    (None, 1)            0           lambda_21[0][0]                  \n",
      "                                                                 lambda_22[0][0]                  \n",
      "__________________________________________________________________________________________________\n",
      "features (Dense)                (None, 1)            2           add_11[0][0]                     \n",
      "==================================================================================================\n",
      "Total params: 349,832\n",
      "Trainable params: 349,832\n",
      "Non-trainable params: 0\n",
      "__________________________________________________________________________________________________\n"
     ]
    }
   ],
   "source": [
    "# 含DNN版\n",
    "from keras.layers import Lambda\n",
    "def get_intsect_dnn(x):\n",
    "    inter1 = K.pow(K.sum(x, axis=1), 2)\n",
    "    inter2 = K.sum(K.pow(x, 2), axis=1)\n",
    "    inters = 0.5 * (inter1 - inter2)\n",
    "    #bilinear = K.sum(inters, axis=-1, keepdims=True)\n",
    "    # 这种地方需要特别注意\n",
    "    bi = Dropout(0.2)(inters)\n",
    "    bi_1 = Dense(64, activation=\"tanh\")(bi)\n",
    "    bi_2 = Dropout(0.2)(bi_1)\n",
    "    bi_3 = Dense(64, activation=\"tanh\")(bi_2)\n",
    "    bi_4 = Dropout(0.2)(bi_3)\n",
    "    bilinear = K.sum(bi_4, axis=-1, keepdims=True)\n",
    "    # 加入dropout.\n",
    "    return bilinear\n",
    "\n",
    "def get_wx(x, keepdims=False):\n",
    "    wx = K.sum(x, axis=1, keepdims=keepdims)\n",
    "    return wx\n",
    "\n",
    "# 自定义损失函数的\n",
    "def loss_function(y, y_pred):\n",
    "    error = y * y_pred\n",
    "    resu = 1 / (1 + K.exp(-error))\n",
    "    return K.mean(resu, axis=-1)\n",
    "\n",
    "def bcs(y_true, y_pred):\n",
    "    return K.mean(K.binary_crossentropy(y_true, y_pred), axis=-1)\n",
    "\n",
    "\n",
    "bis = Lambda(get_intsect_dnn)(embed_1)\n",
    "\n",
    "\"\"\"\n",
    "print(bis.shape)\n",
    "bis_1 = Dense(128, activation=\"relu\")(bis)\n",
    "print(bis_1.shape)\n",
    "bis_2 = Dropout(0.2)(bis_1)\n",
    "print(bis_2)\n",
    "bis_3 = get_wx(bis_2, keepdims=True)\n",
    "print(bis_3.shape)\n",
    "\"\"\"\n",
    "\n",
    "wxs = Lambda(get_wx)(embed_2)\n",
    "bis_w = keras.layers.Add()([bis, wxs])\n",
    "output =Dense(1, activation=\"sigmoid\", name=\"features\")(bis_w)\n",
    "model_new = Model(inputs, output)\n",
    "\n",
    "model.summary()\n",
    "# model.add_loss(regularizers.l1_l2()(0.01))\n",
    "\n",
    "model.compile(loss=\"binary_crossentropy\", optimizer=\"adam\", metrics=[\"acc\"])"
   ]
  },
  {
   "cell_type": "code",
   "execution_count": 16,
   "metadata": {
    "collapsed": true
   },
   "outputs": [],
   "source": [
    "# 不含DNN版\n",
    "from keras.layers import Lambda\n",
    "def get_intsect(x):\n",
    "    inter1 = K.pow(K.sum(x, axis=1), 2)\n",
    "    inter2 = K.sum(K.pow(x, 2), axis=1)\n",
    "    inters = 0.5 * (inter1 - inter2)\n",
    "    bilinear = K.sum(inters, axis=-1, keepdims=True)\n",
    "    # 这种地方需要特别注意\n",
    "    bilinears = Dropout(0.2)(bilinear)\n",
    "    # 加入dropout.\n",
    "    return bilinears\n",
    "\n",
    "def get_wx(x):\n",
    "    wx = K.sum(x, axis=1)\n",
    "    return wx\n",
    "\n",
    "# 自定义损失函数的\n",
    "def loss_function(y, y_pred):\n",
    "    error = y * y_pred\n",
    "    resu = 1 / (1 + K.exp(-error))\n",
    "    return K.mean(resu, axis=-1)\n",
    "\n",
    "def bcs(y_true, y_pred):\n",
    "    return K.mean(K.binary_crossentropy(y_true, y_pred), axis=-1)\n",
    "\n",
    "#init_bias = K.constant(value=0.01)\n",
    "bis = Lambda(get_intsect)(embed_1)\n",
    "wxs = Lambda(get_wx)(embed_2)\n",
    "bis_w = keras.layers.Add()([bis, wxs])\n",
    "output =Dense(1, activation=\"sigmoid\", name=\"features\")(bis_w)\n",
    "model = Model(inputs, output)\n",
    "\n",
    "# model.add_loss(regularizers.l1_l2()(0.01))\n",
    "\n",
    "model.compile(loss=\"binary_crossentropy\", optimizer=\"adam\", metrics=[\"acc\"])"
   ]
  },
  {
   "cell_type": "code",
   "execution_count": 60,
   "metadata": {
    "collapsed": true
   },
   "outputs": [],
   "source": [
    "from keras.callbacks import ModelCheckpoint, EarlyStopping, RemoteMonitor, TensorBoard, CSVLogger\n",
    "\n",
    "savebestmodel = 'keras_NFM.h5'\n",
    "checkpoint = ModelCheckpoint(savebestmodel, monitor='val_acc', verbose=1, save_best_only=True, mode='max')\n",
    "\n",
    "log_dir = \"./logs\"\n",
    "if not os.path.exists(log_dir):\n",
    "    os.makedirs(log_dir)\n",
    "    \n",
    "# with open(os.path.join(log_dir, \"metadata.tsv\"), \"w\") as f:\n",
    " #   np.savetxt(f, np.array(v_data['Y']))\n",
    "\n",
    "early_stop = keras.callbacks.EarlyStopping(monitor='val_loss', min_delta=0.01, patience=0, verbose=0,\n",
    "                                           mode='auto', baseline=None)\n",
    "# RM = keras.callbacks.RemoteMonitor(root='http://localhost:9000', path='./', field='data', headers=None, send_as_json=False)\n",
    "#tf_board = keras.callbacks.TensorBoard(log_dir='./logs',embeddings_layer_names=[\"features\"], embeddings_metadata=\"metadata.tsv\",embeddings_data=np.array(v_data['X']), embeddings_freq = 1, batch_size=batch_size)\n",
    "tf_board = TensorBoard(log_dir='./logs')\n",
    "csv_log = keras.callbacks.CSVLogger(\"./csvlog.csv\", separator=',', append=True)\n",
    "callbacks=[checkpoint, csv_log, early_stop, tf_board] "
   ]
  },
  {
   "cell_type": "code",
   "execution_count": 54,
   "metadata": {},
   "outputs": [
    {
     "name": "stdout",
     "output_type": "stream",
     "text": [
      "28860/28860 [==============================] - 0s 17us/step\n",
      "0.24778012931966484 0.9573111573194185\n"
     ]
    }
   ],
   "source": [
    "# from keras.models import  load_model\n",
    "new_model = load_model(\"keras_fm.h5\")\n",
    "score, acc = new_model.evaluate(np.array(test_data['X']), np.array(test_data['Y']), batch_size=batch_size)\n",
    "print(score, acc)\n",
    "# 0.2862670608861365 0.957726957735219\n",
    "# 0.24778012931966484 0.9573111573194185"
   ]
  },
  {
   "cell_type": "code",
   "execution_count": 62,
   "metadata": {},
   "outputs": [
    {
     "name": "stdout",
     "output_type": "stream",
     "text": [
      "28860/28860 [==============================] - 0s 13us/step\n"
     ]
    },
    {
     "data": {
      "text/plain": [
       "[0.31551130658127907, 0.9556826056908669]"
      ]
     },
     "execution_count": 62,
     "metadata": {},
     "output_type": "execute_result"
    }
   ],
   "source": [
    "# new_model.add_loss(regularizers.l1_l2()(0.01))\n",
    "model.evaluate(np.array(test_data['X']), np.array(test_data['Y']), batch_size=batch_size)"
   ]
  },
  {
   "cell_type": "code",
   "execution_count": 61,
   "metadata": {
    "scrolled": true
   },
   "outputs": [
    {
     "name": "stdout",
     "output_type": "stream",
     "text": [
      "Train on 202027 samples, validate on 57722 samples\n",
      "Epoch 1/10\n",
      "202027/202027 [==============================] - 10s 48us/step - loss: 0.0530 - acc: 0.9783 - val_loss: 0.2871 - val_acc: 0.9577\n",
      "\n",
      "Epoch 00001: val_acc improved from -inf to 0.95773, saving model to keras_NFM.h5\n",
      "Epoch 2/10\n",
      "202027/202027 [==============================] - 9s 46us/step - loss: 0.0522 - acc: 0.9787 - val_loss: 0.2880 - val_acc: 0.9581\n",
      "\n",
      "Epoch 00002: val_acc improved from 0.95773 to 0.95807, saving model to keras_NFM.h5\n"
     ]
    },
    {
     "data": {
      "image/png": "[encoded data removed]",
      "text/plain": [
       "<matplotlib.figure.Figure at 0x13be25ef0>"
      ]
     },
     "metadata": {},
     "output_type": "display_data"
    },
    {
     "name": "stdout",
     "output_type": "stream",
     "text": [
      "28860/28860 [==============================] - 0s 10us/step\n",
      "0.3023650134696121 0.9571032571115183\n",
      "Train on 202027 samples, validate on 57722 samples\n",
      "Epoch 1/10\n",
      "202027/202027 [==============================] - 9s 46us/step - loss: 0.0530 - acc: 0.9782 - val_loss: 0.2915 - val_acc: 0.9575\n",
      "\n",
      "Epoch 00001: val_acc did not improve from 0.95807\n",
      "Epoch 2/10\n",
      "202027/202027 [==============================] - 9s 46us/step - loss: 0.0528 - acc: 0.9786 - val_loss: 0.2960 - val_acc: 0.9577\n",
      "\n",
      "Epoch 00002: val_acc did not improve from 0.95807\n"
     ]
    },
    {
     "data": {
      "image/png": "[encoded data removed]",
      "text/plain": [
       "<matplotlib.figure.Figure at 0x13bd2bf28>"
      ]
     },
     "metadata": {},
     "output_type": "display_data"
    },
    {
     "name": "stdout",
     "output_type": "stream",
     "text": [
      "28860/28860 [==============================] - 0s 9us/step\n",
      "0.31048814622338083 0.9569993070075682\n",
      "Train on 202027 samples, validate on 57722 samples\n",
      "Epoch 1/10\n",
      "202027/202027 [==============================] - 11s 53us/step - loss: 0.0530 - acc: 0.9785 - val_loss: 0.2906 - val_acc: 0.9577\n",
      "\n",
      "Epoch 00001: val_acc did not improve from 0.95807\n",
      "Epoch 2/10\n",
      "202027/202027 [==============================] - 10s 50us/step - loss: 0.0530 - acc: 0.9783 - val_loss: 0.2907 - val_acc: 0.9578\n",
      "\n",
      "Epoch 00002: val_acc did not improve from 0.95807\n"
     ]
    },
    {
     "data": {
      "image/png": "[encoded data removed]",
      "text/plain": [
       "<matplotlib.figure.Figure at 0x13771d978>"
      ]
     },
     "metadata": {},
     "output_type": "display_data"
    },
    {
     "name": "stdout",
     "output_type": "stream",
     "text": [
      "28860/28860 [==============================] - 0s 10us/step\n",
      "0.30512096490285007 0.9566528066610679\n",
      "Train on 202027 samples, validate on 57722 samples\n",
      "Epoch 1/10\n",
      "202027/202027 [==============================] - 11s 54us/step - loss: 0.0531 - acc: 0.9783 - val_loss: 0.2970 - val_acc: 0.9575\n",
      "\n",
      "Epoch 00001: val_acc did not improve from 0.95807\n",
      "Epoch 2/10\n",
      "202027/202027 [==============================] - 9s 46us/step - loss: 0.0520 - acc: 0.9786 - val_loss: 0.2980 - val_acc: 0.9575\n",
      "\n",
      "Epoch 00002: val_acc did not improve from 0.95807\n"
     ]
    },
    {
     "data": {
      "image/png": "[encoded data removed]",
      "text/plain": [
       "<matplotlib.figure.Figure at 0x13be32a20>"
      ]
     },
     "metadata": {},
     "output_type": "display_data"
    },
    {
     "name": "stdout",
     "output_type": "stream",
     "text": [
      "28860/28860 [==============================] - 0s 10us/step\n",
      "0.31194260413148545 0.9571032571115183\n",
      "Train on 202027 samples, validate on 57722 samples\n",
      "Epoch 1/10\n",
      "202027/202027 [==============================] - 9s 46us/step - loss: 0.0534 - acc: 0.9784 - val_loss: 0.2950 - val_acc: 0.9575\n",
      "\n",
      "Epoch 00001: val_acc did not improve from 0.95807\n",
      "Epoch 2/10\n",
      "202027/202027 [==============================] - 9s 46us/step - loss: 0.0530 - acc: 0.9784 - val_loss: 0.2963 - val_acc: 0.9576\n",
      "\n",
      "Epoch 00002: val_acc did not improve from 0.95807\n"
     ]
    },
    {
     "data": {
      "image/png": "[encoded data removed]",
      "text/plain": [
       "<matplotlib.figure.Figure at 0x13226f748>"
      ]
     },
     "metadata": {},
     "output_type": "display_data"
    },
    {
     "name": "stdout",
     "output_type": "stream",
     "text": [
      "28860/28860 [==============================] - 0s 10us/step\n",
      "0.310016911488726 0.9566528066610679\n",
      "Train on 202027 samples, validate on 57722 samples\n",
      "Epoch 1/10\n",
      "202027/202027 [==============================] - 9s 45us/step - loss: 0.0541 - acc: 0.9781 - val_loss: 0.2976 - val_acc: 0.9571\n",
      "\n",
      "Epoch 00001: val_acc did not improve from 0.95807\n",
      "Epoch 2/10\n",
      "202027/202027 [==============================] - 10s 49us/step - loss: 0.0539 - acc: 0.9780 - val_loss: 0.2989 - val_acc: 0.9568\n",
      "\n",
      "Epoch 00002: val_acc did not improve from 0.95807\n"
     ]
    },
    {
     "data": {
      "image/png": "[encoded data removed]",
      "text/plain": [
       "<matplotlib.figure.Figure at 0x13bbbed68>"
      ]
     },
     "metadata": {},
     "output_type": "display_data"
    },
    {
     "name": "stdout",
     "output_type": "stream",
     "text": [
      "28860/28860 [==============================] - 0s 10us/step\n",
      "0.31230550165277177 0.9564449064531677\n",
      "Train on 202027 samples, validate on 57722 samples\n",
      "Epoch 1/10\n",
      "202027/202027 [==============================] - 10s 47us/step - loss: 0.0528 - acc: 0.9784 - val_loss: 0.3025 - val_acc: 0.9573\n",
      "\n",
      "Epoch 00001: val_acc did not improve from 0.95807\n",
      "Epoch 2/10\n",
      "202027/202027 [==============================] - 9s 46us/step - loss: 0.0534 - acc: 0.9780 - val_loss: 0.2986 - val_acc: 0.9574\n",
      "\n",
      "Epoch 00002: val_acc did not improve from 0.95807\n"
     ]
    },
    {
     "data": {
      "image/png": "[encoded data removed]",
      "text/plain": [
       "<matplotlib.figure.Figure at 0x13c608048>"
      ]
     },
     "metadata": {},
     "output_type": "display_data"
    },
    {
     "name": "stdout",
     "output_type": "stream",
     "text": [
      "28860/28860 [==============================] - 0s 10us/step\n",
      "0.312229522176691 0.9568607068689681\n",
      "Train on 202027 samples, validate on 57722 samples\n",
      "Epoch 1/10\n",
      "202027/202027 [==============================] - 11s 54us/step - loss: 0.0533 - acc: 0.9786 - val_loss: 0.3017 - val_acc: 0.9569\n",
      "\n",
      "Epoch 00001: val_acc did not improve from 0.95807\n",
      "Epoch 2/10\n",
      "202027/202027 [==============================] - 11s 53us/step - loss: 0.0530 - acc: 0.9781 - val_loss: 0.3003 - val_acc: 0.9573\n",
      "\n",
      "Epoch 00002: val_acc did not improve from 0.95807\n"
     ]
    },
    {
     "data": {
      "image/png": "[encoded data removed]",
      "text/plain": [
       "<matplotlib.figure.Figure at 0x134e308d0>"
      ]
     },
     "metadata": {},
     "output_type": "display_data"
    },
    {
     "name": "stdout",
     "output_type": "stream",
     "text": [
      "28860/28860 [==============================] - 0s 10us/step\n",
      "0.3134350965544323 0.9564449064531677\n",
      "Train on 202027 samples, validate on 57722 samples\n",
      "Epoch 1/10\n",
      "202027/202027 [==============================] - 11s 53us/step - loss: 0.0536 - acc: 0.9781 - val_loss: 0.3021 - val_acc: 0.9569\n",
      "\n",
      "Epoch 00001: val_acc did not improve from 0.95807\n",
      "Epoch 2/10\n",
      "202027/202027 [==============================] - 10s 48us/step - loss: 0.0532 - acc: 0.9784 - val_loss: 0.2982 - val_acc: 0.9573\n",
      "\n",
      "Epoch 00002: val_acc did not improve from 0.95807\n"
     ]
    },
    {
     "data": {
      "image/png": "[encoded data removed]",
      "text/plain": [
       "<matplotlib.figure.Figure at 0x1356104a8>"
      ]
     },
     "metadata": {},
     "output_type": "display_data"
    },
    {
     "name": "stdout",
     "output_type": "stream",
     "text": [
      "28860/28860 [==============================] - 0s 11us/step\n",
      "0.3115142897215471 0.9566874567287628\n",
      "Train on 202027 samples, validate on 57722 samples\n",
      "Epoch 1/10\n",
      "202027/202027 [==============================] - 10s 51us/step - loss: 0.0541 - acc: 0.9776 - val_loss: 0.3024 - val_acc: 0.9572\n",
      "\n",
      "Epoch 00001: val_acc did not improve from 0.95807\n",
      "Epoch 2/10\n",
      "202027/202027 [==============================] - 10s 50us/step - loss: 0.0529 - acc: 0.9789 - val_loss: 0.3021 - val_acc: 0.9568\n",
      "\n",
      "Epoch 00002: val_acc did not improve from 0.95807\n"
     ]
    },
    {
     "data": {
      "image/png": "[encoded data removed]",
      "text/plain": [
       "<matplotlib.figure.Figure at 0x135a1c3c8>"
      ]
     },
     "metadata": {},
     "output_type": "display_data"
    },
    {
     "name": "stdout",
     "output_type": "stream",
     "text": [
      "28860/28860 [==============================] - 0s 12us/step\n",
      "0.31551130658127907 0.9556826056908669\n"
     ]
    }
   ],
   "source": [
    "for i in range(10):\n",
    "    history = model.fit(np.array(train_data['X']), np.array(train_data['Y']),\n",
    "                        epochs=epoch, batch_size=batch_size, verbose=1, callbacks=callbacks,\n",
    "                        validation_data=(np.array(v_data['X']), np.array(v_data['Y'])))\n",
    "    plt.plot(history.history[\"acc\"])\n",
    "    plt.plot(history.history[\"val_acc\"])\n",
    "    plt.title(\"Accuracy\")\n",
    "    plt.xlabel(\"Epoch\")\n",
    "    plt.ylabel(\"Accuracy\")\n",
    "    plt.legend([\"train\", \"test\"],loc=\"upper left\")\n",
    "    plt.show()\n",
    "    score, acc = model.evaluate(np.array(test_data['X']), np.array(test_data['Y']), batch_size=batch_size)\n",
    "    print(score, acc)"
   ]
  },
  {
   "cell_type": "markdown",
   "metadata": {
    "collapsed": true
   },
   "source": [
    "# Testfor regularizer"
   ]
  },
  {
   "cell_type": "code",
   "execution_count": 3,
   "metadata": {
    "collapsed": true
   },
   "outputs": [],
   "source": [
    "import pytest\n",
    "\n",
    "from keras.models import Sequential, Model\n",
    "from keras.layers import Dense, Input, Average\n",
    "from keras.utils import np_utils\n",
    "from keras.utils import test_utils\n",
    "from keras import regularizers\n",
    "from keras import backend as K\n",
    "\n",
    "data_dim = 5\n",
    "num_classes = 2\n",
    "batch_size = 10\n",
    "\n",
    "\n",
    "def get_data():\n",
    "    (x_train, y_train), _ = test_utils.get_test_data(\n",
    "        num_train=batch_size,\n",
    "        num_test=batch_size,\n",
    "        input_shape=(data_dim,),\n",
    "        classification=True,\n",
    "        num_classes=num_classes)\n",
    "    y_train = np_utils.to_categorical(y_train, num_classes)\n",
    "\n",
    "    return x_train, y_train\n",
    "\n",
    "\n",
    "def create_model(kernel_regularizer=None, activity_regularizer=None):\n",
    "    model = Sequential()\n",
    "    model.add(Dense(num_classes,\n",
    "                    kernel_regularizer=kernel_regularizer,\n",
    "                    activity_regularizer=activity_regularizer,\n",
    "                    input_shape=(data_dim,)))\n",
    "    return model\n",
    "\n",
    "\n",
    "def create_multi_input_model_from(layer1, layer2):\n",
    "    input_1 = Input(shape=(data_dim,))\n",
    "    input_2 = Input(shape=(data_dim,))\n",
    "    out1 = layer1(input_1)\n",
    "    out2 = layer2(input_2)\n",
    "    out = Average()([out1, out2])\n",
    "    model = Model([input_1, input_2], out)\n",
    "    model.add_loss(K.mean(out2))\n",
    "    model.add_loss(1)\n",
    "    model.add_loss(1)\n",
    "    return model"
   ]
  },
  {
   "cell_type": "code",
   "execution_count": 9,
   "metadata": {},
   "outputs": [
    {
     "name": "stdout",
     "output_type": "stream",
     "text": [
      "3.8568652\n",
      "3.912843\n",
      "7.20137\n"
     ]
    }
   ],
   "source": [
    "def test_kernel_regularization():\n",
    "    x_train, y_train = get_data()\n",
    "    for reg in [regularizers.l1(),\n",
    "                regularizers.l2(),\n",
    "                regularizers.l1_l2()]:\n",
    "        model = create_model(kernel_regularizer=reg)\n",
    "        model.compile(loss='categorical_crossentropy', optimizer='sgd')\n",
    "        assert len(model.losses) == 1\n",
    "        print(model.train_on_batch(x_train, y_train))\n",
    "        \n",
    "test_kernel_regularization()"
   ]
  },
  {
   "cell_type": "code",
   "execution_count": 7,
   "metadata": {
    "collapsed": true
   },
   "outputs": [],
   "source": [
    "def test_activity_regularization():\n",
    "    x_train, y_train = get_data()\n",
    "    for reg in [regularizers.l1(), regularizers.l2()]:\n",
    "        model = create_model(activity_regularizer=reg)\n",
    "        model.compile(loss='categorical_crossentropy', optimizer='sgd')\n",
    "        assert len(model.losses) == 1\n",
    "        model.train_on_batch(x_train, y_train)\n",
    "\n",
    "\n",
    "def test_regularization_shared_layer():\n",
    "    dense_layer = Dense(num_classes,\n",
    "                        kernel_regularizer=regularizers.l1(),\n",
    "                        activity_regularizer=regularizers.l1())\n",
    "\n",
    "    model = create_multi_input_model_from(dense_layer, dense_layer)\n",
    "    model.compile(loss='categorical_crossentropy', optimizer='sgd')\n",
    "    assert len(model.losses) == 6\n",
    "\n",
    "\n",
    "def test_regularization_shared_model():\n",
    "    dense_layer = Dense(num_classes,\n",
    "                        kernel_regularizer=regularizers.l1(),\n",
    "                        activity_regularizer=regularizers.l1())\n",
    "\n",
    "    input_tensor = Input(shape=(data_dim,))\n",
    "    dummy_model = Model(input_tensor, dense_layer(input_tensor))\n",
    "\n",
    "    model = create_multi_input_model_from(dummy_model, dummy_model)\n",
    "    model.compile(loss='categorical_crossentropy', optimizer='sgd')\n",
    "    assert len(model.losses) == 6\n",
    "\n",
    "\n",
    "def test_regularization_shared_layer_in_different_models():\n",
    "    shared_dense = Dense(num_classes,\n",
    "                         kernel_regularizer=regularizers.l1(),\n",
    "                         activity_regularizer=regularizers.l1())\n",
    "    models = []\n",
    "    for _ in range(2):\n",
    "        input_tensor = Input(shape=(data_dim,))\n",
    "        unshared_dense = Dense(num_classes, kernel_regularizer=regularizers.l1())\n",
    "        out = unshared_dense(shared_dense(input_tensor))\n",
    "        models.append(Model(input_tensor, out))\n",
    "\n",
    "    model = create_multi_input_model_from(*models)\n",
    "    model.compile(loss='categorical_crossentropy', optimizer='sgd')\n",
    "    assert len(model.losses) == 8"
   ]
  },
  {
   "cell_type": "code",
   "execution_count": null,
   "metadata": {
    "collapsed": true
   },
   "outputs": [],
   "source": []
  },
  {
   "cell_type": "code",
   "execution_count": null,
   "metadata": {
    "collapsed": true
   },
   "outputs": [],
   "source": []
  }
 ],
 "metadata": {
  "kernelspec": {
   "display_name": "Python 3",
   "language": "python",
   "name": "python3"
  },
  "language_info": {
   "codemirror_mode": {
    "name": "ipython",
    "version": 3
   },
   "file_extension": ".py",
   "mimetype": "text/x-python",
   "name": "python",
   "nbconvert_exporter": "python",
   "pygments_lexer": "ipython3",
   "version": "3.6.2"
  }
 },
 "nbformat": 4,
 "nbformat_minor": 2
}
