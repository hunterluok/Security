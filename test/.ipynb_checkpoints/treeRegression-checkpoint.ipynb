{
 "cells": [
  {
   "cell_type": "code",
   "execution_count": 1,
   "metadata": {},
   "outputs": [
    {
     "data": {
      "text/plain": [
       "array([[ 0.5488135 ,  0.71518937,  0.60276338,  0.54488318,  0.4236548 ,\n",
       "         0.64589411,  0.43758721,  0.891773  ,  0.96366276,  0.38344152,\n",
       "        18.40631483],\n",
       "       [ 0.79172504,  0.52889492,  0.56804456,  0.92559664,  0.07103606,\n",
       "         0.0871293 ,  0.0202184 ,  0.83261985,  0.77815675,  0.87001215,\n",
       "        19.60677754]])"
      ]
     },
     "execution_count": 1,
     "metadata": {},
     "output_type": "execute_result"
    }
   ],
   "source": [
    "import numpy as np\n",
    "from sklearn.metrics import mean_squared_error\n",
    "from sklearn.datasets import make_friedman1\n",
    "from sklearn.ensemble import GradientBoostingRegressor\n",
    "\n",
    "X, y = make_friedman1(n_samples=1200, random_state=0, noise=1.0)\n",
    "x_train, x_test = X[:200], X[200:300]\n",
    "y_train, y_test = y[:200], y[200:300]\n",
    "\n",
    "y_train = y_train.reshape((200, 1))\n",
    "data = np.concatenate([x_train, y_train], axis=1)\n",
    "\n",
    "y_test = y_test.reshape((x_test.shape[0], 1))\n",
    "testdata = np.concatenate([x_test, y_test], axis=1)\n",
    "data[:2]"
   ]
  },
  {
   "cell_type": "code",
   "execution_count": 115,
   "metadata": {},
   "outputs": [],
   "source": [
    "class treeNode:\n",
    "    def __init__(self, label_class=None, feature=None, value=None, right_tree=None, left_tree=None):\n",
    "        self.feature = feature\n",
    "        self.value = value\n",
    "        self.right_tree = right_tree\n",
    "        self.left_tree = left_tree\n",
    "        self.label_class = label_class\n",
    "        \n",
    "    def __name__(self):\n",
    "        return \"treenode\"\n",
    "    \n",
    "    \n",
    "class Tree:\n",
    "    def __init__(self, min_leafs=5, max_depth=10):\n",
    "        self.min_leafs = min_leafs\n",
    "        self.max_depth = max_depth\n",
    "        \n",
    "    def binsplitdata(self, data, feature, value):\n",
    "        mat0 = data[data[:, feature] > value, : ]\n",
    "        mat1 = data[data[:, feature] <= value, : ]\n",
    "        return mat0, mat1\n",
    "    \n",
    "    # 利用字典的方式创建一棵树。\n",
    "    \"\"\"\n",
    "    def createTree_old(self, data, leafType=regleaf, errType=regerr, ops=(1,4)):\n",
    "        # 这里阐释了如何 利用递归的思想去 建立决策树\n",
    "        feat, val = self.choosebestsplit(data, leafType, errType, ops)\n",
    "        # 如果没有可以再次切分的  feature 就返回val\n",
    "        if feat == None:\n",
    "            return val\n",
    "        # 这里注意创建了一个新的 字典？\n",
    "        retTree = {}\n",
    "        retTree['spInd'] = feat\n",
    "        retTree['spVal'] = val\n",
    "        lSet,rSet = self.binsplitdata(data,feat,val)\n",
    "        retTree['left'] = self.createTree_old(lSet,leafType,errType, ops)\n",
    "        retTree['right'] = self.createTree_old(rSet,leafType,errType, ops)\n",
    "        return retTree\n",
    "    \"\"\"\n",
    "    \n",
    "    @classmethod\n",
    "    def get_deep(cls, model):\n",
    "        max_deep = 0\n",
    "        if model.right_tree is not None:\n",
    "            temp_deep = 1 + cls.get_deep(model.right_tree)\n",
    "            if temp_deep > max_deep:\n",
    "                max_deep = temp_deep\n",
    "        if model.left_tree is not None:\n",
    "            temp_deep = 1 + cls.get_deep(model.left_tree)\n",
    "            if temp_deep > max_deep:\n",
    "                max_deep = temp_deep\n",
    "        return max_deep\n",
    "\n",
    "    @classmethod\n",
    "    def print_leafs(cls, model):\n",
    "        if model.left_tree is not None:\n",
    "            cls.print_leafs(model.left_tree)\n",
    "        if model.label_class is not None:\n",
    "            print(\"leaf value is {}\".format(model.label_class))\n",
    "        if model.right_tree is not None:\n",
    "            cls.print_leafs(model.right_tree)\n",
    "            \n",
    "    @classmethod\n",
    "    def predict_line(cls, model, line):\n",
    "        if model.label_class is not None:\n",
    "            return model.label_class\n",
    "        split_feature = model.feature\n",
    "        split_value = model.value\n",
    "        if line[split_feature] > split_value:\n",
    "            return cls.predict_line(model.right_tree, line)\n",
    "        else:\n",
    "            return cls.predict_line(model.left_tree, line)\n",
    "        \n",
    "    @classmethod\n",
    "    def predict(cls, model, data):\n",
    "        myre = []\n",
    "        for line in data:\n",
    "            te = cls.predict_line(model, line)\n",
    "            myre.append(te)\n",
    "        myre = np.array(myre).reshape(len(data), 1)\n",
    "        return myre"
   ]
  },
  {
   "cell_type": "code",
   "execution_count": 116,
   "metadata": {},
   "outputs": [],
   "source": [
    "class cartreeregression(Tree):\n",
    "    def __init__(self, min_leafs=4):\n",
    "        super(cartreeregression, self).__init__()\n",
    "        self.min_leafs = min_leafs\n",
    "        \n",
    "    def regleaf(self, data):\n",
    "        return np.mean(data[:,-1])\n",
    "    \n",
    "    def regerr(self, data):\n",
    "        return np.var(data[:, -1]) \n",
    "    \n",
    "    def createTree(self, data):\n",
    "        retTree = treeNode()\n",
    "        # 可以添加其他条件,终止树 停止生长，分类和回归树有不同的搞法。\n",
    "        # 这里阐释了如何 利用递归的思想去 建立决策树\n",
    "        feat, val = self.choosebestsplit(data)\n",
    "        # 如果没有可以再次切分的  feature 就返回val\n",
    "        if feat is None:\n",
    "            retTree.label_class = self.regleaf(data)\n",
    "            return retTree\n",
    "        \n",
    "        retTree.feature = feat\n",
    "        retTree.value = val\n",
    "        lSet, rSet = self.binsplitdata(data, feat, val)\n",
    "        retTree.left_tree = self.createTree(lSet)\n",
    "        retTree.right_tree = self.createTree(rSet)\n",
    "        return retTree\n",
    "    \n",
    "    def choosebestsplit(self, data):\n",
    "        data = np.array(data)\n",
    "        m, n = data.shape\n",
    "    \n",
    "        # 计算初始的方差。\n",
    "        S = self.regerr(data)\n",
    "        best_s = np.inf\n",
    "        best_feat = None \n",
    "        best_val = None\n",
    "    \n",
    "        for i in range(n-1): # n-1 feature\n",
    "            for j in np.unique(data[:, i]):\n",
    "                mat0, mat1 = self.binsplitdata(data, i, j)\n",
    "                # 控制叶子的数量。不进行控制 进行充分的生长\n",
    "                if (np.shape(mat0)[0] < self.min_leafs) or (np.shape(mat1)[0] < self.min_leafs):\n",
    "                    continue\n",
    "                new_s = self.regerr(mat0) + self.regerr(mat1)\n",
    "                if new_s < best_s: \n",
    "                    best_feat = i\n",
    "                    best_val = j\n",
    "                    best_s = new_s\n",
    "                #if S - best_s < 0.01:这个地方需要再思考下\n",
    "                    #return best_feat, best_val\n",
    "        return best_feat, best_val"
   ]
  },
  {
   "cell_type": "code",
   "execution_count": 117,
   "metadata": {},
   "outputs": [],
   "source": [
    "def getMean(tree, i=0, flag=False):\n",
    "    \"\"\"\n",
    "    如果 树的两个分支都不是树的话，求均值就可以了。 value 为none时 label_class一定不为none, 否则已经结束\n",
    "    \"\"\"\n",
    "    if tree.right_tree.value is not None:\n",
    "        tree.right_tree.label_class = getMean(tree.right_tree, i=i+1)\n",
    "    if tree.left_tree.value is not None:\n",
    "        tree.left_tree.label_class = getMean(tree.left_tree, i=i+1)\n",
    "    means = (tree.right_tree.label_class + tree.left_tree.label_class) / 2.0\n",
    "    print(\"level is {} and value is {}\".format(i, means))\n",
    "    return means"
   ]
  },
  {
   "cell_type": "code",
   "execution_count": 118,
   "metadata": {},
   "outputs": [],
   "source": [
    "def binsplitdata(data, feature, value):\n",
    "    mat0 = data[data[:, feature] > value, : ]\n",
    "    mat1 = data[data[:, feature] <= value, : ]\n",
    "    return mat0, mat1"
   ]
  },
  {
   "cell_type": "code",
   "execution_count": 119,
   "metadata": {},
   "outputs": [],
   "source": [
    "def myprune(tree, testData, min_leafs=10, diff_err=10):\n",
    "    if np.shape(testData)[0] < min_leafs:\n",
    "        # 这里是有一定的合理性的\n",
    "        tree.label_class = getMean(tree)\n",
    "        tree.right_tree = None\n",
    "        tree.left_tree = None\n",
    "        tree.value = None\n",
    "        tree.feature = None\n",
    "        return tree\n",
    "    \n",
    "    if tree.feature is not None:\n",
    "        lSet, rSet = binsplitdata(testData, tree.feature, tree.value)\n",
    "        \n",
    "    if tree.left_tree.label_class is None and tree.left_tree.value is not None: # and lSet.shape[0] > min_leafs:\n",
    "        tree.left_tree = myprune(tree.left_tree, lSet)\n",
    "        \n",
    "    if tree.right_tree.label_class is None and tree.right_tree.value is not None:# and rSet.shape[0] > min_leafs:\n",
    "        tree.right_tree = myprune(tree.right_tree, rSet)\n",
    "        \n",
    "    #if tree.left_tree is not None and not tree.right_tree is not None and tree.left_tree.label_class is not None and tree.right_tree.label_class is not None:\n",
    "    if tree.left_tree.label_class is not None and tree.right_tree.label_class is not None:\n",
    "        lSet, rSet = binsplitdata(testData, tree.feature, tree.value)\n",
    "        errorNoMerge = sum(np.power(lSet[:,-1] - tree.left_tree.label_class,2)) + sum(np.power(rSet[:,-1] - tree.right_tree.label_class, 2.0))\n",
    "        \n",
    "        # 这里注意 有点意思\n",
    "        #treeMean = (tree['left'] + tree['right']) / 2.0\n",
    "        treeMean = (tree.left_tree.label_class + tree.right_tree.label_class) / 2.0\n",
    "        \n",
    "        # 合并之后的 的 方差\n",
    "        errorMerge = sum(np.power(testData[:,-1] - treeMean, 2))\n",
    "        m, n = testData.shape\n",
    "        print(\"errormerge {}, errornomerge {} m is {} ---\".format(errorMerge / m, errorNoMerge/m, m))\n",
    "        print((errorMerge - errorNoMerge) / m, \"means\")\n",
    "        if (errorMerge - errorNoMerge) / m < diff_err:\n",
    "        #if errorMerge < errorNoMerge:\n",
    "            print(\"merging\")\n",
    "            tree.label_class = treeMean\n",
    "            tree.right_tree = None\n",
    "            tree.left_tree = None\n",
    "            tree.value = None\n",
    "            tree.feature = None\n",
    "            return tree\n",
    "        else:\n",
    "            return tree\n",
    "    else:\n",
    "        return tree"
   ]
  },
  {
   "cell_type": "code",
   "execution_count": 120,
   "metadata": {
    "scrolled": true
   },
   "outputs": [
    {
     "name": "stdout",
     "output_type": "stream",
     "text": [
      "28\n",
      "level is 1 and value is 25.709386021612325\n",
      "level is 1 and value is 20.80591948217272\n",
      "level is 0 and value is 23.257652751892522\n",
      "level is 2 and value is 20.221109115918708\n",
      "level is 1 and value is 18.992399305288814\n",
      "level is 0 and value is 16.4784844509121\n",
      "errormerge 17.122145973675455, errornomerge 22.903938705279433 m is 12 ---\n",
      "-5.7817927316039786 means\n",
      "merging\n",
      "errormerge 29.989426201098308, errornomerge 17.122145973675455 m is 12 ---\n",
      "12.867280227422851 means\n",
      "level is 2 and value is 11.648435573537048\n",
      "level is 1 and value is 13.936585063628122\n",
      "level is 0 and value is 15.982687175850796\n",
      "level is 0 and value is 16.854483454725486\n",
      "level is 0 and value is 13.849750309495343\n",
      "errormerge 15.231256127905898, errornomerge 9.491255638130372 m is 10 ---\n",
      "5.7400004897755235 means\n",
      "merging\n",
      "errormerge 18.81743429892902, errornomerge 16.49288261068627 m is 12 ---\n",
      "2.3245516882427495 means\n",
      "merging\n",
      "errormerge 18.969043834889288, errornomerge 18.81743429892902 m is 12 ---\n",
      "0.15160953596026872 means\n",
      "merging\n",
      "errormerge 21.005042075088003, errornomerge 18.25826077181159 m is 13 ---\n",
      "2.746781303276416 means\n",
      "merging\n",
      "level is 4 and value is 5.416028860238969\n",
      "level is 3 and value is 6.9796492336779\n",
      "level is 2 and value is 8.241681076217795\n",
      "level is 1 and value is 9.751884847604655\n",
      "level is 0 and value is 10.114698649150572\n",
      "errormerge 19.118884722241525, errornomerge 15.745326988846644 m is 22 ---\n",
      "3.3735577333948807 means\n",
      "merging\n",
      "errormerge 22.648601279479347, errornomerge 18.35521964998196 m is 23 ---\n",
      "4.293381629497387 means\n",
      "merging\n",
      "errormerge 44.27292295456994, errornomerge 30.461478047380062 m is 28 ---\n",
      "13.811444907189882 means\n"
     ]
    }
   ],
   "source": [
    "mymodel = cartreeregression(min_leafs=3)\n",
    "result = mymodel.createTree(data)\n",
    "print(mymodel.get_deep(result))\n",
    "sx = myprune(result, testdata, min_leafs=50, diff_err=2)"
   ]
  },
  {
   "cell_type": "code",
   "execution_count": 121,
   "metadata": {},
   "outputs": [],
   "source": [
    "# sx = myprune(result, testdata, min_leafs=10, diff_err=10)\n",
    "# mymodel.get_deep(sx)"
   ]
  },
  {
   "cell_type": "code",
   "execution_count": 122,
   "metadata": {},
   "outputs": [],
   "source": [
    "import matplotlib.pyplot as plt\n",
    "%matplotlib inline"
   ]
  },
  {
   "cell_type": "code",
   "execution_count": 123,
   "metadata": {},
   "outputs": [
    {
     "data": {
      "text/plain": [
       "<matplotlib.collections.PathCollection at 0x1a1dacb240>"
      ]
     },
     "execution_count": 123,
     "metadata": {},
     "output_type": "execute_result"
    },
    {
     "data": {
      "image/png": "[encoded data removed]",
      "text/plain": [
       "<Figure size 432x288 with 1 Axes>"
      ]
     },
     "metadata": {
      "needs_background": "light"
     },
     "output_type": "display_data"
    }
   ],
   "source": [
    "plt.scatter(np.arange(len(data)), data[:, -1])\n",
    "plt.scatter(np.arange(len(data)), pred_test)"
   ]
  },
  {
   "cell_type": "code",
   "execution_count": 371,
   "metadata": {},
   "outputs": [],
   "source": [
    "def predict_line(model, line):\n",
    "    if model.label_class is not None:\n",
    "        return model.label_class, model\n",
    "    split_feature = model.feature\n",
    "    split_value = model.value\n",
    "    if line[split_feature] > split_value:\n",
    "         return predict_line(model.right_tree, line)\n",
    "    else:\n",
    "        return predict_line(model.left_tree, line)"
   ]
  },
  {
   "cell_type": "code",
   "execution_count": 372,
   "metadata": {},
   "outputs": [],
   "source": [
    "def get_gama(data=data, mytree=result):\n",
    "    last = {}\n",
    "    for index, line in enumerate(data):\n",
    "        x, y= line[:-1], line[-1]\n",
    "        temp_label, temp_node = predict_line(mytree, x)\n",
    "        last.setdefault(temp_node, {})\n",
    "        last[temp_node].setdefault(\"index\", []).append(index)\n",
    "        last[temp_node].setdefault(\"fz\", 0)\n",
    "        last[temp_node]['fz'] += y\n",
    "        last[temp_node].setdefault(\"fm\", 0)\n",
    "        last[temp_node]['fm'] += np.abs(y)*(2 - np.abs(y))\n",
    "    # 每个样本 对应的 gama值，每个node 下的样本的gama值一样， 用于train, ml=>gama_list\n",
    "    ml = {}\n",
    "    # 每个node 的gama值，用于预测时\n",
    "    new_last = {}\n",
    "    for key, value in last.items():\n",
    "        index_list = value['index']\n",
    "        gama = value['fz'] / value['fm']\n",
    "        new_last.setdefault(key, gama)\n",
    "        for idx in index_list:\n",
    "            ml.setdefault(idx, gama)  \n",
    "    gama_list = np.array([[int(i[0]), i[1]] for i in sorted(ml.items(), key = lambda row: row[0])])\n",
    "    return gama_list, new_last\n",
    "        "
   ]
  },
  {
   "cell_type": "code",
   "execution_count": 373,
   "metadata": {},
   "outputs": [],
   "source": [
    "# gbdt class\n",
    "from sklearn.datasets import load_iris\n",
    "dx = load_iris()['data']\n",
    "dy = load_iris()['target']\n",
    "\n",
    "dx = dx[dy!=2]\n",
    "dy = dy[dy!=2]\n",
    "dy = np.array([-1 if i==0  else 1 for i in dy])\n",
    "\n",
    "dx = dx[: 90]\n",
    "dy = dy[: 90]"
   ]
  },
  {
   "cell_type": "code",
   "execution_count": 375,
   "metadata": {},
   "outputs": [
    {
     "name": "stdout",
     "output_type": "stream",
     "text": [
      "1.0\n"
     ]
    }
   ],
   "source": [
    "from sklearn.ensemble import GradientBoostingClassifier \n",
    "mymodel = GradientBoostingClassifier(n_estimators=10)\n",
    "pred = mymodel.fit(dx, dy).predict(dx)\n",
    "acc =  (np.sum(dy == pred)) / 90\n",
    "print(acc)"
   ]
  },
  {
   "cell_type": "code",
   "execution_count": 376,
   "metadata": {},
   "outputs": [],
   "source": [
    "f0 = 0.5 * np.log((1 + np.mean(dy))/ (1 - np.mean(dy)))\n",
    "fx = np.repeat(f0, 90).reshape((90, 1))\n",
    "dy = dy.reshape((90, 1))"
   ]
  },
  {
   "cell_type": "code",
   "execution_count": 377,
   "metadata": {},
   "outputs": [],
   "source": [
    "def sigmoid(x):\n",
    "    return 1 / ( 1 + np.exp(-x))"
   ]
  },
  {
   "cell_type": "code",
   "execution_count": 378,
   "metadata": {},
   "outputs": [],
   "source": [
    "pred_dict = {}\n",
    "pred_dict.setdefault(\"init_fx\", f0)\n",
    "pred_dict['init_fx']\n",
    "\n",
    "for i in range(10):\n",
    "    dety = 2 * dy / (1 + np.exp(2 * np.multiply(dy, fx)))\n",
    "    newdata = np.concatenate([dx, dety.reshape(90, 1)], axis=1)\n",
    "    mymodel = cartreeregression(min_leafs=3)\n",
    "    result = mymodel.createTree(newdata)\n",
    "    gama_list,  mylast = get_gama(newdata, result)\n",
    "    pred_dict.setdefault(\"tree\", []).append(result)\n",
    "    pred_dict.setdefault(\"local_gama\", []).append(mylast)\n",
    "    fx = fx + gama_list[:, 1:2]\n",
    "    \n",
    "pred = [[-1] if sigmoid(i)<0.5 else [1] for i in fx]"
   ]
  },
  {
   "cell_type": "code",
   "execution_count": 379,
   "metadata": {
    "scrolled": true
   },
   "outputs": [
    {
     "data": {
      "text/plain": [
       "-0.11157177565710492"
      ]
     },
     "execution_count": 379,
     "metadata": {},
     "output_type": "execute_result"
    }
   ],
   "source": [
    "acc =  (np.sum(dy == pred)) / 90\n",
    "pred_dict['init_fx']"
   ]
  },
  {
   "cell_type": "code",
   "execution_count": 380,
   "metadata": {},
   "outputs": [],
   "source": [
    "def gbdt_pred(myline=dx[1]):\n",
    "    init_f0 = pred_dict['init_fx']\n",
    "    tree_list = pred_dict['tree']\n",
    "    local_gama_list = pred_dict['local_gama']\n",
    "    \n",
    "    for tree, local_gama in zip(tree_list, local_gama_list):\n",
    "        p, node = predict_line(tree, myline)\n",
    "        gama = local_gama[node]\n",
    "        init_f0 += gama\n",
    "    last_pred = 1 if sigmoid(init_f0) >0.5 else -1\n",
    "    return last_pred"
   ]
  },
  {
   "cell_type": "code",
   "execution_count": 381,
   "metadata": {},
   "outputs": [
    {
     "data": {
      "text/plain": [
       "90"
      ]
     },
     "execution_count": 381,
     "metadata": {},
     "output_type": "execute_result"
    }
   ],
   "source": [
    "mp = []\n",
    "for line in dx:\n",
    "    temp_p = gbdt_pred(line)\n",
    "    mp.append([temp_p])\n",
    "np.sum(np.array(mp)==dy)"
   ]
  },
  {
   "cell_type": "code",
   "execution_count": 315,
   "metadata": {},
   "outputs": [
    {
     "data": {
      "text/plain": [
       "{'tree': [<__main__.treeNode at 0x1a1e091828>,\n",
       "  <__main__.treeNode at 0x1a1e091128>,\n",
       "  <__main__.treeNode at 0x1a1e0911d0>,\n",
       "  <__main__.treeNode at 0x1a1e56a588>,\n",
       "  <__main__.treeNode at 0x1a1cf9d710>,\n",
       "  <__main__.treeNode at 0x1a1d984320>,\n",
       "  <__main__.treeNode at 0x1a1da3d908>,\n",
       "  <__main__.treeNode at 0x1a1d8888d0>,\n",
       "  <__main__.treeNode at 0x1a1e650f28>,\n",
       "  <__main__.treeNode at 0x1a1e9a5278>],\n",
       " 'local_gama': [{<__main__.treeNode at 0x1a1e091f60>: -0.5000000000000133,\n",
       "   <__main__.treeNode at 0x1a1e091748>: -0.5000000000000138,\n",
       "   <__main__.treeNode at 0x1a1e091a20>: -0.5000000000000138,\n",
       "   <__main__.treeNode at 0x1a1e091e48>: 0.5000000000000138,\n",
       "   <__main__.treeNode at 0x1a1e0915c0>: 0.5000000000000134,\n",
       "   <__main__.treeNode at 0x1a1e091630>: 0.5000000000000138},\n",
       "  {<__main__.treeNode at 0x1a1e56aac8>: -0.500000000000005,\n",
       "   <__main__.treeNode at 0x1a1e56a860>: -0.5000000000000051,\n",
       "   <__main__.treeNode at 0x1a1e56a550>: 0.5000000000000051,\n",
       "   <__main__.treeNode at 0x1a1e56a4a8>: 0.500000000000005,\n",
       "   <__main__.treeNode at 0x1a1e56a908>: 0.500000000000005},\n",
       "  {<__main__.treeNode at 0x1a1cc40160>: -0.5000000000000021,\n",
       "   <__main__.treeNode at 0x1a1e56a9e8>: -0.5000000000000019,\n",
       "   <__main__.treeNode at 0x1a1cf6cba8>: -0.500000000000002,\n",
       "   <__main__.treeNode at 0x1a1cf82ef0>: 0.5000000000000018,\n",
       "   <__main__.treeNode at 0x1a1cf82e10>: 0.5000000000000018,\n",
       "   <__main__.treeNode at 0x1a1cf6cd68>: 0.5000000000000019},\n",
       "  {<__main__.treeNode at 0x1a1cfdddd8>: -0.5000000000000006,\n",
       "   <__main__.treeNode at 0x1a1cf9db00>: -0.5000000000000007,\n",
       "   <__main__.treeNode at 0x1a1cfdd668>: -0.5000000000000007,\n",
       "   <__main__.treeNode at 0x1a1d984c50>: 0.5000000000000007,\n",
       "   <__main__.treeNode at 0x1a1d984da0>: 0.5000000000000007,\n",
       "   <__main__.treeNode at 0x1a1c8d2fd0>: 0.5000000000000007},\n",
       "  {<__main__.treeNode at 0x1a1d984ac8>: -0.5000000000000007,\n",
       "   <__main__.treeNode at 0x1a1d984b00>: -0.5000000000000002,\n",
       "   <__main__.treeNode at 0x1a1d984128>: -0.5000000000000004,\n",
       "   <__main__.treeNode at 0x1a1da3d978>: 0.5000000000000003,\n",
       "   <__main__.treeNode at 0x1a1da3d710>: 0.5000000000000008,\n",
       "   <__main__.treeNode at 0x1a1da3d400>: 0.5000000000000002},\n",
       "  {<__main__.treeNode at 0x1a1e0b4ac8>: -0.5,\n",
       "   <__main__.treeNode at 0x1a1cb727b8>: -0.5000000000000002,\n",
       "   <__main__.treeNode at 0x1a1e0b4c50>: -0.5000000000000001,\n",
       "   <__main__.treeNode at 0x1a1d888a58>: 0.5000000000000001,\n",
       "   <__main__.treeNode at 0x1a1d888710>: 0.5000000000000001,\n",
       "   <__main__.treeNode at 0x1a1dfa1c88>: 0.5000000000000001},\n",
       "  {<__main__.treeNode at 0x1a1de7e198>: -0.5,\n",
       "   <__main__.treeNode at 0x1a1d888e80>: -0.5000000000000001,\n",
       "   <__main__.treeNode at 0x1a1d877668>: -0.5,\n",
       "   <__main__.treeNode at 0x1a1e0c66a0>: 0.5000000000000001,\n",
       "   <__main__.treeNode at 0x1a1e0c64e0>: 0.5,\n",
       "   <__main__.treeNode at 0x1a1e0c6278>: 0.5000000000000001},\n",
       "  {<__main__.treeNode at 0x1a1e961cf8>: -0.5,\n",
       "   <__main__.treeNode at 0x1a1e6508d0>: -0.5,\n",
       "   <__main__.treeNode at 0x1a1e9a5c18>: -0.5,\n",
       "   <__main__.treeNode at 0x1a1e9a52e8>: 0.5,\n",
       "   <__main__.treeNode at 0x1a1e9a5f28>: 0.5,\n",
       "   <__main__.treeNode at 0x1a1e9a56a0>: 0.5},\n",
       "  {<__main__.treeNode at 0x1a1ea9a0f0>: -0.5,\n",
       "   <__main__.treeNode at 0x1a1e9a5128>: -0.5,\n",
       "   <__main__.treeNode at 0x1a1e959f98>: -0.5,\n",
       "   <__main__.treeNode at 0x1a1e9596a0>: 0.5,\n",
       "   <__main__.treeNode at 0x1a1e959518>: 0.5,\n",
       "   <__main__.treeNode at 0x1a1e959b00>: 0.5},\n",
       "  {<__main__.treeNode at 0x1a1e9b1128>: -0.5,\n",
       "   <__main__.treeNode at 0x1a1e9594e0>: -0.5,\n",
       "   <__main__.treeNode at 0x1a1e9b17b8>: -0.5,\n",
       "   <__main__.treeNode at 0x1a1e9b1d30>: 0.5,\n",
       "   <__main__.treeNode at 0x1a1e9b1c88>: 0.5,\n",
       "   <__main__.treeNode at 0x1a1e9b1898>: 0.5}]}"
      ]
     },
     "execution_count": 315,
     "metadata": {},
     "output_type": "execute_result"
    }
   ],
   "source": [
    "pred_dict"
   ]
  },
  {
   "cell_type": "code",
   "execution_count": 287,
   "metadata": {},
   "outputs": [],
   "source": [
    "td = dx[1]"
   ]
  },
  {
   "cell_type": "code",
   "execution_count": 288,
   "metadata": {},
   "outputs": [
    {
     "data": {
      "text/plain": [
       "array([4.9, 3. , 1.4, 0.2])"
      ]
     },
     "execution_count": 288,
     "metadata": {},
     "output_type": "execute_result"
    }
   ],
   "source": [
    "td"
   ]
  },
  {
   "cell_type": "code",
   "execution_count": 307,
   "metadata": {},
   "outputs": [],
   "source": [
    "p, node = predict_line(pred_dict['tree'], td)"
   ]
  },
  {
   "cell_type": "code",
   "execution_count": 308,
   "metadata": {},
   "outputs": [
    {
     "data": {
      "text/plain": [
       "2.6683026279191153e-05"
      ]
     },
     "execution_count": 308,
     "metadata": {},
     "output_type": "execute_result"
    }
   ],
   "source": [
    "p"
   ]
  },
  {
   "cell_type": "code",
   "execution_count": 309,
   "metadata": {},
   "outputs": [
    {
     "data": {
      "text/plain": [
       "<__main__.treeNode at 0x1a1d89c208>"
      ]
     },
     "execution_count": 309,
     "metadata": {},
     "output_type": "execute_result"
    }
   ],
   "source": [
    "node"
   ]
  },
  {
   "cell_type": "code",
   "execution_count": 297,
   "metadata": {},
   "outputs": [
    {
     "data": {
      "text/plain": [
       "{0: -0.07061618833133959,\n",
       " 1: -0.07061618833133959,\n",
       " 2: -0.07061618833133959,\n",
       " 3: -0.07061618833133959,\n",
       " 4: -0.07061618833133959,\n",
       " 5: -0.07061618833133959,\n",
       " 6: -0.07061618833133959,\n",
       " 7: -0.07061618833133959,\n",
       " 8: -0.07061618833133959,\n",
       " 9: -0.07061618833133959,\n",
       " 10: -0.07061618833133959,\n",
       " 11: -0.07061618833133959,\n",
       " 12: -0.07061618833133959,\n",
       " 13: -0.07061618833133959,\n",
       " 14: -0.07061618833133959,\n",
       " 15: -0.07061618833133959,\n",
       " 16: -0.07061618833133959,\n",
       " 17: -0.07061618833133959,\n",
       " 18: -0.07061618833133959,\n",
       " 19: -0.07061618833133959,\n",
       " 20: -0.07061618833133959,\n",
       " 21: -0.07061618833133959,\n",
       " 22: -0.07061618833133959,\n",
       " 23: -0.07061618833133959,\n",
       " 24: -0.07061618833133959,\n",
       " 25: -0.07061618833133959,\n",
       " 26: -0.07061618833133959,\n",
       " 27: -0.07061618833133959,\n",
       " 28: -0.07061618833133959,\n",
       " 29: -0.07061618833133959,\n",
       " 30: -0.07061618833133959,\n",
       " 31: -0.07061618833133959,\n",
       " 32: -0.07061618833133959,\n",
       " 33: -0.07061618833133959,\n",
       " 34: -0.07061618833133959,\n",
       " 35: -0.07061618833133959,\n",
       " 36: -0.07061618833133959,\n",
       " 37: -0.07061618833133959,\n",
       " 38: -0.07061618833133959,\n",
       " 39: -0.07061618833133959,\n",
       " 40: -0.07061618833133959,\n",
       " 41: -0.07061618833133959,\n",
       " 42: -0.07061618833133959,\n",
       " 43: -0.07061618833133959,\n",
       " 44: -0.07061618833133959,\n",
       " 45: -0.07061618833133959,\n",
       " 46: -0.07061618833133959,\n",
       " 47: -0.07061618833133959,\n",
       " 48: -0.07061618833133959,\n",
       " 49: -0.07061618833133959,\n",
       " 50: -0.07061618833133959,\n",
       " 51: -0.07061618833133959,\n",
       " 52: -0.07061618833133959,\n",
       " 53: -0.07061618833133959,\n",
       " 54: -0.07061618833133959,\n",
       " 55: -0.07061618833133959,\n",
       " 56: -0.07061618833133959,\n",
       " 57: -0.07061618833133959,\n",
       " 58: -0.07061618833133959,\n",
       " 59: -0.07061618833133959,\n",
       " 60: -0.07061618833133959,\n",
       " 61: -0.07061618833133959,\n",
       " 62: -0.07061618833133959,\n",
       " 63: -0.07061618833133959,\n",
       " 64: -0.07061618833133959,\n",
       " 65: -0.07061618833133959,\n",
       " 66: -0.07061618833133959,\n",
       " 67: -0.07061618833133959,\n",
       " 68: -0.07061618833133959,\n",
       " 69: -0.07061618833133959,\n",
       " 70: -0.07061618833133959,\n",
       " 71: -0.07061618833133959,\n",
       " 72: -0.07061618833133959,\n",
       " 73: -0.07061618833133959,\n",
       " 74: -0.07061618833133959,\n",
       " 75: -0.07061618833133959,\n",
       " 76: -0.07061618833133959,\n",
       " 77: -0.07061618833133959,\n",
       " 78: -0.07061618833133959,\n",
       " 79: -0.07061618833133959,\n",
       " 80: -0.07061618833133959,\n",
       " 81: -0.07061618833133959,\n",
       " 82: -0.07061618833133959,\n",
       " 83: -0.07061618833133959,\n",
       " 84: -0.07061618833133959,\n",
       " 85: -0.07061618833133959,\n",
       " 86: -0.07061618833133959,\n",
       " 87: -0.07061618833133959,\n",
       " 88: -0.07061618833133959,\n",
       " 89: -0.07061618833133959,\n",
       " 90: -0.07061618833133959,\n",
       " 91: -0.07061618833133959,\n",
       " 92: -0.07061618833133959,\n",
       " 93: -0.07061618833133959,\n",
       " 94: -0.07061618833133959,\n",
       " 95: -0.07061618833133959,\n",
       " 96: -0.07061618833133959,\n",
       " 97: -0.07061618833133959,\n",
       " 98: -0.07061618833133959,\n",
       " 99: -0.07061618833133959,\n",
       " 100: -0.07061618833133959,\n",
       " 101: -0.07061618833133959,\n",
       " 102: -0.07061618833133959,\n",
       " 103: -0.07061618833133959,\n",
       " 104: -0.07061618833133959,\n",
       " 105: -0.07061618833133959,\n",
       " 106: -0.07061618833133959,\n",
       " 107: -0.07061618833133959,\n",
       " 108: -0.07061618833133959,\n",
       " 109: -0.07061618833133959,\n",
       " 110: -0.07061618833133959,\n",
       " 111: -0.07061618833133959,\n",
       " 112: -0.07061618833133959,\n",
       " 113: -0.07061618833133959,\n",
       " 114: -0.07061618833133959,\n",
       " 115: -0.07061618833133959,\n",
       " 116: -0.07061618833133959,\n",
       " 117: -0.07061618833133959,\n",
       " 118: -0.07061618833133959,\n",
       " 119: -0.07061618833133959,\n",
       " 120: -0.07061618833133959,\n",
       " 121: -0.07061618833133959,\n",
       " 122: -0.07061618833133959,\n",
       " 123: -0.07061618833133959,\n",
       " 124: -0.07061618833133959,\n",
       " 125: -0.07061618833133959,\n",
       " 126: -0.07061618833133959,\n",
       " 127: -0.07061618833133959,\n",
       " 128: -0.07061618833133959,\n",
       " 129: -0.07061618833133959,\n",
       " 130: -0.07061618833133959,\n",
       " 131: -0.07061618833133959,\n",
       " 132: -0.07061618833133959,\n",
       " 133: -0.07061618833133959,\n",
       " 134: -0.07061618833133959,\n",
       " 135: -0.07061618833133959,\n",
       " 136: -0.07061618833133959,\n",
       " 137: -0.07061618833133959,\n",
       " 138: -0.07061618833133959,\n",
       " 139: -0.07061618833133959,\n",
       " 140: -0.07061618833133959,\n",
       " 141: -0.07061618833133959,\n",
       " 142: -0.07061618833133959,\n",
       " 143: -0.07061618833133959,\n",
       " 144: -0.07061618833133959,\n",
       " 145: -0.07061618833133959,\n",
       " 146: -0.07061618833133959,\n",
       " 147: -0.07061618833133959,\n",
       " 148: -0.07061618833133959,\n",
       " 149: -0.07061618833133959,\n",
       " 150: -0.07061618833133959,\n",
       " 151: -0.07061618833133959,\n",
       " 152: -0.07061618833133959,\n",
       " 153: -0.07061618833133959,\n",
       " 154: -0.07061618833133959,\n",
       " 155: -0.07061618833133959,\n",
       " 156: -0.07061618833133959,\n",
       " 157: -0.07061618833133959,\n",
       " 158: -0.07061618833133959,\n",
       " 159: -0.07061618833133959,\n",
       " 160: -0.07061618833133959,\n",
       " 161: -0.07061618833133959,\n",
       " 162: -0.07061618833133959,\n",
       " 163: -0.07061618833133959,\n",
       " 164: -0.07061618833133959,\n",
       " 165: -0.07061618833133959,\n",
       " 166: -0.07061618833133959,\n",
       " 167: -0.07061618833133959,\n",
       " 168: -0.07061618833133959,\n",
       " 169: -0.07061618833133959,\n",
       " 170: -0.07061618833133959,\n",
       " 171: -0.07061618833133959,\n",
       " 172: -0.07061618833133959,\n",
       " 173: -0.07061618833133959,\n",
       " 174: -0.07061618833133959,\n",
       " 175: -0.07061618833133959,\n",
       " 176: -0.07061618833133959,\n",
       " 177: -0.07061618833133959,\n",
       " 178: -0.07061618833133959,\n",
       " 179: -0.07061618833133959,\n",
       " 180: -0.07061618833133959,\n",
       " 181: -0.07061618833133959,\n",
       " 182: -0.07061618833133959,\n",
       " 183: -0.07061618833133959,\n",
       " 184: -0.07061618833133959,\n",
       " 185: -0.07061618833133959,\n",
       " 186: -0.07061618833133959,\n",
       " 187: -0.07061618833133959,\n",
       " 188: -0.07061618833133959,\n",
       " 189: -0.07061618833133959,\n",
       " 190: -0.07061618833133959,\n",
       " 191: -0.07061618833133959,\n",
       " 192: -0.07061618833133959,\n",
       " 193: -0.07061618833133959,\n",
       " 194: -0.07061618833133959,\n",
       " 195: -0.07061618833133959,\n",
       " 196: -0.07061618833133959,\n",
       " 197: -0.07061618833133959,\n",
       " 198: -0.07061618833133959,\n",
       " 199: -0.07061618833133959}"
      ]
     },
     "execution_count": 297,
     "metadata": {},
     "output_type": "execute_result"
    }
   ],
   "source": [
    "ml"
   ]
  },
  {
   "cell_type": "code",
   "execution_count": 304,
   "metadata": {},
   "outputs": [
    {
     "data": {
      "text/plain": [
       "-0.07061618833133959"
      ]
     },
     "execution_count": 304,
     "metadata": {},
     "output_type": "execute_result"
    }
   ],
   "source": [
    "mylast[node]"
   ]
  },
  {
   "cell_type": "code",
   "execution_count": null,
   "metadata": {},
   "outputs": [],
   "source": []
  },
  {
   "cell_type": "code",
   "execution_count": 385,
   "metadata": {},
   "outputs": [
    {
     "name": "stdout",
     "output_type": "stream",
     "text": [
      "sklearn gbdt acc is 1.0\n",
      "-1\n",
      "gbdt_acc is 1.0\n"
     ]
    }
   ],
   "source": [
    "\n",
    "#from test.treeRegression import CartreeRegression\n",
    "\n",
    "import numpy as np\n",
    "\n",
    "\n",
    "class GbdtTree(cartreeregression):\n",
    "    def __init__(self, n_trees=10):\n",
    "        super(GbdtTree, self).__init__()\n",
    "        self.n_trees = n_trees\n",
    "\n",
    "    def sigmoid(self, x):\n",
    "        return 1 / (1 + np.exp(-x))\n",
    "\n",
    "    def predict_line(self, model, line):\n",
    "        if model.label_class is not None:\n",
    "            return model.label_class, model\n",
    "        split_feature = model.feature\n",
    "        split_value = model.value\n",
    "        if line[split_feature] > split_value:\n",
    "            return self.predict_line(model.right_tree, line)\n",
    "        else:\n",
    "            return self.predict_line(model.left_tree, line)\n",
    "\n",
    "    def get_gama(self, data, mytree):\n",
    "        last = {}\n",
    "        for index, line in enumerate(data):\n",
    "            x, y = line[:-1], line[-1]\n",
    "            temp_label, temp_node = self.predict_line(mytree, x)\n",
    "            last.setdefault(temp_node, {})\n",
    "            last[temp_node].setdefault(\"index\", []).append(index)\n",
    "            last[temp_node].setdefault(\"fz\", 0)\n",
    "            last[temp_node]['fz'] += y\n",
    "            last[temp_node].setdefault(\"fm\", 0)\n",
    "            last[temp_node]['fm'] += np.abs(y) * (2 - np.abs(y))\n",
    "\n",
    "        # 每个样本 对应的 gama值，每个node 下的样本的gama值一样， 用于train, ml=>gama_list\n",
    "        ml = {}\n",
    "        # 每个node 的gama值，用于预测时\n",
    "        new_last = {}\n",
    "        for key, value in last.items():\n",
    "            index_list = value['index']\n",
    "            gama = value['fz'] / value['fm']\n",
    "            new_last.setdefault(key, gama)\n",
    "            for idx in index_list:\n",
    "                ml.setdefault(idx, gama)\n",
    "        gama_list = np.array([[int(i[0]), i[1]] for i in sorted(ml.items(), key=lambda row: row[0])])\n",
    "        return gama_list, new_last\n",
    "\n",
    "    def fit(self, data, target):\n",
    "        m, n = data.shape\n",
    "\n",
    "        if len(target.shape) != 2:\n",
    "            target = target.reshape(m, 1)\n",
    "\n",
    "        # 初始化某些值\n",
    "        f0 = 0.5 * np.log((1 + np.mean(target))/(1 - np.mean(target)))\n",
    "        fx = np.repeat(f0, m).reshape((m, 1))\n",
    "\n",
    "        pred_dict = {}\n",
    "        pred_dict.setdefault(\"init_fx\", f0)\n",
    "\n",
    "        for i in range(self.n_trees):\n",
    "            dety = 2 * target / (1 + np.exp(2 * np.multiply(target, fx)))\n",
    "            newdata = np.concatenate([data, dety.reshape(m, 1)], axis=1)\n",
    "            mymodel = cartreeregression(min_leafs=3)\n",
    "            mytree = mymodel.createTree(newdata)\n",
    "            gama_list, node_gama = self.get_gama(newdata, mytree)\n",
    "            fx = fx + gama_list[:, 1:2]\n",
    "            #存储模型的参数\n",
    "            pred_dict.setdefault(\"tree\", []).append(mytree)\n",
    "            pred_dict.setdefault(\"local_gama\", []).append(node_gama)\n",
    "        self.gdbt_modelparamter = pred_dict\n",
    "        return self\n",
    "\n",
    "    def gbdt_predict_line(self, line):\n",
    "        init_f0 = self.gdbt_modelparamter['init_fx']\n",
    "        tree_list = self.gdbt_modelparamter['tree']\n",
    "        local_gama_list = self.gdbt_modelparamter['local_gama']\n",
    "\n",
    "        for tree, local_gama in zip(tree_list, local_gama_list):\n",
    "            temp_pred, node = self.predict_line(tree, line)\n",
    "            gama = local_gama[node]\n",
    "            init_f0 += gama\n",
    "        last_pred = 1 if self.sigmoid(init_f0) > 0.5 else -1\n",
    "        return last_pred\n",
    "\n",
    "    def gbdt_predict(self, data):\n",
    "        predicts = []\n",
    "        for line in data:\n",
    "            temp_pred = self.gbdt_predict_line(line)\n",
    "            predicts.append(temp_pred)\n",
    "        return np.array(predicts)\n",
    "\n",
    "    @property\n",
    "    def gbdtmodel(self):\n",
    "        return self.gdbt_modelparamter\n",
    "\n",
    "\n",
    "if __name__ == \"__main__\":\n",
    "    from sklearn.datasets import load_iris\n",
    "\n",
    "    dx = load_iris()['data']\n",
    "    dy = load_iris()['target']\n",
    "    dx = dx[dy != 2]\n",
    "    dy = dy[dy != 2]\n",
    "    dy = np.array([-1 if i == 0  else 1 for i in dy])\n",
    "    dx = dx[: 90]\n",
    "    dy = dy[: 90]\n",
    "    m, n = dx.shape\n",
    "\n",
    "    # first_test\n",
    "    from sklearn.ensemble import GradientBoostingClassifier\n",
    "    mymodel = GradientBoostingClassifier(n_estimators=10)\n",
    "    pred = mymodel.fit(dx, dy).predict(dx)\n",
    "    acc = (np.sum(dy == pred)) / m\n",
    "    print(\"sklearn gbdt acc is {}\".format(acc))\n",
    "\n",
    "    # second test\n",
    "    gbdtmodel = GbdtTree()\n",
    "    mymodel = gbdtmodel.fit(dx, dy)\n",
    "    one_pred = gbdtmodel.gbdt_predict_line(dx[0])\n",
    "    print(one_pred)\n",
    "\n",
    "    pred = gbdtmodel.gbdt_predict(dx)\n",
    "    acc = (np.sum(dy == pred)) / m\n",
    "    print(\"gbdt_acc is {}\".format(acc))"
   ]
  },
  {
   "cell_type": "code",
   "execution_count": null,
   "metadata": {},
   "outputs": [],
   "source": []
  }
 ],
 "metadata": {
  "kernelspec": {
   "display_name": "Python 3",
   "language": "python",
   "name": "python3"
  },
  "language_info": {
   "codemirror_mode": {
    "name": "ipython",
    "version": 3
   },
   "file_extension": ".py",
   "mimetype": "text/x-python",
   "name": "python",
   "nbconvert_exporter": "python",
   "pygments_lexer": "ipython3",
   "version": "3.6.8"
  }
 },
 "nbformat": 4,
 "nbformat_minor": 2
}
