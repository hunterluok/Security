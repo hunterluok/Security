{
 "cells": [
  {
   "cell_type": "code",
   "execution_count": 1,
   "metadata": {
    "collapsed": true
   },
   "outputs": [],
   "source": [
    "from numpy import *"
   ]
  },
  {
   "cell_type": "code",
   "execution_count": 4,
   "metadata": {
    "collapsed": true
   },
   "outputs": [],
   "source": [
    "paths='/Users/luokui/Documents/机器学习实战/机器学习实战及配套代码/machinelearninginaction/Ch10/testSet.txt'\n",
    "\n",
    "def get_data(paths):\n",
    "    data = []\n",
    "    with open(paths,'r') as f:\n",
    "        fr = f.readlines()\n",
    "        for line in fr:\n",
    "            line = line.strip().split('\\t')\n",
    "            temp = [float(i) for i in line]\n",
    "            data.append(temp)   \n",
    "    return mat(data)\n",
    "data = get_data(paths)"
   ]
  },
  {
   "cell_type": "code",
   "execution_count": 52,
   "metadata": {
    "collapsed": true
   },
   "outputs": [],
   "source": [
    "def cal_dist(centers,data,k):\n",
    "    data= mat(data)\n",
    "    m,n = data.shape\n",
    "    dists = zeros((m,k))\n",
    "    for j in range(k):\n",
    "        for i in range(m):\n",
    "            dists[i,j] = sqrt(sum(pow((centers-data[i]).A,2)))\n",
    "    return dists"
   ]
  },
  {
   "cell_type": "code",
   "execution_count": 31,
   "metadata": {
    "collapsed": true
   },
   "outputs": [],
   "source": [
    "def chose_center(data,k):\n",
    "    ids = []\n",
    "    m,n = data.shape\n",
    "    indexs =list(arange(m))\n",
    "    for i in range(k):\n",
    "        NL = len(indexs)\n",
    "        index = random.randint(0,NL,1)[0]  # 这个地方需要注意啊 ，\n",
    "        ids.append(indexs[index])\n",
    "        indexs.remove(indexs[index])\n",
    "    centers = data[ids]\n",
    "    return centers\n",
    "cen = chose_center(data,5)"
   ]
  },
  {
   "cell_type": "code",
   "execution_count": 53,
   "metadata": {
    "collapsed": true
   },
   "outputs": [],
   "source": [
    "dists = cal_dist(cen,data,5)"
   ]
  },
  {
   "cell_type": "code",
   "execution_count": 58,
   "metadata": {},
   "outputs": [
    {
     "data": {
      "text/plain": [
       "array([3, 3, 3, 3, 3])"
      ]
     },
     "execution_count": 58,
     "metadata": {},
     "output_type": "execute_result"
    }
   ],
   "source": [
    "dists.argmax(0)"
   ]
  },
  {
   "cell_type": "code",
   "execution_count": 60,
   "metadata": {},
   "outputs": [
    {
     "data": {
      "text/plain": [
       "(80, 5)"
      ]
     },
     "execution_count": 60,
     "metadata": {},
     "output_type": "execute_result"
    }
   ],
   "source": [
    "dists.shape"
   ]
  },
  {
   "cell_type": "code",
   "execution_count": null,
   "metadata": {
    "collapsed": true
   },
   "outputs": [],
   "source": [
    "\n",
    "# coding: utf-8\n",
    "import numpy as np\n",
    "from numpy import *\n",
    "import matplotlib.pyplot as plt\n",
    "import numpy\n",
    "import pandas\n",
    "import pandas as pd\n",
    "\n",
    "class km:\n",
    " \n",
    "    def __init__(self,data,k,iters,early_stop=True):\n",
    "        self.data = data\n",
    "        self.k = k \n",
    "        self.iters = iters\n",
    "        self.N,_ = data.shape\n",
    "        self.early_stop = early_stop\n",
    "        self.init_center = self.chose_center(k,data) #这里的 self.chose_center 的 self\n",
    "        self.centers,self.class_label,self.total_dist,self.dist,self.rate= self.km_model(data,k,iters,early_stop)\n",
    "        \n",
    "    def chose_center(self,k,data):\n",
    "        ids = []\n",
    "        indexs =list(np.arange(N))\n",
    "        for i in range(k):\n",
    "            NL = len(indexs)\n",
    "            index = random.randint(0,NL,1)[0]  # 这个地方需要注意啊 ，\n",
    "            ids.append(indexs[index])\n",
    "            indexs.remove(indexs[index])\n",
    "        centers = data[ids]\n",
    "        return centers\n",
    "    \n",
    "    def km_model(self,data,k,iters,early_stop):\n",
    "        centers= self.chose_center(k,data) \n",
    "        total_dist = np.zeros((iters,1))\n",
    "        rate = []\n",
    "        \n",
    "        for j in range(iters):\n",
    "            dist=[]\n",
    "            for i in range(k):\n",
    "                dist.append(np.sqrt(diag(np.matmul((centers[i]-data),(centers[i]-data).T))))  # np.sqrt(np.sum((x[0]-x[2])**2)) 计算的另外一种方法。\n",
    "\n",
    "            dist = np.transpose(dist)\n",
    "            class_label = np.argmin(dist,1)\n",
    "\n",
    "            for i in range(k):\n",
    "                pos = class_label==i\n",
    "                centers[i] = np.mean(x[pos],0) \n",
    "                total_dist[j] += np.sum(np.sum(dist[pos,i],0))\n",
    "            \n",
    "            if j>0 and j<iters:\n",
    "                re = (total_dist[j-1]-total_dist[j])/total_dist[j]\n",
    "                rate.append(re)\n",
    "                \n",
    "                if early_stop and re<0.01:\n",
    "                    break\n",
    "                    \n",
    "        return centers,class_label,total_dist,dist,rate\n",
    "\"\"\" \n",
    "    def plot(self,data,k,iters,early_stop):\n",
    "        centers,class_label,*_ = self.km_model(data,k,iters,early_stop)\n",
    "        fig = plt.subplot(1,1,1)\n",
    "        for i in range(k):\n",
    "            pos = class_label==i\n",
    "            fig.scatter(x[pos,0],x[pos,1])\n",
    "            fig.scatter(centers[i,0],centers[i,1],color='r',marker='*',linewidths=10)\n",
    "\t\tplt.show()\n",
    "\"\"\"\t\t\n",
    "\t\t\n",
    "class km_evo:\n",
    "    def __init__(self,data,k,iters,method=\"kendall\"):\n",
    "        self.data = data\n",
    "        self.k = k \n",
    "        self.iters = iters\n",
    "        self.N,_ = data.shape\n",
    "        self.method=method\n",
    "        self.centers,self.class_label,self.total_dist= self.km_model(data,k,iters)\n",
    "\n",
    "\n",
    "    def chose_random_k(self,k,data):\n",
    "        ids = []\n",
    "        indexs = list(np.arange(self.N))\n",
    "        for i in range(k):\n",
    "            NL = len(indexs)\n",
    "            index = random.randint(0,NL,1)[0]  # 这个地方需要注意啊 ，\n",
    "            ids.append(indexs[index])\n",
    "            indexs.remove(indexs[index])\n",
    "        return ids\n",
    "\n",
    "    def km_model(self,data,k,iters):\n",
    "        ids = self.chose_random_k(k,data) # 随机选择K\n",
    "        \n",
    "        data = data.T\n",
    "        \n",
    "        if isinstance(data,numpy.ndarray):\n",
    "            data = pd.DataFrame(data)\n",
    "        elif isinstance(data,pandas.core.frame.DataFrame):\n",
    "            pass\n",
    "        else:\n",
    "            raise KeyError(\"The data is not fit for this model\")\n",
    "        \n",
    "        dist = np.array(data.corr(method=self.method))      \n",
    "        total_dist =  np.zeros((iters,1))\n",
    "        centers = dist[ids]\n",
    "        class_label = np.argmax(centers,0)\n",
    "                 \n",
    "        for j in range(iters):\n",
    "            new_centers = []   \n",
    "            for i in range(k):\n",
    "                pos = class_label==i\n",
    "                new_dist = dist[:,pos]\n",
    "                new_index = np.argmax(sum(new_dist,1))            \n",
    "                new_centers.append(dist[new_index])      \n",
    "                max_dist = np.max(sum(new_dist,1))              \n",
    "                total_dist[j] +=max_dist\n",
    "            centers = new_centers\n",
    "            class_label =  np.argmax(centers,0)\n",
    "              \n",
    "        return centers,class_label,total_dist        \n",
    "        \n",
    "    def plot(self,data,k,iters):\n",
    "        centers,class_label,*_ = self.km_model(data,k,iters)\n",
    "        fig = plt.subplot(1,1,1)\n",
    "        for i in range(k):\n",
    "            pos = class_label==i\n",
    "            fig.scatter(x[pos,0],x[pos,1])\n",
    "            fig.scatter(centers[i,0],centers[i,1],color='r',marker='*',linewidths=10)\n",
    "        plt.show()\n"
   ]
  }
 ],
 "metadata": {
  "kernelspec": {
   "display_name": "Python 3",
   "language": "python",
   "name": "python3"
  },
  "language_info": {
   "codemirror_mode": {
    "name": "ipython",
    "version": 3
   },
   "file_extension": ".py",
   "mimetype": "text/x-python",
   "name": "python",
   "nbconvert_exporter": "python",
   "pygments_lexer": "ipython3",
   "version": "3.6.2"
  }
 },
 "nbformat": 4,
 "nbformat_minor": 2
}
