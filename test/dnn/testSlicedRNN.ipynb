{
 "cells": [
  {
   "cell_type": "code",
   "execution_count": 1,
   "metadata": {},
   "outputs": [
    {
     "name": "stderr",
     "output_type": "stream",
     "text": [
      "Using TensorFlow backend.\n",
      "/Users/luokui/anaconda3/lib/python3.6/importlib/_bootstrap.py:205: RuntimeWarning: compiletime version 3.5 of module 'tensorflow.python.framework.fast_tensor_util' does not match runtime version 3.6\n",
      "  return f(*args, **kwds)\n"
     ]
    }
   ],
   "source": [
    "import pandas as pd\n",
    "import numpy as np\n",
    "\n",
    "from keras.utils.np_utils import to_categorical\n",
    "from keras.preprocessing.text import Tokenizer, text_to_word_sequence\n",
    "from keras.preprocessing.sequence import pad_sequences\n",
    "from keras.models import Model\n",
    "from keras.layers import Input, Embedding, GRU, TimeDistributed, Dense"
   ]
  },
  {
   "cell_type": "code",
   "execution_count": 3,
   "metadata": {
    "collapsed": true
   },
   "outputs": [],
   "source": [
    "df = pd.read_csv(\"yelp_2013.csv\")\n",
    "#df = df.sample(5000)\n",
    "\n",
    "Y = df.stars.values-1\n",
    "Y = to_categorical(Y,num_classes=5)\n",
    "X = df.text.values\n",
    "\n",
    "#set hyper parameters\n",
    "MAX_NUM_WORDS = 30000\n",
    "EMBEDDING_DIM = 200\n",
    "VALIDATION_SPLIT = 0.1\n",
    "TEST_SPLIT=0.1\n",
    "NUM_FILTERS = 50\n",
    "MAX_LEN = 512\n",
    "Batch_size = 100\n",
    "EPOCHS = 10\n",
    "\n",
    "#shuffle the data\n",
    "indices = np.arange(X.shape[0])\n",
    "np.random.seed(2018)\n",
    "np.random.shuffle(indices)\n",
    "X=X[indices]\n",
    "Y=Y[indices]\n",
    "\n",
    "#training set, validation set and testing set\n",
    "nb_validation_samples_val = int((VALIDATION_SPLIT + TEST_SPLIT) * X.shape[0])\n",
    "nb_validation_samples_test = int(TEST_SPLIT * X.shape[0])\n",
    "\n",
    "x_train = X[:-nb_validation_samples_val]\n",
    "y_train = Y[:-nb_validation_samples_val]\n",
    "x_val =  X[-nb_validation_samples_val:-nb_validation_samples_test]\n",
    "y_val =  Y[-nb_validation_samples_val:-nb_validation_samples_test]\n",
    "x_test = X[-nb_validation_samples_test:]\n",
    "y_test = Y[-nb_validation_samples_test:]"
   ]
  },
  {
   "cell_type": "code",
   "execution_count": 4,
   "metadata": {
    "collapsed": true
   },
   "outputs": [],
   "source": [
    "#use tokenizer to build vocab\n",
    "tokenizer1 = Tokenizer(num_words=MAX_NUM_WORDS)\n",
    "tokenizer1.fit_on_texts(df.text)\n",
    "vocab = tokenizer1.word_index\n",
    "\n",
    "x_train_word_ids = tokenizer1.texts_to_sequences(x_train)\n",
    "x_test_word_ids = tokenizer1.texts_to_sequences(x_test)\n",
    "x_val_word_ids = tokenizer1.texts_to_sequences(x_val)"
   ]
  },
  {
   "cell_type": "code",
   "execution_count": 5,
   "metadata": {
    "collapsed": true
   },
   "outputs": [],
   "source": [
    "#pad sequences into the same length\n",
    "x_train_padded_seqs = pad_sequences(x_train_word_ids, maxlen=MAX_LEN,padding='post')\n",
    "x_test_padded_seqs = pad_sequences(x_test_word_ids, maxlen=MAX_LEN,padding='post')\n",
    "x_val_padded_seqs = pad_sequences(x_val_word_ids, maxlen=MAX_LEN,padding='post')"
   ]
  },
  {
   "cell_type": "code",
   "execution_count": 6,
   "metadata": {},
   "outputs": [
    {
     "data": {
      "text/plain": [
       "array([[ 36,  29,   5, ...,   0,   0,   0],\n",
       "       [  3,   6, 191, ...,   0,   0,   0],\n",
       "       [  3,  79, 222, ...,   0,   0,   0]], dtype=int32)"
      ]
     },
     "execution_count": 6,
     "metadata": {},
     "output_type": "execute_result"
    }
   ],
   "source": [
    "x_val_padded_seqs[:3]"
   ]
  },
  {
   "cell_type": "code",
   "execution_count": 7,
   "metadata": {
    "collapsed": true
   },
   "outputs": [],
   "source": [
    "def split_data(data,rate=8): # rate=8 and slices numbers=2\n",
    "    last = []\n",
    "    m,n = data.shape\n",
    "    for i in range(m):\n",
    "        temp = np.split(data[i],rate)\n",
    "        a = []\n",
    "        for j in range(rate):\n",
    "            s = np.split(temp[j],rate)\n",
    "            a.append(s)\n",
    "        last.append(a)\n",
    "    return last\n",
    "\n",
    "x_train_padded_seqs_split = split_data(x_train_padded_seqs)\n",
    "x_test_padded_seqs_split = split_data(x_test_padded_seqs)\n",
    "x_val_padded_seqs_split = split_data(x_val_padded_seqs)"
   ]
  },
  {
   "cell_type": "code",
   "execution_count": 5,
   "metadata": {
    "collapsed": true
   },
   "outputs": [],
   "source": [
    "#slice sequences into many subsequences\n",
    "\"\"\"\n",
    "x_test_padded_seqs_split=[]\n",
    "for i in range(x_test_padded_seqs.shape[0]):\n",
    "    split1=np.split(x_test_padded_seqs[i],8)\n",
    "    a=[]\n",
    "    for j in range(8):\n",
    "        s=np.split(split1[j],8)\n",
    "        a.append(s)\n",
    "    x_test_padded_seqs_split.append(a)\n",
    "\n",
    "x_val_padded_seqs_split=[]\n",
    "for i in range(x_val_padded_seqs.shape[0]):\n",
    "    split1=np.split(x_val_padded_seqs[i],8)\n",
    "    a=[]\n",
    "    for j in range(8):\n",
    "        s=np.split(split1[j],8)\n",
    "        a.append(s)\n",
    "    x_val_padded_seqs_split.append(a)\n",
    "\n",
    "x_train_padded_seqs_split=[]\n",
    "for i in range(x_train_padded_seqs.shape[0]):\n",
    "    split1=np.split(x_train_padded_seqs[i],8)\n",
    "    a=[]\n",
    "    for j in range(8):\n",
    "        s=np.split(split1[j],8)\n",
    "        a.append(s)\n",
    "    x_train_padded_seqs_split.append(a)\n",
    "\"\"\""
   ]
  },
  {
   "cell_type": "code",
   "execution_count": 8,
   "metadata": {},
   "outputs": [
    {
     "data": {
      "text/plain": [
       "[[[array([ 36,  29,   5,  45,  30,  10,   4, 210], dtype=int32),\n",
       "   array([132,  11, 158,   3,  40,   1,  47,   2], dtype=int32),\n",
       "   array([ 30, 679,   5,  55,  25, 347, 263,  50], dtype=int32),\n",
       "   array([ 19, 245, 158,   0,   0,   0,   0,   0], dtype=int32),\n",
       "   array([0, 0, 0, 0, 0, 0, 0, 0], dtype=int32),\n",
       "   array([0, 0, 0, 0, 0, 0, 0, 0], dtype=int32),\n",
       "   array([0, 0, 0, 0, 0, 0, 0, 0], dtype=int32),\n",
       "   array([0, 0, 0, 0, 0, 0, 0, 0], dtype=int32)],\n",
       "  [array([0, 0, 0, 0, 0, 0, 0, 0], dtype=int32),\n",
       "   array([0, 0, 0, 0, 0, 0, 0, 0], dtype=int32),\n",
       "   array([0, 0, 0, 0, 0, 0, 0, 0], dtype=int32),\n",
       "   array([0, 0, 0, 0, 0, 0, 0, 0], dtype=int32),\n",
       "   array([0, 0, 0, 0, 0, 0, 0, 0], dtype=int32),\n",
       "   array([0, 0, 0, 0, 0, 0, 0, 0], dtype=int32),\n",
       "   array([0, 0, 0, 0, 0, 0, 0, 0], dtype=int32),\n",
       "   array([0, 0, 0, 0, 0, 0, 0, 0], dtype=int32)],\n",
       "  [array([0, 0, 0, 0, 0, 0, 0, 0], dtype=int32),\n",
       "   array([0, 0, 0, 0, 0, 0, 0, 0], dtype=int32),\n",
       "   array([0, 0, 0, 0, 0, 0, 0, 0], dtype=int32),\n",
       "   array([0, 0, 0, 0, 0, 0, 0, 0], dtype=int32),\n",
       "   array([0, 0, 0, 0, 0, 0, 0, 0], dtype=int32),\n",
       "   array([0, 0, 0, 0, 0, 0, 0, 0], dtype=int32),\n",
       "   array([0, 0, 0, 0, 0, 0, 0, 0], dtype=int32),\n",
       "   array([0, 0, 0, 0, 0, 0, 0, 0], dtype=int32)],\n",
       "  [array([0, 0, 0, 0, 0, 0, 0, 0], dtype=int32),\n",
       "   array([0, 0, 0, 0, 0, 0, 0, 0], dtype=int32),\n",
       "   array([0, 0, 0, 0, 0, 0, 0, 0], dtype=int32),\n",
       "   array([0, 0, 0, 0, 0, 0, 0, 0], dtype=int32),\n",
       "   array([0, 0, 0, 0, 0, 0, 0, 0], dtype=int32),\n",
       "   array([0, 0, 0, 0, 0, 0, 0, 0], dtype=int32),\n",
       "   array([0, 0, 0, 0, 0, 0, 0, 0], dtype=int32),\n",
       "   array([0, 0, 0, 0, 0, 0, 0, 0], dtype=int32)],\n",
       "  [array([0, 0, 0, 0, 0, 0, 0, 0], dtype=int32),\n",
       "   array([0, 0, 0, 0, 0, 0, 0, 0], dtype=int32),\n",
       "   array([0, 0, 0, 0, 0, 0, 0, 0], dtype=int32),\n",
       "   array([0, 0, 0, 0, 0, 0, 0, 0], dtype=int32),\n",
       "   array([0, 0, 0, 0, 0, 0, 0, 0], dtype=int32),\n",
       "   array([0, 0, 0, 0, 0, 0, 0, 0], dtype=int32),\n",
       "   array([0, 0, 0, 0, 0, 0, 0, 0], dtype=int32),\n",
       "   array([0, 0, 0, 0, 0, 0, 0, 0], dtype=int32)],\n",
       "  [array([0, 0, 0, 0, 0, 0, 0, 0], dtype=int32),\n",
       "   array([0, 0, 0, 0, 0, 0, 0, 0], dtype=int32),\n",
       "   array([0, 0, 0, 0, 0, 0, 0, 0], dtype=int32),\n",
       "   array([0, 0, 0, 0, 0, 0, 0, 0], dtype=int32),\n",
       "   array([0, 0, 0, 0, 0, 0, 0, 0], dtype=int32),\n",
       "   array([0, 0, 0, 0, 0, 0, 0, 0], dtype=int32),\n",
       "   array([0, 0, 0, 0, 0, 0, 0, 0], dtype=int32),\n",
       "   array([0, 0, 0, 0, 0, 0, 0, 0], dtype=int32)],\n",
       "  [array([0, 0, 0, 0, 0, 0, 0, 0], dtype=int32),\n",
       "   array([0, 0, 0, 0, 0, 0, 0, 0], dtype=int32),\n",
       "   array([0, 0, 0, 0, 0, 0, 0, 0], dtype=int32),\n",
       "   array([0, 0, 0, 0, 0, 0, 0, 0], dtype=int32),\n",
       "   array([0, 0, 0, 0, 0, 0, 0, 0], dtype=int32),\n",
       "   array([0, 0, 0, 0, 0, 0, 0, 0], dtype=int32),\n",
       "   array([0, 0, 0, 0, 0, 0, 0, 0], dtype=int32),\n",
       "   array([0, 0, 0, 0, 0, 0, 0, 0], dtype=int32)],\n",
       "  [array([0, 0, 0, 0, 0, 0, 0, 0], dtype=int32),\n",
       "   array([0, 0, 0, 0, 0, 0, 0, 0], dtype=int32),\n",
       "   array([0, 0, 0, 0, 0, 0, 0, 0], dtype=int32),\n",
       "   array([0, 0, 0, 0, 0, 0, 0, 0], dtype=int32),\n",
       "   array([0, 0, 0, 0, 0, 0, 0, 0], dtype=int32),\n",
       "   array([0, 0, 0, 0, 0, 0, 0, 0], dtype=int32),\n",
       "   array([0, 0, 0, 0, 0, 0, 0, 0], dtype=int32),\n",
       "   array([0, 0, 0, 0, 0, 0, 0, 0], dtype=int32)]],\n",
       " [[array([  3,   6, 191,   1, 567, 193,  36,  41], dtype=int32),\n",
       "   array([ 84, 203, 139,  17, 328,  74,   4, 103], dtype=int32),\n",
       "   array([   3,    6,   22,  546,   17,  107,  129, 4943], dtype=int32),\n",
       "   array([10171,    43,    14,   236,     1,    77,    14,   798], dtype=int32),\n",
       "   array([1575,    1,  567,  193, 1929,    5,    4, 1532], dtype=int32),\n",
       "   array([  37,    1, 2170,    7,    1,  252,    6,  658], dtype=int32),\n",
       "   array([  20,    4,   28,  843,    1,  798, 1575,  193], dtype=int32),\n",
       "   array([  36,  713,   79, 3491,    1,  567,    0,    0], dtype=int32)],\n",
       "  [array([0, 0, 0, 0, 0, 0, 0, 0], dtype=int32),\n",
       "   array([0, 0, 0, 0, 0, 0, 0, 0], dtype=int32),\n",
       "   array([0, 0, 0, 0, 0, 0, 0, 0], dtype=int32),\n",
       "   array([0, 0, 0, 0, 0, 0, 0, 0], dtype=int32),\n",
       "   array([0, 0, 0, 0, 0, 0, 0, 0], dtype=int32),\n",
       "   array([0, 0, 0, 0, 0, 0, 0, 0], dtype=int32),\n",
       "   array([0, 0, 0, 0, 0, 0, 0, 0], dtype=int32),\n",
       "   array([0, 0, 0, 0, 0, 0, 0, 0], dtype=int32)],\n",
       "  [array([0, 0, 0, 0, 0, 0, 0, 0], dtype=int32),\n",
       "   array([0, 0, 0, 0, 0, 0, 0, 0], dtype=int32),\n",
       "   array([0, 0, 0, 0, 0, 0, 0, 0], dtype=int32),\n",
       "   array([0, 0, 0, 0, 0, 0, 0, 0], dtype=int32),\n",
       "   array([0, 0, 0, 0, 0, 0, 0, 0], dtype=int32),\n",
       "   array([0, 0, 0, 0, 0, 0, 0, 0], dtype=int32),\n",
       "   array([0, 0, 0, 0, 0, 0, 0, 0], dtype=int32),\n",
       "   array([0, 0, 0, 0, 0, 0, 0, 0], dtype=int32)],\n",
       "  [array([0, 0, 0, 0, 0, 0, 0, 0], dtype=int32),\n",
       "   array([0, 0, 0, 0, 0, 0, 0, 0], dtype=int32),\n",
       "   array([0, 0, 0, 0, 0, 0, 0, 0], dtype=int32),\n",
       "   array([0, 0, 0, 0, 0, 0, 0, 0], dtype=int32),\n",
       "   array([0, 0, 0, 0, 0, 0, 0, 0], dtype=int32),\n",
       "   array([0, 0, 0, 0, 0, 0, 0, 0], dtype=int32),\n",
       "   array([0, 0, 0, 0, 0, 0, 0, 0], dtype=int32),\n",
       "   array([0, 0, 0, 0, 0, 0, 0, 0], dtype=int32)],\n",
       "  [array([0, 0, 0, 0, 0, 0, 0, 0], dtype=int32),\n",
       "   array([0, 0, 0, 0, 0, 0, 0, 0], dtype=int32),\n",
       "   array([0, 0, 0, 0, 0, 0, 0, 0], dtype=int32),\n",
       "   array([0, 0, 0, 0, 0, 0, 0, 0], dtype=int32),\n",
       "   array([0, 0, 0, 0, 0, 0, 0, 0], dtype=int32),\n",
       "   array([0, 0, 0, 0, 0, 0, 0, 0], dtype=int32),\n",
       "   array([0, 0, 0, 0, 0, 0, 0, 0], dtype=int32),\n",
       "   array([0, 0, 0, 0, 0, 0, 0, 0], dtype=int32)],\n",
       "  [array([0, 0, 0, 0, 0, 0, 0, 0], dtype=int32),\n",
       "   array([0, 0, 0, 0, 0, 0, 0, 0], dtype=int32),\n",
       "   array([0, 0, 0, 0, 0, 0, 0, 0], dtype=int32),\n",
       "   array([0, 0, 0, 0, 0, 0, 0, 0], dtype=int32),\n",
       "   array([0, 0, 0, 0, 0, 0, 0, 0], dtype=int32),\n",
       "   array([0, 0, 0, 0, 0, 0, 0, 0], dtype=int32),\n",
       "   array([0, 0, 0, 0, 0, 0, 0, 0], dtype=int32),\n",
       "   array([0, 0, 0, 0, 0, 0, 0, 0], dtype=int32)],\n",
       "  [array([0, 0, 0, 0, 0, 0, 0, 0], dtype=int32),\n",
       "   array([0, 0, 0, 0, 0, 0, 0, 0], dtype=int32),\n",
       "   array([0, 0, 0, 0, 0, 0, 0, 0], dtype=int32),\n",
       "   array([0, 0, 0, 0, 0, 0, 0, 0], dtype=int32),\n",
       "   array([0, 0, 0, 0, 0, 0, 0, 0], dtype=int32),\n",
       "   array([0, 0, 0, 0, 0, 0, 0, 0], dtype=int32),\n",
       "   array([0, 0, 0, 0, 0, 0, 0, 0], dtype=int32),\n",
       "   array([0, 0, 0, 0, 0, 0, 0, 0], dtype=int32)],\n",
       "  [array([0, 0, 0, 0, 0, 0, 0, 0], dtype=int32),\n",
       "   array([0, 0, 0, 0, 0, 0, 0, 0], dtype=int32),\n",
       "   array([0, 0, 0, 0, 0, 0, 0, 0], dtype=int32),\n",
       "   array([0, 0, 0, 0, 0, 0, 0, 0], dtype=int32),\n",
       "   array([0, 0, 0, 0, 0, 0, 0, 0], dtype=int32),\n",
       "   array([0, 0, 0, 0, 0, 0, 0, 0], dtype=int32),\n",
       "   array([0, 0, 0, 0, 0, 0, 0, 0], dtype=int32),\n",
       "   array([0, 0, 0, 0, 0, 0, 0, 0], dtype=int32)]]]"
      ]
     },
     "execution_count": 8,
     "metadata": {},
     "output_type": "execute_result"
    }
   ],
   "source": [
    "x_val_padded_seqs_split[:2]"
   ]
  },
  {
   "cell_type": "code",
   "execution_count": null,
   "metadata": {
    "collapsed": true
   },
   "outputs": [],
   "source": [
    "\"\"\"\n",
    "#load pre-trained GloVe word embeddings\n",
    "print \"Using GloVe embeddings\"\n",
    "glove_path = 'glove.6B.200d.txt'\n",
    "embeddings_index = {}\n",
    "f = open(glove_path)\n",
    "for line in f:\n",
    "    values = line.split()\n",
    "    word = values[0]\n",
    "    coefs = np.asarray(values[1:], dtype='float32')\n",
    "    embeddings_index[word] = coefs\n",
    "f.close()\n",
    "print('Found %s word vectors.' % len(embeddings_index))\n",
    "\"\"\"\n",
    "\n",
    "\n",
    "#use pre-trained GloVe word embeddings to initialize the embedding layer\n",
    "embedding_matrix = np.random.random((MAX_NUM_WORDS + 1, EMBEDDING_DIM))\n",
    "\n",
    "\"\"\"\n",
    "for word, i in vocab.items():\n",
    "    if i<MAX_NUM_WORDS:\n",
    "        embedding_vector = embeddings_index.get(word)\n",
    "        if embedding_vector is not None:\n",
    "        # words not found in embedding index will be random initialized.\n",
    "            embedding_matrix[i] = embedding_vector\n",
    "\"\"\"\n",
    "            \n",
    "embedding_layer = Embedding(MAX_NUM_WORDS + 1,EMBEDDING_DIM,weights=[embedding_matrix],input_length=int(MAX_LEN/64),trainable=True)"
   ]
  },
  {
   "cell_type": "code",
   "execution_count": 1,
   "metadata": {
    "scrolled": true
   },
   "outputs": [
    {
     "name": "stdout",
     "output_type": "stream",
     "text": [
      "Build Model\n"
     ]
    },
    {
     "ename": "NameError",
     "evalue": "name 'Input' is not defined",
     "output_type": "error",
     "traceback": [
      "\u001b[0;31m---------------------------------------------------------------------------\u001b[0m",
      "\u001b[0;31mNameError\u001b[0m                                 Traceback (most recent call last)",
      "\u001b[0;32m<ipython-input-1-2a6433f3e0a7>\u001b[0m in \u001b[0;36m<module>\u001b[0;34m()\u001b[0m\n\u001b[1;32m      1\u001b[0m \u001b[0;31m#build model\u001b[0m\u001b[0;34m\u001b[0m\u001b[0;34m\u001b[0m\u001b[0m\n\u001b[1;32m      2\u001b[0m \u001b[0mprint\u001b[0m\u001b[0;34m(\u001b[0m\u001b[0;34m\"Build Model\"\u001b[0m\u001b[0;34m)\u001b[0m\u001b[0;34m\u001b[0m\u001b[0m\n\u001b[0;32m----> 3\u001b[0;31m \u001b[0minput1\u001b[0m \u001b[0;34m=\u001b[0m \u001b[0mInput\u001b[0m\u001b[0;34m(\u001b[0m\u001b[0mshape\u001b[0m\u001b[0;34m=\u001b[0m\u001b[0;34m(\u001b[0m\u001b[0;36m8\u001b[0m\u001b[0;34m,\u001b[0m\u001b[0;34m)\u001b[0m\u001b[0;34m,\u001b[0m\u001b[0mdtype\u001b[0m\u001b[0;34m=\u001b[0m\u001b[0;34m'int32'\u001b[0m\u001b[0;34m)\u001b[0m\u001b[0;34m\u001b[0m\u001b[0m\n\u001b[0m\u001b[1;32m      4\u001b[0m \u001b[0membed\u001b[0m \u001b[0;34m=\u001b[0m \u001b[0membedding_layer\u001b[0m\u001b[0;34m(\u001b[0m\u001b[0minput1\u001b[0m\u001b[0;34m)\u001b[0m\u001b[0;34m\u001b[0m\u001b[0m\n\u001b[1;32m      5\u001b[0m \u001b[0mgru1\u001b[0m \u001b[0;34m=\u001b[0m \u001b[0mGRU\u001b[0m\u001b[0;34m(\u001b[0m\u001b[0mNUM_FILTERS\u001b[0m\u001b[0;34m,\u001b[0m\u001b[0mrecurrent_activation\u001b[0m\u001b[0;34m=\u001b[0m\u001b[0;34m'sigmoid'\u001b[0m\u001b[0;34m,\u001b[0m\u001b[0mactivation\u001b[0m\u001b[0;34m=\u001b[0m\u001b[0;32mNone\u001b[0m\u001b[0;34m,\u001b[0m\u001b[0mreturn_sequences\u001b[0m\u001b[0;34m=\u001b[0m\u001b[0;32mFalse\u001b[0m\u001b[0;34m)\u001b[0m\u001b[0;34m(\u001b[0m\u001b[0membed\u001b[0m\u001b[0;34m)\u001b[0m\u001b[0;34m\u001b[0m\u001b[0m\n",
      "\u001b[0;31mNameError\u001b[0m: name 'Input' is not defined"
     ]
    }
   ],
   "source": [
    "#build model\n",
    "print(\"Build Model\")\n",
    "input1 = Input(shape=(8,),dtype='int32')\n",
    "embed = embedding_layer(input1)\n",
    "gru1 = GRU(NUM_FILTERS,recurrent_activation='sigmoid',activation=None,return_sequences=False)(embed)\n",
    "Encoder1 = Model(input1, gru1)"
   ]
  },
  {
   "cell_type": "code",
   "execution_count": null,
   "metadata": {
    "collapsed": true
   },
   "outputs": [],
   "source": []
  },
  {
   "cell_type": "code",
   "execution_count": 9,
   "metadata": {
    "scrolled": false
   },
   "outputs": [
    {
     "name": "stdout",
     "output_type": "stream",
     "text": [
      "_________________________________________________________________\n",
      "Layer (type)                 Output Shape              Param #   \n",
      "=================================================================\n",
      "input_1 (InputLayer)         (None, 8)                 0         \n",
      "_________________________________________________________________\n",
      "embedding_1 (Embedding)      (None, 8, 200)            6000200   \n",
      "_________________________________________________________________\n",
      "gru_1 (GRU)                  (None, 50)                37650     \n",
      "=================================================================\n",
      "Total params: 6,037,850\n",
      "Trainable params: 6,037,850\n",
      "Non-trainable params: 0\n",
      "_________________________________________________________________\n",
      "None\n",
      "_________________________________________________________________\n",
      "Layer (type)                 Output Shape              Param #   \n",
      "=================================================================\n",
      "input_3 (InputLayer)         (None, 8, 8)              0         \n",
      "_________________________________________________________________\n",
      "time_distributed_2 (TimeDist (None, 8, 50)             6037850   \n",
      "_________________________________________________________________\n",
      "gru_2 (GRU)                  (None, 50)                15150     \n",
      "=================================================================\n",
      "Total params: 6,053,000\n",
      "Trainable params: 6,053,000\n",
      "Non-trainable params: 0\n",
      "_________________________________________________________________\n",
      "None\n",
      "_________________________________________________________________\n",
      "Layer (type)                 Output Shape              Param #   \n",
      "=================================================================\n",
      "input_4 (InputLayer)         (None, 8, 8, 8)           0         \n",
      "_________________________________________________________________\n",
      "time_distributed_3 (TimeDist (None, 8, 50)             6053000   \n",
      "_________________________________________________________________\n",
      "gru_3 (GRU)                  (None, 50)                15150     \n",
      "_________________________________________________________________\n",
      "dense_1 (Dense)              (None, 5)                 255       \n",
      "=================================================================\n",
      "Total params: 6,068,405\n",
      "Trainable params: 6,068,405\n",
      "Non-trainable params: 0\n",
      "_________________________________________________________________\n",
      "None\n"
     ]
    }
   ],
   "source": [
    "input2 = Input(shape=(8,int(MAX_LEN/64),), dtype='int32')\n",
    "embed2 = TimeDistributed(Encoder1)(input2)\n",
    "gru2 = GRU(NUM_FILTERS,recurrent_activation='sigmoid',activation=None,return_sequences=False)(embed2)\n",
    "Encoder2 = Model(input2,gru2)\n",
    "\n",
    "input3 = Input(shape=(8,8,int(MAX_LEN/64)), dtype='int32')\n",
    "embed3 = TimeDistributed(Encoder2)(input3)\n",
    "gru3 = GRU(NUM_FILTERS,recurrent_activation='sigmoid',activation=None,return_sequences=False)(embed3)\n",
    "preds = Dense(5, activation='softmax')(gru3)\n",
    "model = Model(input3, preds)\n",
    "\n",
    "print(Encoder1.summary())\n",
    "print(Encoder2.summary())\n",
    "print(model.summary())\n",
    "\n",
    "#use adam optimizer\n",
    "from keras.optimizers import Adam\n",
    "opt = Adam(lr=0.001, beta_1=0.9, beta_2=0.999, epsilon=1e-08)\n",
    "\n",
    "model.compile(loss='categorical_crossentropy',optimizer=opt,metrics=['acc'])"
   ]
  },
  {
   "cell_type": "code",
   "execution_count": 2,
   "metadata": {},
   "outputs": [
    {
     "name": "stderr",
     "output_type": "stream",
     "text": [
      "/Users/luokui/anaconda3/lib/python3.6/importlib/_bootstrap.py:205: RuntimeWarning: numpy.dtype size changed, may indicate binary incompatibility. Expected 96, got 88\n",
      "  return f(*args, **kwds)\n",
      "/Users/luokui/anaconda3/lib/python3.6/site-packages/h5py/__init__.py:34: FutureWarning: Conversion of the second argument of issubdtype from `float` to `np.floating` is deprecated. In future, it will be treated as `np.float64 == np.dtype(float).type`.\n",
      "  from ._conv import register_converters as _register_converters\n",
      "Using TensorFlow backend.\n",
      "/Users/luokui/anaconda3/lib/python3.6/importlib/_bootstrap.py:205: RuntimeWarning: numpy.dtype size changed, may indicate binary incompatibility. Expected 96, got 88\n",
      "  return f(*args, **kwds)\n",
      "/Users/luokui/anaconda3/lib/python3.6/importlib/_bootstrap.py:205: RuntimeWarning: numpy.dtype size changed, may indicate binary incompatibility. Expected 96, got 88\n",
      "  return f(*args, **kwds)\n"
     ]
    },
    {
     "ename": "NameError",
     "evalue": "name 'model' is not defined",
     "output_type": "error",
     "traceback": [
      "\u001b[0;31m---------------------------------------------------------------------------\u001b[0m",
      "\u001b[0;31mNameError\u001b[0m                                 Traceback (most recent call last)",
      "\u001b[0;32m<ipython-input-2-98948d41d92b>\u001b[0m in \u001b[0;36m<module>\u001b[0;34m()\u001b[0m\n\u001b[1;32m      4\u001b[0m \u001b[0mcallbacks\u001b[0m\u001b[0;34m=\u001b[0m\u001b[0;34m[\u001b[0m\u001b[0mcheckpoint\u001b[0m\u001b[0;34m]\u001b[0m\u001b[0;34m\u001b[0m\u001b[0m\n\u001b[1;32m      5\u001b[0m \u001b[0;34m\u001b[0m\u001b[0m\n\u001b[0;32m----> 6\u001b[0;31m model.fit(np.array(x_train_padded_seqs_split), y_train, \n\u001b[0m\u001b[1;32m      7\u001b[0m           \u001b[0mvalidation_data\u001b[0m \u001b[0;34m=\u001b[0m \u001b[0;34m(\u001b[0m\u001b[0mnp\u001b[0m\u001b[0;34m.\u001b[0m\u001b[0marray\u001b[0m\u001b[0;34m(\u001b[0m\u001b[0mx_val_padded_seqs_split\u001b[0m\u001b[0;34m)\u001b[0m\u001b[0;34m,\u001b[0m \u001b[0my_val\u001b[0m\u001b[0;34m)\u001b[0m\u001b[0;34m,\u001b[0m\u001b[0;34m\u001b[0m\u001b[0m\n\u001b[1;32m      8\u001b[0m           \u001b[0mnb_epoch\u001b[0m \u001b[0;34m=\u001b[0m \u001b[0mEPOCHS\u001b[0m\u001b[0;34m,\u001b[0m\u001b[0;34m\u001b[0m\u001b[0m\n",
      "\u001b[0;31mNameError\u001b[0m: name 'model' is not defined"
     ]
    }
   ],
   "source": [
    "from keras.callbacks import ModelCheckpoint             \n",
    "savebestmodel = 'save_model/SRNN(8,2)_yelp2013.h5'\n",
    "checkpoint = ModelCheckpoint(savebestmodel, monitor='val_acc', verbose=1, save_best_only=True, mode='max')\n",
    "callbacks=[checkpoint] \n",
    "             \n",
    "model.fit(np.array(x_train_padded_seqs_split), y_train, \n",
    "          validation_data = (np.array(x_val_padded_seqs_split), y_val),\n",
    "          nb_epoch = EPOCHS, \n",
    "          batch_size = Batch_size,\n",
    "          callbacks = callbacks,\n",
    "          verbose = 1)"
   ]
  },
  {
   "cell_type": "code",
   "execution_count": null,
   "metadata": {
    "collapsed": true
   },
   "outputs": [],
   "source": [
    "#use the best model to evaluate on test set\n",
    "from keras.models import load_model\n",
    "best_model= load_model(savebestmodel)          \n",
    "print best_model.evaluate(np.array(x_test_padded_seqs_split),y_test,batch_size=Batch_size)"
   ]
  },
  {
   "cell_type": "code",
   "execution_count": null,
   "metadata": {
    "collapsed": true
   },
   "outputs": [],
   "source": []
  },
  {
   "cell_type": "code",
   "execution_count": null,
   "metadata": {
    "collapsed": true
   },
   "outputs": [],
   "source": []
  }
 ],
 "metadata": {
  "kernelspec": {
   "display_name": "Python 3",
   "language": "python",
   "name": "python3"
  },
  "language_info": {
   "codemirror_mode": {
    "name": "ipython",
    "version": 3
   },
   "file_extension": ".py",
   "mimetype": "text/x-python",
   "name": "python",
   "nbconvert_exporter": "python",
   "pygments_lexer": "ipython3",
   "version": "3.6.2"
  }
 },
 "nbformat": 4,
 "nbformat_minor": 2
}
