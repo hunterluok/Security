{
 "cells": [
  {
   "cell_type": "code",
   "execution_count": 136,
   "metadata": {
    "collapsed": true
   },
   "outputs": [],
   "source": [
    "import keras\n",
    "from keras.models import Sequential\n",
    "from keras.layers import Dense,Activation\n",
    "import numpy as np"
   ]
  },
  {
   "cell_type": "code",
   "execution_count": 197,
   "metadata": {
    "collapsed": true,
    "scrolled": true
   },
   "outputs": [],
   "source": [
    "model = Sequential([\n",
    "    Dense(64,input_shape=(100,),activation='relu'),\n",
    "    Dense(128,input_shape=(100,),activation='relu'),\n",
    "    Dense(4,activation='softmax')])\n",
    "model.compile(loss='categorical_crossentropy',optimizer='rmsprop',metrics=['accuracy'])"
   ]
  },
  {
   "cell_type": "code",
   "execution_count": 201,
   "metadata": {},
   "outputs": [
    {
     "data": {
      "text/plain": [
       "[<tf.Variable 'dense_32/kernel:0' shape=(100, 64) dtype=float32_ref>,\n",
       " <tf.Variable 'dense_32/bias:0' shape=(64,) dtype=float32_ref>,\n",
       " <tf.Variable 'dense_33/kernel:0' shape=(64, 128) dtype=float32_ref>,\n",
       " <tf.Variable 'dense_33/bias:0' shape=(128,) dtype=float32_ref>,\n",
       " <tf.Variable 'dense_34/kernel:0' shape=(128, 4) dtype=float32_ref>,\n",
       " <tf.Variable 'dense_34/bias:0' shape=(4,) dtype=float32_ref>]"
      ]
     },
     "execution_count": 201,
     "metadata": {},
     "output_type": "execute_result"
    }
   ],
   "source": [
    "model.count_params()\n",
    "model.weights"
   ]
  },
  {
   "cell_type": "code",
   "execution_count": 187,
   "metadata": {
    "collapsed": true
   },
   "outputs": [],
   "source": [
    "model = Sequential()\n",
    "model.add(Dense(units=64,input_dim=100))\n",
    "model.add(Activation('relu'))\n",
    "model.add(Dense(units=4))\n",
    "model.add(Activation('softmax'))\n",
    "# 类似于构建了一个多层感知机  # Dense 主要用于 全连接层。\n",
    "model.compile(loss='categorical_crossentropy',optimizer='sgd',metrics=['accuracy'])\n",
    "\n",
    "#model.compile(loss=keras.losses.categorical_crossentropy,\n",
    "#              optimizer=keras.optimizers.SGD(lr=0.001,momentum=0.9,nesterov=True),\n",
    " #            metrics = ['accuracy'])"
   ]
  },
  {
   "cell_type": "code",
   "execution_count": 165,
   "metadata": {
    "collapsed": true
   },
   "outputs": [],
   "source": [
    "def build_data(m, n, classes, rate=1.1):\n",
    "    y = []\n",
    "    data = []\n",
    "    for i in range(classes):\n",
    "        temp_classlabel = np.repeat(i,m).tolist()  \n",
    "        temp_data = np.random.random((m, n)) + rate * i    \n",
    "        y.extend(temp_classlabel)\n",
    "        data.extend(temp_data.tolist()) #np.repeat(1,5).tolist() 这里很重要\n",
    "       \n",
    "    N = m * classes\n",
    "    y_ = np.zeros((N,classes))\n",
    "    for i in  range(N):\n",
    "        for j in range(classes):\n",
    "            if y[i] == j:\n",
    "                y_[i][j] = 1\n",
    "    return np.array(data),y_\n",
    "\n",
    "train_x, train_y = build_data(10000,100,4,rate = 1.1)"
   ]
  },
  {
   "cell_type": "code",
   "execution_count": 198,
   "metadata": {},
   "outputs": [
    {
     "name": "stdout",
     "output_type": "stream",
     "text": [
      "Epoch 1/10\n",
      "40000/40000 [==============================] - 1s - loss: 0.4605 - acc: 0.7881     \n",
      "Epoch 2/10\n",
      "40000/40000 [==============================] - 1s - loss: 0.2356 - acc: 0.8999     \n",
      "Epoch 3/10\n",
      "40000/40000 [==============================] - 1s - loss: 0.1546 - acc: 0.9381     \n",
      "Epoch 4/10\n",
      "40000/40000 [==============================] - 1s - loss: 0.1163 - acc: 0.9583     \n",
      "Epoch 5/10\n",
      "40000/40000 [==============================] - 1s - loss: 0.2334 - acc: 0.9615     \n",
      "Epoch 6/10\n",
      "40000/40000 [==============================] - 1s - loss: 4.8347 - acc: 0.6935     \n",
      "Epoch 7/10\n",
      "40000/40000 [==============================] - 1s - loss: 2.0172 - acc: 0.8591     \n",
      "Epoch 8/10\n",
      "40000/40000 [==============================] - 1s - loss: 8.0590 - acc: 0.5000     \n",
      "Epoch 9/10\n",
      "40000/40000 [==============================] - 1s - loss: 8.0590 - acc: 0.5000     \n",
      "Epoch 10/10\n",
      "40000/40000 [==============================] - 1s - loss: 8.0590 - acc: 0.5000     \n"
     ]
    }
   ],
   "source": [
    "re = model.fit(train_x,train_y,epochs=10,batch_size=40)"
   ]
  },
  {
   "cell_type": "code",
   "execution_count": 189,
   "metadata": {
    "collapsed": true
   },
   "outputs": [],
   "source": [
    "test_x,test_y = build_data(1000,100,4,rate=1.01)"
   ]
  },
  {
   "cell_type": "code",
   "execution_count": 190,
   "metadata": {},
   "outputs": [
    {
     "name": "stdout",
     "output_type": "stream",
     "text": [
      "2592/4000 [==================>...........] - ETA: 0s"
     ]
    },
    {
     "data": {
      "text/plain": [
       "[0.06247888085618615, 1.0]"
      ]
     },
     "execution_count": 190,
     "metadata": {},
     "output_type": "execute_result"
    }
   ],
   "source": [
    "# 模型性能评价。\n",
    "loss_test = model.evaluate(test_x,test_y)\n",
    "loss_test"
   ]
  },
  {
   "cell_type": "code",
   "execution_count": 191,
   "metadata": {},
   "outputs": [
    {
     "data": {
      "text/plain": [
       "1.0"
      ]
     },
     "execution_count": 191,
     "metadata": {},
     "output_type": "execute_result"
    }
   ],
   "source": [
    "class_pred = model.predict(test_x)\n",
    "sum(class_pred.argmax(1)==test_y.argmax(1))/np.shape(test_x)[0]"
   ]
  },
  {
   "cell_type": "code",
   "execution_count": 202,
   "metadata": {
    "collapsed": true
   },
   "outputs": [],
   "source": [
    "import keras.backend as K"
   ]
  },
  {
   "cell_type": "code",
   "execution_count": 206,
   "metadata": {},
   "outputs": [
    {
     "ename": "AttributeError",
     "evalue": "'numpy.dtype' object has no attribute 'base_dtype'",
     "output_type": "error",
     "traceback": [
      "\u001b[0;31m---------------------------------------------------------------------------\u001b[0m",
      "\u001b[0;31mAttributeError\u001b[0m                            Traceback (most recent call last)",
      "\u001b[0;32m<ipython-input-206-3912b002565d>\u001b[0m in \u001b[0;36m<module>\u001b[0;34m()\u001b[0m\n\u001b[1;32m      2\u001b[0m     \u001b[0;32mreturn\u001b[0m \u001b[0mK\u001b[0m\u001b[0;34m.\u001b[0m\u001b[0mmean\u001b[0m\u001b[0;34m(\u001b[0m\u001b[0mx\u001b[0m\u001b[0;34m)\u001b[0m\u001b[0;34m\u001b[0m\u001b[0m\n\u001b[1;32m      3\u001b[0m \u001b[0mx\u001b[0m \u001b[0;34m=\u001b[0m \u001b[0mnp\u001b[0m\u001b[0;34m.\u001b[0m\u001b[0marray\u001b[0m\u001b[0;34m(\u001b[0m\u001b[0;34m[\u001b[0m\u001b[0;36m1\u001b[0m\u001b[0;34m,\u001b[0m\u001b[0;36m2\u001b[0m\u001b[0;34m,\u001b[0m\u001b[0;36m3\u001b[0m\u001b[0;34m]\u001b[0m\u001b[0;34m)\u001b[0m\u001b[0;34m\u001b[0m\u001b[0m\n\u001b[0;32m----> 4\u001b[0;31m \u001b[0mmean_pred\u001b[0m\u001b[0;34m(\u001b[0m\u001b[0mtest_y\u001b[0m\u001b[0;34m)\u001b[0m\u001b[0;34m\u001b[0m\u001b[0m\n\u001b[0m",
      "\u001b[0;32m<ipython-input-206-3912b002565d>\u001b[0m in \u001b[0;36mmean_pred\u001b[0;34m(x)\u001b[0m\n\u001b[1;32m      1\u001b[0m \u001b[0;32mdef\u001b[0m \u001b[0mmean_pred\u001b[0m\u001b[0;34m(\u001b[0m\u001b[0mx\u001b[0m\u001b[0;34m)\u001b[0m\u001b[0;34m:\u001b[0m\u001b[0;34m\u001b[0m\u001b[0m\n\u001b[0;32m----> 2\u001b[0;31m     \u001b[0;32mreturn\u001b[0m \u001b[0mK\u001b[0m\u001b[0;34m.\u001b[0m\u001b[0mmean\u001b[0m\u001b[0;34m(\u001b[0m\u001b[0mx\u001b[0m\u001b[0;34m)\u001b[0m\u001b[0;34m\u001b[0m\u001b[0m\n\u001b[0m\u001b[1;32m      3\u001b[0m \u001b[0mx\u001b[0m \u001b[0;34m=\u001b[0m \u001b[0mnp\u001b[0m\u001b[0;34m.\u001b[0m\u001b[0marray\u001b[0m\u001b[0;34m(\u001b[0m\u001b[0;34m[\u001b[0m\u001b[0;36m1\u001b[0m\u001b[0;34m,\u001b[0m\u001b[0;36m2\u001b[0m\u001b[0;34m,\u001b[0m\u001b[0;36m3\u001b[0m\u001b[0;34m]\u001b[0m\u001b[0;34m)\u001b[0m\u001b[0;34m\u001b[0m\u001b[0m\n\u001b[1;32m      4\u001b[0m \u001b[0mmean_pred\u001b[0m\u001b[0;34m(\u001b[0m\u001b[0mtest_y\u001b[0m\u001b[0;34m)\u001b[0m\u001b[0;34m\u001b[0m\u001b[0m\n",
      "\u001b[0;32m~/anaconda3/lib/python3.6/site-packages/keras/backend/tensorflow_backend.py\u001b[0m in \u001b[0;36mmean\u001b[0;34m(x, axis, keepdims)\u001b[0m\n\u001b[1;32m   1286\u001b[0m         \u001b[0mA\u001b[0m \u001b[0mtensor\u001b[0m \u001b[0;32mwith\u001b[0m \u001b[0mthe\u001b[0m \u001b[0mmean\u001b[0m \u001b[0mof\u001b[0m \u001b[0melements\u001b[0m \u001b[0mof\u001b[0m\u001b[0;31m \u001b[0m\u001b[0;31m`\u001b[0m\u001b[0mx\u001b[0m\u001b[0;31m`\u001b[0m\u001b[0;34m.\u001b[0m\u001b[0;34m\u001b[0m\u001b[0m\n\u001b[1;32m   1287\u001b[0m     \"\"\"\n\u001b[0;32m-> 1288\u001b[0;31m     \u001b[0;32mif\u001b[0m \u001b[0mx\u001b[0m\u001b[0;34m.\u001b[0m\u001b[0mdtype\u001b[0m\u001b[0;34m.\u001b[0m\u001b[0mbase_dtype\u001b[0m \u001b[0;34m==\u001b[0m \u001b[0mtf\u001b[0m\u001b[0;34m.\u001b[0m\u001b[0mbool\u001b[0m\u001b[0;34m:\u001b[0m\u001b[0;34m\u001b[0m\u001b[0m\n\u001b[0m\u001b[1;32m   1289\u001b[0m         \u001b[0mx\u001b[0m \u001b[0;34m=\u001b[0m \u001b[0mtf\u001b[0m\u001b[0;34m.\u001b[0m\u001b[0mcast\u001b[0m\u001b[0;34m(\u001b[0m\u001b[0mx\u001b[0m\u001b[0;34m,\u001b[0m \u001b[0mfloatx\u001b[0m\u001b[0;34m(\u001b[0m\u001b[0;34m)\u001b[0m\u001b[0;34m)\u001b[0m\u001b[0;34m\u001b[0m\u001b[0m\n\u001b[1;32m   1290\u001b[0m     \u001b[0;32mreturn\u001b[0m \u001b[0mtf\u001b[0m\u001b[0;34m.\u001b[0m\u001b[0mreduce_mean\u001b[0m\u001b[0;34m(\u001b[0m\u001b[0mx\u001b[0m\u001b[0;34m,\u001b[0m \u001b[0maxis\u001b[0m\u001b[0;34m=\u001b[0m\u001b[0maxis\u001b[0m\u001b[0;34m,\u001b[0m \u001b[0mkeep_dims\u001b[0m\u001b[0;34m=\u001b[0m\u001b[0mkeepdims\u001b[0m\u001b[0;34m)\u001b[0m\u001b[0;34m\u001b[0m\u001b[0m\n",
      "\u001b[0;31mAttributeError\u001b[0m: 'numpy.dtype' object has no attribute 'base_dtype'"
     ]
    }
   ],
   "source": [
    "def mean_pred(class_pred,test_y):\n",
    "    return K.mean(class_pred)\n",
    "x = np.array([1,2,3])\n",
    "mean_pred(test_y)"
   ]
  },
  {
   "cell_type": "code",
   "execution_count": 213,
   "metadata": {},
   "outputs": [
    {
     "name": "stdout",
     "output_type": "stream",
     "text": [
      "Epoch 1/10\n",
      "1000/1000 [==============================] - 0s - loss: 0.7058 - acc: 0.5130     \n",
      "Epoch 2/10\n",
      "1000/1000 [==============================] - 0s - loss: 0.6966 - acc: 0.5130     \n",
      "Epoch 3/10\n",
      "1000/1000 [==============================] - 0s - loss: 0.6896 - acc: 0.5430     \n",
      "Epoch 4/10\n",
      "1000/1000 [==============================] - 0s - loss: 0.6856 - acc: 0.5600     \n",
      "Epoch 5/10\n",
      "1000/1000 [==============================] - 0s - loss: 0.6829 - acc: 0.5570     \n",
      "Epoch 6/10\n",
      "1000/1000 [==============================] - 0s - loss: 0.6772 - acc: 0.5760     \n",
      "Epoch 7/10\n",
      "1000/1000 [==============================] - 0s - loss: 0.6761 - acc: 0.5680     \n",
      "Epoch 8/10\n",
      "1000/1000 [==============================] - 0s - loss: 0.6723 - acc: 0.5810     \n",
      "Epoch 9/10\n",
      "1000/1000 [==============================] - 0s - loss: 0.6661 - acc: 0.5940     \n",
      "Epoch 10/10\n",
      "1000/1000 [==============================] - 0s - loss: 0.6663 - acc: 0.6150     \n"
     ]
    },
    {
     "data": {
      "text/plain": [
       "<keras.callbacks.History at 0x120ee4d30>"
      ]
     },
     "execution_count": 213,
     "metadata": {},
     "output_type": "execute_result"
    }
   ],
   "source": [
    "model = Sequential()\n",
    "model.add(Dense(32,activation='relu',input_dim=100))\n",
    "model.add(Dense(1,activation='sigmoid'))\n",
    "model.compile(optimizer='rmsprop',loss='binary_crossentropy',metrics=['accuracy'])\n",
    "\n",
    "data = np.random.random((1000,100))\n",
    "labels = np.random.randint(2,size=((1000,1)))\n",
    "\n",
    "model.fit(data,labels,epochs=10,batch_size=32)"
   ]
  },
  {
   "cell_type": "code",
   "execution_count": 217,
   "metadata": {},
   "outputs": [
    {
     "data": {
      "text/plain": [
       "array([[ 1.,  0.],\n",
       "       [ 0.,  1.],\n",
       "       [ 0.,  1.],\n",
       "       ..., \n",
       "       [ 0.,  1.],\n",
       "       [ 1.,  0.],\n",
       "       [ 1.,  0.]])"
      ]
     },
     "execution_count": 217,
     "metadata": {},
     "output_type": "execute_result"
    }
   ],
   "source": [
    "oneh = keras.utils.to_categorical(labels,num_classes=2)\n",
    "oneh"
   ]
  },
  {
   "cell_type": "code",
   "execution_count": 218,
   "metadata": {
    "collapsed": true
   },
   "outputs": [],
   "source": [
    "from keras.layers import  LSTM"
   ]
  },
  {
   "cell_type": "code",
   "execution_count": 219,
   "metadata": {
    "collapsed": true
   },
   "outputs": [],
   "source": [
    "data_dim = 16\n",
    "timesteps = 8\n",
    "num_classes = 10"
   ]
  },
  {
   "cell_type": "code",
   "execution_count": 220,
   "metadata": {},
   "outputs": [
    {
     "name": "stdout",
     "output_type": "stream",
     "text": [
      "Train on 1000 samples, validate on 100 samples\n",
      "Epoch 1/5\n",
      "1000/1000 [==============================] - 2s - loss: 11.4975 - acc: 0.0970 - val_loss: 11.9283 - val_acc: 0.1300\n",
      "Epoch 2/5\n",
      "1000/1000 [==============================] - 0s - loss: 11.4951 - acc: 0.1130 - val_loss: 11.9251 - val_acc: 0.1200\n",
      "Epoch 3/5\n",
      "1000/1000 [==============================] - 0s - loss: 11.4944 - acc: 0.1120 - val_loss: 11.9268 - val_acc: 0.1000\n",
      "Epoch 4/5\n",
      "1000/1000 [==============================] - 0s - loss: 11.4948 - acc: 0.1020 - val_loss: 11.9257 - val_acc: 0.1200\n",
      "Epoch 5/5\n",
      "1000/1000 [==============================] - 0s - loss: 11.4945 - acc: 0.1140 - val_loss: 11.9288 - val_acc: 0.1000\n"
     ]
    },
    {
     "data": {
      "text/plain": [
       "<keras.callbacks.History at 0x125753f60>"
      ]
     },
     "execution_count": 220,
     "metadata": {},
     "output_type": "execute_result"
    }
   ],
   "source": [
    "model = Sequential()\n",
    "model.add(LSTM(32,return_sequences=True,input_shape=(timesteps,data_dim)))\n",
    "model.add(LSTM(32,return_sequences=True))\n",
    "model.add(LSTM(32))\n",
    "model.add(Dense(10,activation='softmax'))\n",
    "model.compile(loss='categorical_crossentropy',optimizer='rmsprop',metrics=['accuracy'])\n",
    "x_train = np.random.random((1000,timesteps,data_dim))\n",
    "y_train = np.random.random((1000,num_classes))\n",
    "\n",
    "x_val = np.random.random((100,timesteps,data_dim))\n",
    "y_val = np.random.random((100,num_classes))\n",
    "\n",
    "model.fit(x_train,y_train,batch_size=64,epochs=5,validation_data=(x_val,y_val))"
   ]
  },
  {
   "cell_type": "code",
   "execution_count": 225,
   "metadata": {},
   "outputs": [
    {
     "name": "stdout",
     "output_type": "stream",
     "text": [
      "Train on 320 samples, validate on 96 samples\n",
      "Epoch 1/5\n",
      "320/320 [==============================] - 2s - loss: 11.3604 - acc: 0.1000 - val_loss: 11.5452 - val_acc: 0.1458\n",
      "Epoch 2/5\n",
      "320/320 [==============================] - 0s - loss: 11.3539 - acc: 0.0875 - val_loss: 11.5423 - val_acc: 0.0938\n",
      "Epoch 3/5\n",
      "320/320 [==============================] - 0s - loss: 11.3527 - acc: 0.0875 - val_loss: 11.5416 - val_acc: 0.0729\n",
      "Epoch 4/5\n",
      "320/320 [==============================] - ETA: 0s - loss: 11.3274 - acc: 0.07 - 0s - loss: 11.3520 - acc: 0.0875 - val_loss: 11.5411 - val_acc: 0.0729\n",
      "Epoch 5/5\n",
      "320/320 [==============================] - 0s - loss: 11.3514 - acc: 0.0938 - val_loss: 11.5407 - val_acc: 0.0833\n"
     ]
    },
    {
     "data": {
      "text/plain": [
       "<keras.callbacks.History at 0x12fdc9438>"
      ]
     },
     "execution_count": 225,
     "metadata": {},
     "output_type": "execute_result"
    }
   ],
   "source": [
    "data_dim = 16\n",
    "timesteps = 8\n",
    "num_classes = 10\n",
    "batch_size = 32\n",
    "\n",
    "model = Sequential()\n",
    "model.add(LSTM(32,return_sequences = True,stateful = True,batch_input_shape = (batch_size,timesteps,data_dim)))\n",
    "model.add(LSTM(32,return_sequences = True,stateful = True))\n",
    "model.add(LSTM(32,stateful=True))\n",
    "model.add(Dense(10,activation='softmax'))\n",
    "\n",
    "model.compile(loss='categorical_crossentropy',optimizer='rmsprop',metrics = ['accuracy'])\n",
    "x_train = np.random.random((batch_size * 10, timesteps, data_dim))\n",
    "y_train = np.random.random((batch_size * 10, num_classes))\n",
    "\n",
    "# Generate dummy validation data\n",
    "x_val = np.random.random((batch_size * 3, timesteps, data_dim))\n",
    "y_val = np.random.random((batch_size * 3, num_classes))\n",
    "\n",
    "model.fit(x_train, y_train,batch_size=batch_size, epochs=5, shuffle=False,\n",
    "          validation_data=(x_val, y_val))"
   ]
  },
  {
   "cell_type": "code",
   "execution_count": 9,
   "metadata": {},
   "outputs": [],
   "source": [
    "import keras\n",
    "import numpy as np\n",
    "from keras.layers import Dense\n",
    "from keras.models import Model"
   ]
  },
  {
   "cell_type": "code",
   "execution_count": 68,
   "metadata": {},
   "outputs": [],
   "source": [
    "x = np.random.randn(10000, 128)\n",
    "y = np.random.randint(2, size=(10,2))\n",
    "# x[10]"
   ]
  },
  {
   "cell_type": "code",
   "execution_count": 69,
   "metadata": {},
   "outputs": [],
   "source": [
    "x_input = keras.layers.Input(shape=(128, ))\n",
    "x_encoder = Dense(64,activation=\"relu\")(x_input)\n",
    "x_encoder = Dense(32, activation=\"relu\")(x_encoder)\n",
    "mode1_1 = Model(x_input, x_encoder)\n",
    "\n",
    "x_decoder = Dense(32, activation=\"relu\")(x_encoder)\n",
    "x_decoder = Dense(64, activation=\"relu\")(x_decoder)\n",
    "x_decoder = Dense(128, activation=\"relu\")(x_decoder)\n",
    "model_2 = Model(x_input, x_decoder)"
   ]
  },
  {
   "cell_type": "code",
   "execution_count": 70,
   "metadata": {},
   "outputs": [
    {
     "name": "stdout",
     "output_type": "stream",
     "text": [
      "_________________________________________________________________\n",
      "Layer (type)                 Output Shape              Param #   \n",
      "=================================================================\n",
      "input_11 (InputLayer)        (None, 128)               0         \n",
      "_________________________________________________________________\n",
      "dense_51 (Dense)             (None, 64)                8256      \n",
      "_________________________________________________________________\n",
      "dense_52 (Dense)             (None, 32)                2080      \n",
      "=================================================================\n",
      "Total params: 10,336\n",
      "Trainable params: 10,336\n",
      "Non-trainable params: 0\n",
      "_________________________________________________________________\n",
      "None\n",
      "_________________________________________________________________\n",
      "Layer (type)                 Output Shape              Param #   \n",
      "=================================================================\n",
      "input_11 (InputLayer)        (None, 128)               0         \n",
      "_________________________________________________________________\n",
      "dense_51 (Dense)             (None, 64)                8256      \n",
      "_________________________________________________________________\n",
      "dense_52 (Dense)             (None, 32)                2080      \n",
      "_________________________________________________________________\n",
      "dense_53 (Dense)             (None, 32)                1056      \n",
      "_________________________________________________________________\n",
      "dense_54 (Dense)             (None, 64)                2112      \n",
      "_________________________________________________________________\n",
      "dense_55 (Dense)             (None, 128)               8320      \n",
      "=================================================================\n",
      "Total params: 21,824\n",
      "Trainable params: 21,824\n",
      "Non-trainable params: 0\n",
      "_________________________________________________________________\n",
      "None\n"
     ]
    }
   ],
   "source": [
    "print(mode1_1.summary())\n",
    "print(model_2.summary())"
   ]
  },
  {
   "cell_type": "code",
   "execution_count": 71,
   "metadata": {},
   "outputs": [
    {
     "name": "stdout",
     "output_type": "stream",
     "text": [
      "Epoch 1/10\n",
      "10000/10000 [==============================] - 1s 70us/step - loss: 0.9952 - mean_absolute_error: 0.7958\n",
      "Epoch 2/10\n",
      "10000/10000 [==============================] - 0s 19us/step - loss: 0.9744 - mean_absolute_error: 0.7873\n",
      "Epoch 3/10\n",
      "10000/10000 [==============================] - 0s 19us/step - loss: 0.9594 - mean_absolute_error: 0.7810\n",
      "Epoch 4/10\n",
      "10000/10000 [==============================] - 0s 18us/step - loss: 0.9492 - mean_absolute_error: 0.7766\n",
      "Epoch 5/10\n",
      "10000/10000 [==============================] - 0s 19us/step - loss: 0.9415 - mean_absolute_error: 0.7734\n",
      "Epoch 6/10\n",
      "10000/10000 [==============================] - 0s 19us/step - loss: 0.9350 - mean_absolute_error: 0.7705\n",
      "Epoch 7/10\n",
      "10000/10000 [==============================] - 0s 19us/step - loss: 0.9293 - mean_absolute_error: 0.7680\n",
      "Epoch 8/10\n",
      "10000/10000 [==============================] - 0s 22us/step - loss: 0.9247 - mean_absolute_error: 0.7660\n",
      "Epoch 9/10\n",
      "10000/10000 [==============================] - 0s 23us/step - loss: 0.9207 - mean_absolute_error: 0.7642\n",
      "Epoch 10/10\n",
      "10000/10000 [==============================] - 0s 19us/step - loss: 0.9171 - mean_absolute_error: 0.7625\n"
     ]
    },
    {
     "data": {
      "text/plain": [
       "<keras.callbacks.History at 0x142d969e8>"
      ]
     },
     "execution_count": 71,
     "metadata": {},
     "output_type": "execute_result"
    }
   ],
   "source": [
    "model_2.compile(optimizer=\"rmsprop\", loss=\"mean_squared_error\", metrics=[\"mae\"])\n",
    "model_2.fit(x, x, batch_size=128, epochs=10)"
   ]
  },
  {
   "cell_type": "markdown",
   "metadata": {},
   "source": [
    "# Auto-Encoder 研究"
   ]
  },
  {
   "cell_type": "code",
   "execution_count": 63,
   "metadata": {},
   "outputs": [
    {
     "name": "stdout",
     "output_type": "stream",
     "text": [
      "Downloading data from https://s3.amazonaws.com/img-datasets/mnist.npz\n",
      "11493376/11490434 [==============================] - 44s 4us/step\n",
      "(60000, 784)\n",
      "(10000, 784)\n"
     ]
    }
   ],
   "source": [
    "import numpy as np\n",
    "np.random.seed(1)  \n",
    "from keras.datasets import mnist\n",
    "from keras.models import Model \n",
    "from keras.layers import Dense, Input\n",
    "import matplotlib.pyplot as plt\n",
    " \n",
    "\n",
    "(x_train, _), (x_test, y_test) = mnist.load_data()\n",
    "x_train = x_train.astype('float32') / 255. - 0.5       \n",
    "x_test = x_test.astype('float32') / 255. - 0.5         \n",
    "x_train = x_train.reshape((x_train.shape[0], -1))\n",
    "x_test = x_test.reshape((x_test.shape[0], -1))\n",
    "print(x_train.shape)\n",
    "print(x_test.shape)"
   ]
  },
  {
   "cell_type": "code",
   "execution_count": 72,
   "metadata": {
    "collapsed": true
   },
   "outputs": [],
   "source": [
    "encoding_dim = 2\n",
    " \n",
    "# this is our input placeholder\n",
    "input_img = Input(shape=(784,))\n",
    " \n",
    "# encode\n",
    "encoded = Dense(128, activation='relu')(input_img)\n",
    "encoded = Dense(64, activation='relu')(encoded)\n",
    "encoded = Dense(10, activation='relu')(encoded)\n",
    "encoder_output = Dense(encoding_dim)(encoded)\n",
    " \n",
    "# decode\n",
    "decoded = Dense(10, activation='relu')(encoder_output)\n",
    "decoded = Dense(64, activation='relu')(decoded)\n",
    "decoded = Dense(128, activation='relu')(decoded)\n",
    "decoded = Dense(784, activation='tanh')(decoded)\n",
    " \n",
    "# autoencode\n",
    "autoencoder = Model(inputs=input_img, outputs=decoded)\n",
    "# compress\n",
    "encoder = Model(inputs=input_img, outputs=encoder_output)\n",
    "# compile autoencoder\n",
    "autoencoder.compile(optimizer='adam', loss='mse', metrics=[\"mae\"])"
   ]
  },
  {
   "cell_type": "code",
   "execution_count": 73,
   "metadata": {
    "collapsed": true
   },
   "outputs": [],
   "source": [
    "# 各类辅助\n",
    "from keras.callbacks import EarlyStopping, TensorBoard, ReduceLROnPlateau,CSVLogger,ModelCheckpoint, TerminateOnNaN"
   ]
  },
  {
   "cell_type": "code",
   "execution_count": null,
   "metadata": {
    "collapsed": true
   },
   "outputs": [],
   "source": [
    "# keras.callbacks.LearningRateScheduler(schedule, verbose=0)\n",
    "ter_nan = TerminateOnNaN()\n",
    "# early_stop = EarlyStopping(monitor='val_loss', min_delta=0, patience=0, verbose=0,\n",
    "#                            mode='auto', baseline=None)\n",
    "tensor_board = TensorBoard(log_dir='./logs', histogram_freq=0, batch_size=256,\n",
    "                            write_graph=True, write_grads=False, write_images=False, \n",
    "                            embeddings_freq=0, embeddings_layer_names=None, \n",
    "                            embeddings_metadata=None, embeddings_data=None)\n",
    "\n",
    "reduce_lr = ReduceLROnPlateau(monitor='val_loss', factor=0.2, patience=5, min_lr=0.001)\n",
    "csv_log = CSVLogger(\"./csv_log.csv\", separator=',', append=True) # false or true \n",
    "checkpointer = ModelCheckpoint(filepath='./auto_model.hdf5', verbose=1, save_best_only=True)"
   ]
  },
  {
   "cell_type": "code",
   "execution_count": 109,
   "metadata": {
    "scrolled": true
   },
   "outputs": [
    {
     "name": "stdout",
     "output_type": "stream",
     "text": [
      "Train on 60000 samples, validate on 10000 samples\n",
      "Epoch 1/20\n",
      "60000/60000 [==============================] - 2s 35us/step - loss: 0.0375 - val_loss: 0.0376\n",
      "\n",
      "Epoch 00001: val_loss improved from inf to 0.03764, saving model to ./auto_model.hdf5\n",
      "Epoch 2/20\n",
      "60000/60000 [==============================] - 2s 36us/step - loss: 0.0388 - val_loss: 0.0379\n",
      "\n",
      "Epoch 00002: val_loss did not improve from 0.03764\n",
      "Epoch 3/20\n",
      "60000/60000 [==============================] - 2s 35us/step - loss: 0.0375 - val_loss: 0.0375\n",
      "\n",
      "Epoch 00003: val_loss improved from 0.03764 to 0.03748, saving model to ./auto_model.hdf5\n",
      "Epoch 4/20\n",
      "60000/60000 [==============================] - 2s 35us/step - loss: 0.0382 - val_loss: 0.0402\n",
      "\n",
      "Epoch 00004: val_loss did not improve from 0.03748\n",
      "Epoch 5/20\n",
      "60000/60000 [==============================] - 2s 34us/step - loss: 0.0381 - val_loss: 0.0372\n",
      "\n",
      "Epoch 00005: val_loss improved from 0.03748 to 0.03725, saving model to ./auto_model.hdf5\n",
      "Epoch 6/20\n",
      "60000/60000 [==============================] - 2s 34us/step - loss: 0.0373 - val_loss: 0.0371\n",
      "\n",
      "Epoch 00006: val_loss improved from 0.03725 to 0.03712, saving model to ./auto_model.hdf5\n",
      "Epoch 7/20\n",
      "60000/60000 [==============================] - 2s 34us/step - loss: 0.0374 - val_loss: 0.0372\n",
      "\n",
      "Epoch 00007: val_loss did not improve from 0.03712\n",
      "Epoch 8/20\n",
      "60000/60000 [==============================] - 2s 36us/step - loss: 0.0377 - val_loss: 0.0373\n",
      "\n",
      "Epoch 00008: val_loss did not improve from 0.03712\n",
      "Epoch 9/20\n",
      "60000/60000 [==============================] - 2s 37us/step - loss: 0.0371 - val_loss: 0.0374\n",
      "\n",
      "Epoch 00009: val_loss did not improve from 0.03712\n",
      "Epoch 10/20\n",
      "60000/60000 [==============================] - 2s 39us/step - loss: 0.0374 - val_loss: 0.0380\n",
      "\n",
      "Epoch 00010: val_loss did not improve from 0.03712\n",
      "Epoch 11/20\n",
      "60000/60000 [==============================] - 2s 40us/step - loss: 0.0378 - val_loss: 0.0370\n",
      "\n",
      "Epoch 00011: val_loss improved from 0.03712 to 0.03703, saving model to ./auto_model.hdf5\n",
      "Epoch 12/20\n",
      "60000/60000 [==============================] - 2s 35us/step - loss: 0.0370 - val_loss: 0.0370\n",
      "\n",
      "Epoch 00012: val_loss improved from 0.03703 to 0.03702, saving model to ./auto_model.hdf5\n",
      "Epoch 13/20\n",
      "60000/60000 [==============================] - 2s 37us/step - loss: 0.0372 - val_loss: 0.0374\n",
      "\n",
      "Epoch 00013: val_loss did not improve from 0.03702\n",
      "Epoch 14/20\n",
      "60000/60000 [==============================] - 2s 34us/step - loss: 0.0371 - val_loss: 0.0371\n",
      "\n",
      "Epoch 00014: val_loss did not improve from 0.03702\n",
      "Epoch 15/20\n",
      "60000/60000 [==============================] - 2s 39us/step - loss: 0.0370 - val_loss: 0.0372\n",
      "\n",
      "Epoch 00015: val_loss did not improve from 0.03702\n",
      "Epoch 16/20\n",
      "60000/60000 [==============================] - 2s 39us/step - loss: 0.0370 - val_loss: 0.0371\n",
      "\n",
      "Epoch 00016: val_loss did not improve from 0.03702\n",
      "Epoch 17/20\n",
      "60000/60000 [==============================] - 2s 33us/step - loss: 0.0371 - val_loss: 0.0369\n",
      "\n",
      "Epoch 00017: val_loss improved from 0.03702 to 0.03687, saving model to ./auto_model.hdf5\n",
      "Epoch 18/20\n",
      "60000/60000 [==============================] - 2s 35us/step - loss: 0.0373 - val_loss: 0.0371\n",
      "\n",
      "Epoch 00018: val_loss did not improve from 0.03687\n",
      "Epoch 19/20\n",
      "60000/60000 [==============================] - ETA: 0s - loss: 0.037 - 2s 38us/step - loss: 0.0370 - val_loss: 0.0371\n",
      "\n",
      "Epoch 00019: val_loss did not improve from 0.03687\n",
      "Epoch 20/20\n",
      "60000/60000 [==============================] - 2s 36us/step - loss: 0.0370 - val_loss: 0.0373\n",
      "\n",
      "Epoch 00020: val_loss did not improve from 0.03687\n"
     ]
    }
   ],
   "source": [
    "# training\n",
    "history = autoencoder.fit(x_train, x_train, epochs=20, batch_size=256, shuffle=True,\n",
    "                          validation_data=(x_test, x_test), verbose=1,\n",
    "                         callbacks=[checkpointer, csv_log, reduce_lr, tensor_board, ter_nan])"
   ]
  },
  {
   "cell_type": "code",
   "execution_count": 110,
   "metadata": {},
   "outputs": [
    {
     "data": {
      "text/plain": [
       "dict_keys(['val_loss', 'loss', 'lr'])"
      ]
     },
     "execution_count": 110,
     "metadata": {},
     "output_type": "execute_result"
    }
   ],
   "source": [
    "history.history.keys()"
   ]
  },
  {
   "cell_type": "code",
   "execution_count": 111,
   "metadata": {},
   "outputs": [
    {
     "data": {
      "text/plain": [
       "array([0.0376, 0.0379, 0.0375, 0.0402, 0.0372, 0.0371, 0.0372, 0.0373,\n",
       "       0.0374, 0.038 , 0.037 , 0.037 , 0.0374, 0.0371, 0.0372, 0.0371,\n",
       "       0.0369, 0.0371, 0.0371, 0.0373])"
      ]
     },
     "execution_count": 111,
     "metadata": {},
     "output_type": "execute_result"
    }
   ],
   "source": [
    "np.round(history.history['val_loss'], 4)"
   ]
  },
  {
   "cell_type": "code",
   "execution_count": 112,
   "metadata": {},
   "outputs": [
    {
     "data": {
      "image/png": "[encoded data removed]",
      "text/plain": [
       "<matplotlib.figure.Figure at 0x145bebe48>"
      ]
     },
     "metadata": {},
     "output_type": "display_data"
    }
   ],
   "source": [
    "plt.plot(np.arange(1, 21), np.round(history.history['val_loss'], 4), color='blue')\n",
    "plt.show()"
   ]
  },
  {
   "cell_type": "code",
   "execution_count": 113,
   "metadata": {},
   "outputs": [
    {
     "data": {
      "image/png": "[encoded data removed]",
      "text/plain": [
       "<matplotlib.figure.Figure at 0x145bebb70>"
      ]
     },
     "metadata": {},
     "output_type": "display_data"
    }
   ],
   "source": [
    " # plotting\n",
    "encoded_imgs = encoder.predict(x_test)\n",
    "plt.scatter(encoded_imgs[:, 0], encoded_imgs[:, 1], c=y_test, s=3)\n",
    "plt.colorbar()\n",
    "plt.show()"
   ]
  },
  {
   "cell_type": "code",
   "execution_count": 114,
   "metadata": {},
   "outputs": [
    {
     "name": "stdout",
     "output_type": "stream",
     "text": [
      "\r",
      "10/10 [==============================] - 0s 129us/step\n"
     ]
    },
    {
     "data": {
      "text/plain": [
       "array([[-1.6282746 ,  9.245426  ],\n",
       "       [ 4.793527  ,  2.0066805 ],\n",
       "       [ 8.1989565 ,  9.15797   ],\n",
       "       [-3.3933747 ,  0.90067524],\n",
       "       [-1.8969353 ,  4.288706  ],\n",
       "       [ 7.3700333 ,  8.401697  ],\n",
       "       [ 0.05333103,  6.807068  ],\n",
       "       [-1.829576  ,  3.29573   ],\n",
       "       [-1.3131799 ,  2.1974268 ],\n",
       "       [-1.5873148 ,  5.7590938 ]], dtype=float32)"
      ]
     },
     "execution_count": 114,
     "metadata": {},
     "output_type": "execute_result"
    }
   ],
   "source": [
    "#mode1_1.summary()\n",
    "autoencoder.evaluate(x_test[:10], x_test[:10]) # 利用第三方数据进行验证的\n",
    "encoder.predict(x_test[:10]) # 降维的用处的"
   ]
  },
  {
   "cell_type": "code",
   "execution_count": 116,
   "metadata": {},
   "outputs": [
    {
     "data": {
      "text/plain": [
       "(10000, 784)"
      ]
     },
     "execution_count": 116,
     "metadata": {},
     "output_type": "execute_result"
    }
   ],
   "source": [
    "x_test.shape"
   ]
  },
  {
   "cell_type": "code",
   "execution_count": 120,
   "metadata": {},
   "outputs": [],
   "source": [
    "# 转换变化：\n",
    "x_train_new = x_train.reshape(6000, 10 ,784)\n",
    "x_test_new = x_test.reshape(1000, 10, 784)"
   ]
  },
  {
   "cell_type": "code",
   "execution_count": 131,
   "metadata": {},
   "outputs": [
    {
     "name": "stdout",
     "output_type": "stream",
     "text": [
      "Epoch 1/10\n",
      "10000/10000 [==============================] - 1s 58us/step - loss: 1.0493 - acc: 0.6948\n",
      "Epoch 2/10\n",
      "10000/10000 [==============================] - 0s 17us/step - loss: 0.4437 - acc: 0.8682\n",
      "Epoch 3/10\n",
      "10000/10000 [==============================] - 0s 18us/step - loss: 0.3391 - acc: 0.8977\n",
      "Epoch 4/10\n",
      "10000/10000 [==============================] - 0s 18us/step - loss: 0.2891 - acc: 0.9137\n",
      "Epoch 5/10\n",
      "10000/10000 [==============================] - 0s 16us/step - loss: 0.2571 - acc: 0.9204\n",
      "Epoch 6/10\n",
      "10000/10000 [==============================] - 0s 17us/step - loss: 0.2299 - acc: 0.9300\n",
      "Epoch 7/10\n",
      "10000/10000 [==============================] - 0s 17us/step - loss: 0.2105 - acc: 0.9348\n",
      "Epoch 8/10\n",
      "10000/10000 [==============================] - 0s 17us/step - loss: 0.1917 - acc: 0.9402\n",
      "Epoch 9/10\n",
      "10000/10000 [==============================] - 0s 17us/step - loss: 0.1719 - acc: 0.9474\n",
      "Epoch 10/10\n",
      "10000/10000 [==============================] - 0s 17us/step - loss: 0.1599 - acc: 0.9503\n"
     ]
    },
    {
     "data": {
      "text/plain": [
       "<keras.callbacks.History at 0x1475a3588>"
      ]
     },
     "execution_count": 131,
     "metadata": {},
     "output_type": "execute_result"
    }
   ],
   "source": [
    "from keras.layers import Input, Dense\n",
    "from keras.models import Model\n",
    "\n",
    "# This returns a tensor\n",
    "inputs = Input(shape=(784,))\n",
    "\n",
    "# a layer instance is callable on a tensor, and returns a tensor\n",
    "x = Dense(64, activation='relu')(inputs)\n",
    "x = Dense(64, activation='relu')(x)\n",
    "predictions = Dense(10, activation='softmax')(x)\n",
    "\n",
    "# This creates a model that includes\n",
    "# the Input layer and three Dense layers\n",
    "model = Model(inputs=inputs, outputs=predictions)\n",
    "model.compile(optimizer='rmsprop',\n",
    "              loss='categorical_crossentropy',\n",
    "              metrics=['accuracy'])\n",
    "\n",
    "y_test_test = keras.utils.to_categorical(y_test, num_classes=10)\n",
    "model.fit(x_test, y_test_test, epochs=10, batch_size=128, verbose=1)"
   ]
  },
  {
   "cell_type": "code",
   "execution_count": 133,
   "metadata": {
    "collapsed": true
   },
   "outputs": [],
   "source": [
    "x = Input(shape=(784, ))\n",
    "y = model(x)"
   ]
  },
  {
   "cell_type": "code",
   "execution_count": 169,
   "metadata": {},
   "outputs": [
    {
     "data": {
      "text/plain": [
       "TensorShape([Dimension(None), Dimension(10), Dimension(10)])"
      ]
     },
     "execution_count": 169,
     "metadata": {},
     "output_type": "execute_result"
    }
   ],
   "source": [
    "# \n",
    "from keras.layers import TimeDistributed\n",
    "\n",
    "# Input tensor for sequences of 20 timesteps,\n",
    "# each containing a 784-dimensional vector\n",
    "input_sequences = Input(shape=(10, 784))\n",
    "\n",
    "# This applies our previous model to every timestep in the input sequences.\n",
    "# the output of the previous model was a 10-way softmax,\n",
    "# so the output of the layer below will be a sequence of 20 vectors of size 10.\n",
    "processed_sequences = TimeDistributed(model)(input_sequences)\n",
    "processed_sequences.shape"
   ]
  },
  {
   "cell_type": "code",
   "execution_count": 170,
   "metadata": {
    "collapsed": true
   },
   "outputs": [],
   "source": [
    "from keras.layers import  LSTM, Activation"
   ]
  },
  {
   "cell_type": "code",
   "execution_count": 174,
   "metadata": {},
   "outputs": [],
   "source": [
    "# model.add(LSTM(20, kernel_initializer=\"uniform\"))\n",
    "y1 = LSTM(10, kernel_initializer=\"uniform\", return_sequences=True)(processed_sequences)\n",
    "y2 = LSTM(1, activation=\"sigmoid\")(y1)\n",
    "# y3 = Activation(\"sigmoid\")(y2)\n",
    "\n",
    "new_model = Model(input_sequences, y2)"
   ]
  },
  {
   "cell_type": "code",
   "execution_count": 175,
   "metadata": {},
   "outputs": [],
   "source": [
    "new_model.compile(optimizer=\"rmsprop\", loss=\"binary_crossentropy\", metrics=[\"acc\"])"
   ]
  },
  {
   "cell_type": "code",
   "execution_count": 176,
   "metadata": {},
   "outputs": [
    {
     "name": "stdout",
     "output_type": "stream",
     "text": [
      "Epoch 1/10\n",
      "1000/1000 [==============================] - 2s 2ms/step - loss: 2.8812 - acc: 0.0850\n",
      "Epoch 2/10\n",
      "1000/1000 [==============================] - 1s 559us/step - loss: 0.5018 - acc: 0.1020\n",
      "Epoch 3/10\n",
      "1000/1000 [==============================] - 1s 557us/step - loss: -3.4672 - acc: 0.1260\n",
      "Epoch 4/10\n",
      "1000/1000 [==============================] - 1s 563us/step - loss: -10.2174 - acc: 0.1260\n",
      "Epoch 5/10\n",
      "1000/1000 [==============================] - 1s 565us/step - loss: -19.5728 - acc: 0.1260\n",
      "Epoch 6/10\n",
      "1000/1000 [==============================] - 1s 565us/step - loss: -27.0580 - acc: 0.1260\n",
      "Epoch 7/10\n",
      "1000/1000 [==============================] - 1s 652us/step - loss: -29.0529 - acc: 0.1260\n",
      "Epoch 8/10\n",
      "1000/1000 [==============================] - 1s 585us/step - loss: -30.1617 - acc: 0.1260\n",
      "Epoch 9/10\n",
      "1000/1000 [==============================] - 1s 575us/step - loss: -31.0251 - acc: 0.1260\n",
      "Epoch 10/10\n",
      "1000/1000 [==============================] - 1s 573us/step - loss: -31.5499 - acc: 0.1260\n"
     ]
    },
    {
     "data": {
      "text/plain": [
       "<keras.callbacks.History at 0x14981df28>"
      ]
     },
     "execution_count": 176,
     "metadata": {},
     "output_type": "execute_result"
    }
   ],
   "source": [
    "# processed_sequences.shape\n",
    "new_model.fit(x_test_new,y_test[:1000], verbose=1, epochs=10,)"
   ]
  },
  {
   "cell_type": "code",
   "execution_count": 177,
   "metadata": {},
   "outputs": [
    {
     "data": {
      "text/plain": [
       "(10000,)"
      ]
     },
     "execution_count": 177,
     "metadata": {},
     "output_type": "execute_result"
    }
   ],
   "source": [
    "y_test.shape"
   ]
  },
  {
   "cell_type": "code",
   "execution_count": 178,
   "metadata": {},
   "outputs": [
    {
     "data": {
      "text/plain": [
       "(1000, 10, 784)"
      ]
     },
     "execution_count": 178,
     "metadata": {},
     "output_type": "execute_result"
    }
   ],
   "source": [
    "x_test_new.shape"
   ]
  },
  {
   "cell_type": "code",
   "execution_count": 179,
   "metadata": {},
   "outputs": [
    {
     "name": "stdout",
     "output_type": "stream",
     "text": [
      "_________________________________________________________________\n",
      "Layer (type)                 Output Shape              Param #   \n",
      "=================================================================\n",
      "input_25 (InputLayer)        (None, 10, 784)           0         \n",
      "_________________________________________________________________\n",
      "time_distributed_10 (TimeDis (None, 10, 10)            55050     \n",
      "_________________________________________________________________\n",
      "lstm_13 (LSTM)               (None, 10, 10)            840       \n",
      "_________________________________________________________________\n",
      "lstm_14 (LSTM)               (None, 1)                 48        \n",
      "=================================================================\n",
      "Total params: 55,938\n",
      "Trainable params: 55,938\n",
      "Non-trainable params: 0\n",
      "_________________________________________________________________\n"
     ]
    }
   ],
   "source": [
    "new_model.summary()"
   ]
  },
  {
   "cell_type": "code",
   "execution_count": 180,
   "metadata": {
    "collapsed": true
   },
   "outputs": [],
   "source": [
    "# 多输入"
   ]
  },
  {
   "cell_type": "code",
   "execution_count": 185,
   "metadata": {},
   "outputs": [],
   "source": [
    "a = Input(shape=(280, 256))\n",
    "lstm = LSTM(32)\n",
    "encoded_a = lstm(a)\n",
    "assert lstm.output == encoded_a, \"equal\""
   ]
  },
  {
   "cell_type": "code",
   "execution_count": 188,
   "metadata": {},
   "outputs": [
    {
     "data": {
      "text/plain": [
       "<tf.Tensor 'lstm_22_1/TensorArrayReadV3:0' shape=(?, 32) dtype=float32>"
      ]
     },
     "execution_count": 188,
     "metadata": {},
     "output_type": "execute_result"
    }
   ],
   "source": [
    "a = Input(shape=(280, 256))\n",
    "b = Input(shape=(280, 256))\n",
    "\n",
    "lstm = LSTM(32)\n",
    "encoded_a = lstm(a)\n",
    "encoded_b = lstm(b)\n",
    "\n",
    "lstm.get_output_at(0)\n",
    "lstm.get_output_at(1)"
   ]
  },
  {
   "cell_type": "code",
   "execution_count": 189,
   "metadata": {},
   "outputs": [
    {
     "data": {
      "text/plain": [
       "<tf.Tensor 'lstm_22/TensorArrayReadV3:0' shape=(?, 32) dtype=float32>"
      ]
     },
     "execution_count": 189,
     "metadata": {},
     "output_type": "execute_result"
    }
   ],
   "source": [
    "encoded_a"
   ]
  },
  {
   "cell_type": "code",
   "execution_count": 190,
   "metadata": {
    "collapsed": true
   },
   "outputs": [],
   "source": [
    "from keras.layers import Conv2D, Input\n",
    "\n",
    "# input tensor for a 3-channel 256x256 image\n",
    "x = Input(shape=(256, 256, 3))\n",
    "# 3x3 conv with 3 output channels (same as input channels)\n",
    "y = Conv2D(3, (3, 3), padding='same')(x)\n",
    "# this returns x + y.\n",
    "z = keras.layers.add([x, y])"
   ]
  },
  {
   "cell_type": "code",
   "execution_count": 191,
   "metadata": {},
   "outputs": [
    {
     "data": {
      "text/plain": [
       "TensorShape([Dimension(None), Dimension(256), Dimension(256), Dimension(3)])"
      ]
     },
     "execution_count": 191,
     "metadata": {},
     "output_type": "execute_result"
    }
   ],
   "source": [
    "z.shape"
   ]
  },
  {
   "cell_type": "code",
   "execution_count": 198,
   "metadata": {},
   "outputs": [
    {
     "name": "stdout",
     "output_type": "stream",
     "text": [
      "(?, 25, 25, 64)\n",
      "(?, 23, 23, 64)\n",
      "(?, 11, 11, 64)\n",
      "(?, ?)\n",
      "(?, ?)\n",
      "(?, ?)\n"
     ]
    }
   ],
   "source": [
    "from keras.layers import Conv2D, MaxPooling2D, Input, Dense, Flatten\n",
    "from keras.models import Model\n",
    "\n",
    "# First, define the vision modules\n",
    "digit_input = Input(shape=(27, 27, 1))\n",
    "x = Conv2D(64, (3, 3))(digit_input)\n",
    "print(x.shape)\n",
    "x = Conv2D(64, (3, 3))(x)\n",
    "print(x.shape)\n",
    "x = MaxPooling2D((2, 2))(x)\n",
    "print(x.shape)\n",
    "out = Flatten()(x)\n",
    "print(out.shape)\n",
    "\n",
    "vision_model = Model(digit_input, out)\n",
    "\n",
    "# Then define the tell-digits-apart model\n",
    "digit_a = Input(shape=(27, 27, 1))\n",
    "digit_b = Input(shape=(27, 27, 1))\n",
    "\n",
    "# The vision model will be shared, weights and all\n",
    "out_a = vision_model(digit_a)\n",
    "print(out_a.shape)\n",
    "out_b = vision_model(digit_b)\n",
    "\n",
    "concatenated = keras.layers.concatenate([out_a, out_b])\n",
    "print(concatenated.shape)\n",
    "out = Dense(1, activation='sigmoid')(concatenated)\n",
    "\n",
    "classification_model = Model([digit_a, digit_b], out)"
   ]
  },
  {
   "cell_type": "code",
   "execution_count": 193,
   "metadata": {},
   "outputs": [
    {
     "data": {
      "text/plain": [
       "TensorShape([Dimension(None), Dimension(11), Dimension(11), Dimension(64)])"
      ]
     },
     "execution_count": 193,
     "metadata": {},
     "output_type": "execute_result"
    }
   ],
   "source": [
    "x.shape"
   ]
  },
  {
   "cell_type": "code",
   "execution_count": 201,
   "metadata": {},
   "outputs": [
    {
     "data": {
      "text/plain": [
       "(10000, 784)"
      ]
     },
     "execution_count": 201,
     "metadata": {},
     "output_type": "execute_result"
    }
   ],
   "source": [
    "x_test.shape"
   ]
  },
  {
   "cell_type": "code",
   "execution_count": 202,
   "metadata": {},
   "outputs": [
    {
     "data": {
      "text/plain": [
       "784"
      ]
     },
     "execution_count": 202,
     "metadata": {},
     "output_type": "execute_result"
    }
   ],
   "source": [
    "28 * 28"
   ]
  },
  {
   "cell_type": "code",
   "execution_count": 204,
   "metadata": {},
   "outputs": [
    {
     "data": {
      "text/plain": [
       "(10000, 28, 28, 1)"
      ]
     },
     "execution_count": 204,
     "metadata": {},
     "output_type": "execute_result"
    }
   ],
   "source": [
    "x_test_new2 = x_test.reshape(10000 ,28, 28, 1)\n",
    "x_test_new2.shape"
   ]
  },
  {
   "cell_type": "code",
   "execution_count": 209,
   "metadata": {},
   "outputs": [
    {
     "name": "stdout",
     "output_type": "stream",
     "text": [
      "_________________________________________________________________\n",
      "Layer (type)                 Output Shape              Param #   \n",
      "=================================================================\n",
      "input_62 (InputLayer)        (None, 28, 28, 1)         0         \n",
      "_________________________________________________________________\n",
      "conv2d_18 (Conv2D)           (None, 26, 26, 64)        640       \n",
      "_________________________________________________________________\n",
      "conv2d_19 (Conv2D)           (None, 24, 24, 64)        36928     \n",
      "_________________________________________________________________\n",
      "max_pooling2d_9 (MaxPooling2 (None, 12, 12, 64)        0         \n",
      "_________________________________________________________________\n",
      "flatten_9 (Flatten)          (None, 9216)              0         \n",
      "=================================================================\n",
      "Total params: 37,568\n",
      "Trainable params: 37,568\n",
      "Non-trainable params: 0\n",
      "_________________________________________________________________\n",
      "__________________________________________________________________________________________________\n",
      "Layer (type)                    Output Shape         Param #     Connected to                     \n",
      "==================================================================================================\n",
      "input_63 (InputLayer)           (None, 28, 28, 1)    0                                            \n",
      "__________________________________________________________________________________________________\n",
      "input_64 (InputLayer)           (None, 28, 28, 1)    0                                            \n",
      "__________________________________________________________________________________________________\n",
      "model_49 (Model)                (None, 9216)         37568       input_63[0][0]                   \n",
      "                                                                 input_64[0][0]                   \n",
      "__________________________________________________________________________________________________\n",
      "concatenate_9 (Concatenate)     (None, 18432)        0           model_49[1][0]                   \n",
      "                                                                 model_49[2][0]                   \n",
      "__________________________________________________________________________________________________\n",
      "dense_78 (Dense)                (None, 1)            18433       concatenate_9[0][0]              \n",
      "==================================================================================================\n",
      "Total params: 56,001\n",
      "Trainable params: 56,001\n",
      "Non-trainable params: 0\n",
      "__________________________________________________________________________________________________\n"
     ]
    }
   ],
   "source": [
    "from keras.layers import Conv2D, MaxPooling2D, Input, Dense, Flatten\n",
    "from keras.models import Model\n",
    "\n",
    "# First, define the vision modules\n",
    "digit_input = Input(shape=(28, 28, 1))\n",
    "x = Conv2D(64, (3, 3))(digit_input)\n",
    "x = Conv2D(64, (3, 3))(x)\n",
    "x = MaxPooling2D((2, 2))(x)\n",
    "out = Flatten()(x)\n",
    "\n",
    "vision_model = Model(digit_input, out)\n",
    "vision_model.summary()\n",
    "\n",
    "# Then define the tell-digits-apart model\n",
    "digit_a = Input(shape=(28, 28, 1))\n",
    "digit_b = Input(shape=(28, 28, 1))\n",
    "\n",
    "# The vision model will be shared, weights and all\n",
    "out_a = vision_model(digit_a)\n",
    "out_b = vision_model(digit_b)\n",
    "\n",
    "concatenated = keras.layers.concatenate([out_a, out_b])\n",
    "out = Dense(1, activation='sigmoid')(concatenated)\n",
    "\n",
    "classification_model = Model([digit_a, digit_b], out)\n",
    "classification_model.summary()"
   ]
  },
  {
   "cell_type": "code",
   "execution_count": 210,
   "metadata": {},
   "outputs": [
    {
     "data": {
      "text/plain": [
       "7225344"
      ]
     },
     "execution_count": 210,
     "metadata": {},
     "output_type": "execute_result"
    }
   ],
   "source": [
    "28 * 28 * 9216"
   ]
  },
  {
   "cell_type": "code",
   "execution_count": 217,
   "metadata": {},
   "outputs": [
    {
     "data": {
      "text/plain": [
       "-704"
      ]
     },
     "execution_count": 217,
     "metadata": {},
     "output_type": "execute_result"
    }
   ],
   "source": [
    "12 * 12 * 64  * 2 * 2 - 37568"
   ]
  },
  {
   "cell_type": "code",
   "execution_count": 214,
   "metadata": {},
   "outputs": [
    {
     "data": {
      "text/plain": [
       "4.076388888888889"
      ]
     },
     "execution_count": 214,
     "metadata": {},
     "output_type": "execute_result"
    }
   ],
   "source": [
    "37568 / 9216"
   ]
  },
  {
   "cell_type": "code",
   "execution_count": 224,
   "metadata": {},
   "outputs": [
    {
     "name": "stdout",
     "output_type": "stream",
     "text": [
      "_________________________________________________________________\n",
      "Layer (type)                 Output Shape              Param #   \n",
      "=================================================================\n",
      "conv2d_62 (Conv2D)           (None, 224, 224, 64)      1792      \n",
      "=================================================================\n",
      "Total params: 1,792\n",
      "Trainable params: 1,792\n",
      "Non-trainable params: 0\n",
      "_________________________________________________________________\n",
      "None\n",
      "_________________________________________________________________\n",
      "Layer (type)                 Output Shape              Param #   \n",
      "=================================================================\n",
      "conv2d_62 (Conv2D)           (None, 224, 224, 64)      1792      \n",
      "_________________________________________________________________\n",
      "conv2d_63 (Conv2D)           (None, 222, 222, 64)      36928     \n",
      "_________________________________________________________________\n",
      "max_pooling2d_28 (MaxPooling (None, 111, 111, 64)      0         \n",
      "=================================================================\n",
      "Total params: 38,720\n",
      "Trainable params: 38,720\n",
      "Non-trainable params: 0\n",
      "_________________________________________________________________\n",
      "None\n",
      "_________________________________________________________________\n",
      "Layer (type)                 Output Shape              Param #   \n",
      "=================================================================\n",
      "conv2d_62 (Conv2D)           (None, 224, 224, 64)      1792      \n",
      "_________________________________________________________________\n",
      "conv2d_63 (Conv2D)           (None, 222, 222, 64)      36928     \n",
      "_________________________________________________________________\n",
      "max_pooling2d_28 (MaxPooling (None, 111, 111, 64)      0         \n",
      "_________________________________________________________________\n",
      "conv2d_64 (Conv2D)           (None, 111, 111, 128)     73856     \n",
      "_________________________________________________________________\n",
      "conv2d_65 (Conv2D)           (None, 109, 109, 128)     147584    \n",
      "_________________________________________________________________\n",
      "max_pooling2d_29 (MaxPooling (None, 54, 54, 128)       0         \n",
      "=================================================================\n",
      "Total params: 260,160\n",
      "Trainable params: 260,160\n",
      "Non-trainable params: 0\n",
      "_________________________________________________________________\n",
      "None\n",
      "_________________________________________________________________\n",
      "Layer (type)                 Output Shape              Param #   \n",
      "=================================================================\n",
      "conv2d_62 (Conv2D)           (None, 224, 224, 64)      1792      \n",
      "_________________________________________________________________\n",
      "conv2d_63 (Conv2D)           (None, 222, 222, 64)      36928     \n",
      "_________________________________________________________________\n",
      "max_pooling2d_28 (MaxPooling (None, 111, 111, 64)      0         \n",
      "_________________________________________________________________\n",
      "conv2d_64 (Conv2D)           (None, 111, 111, 128)     73856     \n",
      "_________________________________________________________________\n",
      "conv2d_65 (Conv2D)           (None, 109, 109, 128)     147584    \n",
      "_________________________________________________________________\n",
      "max_pooling2d_29 (MaxPooling (None, 54, 54, 128)       0         \n",
      "_________________________________________________________________\n",
      "conv2d_66 (Conv2D)           (None, 54, 54, 256)       295168    \n",
      "_________________________________________________________________\n",
      "conv2d_67 (Conv2D)           (None, 52, 52, 256)       590080    \n",
      "_________________________________________________________________\n",
      "conv2d_68 (Conv2D)           (None, 50, 50, 256)       590080    \n",
      "_________________________________________________________________\n",
      "max_pooling2d_30 (MaxPooling (None, 25, 25, 256)       0         \n",
      "=================================================================\n",
      "Total params: 1,735,488\n",
      "Trainable params: 1,735,488\n",
      "Non-trainable params: 0\n",
      "_________________________________________________________________\n",
      "None\n",
      "_________________________________________________________________\n",
      "Layer (type)                 Output Shape              Param #   \n",
      "=================================================================\n",
      "conv2d_62 (Conv2D)           (None, 224, 224, 64)      1792      \n",
      "_________________________________________________________________\n",
      "conv2d_63 (Conv2D)           (None, 222, 222, 64)      36928     \n",
      "_________________________________________________________________\n",
      "max_pooling2d_28 (MaxPooling (None, 111, 111, 64)      0         \n",
      "_________________________________________________________________\n",
      "conv2d_64 (Conv2D)           (None, 111, 111, 128)     73856     \n",
      "_________________________________________________________________\n",
      "conv2d_65 (Conv2D)           (None, 109, 109, 128)     147584    \n",
      "_________________________________________________________________\n",
      "max_pooling2d_29 (MaxPooling (None, 54, 54, 128)       0         \n",
      "_________________________________________________________________\n",
      "conv2d_66 (Conv2D)           (None, 54, 54, 256)       295168    \n",
      "_________________________________________________________________\n",
      "conv2d_67 (Conv2D)           (None, 52, 52, 256)       590080    \n",
      "_________________________________________________________________\n",
      "conv2d_68 (Conv2D)           (None, 50, 50, 256)       590080    \n",
      "_________________________________________________________________\n",
      "max_pooling2d_30 (MaxPooling (None, 25, 25, 256)       0         \n",
      "_________________________________________________________________\n",
      "flatten_16 (Flatten)         (None, 160000)            0         \n",
      "=================================================================\n",
      "Total params: 1,735,488\n",
      "Trainable params: 1,735,488\n",
      "Non-trainable params: 0\n",
      "_________________________________________________________________\n",
      "None\n"
     ]
    }
   ],
   "source": [
    "from keras.layers import Conv2D, MaxPooling2D, Flatten\n",
    "from keras.layers import Input, LSTM, Embedding, Dense\n",
    "from keras.models import Model, Sequential\n",
    "\n",
    "# First, let's define a vision model using a Sequential model.\n",
    "# This model will encode an image into a vector.\n",
    "vision_model = Sequential()\n",
    "vision_model.add(Conv2D(64, (3, 3), activation='relu', padding='same', input_shape=(224, 224, 3)))\n",
    "print(vision_model.summary())\n",
    "vision_model.add(Conv2D(64, (3, 3), activation='relu'))\n",
    "vision_model.add(MaxPooling2D((2, 2)))\n",
    "print(vision_model.summary())\n",
    "vision_model.add(Conv2D(128, (3, 3), activation='relu', padding='same'))\n",
    "vision_model.add(Conv2D(128, (3, 3), activation='relu'))\n",
    "vision_model.add(MaxPooling2D((2, 2)))\n",
    "print(vision_model.summary())\n",
    "vision_model.add(Conv2D(256, (3, 3), activation='relu', padding='same'))\n",
    "vision_model.add(Conv2D(256, (3, 3), activation='relu'))\n",
    "vision_model.add(Conv2D(256, (3, 3), activation='relu'))\n",
    "vision_model.add(MaxPooling2D((2, 2)))\n",
    "print(vision_model.summary())\n",
    "vision_model.add(Flatten())\n",
    "print(vision_model.summary())"
   ]
  },
  {
   "cell_type": "code",
   "execution_count": 225,
   "metadata": {},
   "outputs": [
    {
     "data": {
      "text/plain": [
       "160000"
      ]
     },
     "execution_count": 225,
     "metadata": {},
     "output_type": "execute_result"
    }
   ],
   "source": [
    "25 * 25 * 256"
   ]
  },
  {
   "cell_type": "code",
   "execution_count": 232,
   "metadata": {},
   "outputs": [
    {
     "name": "stdout",
     "output_type": "stream",
     "text": [
      "(?, 256)\n",
      "(?, ?)\n"
     ]
    }
   ],
   "source": [
    "from keras.layers import Conv2D, MaxPooling2D, Flatten\n",
    "from keras.layers import Input, LSTM, Embedding, Dense\n",
    "from keras.models import Model, Sequential\n",
    "\n",
    "# First, let's define a vision model using a Sequential model.\n",
    "# This model will encode an image into a vector.\n",
    "vision_model = Sequential()\n",
    "vision_model.add(Conv2D(64, (3, 3), activation='relu', padding='same', input_shape=(224, 224, 3)))\n",
    "vision_model.add(Conv2D(64, (3, 3), activation='relu'))\n",
    "vision_model.add(MaxPooling2D((2, 2)))\n",
    "vision_model.add(Conv2D(128, (3, 3), activation='relu', padding='same'))\n",
    "vision_model.add(Conv2D(128, (3, 3), activation='relu'))\n",
    "vision_model.add(MaxPooling2D((2, 2)))\n",
    "vision_model.add(Conv2D(256, (3, 3), activation='relu', padding='same'))\n",
    "vision_model.add(Conv2D(256, (3, 3), activation='relu'))\n",
    "vision_model.add(Conv2D(256, (3, 3), activation='relu'))\n",
    "vision_model.add(MaxPooling2D((2, 2)))\n",
    "# print(vision_model.summary())\n",
    "vision_model.add(Flatten())\n",
    "\n",
    "# print(vision_model.summary())\n",
    "\n",
    "# Now let's get a tensor with the output of our vision model:\n",
    "image_input = Input(shape=(224, 224, 3))\n",
    "encoded_image = vision_model(image_input)\n",
    "\n",
    "\n",
    "# Next, let's define a language model to encode the question into a vector.\n",
    "# Each question will be at most 100 word long,\n",
    "# and we will index words as integers from 1 to 9999.\n",
    "question_input = Input(shape=(100,), dtype='int32')\n",
    "embedded_question = Embedding(input_dim=10000, output_dim=256, input_length=100)(question_input)\n",
    "encoded_question = LSTM(256)(embedded_question)\n",
    "\n",
    "print(encoded_question.shape)\n",
    "\n",
    "# Let's concatenate the question vector and the image vector:\n",
    "merged = keras.layers.concatenate([encoded_question, encoded_image])\n",
    "\n",
    "print(merged.shape)\n",
    "\n",
    "# And let's train a logistic regression over 1000 words on top:\n",
    "output = Dense(1000, activation='softmax')(merged)\n",
    "\n",
    "# This is our final model:\n",
    "vqa_model = Model(inputs=[image_input, question_input], outputs=output)"
   ]
  },
  {
   "cell_type": "code",
   "execution_count": null,
   "metadata": {
    "collapsed": true
   },
   "outputs": [],
   "source": []
  }
 ],
 "metadata": {
  "kernelspec": {
   "display_name": "Python 3",
   "language": "python",
   "name": "python3"
  },
  "language_info": {
   "codemirror_mode": {
    "name": "ipython",
    "version": 3
   },
   "file_extension": ".py",
   "mimetype": "text/x-python",
   "name": "python",
   "nbconvert_exporter": "python",
   "pygments_lexer": "ipython3",
   "version": "3.6.2"
  }
 },
 "nbformat": 4,
 "nbformat_minor": 2
}
