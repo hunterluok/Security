{
 "cells": [
  {
   "cell_type": "code",
   "execution_count": 2,
   "metadata": {},
   "outputs": [
    {
     "data": {
      "text/plain": [
       "'2.2.2'"
      ]
     },
     "execution_count": 2,
     "metadata": {},
     "output_type": "execute_result"
    }
   ],
   "source": [
    "from keras.models import Sequential\n",
    "from keras.layers import  Dense,Activation\n",
    "import keras\n",
    "keras.__version__"
   ]
  },
  {
   "cell_type": "code",
   "execution_count": 3,
   "metadata": {
    "collapsed": true
   },
   "outputs": [],
   "source": [
    "model =Sequential([Dense(32, input_shape=(784,)),\n",
    "                  Activation('relu'),Dense(10),\n",
    "                  Activation('softmax')])"
   ]
  },
  {
   "cell_type": "code",
   "execution_count": 4,
   "metadata": {
    "collapsed": true
   },
   "outputs": [],
   "source": [
    "model = Sequential()\n",
    "model.add(Dense(32,input_dim=784))\n",
    "model.add(Activation('relu'))"
   ]
  },
  {
   "cell_type": "code",
   "execution_count": 5,
   "metadata": {
    "collapsed": true
   },
   "outputs": [],
   "source": [
    "model = Sequential()\n",
    "model.add(Dense(32,input_shape=(784,)))\n",
    "model = Sequential()\n",
    "model.add(Dense(32,input_dim=784))"
   ]
  },
  {
   "cell_type": "code",
   "execution_count": 6,
   "metadata": {
    "collapsed": true
   },
   "outputs": [],
   "source": [
    "# For a multi-class classification problem\n",
    "model.compile(optimizer='rmsprop',\n",
    "              loss='categorical_crossentropy',\n",
    "              metrics=['accuracy'])\n",
    "\n",
    "# For a binary classification problem\n",
    "model.compile(optimizer='rmsprop',\n",
    "              loss='binary_crossentropy',\n",
    "              metrics=['accuracy'])\n",
    "\n",
    "# For a mean squared error regression problem\n",
    "model.compile(optimizer='rmsprop',\n",
    "              loss='mse')\n",
    "\n",
    "# For custom metrics\n",
    "import keras.backend as K\n",
    "\n",
    "def mean_pred(y_true, y_pred):\n",
    "    return K.mean(y_pred)\n",
    "\n",
    "model.compile(optimizer='rmsprop',\n",
    "              loss='binary_crossentropy',\n",
    "              metrics=['accuracy', mean_pred])"
   ]
  },
  {
   "cell_type": "code",
   "execution_count": 7,
   "metadata": {},
   "outputs": [
    {
     "name": "stdout",
     "output_type": "stream",
     "text": [
      "Epoch 1/10\n",
      "1000/1000 [==============================] - 0s 254us/step - loss: 0.7128 - acc: 0.4940\n",
      "Epoch 2/10\n",
      "1000/1000 [==============================] - 0s 36us/step - loss: 0.7018 - acc: 0.5100\n",
      "Epoch 3/10\n",
      "1000/1000 [==============================] - 0s 34us/step - loss: 0.6973 - acc: 0.5250\n",
      "Epoch 4/10\n",
      "1000/1000 [==============================] - 0s 33us/step - loss: 0.6960 - acc: 0.5270\n",
      "Epoch 5/10\n",
      "1000/1000 [==============================] - 0s 36us/step - loss: 0.6924 - acc: 0.5090\n",
      "Epoch 6/10\n",
      "1000/1000 [==============================] - 0s 36us/step - loss: 0.6876 - acc: 0.5420\n",
      "Epoch 7/10\n",
      "1000/1000 [==============================] - 0s 34us/step - loss: 0.6814 - acc: 0.5640\n",
      "Epoch 8/10\n",
      "1000/1000 [==============================] - 0s 34us/step - loss: 0.6827 - acc: 0.5590\n",
      "Epoch 9/10\n",
      "1000/1000 [==============================] - 0s 33us/step - loss: 0.6787 - acc: 0.5800\n",
      "Epoch 10/10\n",
      "1000/1000 [==============================] - 0s 33us/step - loss: 0.6759 - acc: 0.5690\n"
     ]
    }
   ],
   "source": [
    "model =Sequential()\n",
    "model.add(Dense(32, activation='relu',input_dim=100))\n",
    "model.add(Dense(1,activation='sigmoid'))\n",
    "model.compile(optimizer='rmsprop',loss='binary_crossentropy',metrics=['accuracy'])\n",
    "\n",
    "import numpy as np\n",
    "data = np.random.random((1000,100))\n",
    "labels = np.random.randint(2,size=(1000,1))\n",
    "m = model.fit(data,labels,epochs=10,batch_size=32)"
   ]
  },
  {
   "cell_type": "code",
   "execution_count": 8,
   "metadata": {
    "collapsed": true
   },
   "outputs": [],
   "source": [
    "model = Sequential()\n",
    "model.add(Dense(32,activation='relu',input_dim=100))\n",
    "model.add(Dense(10,activation='softmax'))\n",
    "model.compile(optimizer='rmsprop',loss='categorical_crossentropy',metrics=['accuracy'])\n"
   ]
  },
  {
   "cell_type": "code",
   "execution_count": 8,
   "metadata": {
    "collapsed": true
   },
   "outputs": [],
   "source": [
    "import numpy as np\n",
    "data =np.random.random((1000,100))\n",
    "labels = np.random.randint(10,size=(1000,1))   #生成0-9之间的数据\n",
    "import keras\n"
   ]
  },
  {
   "cell_type": "code",
   "execution_count": 9,
   "metadata": {
    "collapsed": true
   },
   "outputs": [],
   "source": [
    "one_hot_labels = keras.utils.to_categorical(labels,num_classes=10)\n",
    "#print(one_hot_labels[:10])\n",
    "#print(labels[:10])\n",
    "#print(max(labels))"
   ]
  },
  {
   "cell_type": "code",
   "execution_count": 12,
   "metadata": {
    "collapsed": true
   },
   "outputs": [],
   "source": [
    "#model.fit(data,one_hot_labels,epochs=10,batch_size=32)"
   ]
  },
  {
   "cell_type": "code",
   "execution_count": 13,
   "metadata": {
    "collapsed": true
   },
   "outputs": [],
   "source": [
    "## 多层感知机  多分类\n",
    "import keras\n",
    "from keras.models import Sequential\n",
    "from keras.layers import Dense,Dropout,Activation\n",
    "from keras.optimizers import SGD\n",
    "import numpy as np"
   ]
  },
  {
   "cell_type": "code",
   "execution_count": 14,
   "metadata": {
    "collapsed": true
   },
   "outputs": [],
   "source": [
    "x_train = np.random.random((1000,20))\n",
    "y_train = keras.utils.to_categorical(np.random.randint(10,size=(1000,1)),num_classes=10)\n",
    "x_test = np.random.random((100,20))\n",
    "y_test = keras.utils.to_categorical(np.random.randint(10,size=(100,1)),num_classes=10)\n"
   ]
  },
  {
   "cell_type": "code",
   "execution_count": 15,
   "metadata": {},
   "outputs": [
    {
     "ename": "ValueError",
     "evalue": "Error when checking target: expected dense_12 to have 2 dimensions, but got array with shape (1000, 1, 10)",
     "output_type": "error",
     "traceback": [
      "\u001b[0;31m---------------------------------------------------------------------------\u001b[0m",
      "\u001b[0;31mValueError\u001b[0m                                Traceback (most recent call last)",
      "\u001b[0;32m<ipython-input-15-cc0bd958d319>\u001b[0m in \u001b[0;36m<module>\u001b[0;34m()\u001b[0m\n\u001b[1;32m      9\u001b[0m \u001b[0;34m\u001b[0m\u001b[0m\n\u001b[1;32m     10\u001b[0m \u001b[0mmodel\u001b[0m\u001b[0;34m.\u001b[0m\u001b[0mcompile\u001b[0m\u001b[0;34m(\u001b[0m\u001b[0mloss\u001b[0m\u001b[0;34m=\u001b[0m\u001b[0;34m'categorical_crossentropy'\u001b[0m\u001b[0;34m,\u001b[0m\u001b[0moptimizer\u001b[0m\u001b[0;34m=\u001b[0m\u001b[0msgd\u001b[0m\u001b[0;34m,\u001b[0m\u001b[0mmetrics\u001b[0m\u001b[0;34m=\u001b[0m\u001b[0;34m[\u001b[0m\u001b[0;34m'accuracy'\u001b[0m\u001b[0;34m]\u001b[0m\u001b[0;34m)\u001b[0m\u001b[0;34m\u001b[0m\u001b[0m\n\u001b[0;32m---> 11\u001b[0;31m \u001b[0mmodel\u001b[0m\u001b[0;34m.\u001b[0m\u001b[0mfit\u001b[0m\u001b[0;34m(\u001b[0m\u001b[0mx_train\u001b[0m\u001b[0;34m,\u001b[0m\u001b[0my_train\u001b[0m\u001b[0;34m,\u001b[0m\u001b[0mepochs\u001b[0m\u001b[0;34m=\u001b[0m\u001b[0;36m20\u001b[0m\u001b[0;34m,\u001b[0m\u001b[0mbatch_size\u001b[0m\u001b[0;34m=\u001b[0m\u001b[0;36m128\u001b[0m\u001b[0;34m)\u001b[0m\u001b[0;34m\u001b[0m\u001b[0m\n\u001b[0m\u001b[1;32m     12\u001b[0m \u001b[0mscore\u001b[0m \u001b[0;34m=\u001b[0m \u001b[0mmodel\u001b[0m\u001b[0;34m.\u001b[0m\u001b[0mevaluate\u001b[0m\u001b[0;34m(\u001b[0m\u001b[0mx_test\u001b[0m\u001b[0;34m,\u001b[0m\u001b[0my_test\u001b[0m\u001b[0;34m)\u001b[0m\u001b[0;34m\u001b[0m\u001b[0m\n\u001b[1;32m     13\u001b[0m \u001b[0mprint\u001b[0m\u001b[0;34m(\u001b[0m\u001b[0mscore\u001b[0m\u001b[0;34m)\u001b[0m\u001b[0;34m\u001b[0m\u001b[0m\n",
      "\u001b[0;32m~/anaconda3/lib/python3.6/site-packages/keras/models.py\u001b[0m in \u001b[0;36mfit\u001b[0;34m(self, x, y, batch_size, epochs, verbose, callbacks, validation_split, validation_data, shuffle, class_weight, sample_weight, initial_epoch, steps_per_epoch, validation_steps, **kwargs)\u001b[0m\n\u001b[1;32m    958\u001b[0m                               \u001b[0minitial_epoch\u001b[0m\u001b[0;34m=\u001b[0m\u001b[0minitial_epoch\u001b[0m\u001b[0;34m,\u001b[0m\u001b[0;34m\u001b[0m\u001b[0m\n\u001b[1;32m    959\u001b[0m                               \u001b[0msteps_per_epoch\u001b[0m\u001b[0;34m=\u001b[0m\u001b[0msteps_per_epoch\u001b[0m\u001b[0;34m,\u001b[0m\u001b[0;34m\u001b[0m\u001b[0m\n\u001b[0;32m--> 960\u001b[0;31m                               validation_steps=validation_steps)\n\u001b[0m\u001b[1;32m    961\u001b[0m \u001b[0;34m\u001b[0m\u001b[0m\n\u001b[1;32m    962\u001b[0m     def evaluate(self, x, y, batch_size=32, verbose=1,\n",
      "\u001b[0;32m~/anaconda3/lib/python3.6/site-packages/keras/engine/training.py\u001b[0m in \u001b[0;36mfit\u001b[0;34m(self, x, y, batch_size, epochs, verbose, callbacks, validation_split, validation_data, shuffle, class_weight, sample_weight, initial_epoch, steps_per_epoch, validation_steps, **kwargs)\u001b[0m\n\u001b[1;32m   1570\u001b[0m             \u001b[0mclass_weight\u001b[0m\u001b[0;34m=\u001b[0m\u001b[0mclass_weight\u001b[0m\u001b[0;34m,\u001b[0m\u001b[0;34m\u001b[0m\u001b[0m\n\u001b[1;32m   1571\u001b[0m             \u001b[0mcheck_batch_axis\u001b[0m\u001b[0;34m=\u001b[0m\u001b[0;32mFalse\u001b[0m\u001b[0;34m,\u001b[0m\u001b[0;34m\u001b[0m\u001b[0m\n\u001b[0;32m-> 1572\u001b[0;31m             batch_size=batch_size)\n\u001b[0m\u001b[1;32m   1573\u001b[0m         \u001b[0;31m# Prepare validation data.\u001b[0m\u001b[0;34m\u001b[0m\u001b[0;34m\u001b[0m\u001b[0m\n\u001b[1;32m   1574\u001b[0m         \u001b[0mdo_validation\u001b[0m \u001b[0;34m=\u001b[0m \u001b[0;32mFalse\u001b[0m\u001b[0;34m\u001b[0m\u001b[0m\n",
      "\u001b[0;32m~/anaconda3/lib/python3.6/site-packages/keras/engine/training.py\u001b[0m in \u001b[0;36m_standardize_user_data\u001b[0;34m(self, x, y, sample_weight, class_weight, check_batch_axis, batch_size)\u001b[0m\n\u001b[1;32m   1409\u001b[0m                                     \u001b[0moutput_shapes\u001b[0m\u001b[0;34m,\u001b[0m\u001b[0;34m\u001b[0m\u001b[0m\n\u001b[1;32m   1410\u001b[0m                                     \u001b[0mcheck_batch_axis\u001b[0m\u001b[0;34m=\u001b[0m\u001b[0;32mFalse\u001b[0m\u001b[0;34m,\u001b[0m\u001b[0;34m\u001b[0m\u001b[0m\n\u001b[0;32m-> 1411\u001b[0;31m                                     exception_prefix='target')\n\u001b[0m\u001b[1;32m   1412\u001b[0m         sample_weights = _standardize_sample_weights(sample_weight,\n\u001b[1;32m   1413\u001b[0m                                                      self._feed_output_names)\n",
      "\u001b[0;32m~/anaconda3/lib/python3.6/site-packages/keras/engine/training.py\u001b[0m in \u001b[0;36m_standardize_input_data\u001b[0;34m(data, names, shapes, check_batch_axis, exception_prefix)\u001b[0m\n\u001b[1;32m    139\u001b[0m                                  \u001b[0;34m' to have '\u001b[0m \u001b[0;34m+\u001b[0m \u001b[0mstr\u001b[0m\u001b[0;34m(\u001b[0m\u001b[0mlen\u001b[0m\u001b[0;34m(\u001b[0m\u001b[0mshapes\u001b[0m\u001b[0;34m[\u001b[0m\u001b[0mi\u001b[0m\u001b[0;34m]\u001b[0m\u001b[0;34m)\u001b[0m\u001b[0;34m)\u001b[0m \u001b[0;34m+\u001b[0m\u001b[0;34m\u001b[0m\u001b[0m\n\u001b[1;32m    140\u001b[0m                                  \u001b[0;34m' dimensions, but got array with shape '\u001b[0m \u001b[0;34m+\u001b[0m\u001b[0;34m\u001b[0m\u001b[0m\n\u001b[0;32m--> 141\u001b[0;31m                                  str(array.shape))\n\u001b[0m\u001b[1;32m    142\u001b[0m             \u001b[0;32mfor\u001b[0m \u001b[0mj\u001b[0m\u001b[0;34m,\u001b[0m \u001b[0;34m(\u001b[0m\u001b[0mdim\u001b[0m\u001b[0;34m,\u001b[0m \u001b[0mref_dim\u001b[0m\u001b[0;34m)\u001b[0m \u001b[0;32min\u001b[0m \u001b[0menumerate\u001b[0m\u001b[0;34m(\u001b[0m\u001b[0mzip\u001b[0m\u001b[0;34m(\u001b[0m\u001b[0marray\u001b[0m\u001b[0;34m.\u001b[0m\u001b[0mshape\u001b[0m\u001b[0;34m,\u001b[0m \u001b[0mshapes\u001b[0m\u001b[0;34m[\u001b[0m\u001b[0mi\u001b[0m\u001b[0;34m]\u001b[0m\u001b[0;34m)\u001b[0m\u001b[0;34m)\u001b[0m\u001b[0;34m:\u001b[0m\u001b[0;34m\u001b[0m\u001b[0m\n\u001b[1;32m    143\u001b[0m                 \u001b[0;32mif\u001b[0m \u001b[0;32mnot\u001b[0m \u001b[0mj\u001b[0m \u001b[0;32mand\u001b[0m \u001b[0;32mnot\u001b[0m \u001b[0mcheck_batch_axis\u001b[0m\u001b[0;34m:\u001b[0m\u001b[0;34m\u001b[0m\u001b[0m\n",
      "\u001b[0;31mValueError\u001b[0m: Error when checking target: expected dense_12 to have 2 dimensions, but got array with shape (1000, 1, 10)"
     ]
    }
   ],
   "source": [
    "model =Sequential()\n",
    "model.add(Dense(64,activation='relu',input_dim=20))\n",
    "model.add(Dropout(0.5))\n",
    "model.add(Dense(64,activation='relu'))\n",
    "model.add(Dropout(0.5))\n",
    "model.add(Dense(10,activation='softmax'))\n",
    "\n",
    "sgd = SGD(lr=0.01,decay=1e-6,momentum=0.9,nesterov=True)\n",
    "\n",
    "model.compile(loss='categorical_crossentropy',optimizer=sgd,metrics=['accuracy'])\n",
    "model.fit(x_train,y_train,epochs=20,batch_size=128)\n",
    "score = model.evaluate(x_test,y_test)\n",
    "print(score)"
   ]
  },
  {
   "cell_type": "code",
   "execution_count": 16,
   "metadata": {
    "collapsed": true
   },
   "outputs": [],
   "source": [
    "# 二分类多层感知机\n",
    "\n",
    "import keras\n",
    "from keras.models import Sequential\n",
    "from keras.layers import  Dense,Dropout\n",
    "import numpy as np"
   ]
  },
  {
   "cell_type": "code",
   "execution_count": 17,
   "metadata": {},
   "outputs": [
    {
     "name": "stdout",
     "output_type": "stream",
     "text": [
      "Epoch 1/10\n",
      "1000/1000 [==============================] - 1s 519us/step - loss: 0.7117 - acc: 0.5010\n",
      "Epoch 2/10\n",
      "1000/1000 [==============================] - 0s 18us/step - loss: 0.7035 - acc: 0.4910\n",
      "Epoch 3/10\n",
      "1000/1000 [==============================] - 0s 18us/step - loss: 0.7083 - acc: 0.4870\n",
      "Epoch 4/10\n",
      "1000/1000 [==============================] - 0s 19us/step - loss: 0.6963 - acc: 0.5110\n",
      "Epoch 5/10\n",
      "1000/1000 [==============================] - 0s 19us/step - loss: 0.6910 - acc: 0.5220\n",
      "Epoch 6/10\n",
      "1000/1000 [==============================] - 0s 19us/step - loss: 0.6987 - acc: 0.5050\n",
      "Epoch 7/10\n",
      "1000/1000 [==============================] - 0s 18us/step - loss: 0.6973 - acc: 0.5000\n",
      "Epoch 8/10\n",
      "1000/1000 [==============================] - 0s 18us/step - loss: 0.6916 - acc: 0.5290\n",
      "Epoch 9/10\n",
      "1000/1000 [==============================] - 0s 19us/step - loss: 0.6992 - acc: 0.5200\n",
      "Epoch 10/10\n",
      "1000/1000 [==============================] - 0s 20us/step - loss: 0.6951 - acc: 0.5200\n",
      "100/100 [==============================] - 0s 445us/step\n",
      "[0.69233191013336182, 0.49000000953674316]\n"
     ]
    }
   ],
   "source": [
    "x_train = np.random.random((1000,20))\n",
    "y_train = np.random.randint(2,size=(1000,1))\n",
    "x_test = np.random.random((100,20))\n",
    "y_test = np.random.randint(2,size=(100,1))\n",
    "\n",
    "model =Sequential()\n",
    "model.add(Dense(64,input_dim=20,activation='relu'))\n",
    "model.add(Dropout(0.5))\n",
    "model.add(Dense(64,activation='relu'))\n",
    "model.add(Dropout(0.5))\n",
    "model.add(Dense(1,activation='sigmoid'))\n",
    "\n",
    "model.compile(loss='binary_crossentropy',optimizer='rmsprop',metrics=['accuracy'])\n",
    "model.fit(x_train,y_train,epochs=10,batch_size=128)\n",
    "score = model.evaluate(x_test,y_test,batch_size=128)\n",
    "print(score)\n"
   ]
  },
  {
   "cell_type": "code",
   "execution_count": 23,
   "metadata": {},
   "outputs": [
    {
     "name": "stdout",
     "output_type": "stream",
     "text": [
      "['a', 'b', 'c', 'a', 'b', 'c', '0', '0', '0', '0']\n",
      "['a', 'b', 'c', 'a']\n",
      "['a', 'b', 'c', 'a', 'b', 'c']\n"
     ]
    }
   ],
   "source": [
    "#对数据进行切割或者填充。\n",
    "def pad(data,len_v,pad_value,cut=True): \n",
    "    d_len =len(data)\n",
    "    if len_v>d_len:\n",
    "        data = data+[pad_value]*(len_v-d_len)  #这个地方一定要加一个 [] 即 [pad_value]\n",
    "    if len_v<d_len and cut:\n",
    "        data = data[:len_v]\n",
    "    else:\n",
    "        data = data\n",
    "    return data\n",
    "print(pad(a,10,'0'))\n",
    "print(pad(a,4,'0'))\n",
    "print(pad(a,4,'0',cut=False))  #这里三种用法需要注意不要 。\n"
   ]
  },
  {
   "cell_type": "code",
   "execution_count": 24,
   "metadata": {},
   "outputs": [
    {
     "name": "stdout",
     "output_type": "stream",
     "text": [
      "01234"
     ]
    }
   ],
   "source": [
    "import time\n",
    "import sys\n",
    "for i in range(5):\n",
    "    print(i,end=''), #这里的用法需要注意 #\n",
    "    #sys.stdout.flush()\n",
    "    time.sleep(2)"
   ]
  },
  {
   "cell_type": "code",
   "execution_count": 129,
   "metadata": {},
   "outputs": [
    {
     "name": "stdout",
     "output_type": "stream",
     "text": [
      "7\n",
      "7\n",
      "['a_c_d', 'e_f_g', 'a_c_d', 'e_f_g'] ['x', 'y', 'x', 'y']\n"
     ]
    }
   ],
   "source": [
    "d = [line.strip() for line in open(\"/Users/luokui/test.txt\")]\n",
    "#print(d)\n",
    "xx =[]\n",
    "yy =[]\n",
    "\n",
    "for line in open(\"/Users/luokui/test.txt\"):\n",
    "    #print(len(line))#居然可以直接这么用啊 不能这么用 是错误的啊\n",
    "    #print(line[0])\n",
    "    x,y=line.rsplit(maxsplit=1) \n",
    "    #print(x,y)#注意这里的rsplit的用法 直接将后面的 label 解放出来的 。\n",
    "    x = \"_\".join(x.split())\n",
    "    xx.append(x)\n",
    "    yy.append(y)\n",
    "#print(xx)\n",
    "#print(yy)\n",
    "\n",
    "fr = open(\"/Users/luokui/test.txt\")\n",
    "for line in fr.readlines():\n",
    "    line=line.strip()\n",
    "    print(len(line))\n",
    "    x,y = line.rsplit(maxsplit=1)\n",
    "    x = \"_\".join(x.split())\n",
    "    xx.append(x)\n",
    "    yy.append(y)\n",
    "print(xx,yy)"
   ]
  },
  {
   "cell_type": "code",
   "execution_count": null,
   "metadata": {
    "collapsed": true
   },
   "outputs": [],
   "source": []
  },
  {
   "cell_type": "code",
   "execution_count": 9,
   "metadata": {
    "collapsed": true
   },
   "outputs": [],
   "source": [
    "from keras.layers import ZeroPadding1D\n",
    "from keras.layers import Dense,Input\n",
    "from keras.models import Model,Sequential"
   ]
  },
  {
   "cell_type": "code",
   "execution_count": 23,
   "metadata": {},
   "outputs": [
    {
     "data": {
      "text/plain": [
       "<tf.Tensor 'zero_padding1d_15/Pad:0' shape=(?, 4, 4) dtype=float32>"
      ]
     },
     "execution_count": 23,
     "metadata": {},
     "output_type": "execute_result"
    }
   ],
   "source": [
    "import numpy as np\n",
    "d = np.arange(24).reshape((2,3,4))\n",
    "ins = Input(shape=(3,4))\n",
    "#model = Sequential()\n",
    "#model.add(ZeroPadding1D(padding=1))\n",
    "t = ZeroPadding1D(padding=(0,1))(ins)\n",
    "t"
   ]
  },
  {
   "cell_type": "code",
   "execution_count": 54,
   "metadata": {},
   "outputs": [
    {
     "data": {
      "text/plain": [
       "array([[[  0.,   0.,   0.,   0.],\n",
       "        [  0.,   0.,   0.,   0.],\n",
       "        [  0.,   1.,   2.,   3.],\n",
       "        [  4.,   5.,   6.,   7.],\n",
       "        [  8.,   9.,  10.,  11.],\n",
       "        [  0.,   0.,   0.,   0.]],\n",
       "\n",
       "       [[  0.,   0.,   0.,   0.],\n",
       "        [  0.,   0.,   0.,   0.],\n",
       "        [ 12.,  13.,  14.,  15.],\n",
       "        [ 16.,  17.,  18.,  19.],\n",
       "        [ 20.,  21.,  22.,  23.],\n",
       "        [  0.,   0.,   0.,   0.]]], dtype=float32)"
      ]
     },
     "execution_count": 54,
     "metadata": {},
     "output_type": "execute_result"
    }
   ],
   "source": [
    "import numpy as np\n",
    "d = np.arange(24).reshape((2,3,4))\n",
    "\n",
    "ins = Input(shape=(3,4))\n",
    "y = ZeroPadding1D(padding=(2,1))(ins)\n",
    "model = Model(ins,y)\n",
    "\n",
    "# model.compile(optimizer='rmsprop',loss='mean_squared_error')\n",
    "#print(model.fit(d)) 这里不需要使用  fit函数 ，直接使用 predict 就可以了\n",
    "model.predict(d)"
   ]
  },
  {
   "cell_type": "code",
   "execution_count": 51,
   "metadata": {},
   "outputs": [
    {
     "data": {
      "text/plain": [
       "array([[[  0.        ,   0.        ,   0.        ,   0.        ],\n",
       "        [ -4.12963104,  -2.43187332,  -2.15302944,   0.56728989],\n",
       "        [-11.53649139,  -7.70167255,  -5.38438988,   1.77262115],\n",
       "        [-18.94335175, -12.97147179,  -8.61574936,   2.97795248],\n",
       "        [  0.        ,   0.        ,   0.        ,   0.        ]],\n",
       "\n",
       "       [[  0.        ,   0.        ,   0.        ,   0.        ],\n",
       "        [-26.3502121 , -18.24127197, -11.84710884,   4.18328381],\n",
       "        [-33.75707245, -23.51107025, -15.07847023,   5.38861561],\n",
       "        [-41.1639328 , -28.78086853, -18.30982971,   6.59394646],\n",
       "        [  0.        ,   0.        ,   0.        ,   0.        ]]], dtype=float32)"
      ]
     },
     "execution_count": 51,
     "metadata": {},
     "output_type": "execute_result"
    }
   ],
   "source": [
    "import numpy as np\n",
    "d = np.arange(24).reshape((2,3,4))\n",
    "\n",
    "model = Sequential()\n",
    "model.add(Dense(units=4,input_shape=(3,4)))\n",
    "model.add(ZeroPadding1D(padding=1))\n",
    "\n",
    "#model.compile(optimizer='rmsprop',loss='mean_squared_error')\n",
    "model.predict(d)"
   ]
  },
  {
   "cell_type": "code",
   "execution_count": 9,
   "metadata": {
    "collapsed": true
   },
   "outputs": [],
   "source": [
    "import keras"
   ]
  },
  {
   "cell_type": "code",
   "execution_count": 18,
   "metadata": {
    "collapsed": true
   },
   "outputs": [],
   "source": [
    "from keras.models import Sequential\n",
    "from keras.layers import  TimeDistributed,Conv2D"
   ]
  },
  {
   "cell_type": "code",
   "execution_count": 12,
   "metadata": {
    "collapsed": true
   },
   "outputs": [],
   "source": [
    "model  = Sequential()\n",
    "model.add(TimeDistributed(Dense(8),input_shape=(10,16)))"
   ]
  },
  {
   "cell_type": "code",
   "execution_count": 13,
   "metadata": {},
   "outputs": [
    {
     "data": {
      "text/plain": [
       "['time_distributed_1']"
      ]
     },
     "execution_count": 13,
     "metadata": {},
     "output_type": "execute_result"
    }
   ],
   "source": [
    "model.output_names"
   ]
  },
  {
   "cell_type": "code",
   "execution_count": 16,
   "metadata": {},
   "outputs": [
    {
     "data": {
      "text/plain": [
       "(None, 10, 8)"
      ]
     },
     "execution_count": 16,
     "metadata": {},
     "output_type": "execute_result"
    }
   ],
   "source": [
    "model.output_shape"
   ]
  },
  {
   "cell_type": "code",
   "execution_count": 28,
   "metadata": {
    "collapsed": true
   },
   "outputs": [],
   "source": [
    "model = Sequential()\n",
    "model.add(TimeDistributed(Conv2D(64, (3, 3)),input_shape=(10, 299, 299, 3)))"
   ]
  },
  {
   "cell_type": "code",
   "execution_count": 20,
   "metadata": {},
   "outputs": [
    {
     "data": {
      "text/plain": [
       "[<tf.Tensor 'time_distributed_2/Reshape_1:0' shape=(?, 10, 297, 297, 64) dtype=float32>]"
      ]
     },
     "execution_count": 20,
     "metadata": {},
     "output_type": "execute_result"
    }
   ],
   "source": [
    "model.outputs"
   ]
  },
  {
   "cell_type": "code",
   "execution_count": 21,
   "metadata": {},
   "outputs": [
    {
     "data": {
      "text/plain": [
       "(None, 10, 297, 297, 64)"
      ]
     },
     "execution_count": 21,
     "metadata": {},
     "output_type": "execute_result"
    }
   ],
   "source": [
    "model.output_shape"
   ]
  },
  {
   "cell_type": "code",
   "execution_count": 22,
   "metadata": {},
   "outputs": [
    {
     "name": "stdout",
     "output_type": "stream",
     "text": [
      "_________________________________________________________________\n",
      "Layer (type)                 Output Shape              Param #   \n",
      "=================================================================\n",
      "time_distributed_2 (TimeDist (None, 10, 297, 297, 64)  1792      \n",
      "=================================================================\n",
      "Total params: 1,792\n",
      "Trainable params: 1,792\n",
      "Non-trainable params: 0\n",
      "_________________________________________________________________\n"
     ]
    }
   ],
   "source": [
    "keras.utils.print_summary(model)"
   ]
  },
  {
   "cell_type": "code",
   "execution_count": 27,
   "metadata": {},
   "outputs": [
    {
     "data": {
      "text/plain": [
       "895"
      ]
     },
     "execution_count": 27,
     "metadata": {},
     "output_type": "execute_result"
    }
   ],
   "source": [
    "1792-299*3"
   ]
  },
  {
   "cell_type": "code",
   "execution_count": 29,
   "metadata": {
    "collapsed": true
   },
   "outputs": [],
   "source": [
    "a = np.arange(24).reshape(2,3,4)"
   ]
  },
  {
   "cell_type": "code",
   "execution_count": 39,
   "metadata": {},
   "outputs": [
    {
     "data": {
      "text/plain": [
       "array([[[1, 1, 1],\n",
       "        [1, 1, 1],\n",
       "        [2, 2, 2]],\n",
       "\n",
       "       [[2, 2, 2],\n",
       "        [2, 2, 2],\n",
       "        [1, 1, 1]]])"
      ]
     },
     "execution_count": 39,
     "metadata": {},
     "output_type": "execute_result"
    }
   ],
   "source": [
    "b = np.array([[[1,1,1],[1,1,1],[2,2,2]],[[2,2,2],[2,2,2],[1,1,1]]])\n",
    "b"
   ]
  },
  {
   "cell_type": "code",
   "execution_count": 37,
   "metadata": {},
   "outputs": [
    {
     "data": {
      "text/plain": [
       "array([[0.40089186, 0.48997894, 0.49657295],\n",
       "       [0.49829409, 0.4989827 , 0.49932533]])"
      ]
     },
     "execution_count": 37,
     "metadata": {},
     "output_type": "execute_result"
    }
   ],
   "source": [
    "t = keras.utils.normalize(a,axis=-1,order=2)\n",
    "np.mean(t,axis=-1)"
   ]
  },
  {
   "cell_type": "code",
   "execution_count": 48,
   "metadata": {},
   "outputs": [
    {
     "data": {
      "text/plain": [
       "array([[[0.57735027, 0.57735027, 0.57735027],\n",
       "        [0.57735027, 0.57735027, 0.57735027],\n",
       "        [0.57735027, 0.57735027, 0.57735027]],\n",
       "\n",
       "       [[0.57735027, 0.57735027, 0.57735027],\n",
       "        [0.57735027, 0.57735027, 0.57735027],\n",
       "        [0.57735027, 0.57735027, 0.57735027]]])"
      ]
     },
     "execution_count": 48,
     "metadata": {},
     "output_type": "execute_result"
    }
   ],
   "source": [
    "t1 = keras.utils.normalize(b,axis=2,order=2)\n",
    "t1"
   ]
  },
  {
   "cell_type": "code",
   "execution_count": 45,
   "metadata": {},
   "outputs": [
    {
     "data": {
      "text/plain": [
       "array([[0.57735027, 0.57735027, 0.57735027],\n",
       "       [0.57735027, 0.57735027, 0.57735027]])"
      ]
     },
     "execution_count": 45,
     "metadata": {},
     "output_type": "execute_result"
    }
   ],
   "source": [
    "np.mean(t1,axis=-1)"
   ]
  },
  {
   "cell_type": "code",
   "execution_count": 55,
   "metadata": {},
   "outputs": [
    {
     "data": {
      "text/plain": [
       "array([[0.57735027, 0.57735027, 0.57735027],\n",
       "       [0.57735027, 0.57735027, 0.57735027],\n",
       "       [0.57735027, 0.57735027, 0.57735027]])"
      ]
     },
     "execution_count": 55,
     "metadata": {},
     "output_type": "execute_result"
    }
   ],
   "source": [
    "keras.utils.normalize(b[0],axis=1,order=2)"
   ]
  },
  {
   "cell_type": "code",
   "execution_count": 56,
   "metadata": {},
   "outputs": [
    {
     "data": {
      "text/plain": [
       "array([[1, 1, 1],\n",
       "       [1, 1, 1],\n",
       "       [2, 2, 2]])"
      ]
     },
     "execution_count": 56,
     "metadata": {},
     "output_type": "execute_result"
    }
   ],
   "source": [
    "b[0]"
   ]
  },
  {
   "cell_type": "code",
   "execution_count": 58,
   "metadata": {},
   "outputs": [
    {
     "data": {
      "text/plain": [
       "array([1.33333333, 1.33333333, 1.33333333])"
      ]
     },
     "execution_count": 58,
     "metadata": {},
     "output_type": "execute_result"
    }
   ],
   "source": [
    "np.mean(b[0],axis=)"
   ]
  },
  {
   "cell_type": "code",
   "execution_count": null,
   "metadata": {
    "collapsed": true
   },
   "outputs": [],
   "source": []
  }
 ],
 "metadata": {
  "kernelspec": {
   "display_name": "Python 3",
   "language": "python",
   "name": "python3"
  },
  "language_info": {
   "codemirror_mode": {
    "name": "ipython",
    "version": 3
   },
   "file_extension": ".py",
   "mimetype": "text/x-python",
   "name": "python",
   "nbconvert_exporter": "python",
   "pygments_lexer": "ipython3",
   "version": "3.6.2"
  }
 },
 "nbformat": 4,
 "nbformat_minor": 2
}
