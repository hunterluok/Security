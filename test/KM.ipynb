{
 "cells": [
  {
   "cell_type": "markdown",
   "metadata": {},
   "source": [
    "#  4个 KM\n",
    "(1) pandas KM\n",
    "(2) correlation KM\n",
    "(3) numpy KM\n",
    "(4) numpy BiKM"
   ]
  },
  {
   "cell_type": "markdown",
   "metadata": {
    "collapsed": true
   },
   "source": [
    "# Pandas 数据类型版KM"
   ]
  },
  {
   "cell_type": "code",
   "execution_count": null,
   "metadata": {
    "collapsed": true
   },
   "outputs": [],
   "source": [
    "# coding: utf-8\n",
    "import numpy as np\n",
    "from numpy import *\n",
    "import matplotlib.pyplot as plt\n",
    "import numpy\n",
    "import pandas\n",
    "import pandas as pd\n",
    "\n",
    "\n",
    "def get_data(paths):\n",
    "    data = []\n",
    "    with open(paths,'r') as f:\n",
    "        fr = f.readlines()\n",
    "        for line in fr:\n",
    "            line = line.strip().split('\\t')\n",
    "            temp = [float(i) for i in line]\n",
    "            data.append(temp)   \n",
    "    return mat(data)\n",
    "\n",
    "def cal_dist(centers,data,k):\n",
    "    data= mat(data)\n",
    "    m,n = data.shape\n",
    "    dists = zeros((m,k))\n",
    "    for j in range(k):\n",
    "        for i in range(m):\n",
    "            dists[i,j] = sqrt(sum(pow((centers-data[i]).A,2)))\n",
    "    return dists\n",
    "\n",
    "def chose_center(data,k):\n",
    "    ids = []\n",
    "    m,n = data.shape\n",
    "    indexs =list(arange(m))\n",
    "    for i in range(k):\n",
    "        NL = len(indexs)\n",
    "        index = random.randint(0,NL,1)[0]  # 这个地方需要注意啊 ，\n",
    "        ids.append(indexs[index])\n",
    "        indexs.remove(indexs[index])\n",
    "    centers = data[ids]\n",
    "    return centers\n",
    "\n",
    "class km:\n",
    "    def __init__(self, data, k, iters, early_stop=True):\n",
    "        self.data = data\n",
    "        self.k = k \n",
    "        self.iters = iters\n",
    "        self.N,_ = data.shape\n",
    "        self.early_stop = early_stop\n",
    "        self.init_center = self.chose_center(k, data) #这里的 self.chose_center 的 self\n",
    "        self.centers, self.class_label, self.total_dist, self.dist, self.rate = self.km_model(data,k,iters,early_stop)\n",
    "        \n",
    "    def chose_center(self,k,data):\n",
    "        ids = []\n",
    "        indexs =list(np.arange(N))\n",
    "        for i in range(k):\n",
    "            NL = len(indexs)\n",
    "            index = random.randint(0,NL,1)[0]  # 这个地方需要注意啊 ，\n",
    "            ids.append(indexs[index])\n",
    "            indexs.remove(indexs[index])\n",
    "        centers = data[ids]\n",
    "        return centers\n",
    "    \n",
    "    def km_model(self,data,k,iters,early_stop):\n",
    "        centers= self.chose_center(k,data) \n",
    "        total_dist = np.zeros((iters,1))\n",
    "        rate = []\n",
    "        \n",
    "        for j in range(iters):\n",
    "            dist=[]\n",
    "            for i in range(k):\n",
    "                dist.append(np.sqrt(diag(np.matmul((centers[i]-data),(centers[i]-data).T))))  # np.sqrt(np.sum((x[0]-x[2])**2)) 计算的另外一种方法。\n",
    "\n",
    "            dist = np.transpose(dist)\n",
    "            class_label = np.argmin(dist,1)\n",
    "\n",
    "            for i in range(k):\n",
    "                pos = class_label==i\n",
    "                centers[i] = np.mean(x[pos],0) \n",
    "                total_dist[j] += np.sum(np.sum(dist[pos,i],0))\n",
    "            \n",
    "            if j>0 and j<iters:\n",
    "                re = (total_dist[j-1]-total_dist[j])/total_dist[j]\n",
    "                rate.append(re)\n",
    "                \n",
    "                if early_stop and re<0.01:\n",
    "                    break\n",
    "                    \n",
    "        return centers, class_label, total_dist, dist,rate\n",
    "\"\"\" \n",
    "    def plot(self,data,k,iters,early_stop):\n",
    "        centers,class_label,*_ = self.km_model(data,k,iters,early_stop)\n",
    "        fig = plt.subplot(1,1,1)\n",
    "        for i in range(k):\n",
    "            pos = class_label==i\n",
    "            fig.scatter(x[pos,0],x[pos,1])\n",
    "            fig.scatter(centers[i,0],centers[i,1],color='r',marker='*',linewidths=10)\n",
    "\t\tplt.show()\n",
    "\"\"\"\t\t\n",
    "\t\t"
   ]
  },
  {
   "cell_type": "markdown",
   "metadata": {},
   "source": [
    "# 相关系数作为 距离的KM"
   ]
  },
  {
   "cell_type": "code",
   "execution_count": null,
   "metadata": {
    "collapsed": true
   },
   "outputs": [],
   "source": [
    "class km_evo:\n",
    "    def __init__(self,data,k,iters,method=\"kendall\"):\n",
    "        self.data = data\n",
    "        self.k = k \n",
    "        self.iters = iters\n",
    "        self.N,_ = data.shape\n",
    "        self.method=method\n",
    "        self.centers,self.class_label,self.total_dist= self.km_model(data,k,iters)\n",
    "\n",
    "\n",
    "    def chose_random_k(self,k,data):\n",
    "        ids = []\n",
    "        indexs = list(np.arange(self.N))\n",
    "        for i in range(k):\n",
    "            NL = len(indexs)\n",
    "            index = random.randint(0,NL,1)[0]  # 这个地方需要注意啊 ，\n",
    "            ids.append(indexs[index])\n",
    "            indexs.remove(indexs[index])\n",
    "        return ids\n",
    "\n",
    "    def km_model(self,data,k,iters):\n",
    "        ids = self.chose_random_k(k,data) # 随机选择K\n",
    "        \n",
    "        data = data.T\n",
    "        \n",
    "        if isinstance(data,numpy.ndarray):\n",
    "            data = pd.DataFrame(data)\n",
    "        elif isinstance(data,pandas.core.frame.DataFrame):\n",
    "            pass\n",
    "        else:\n",
    "            raise KeyError(\"The data is not fit for this model\")\n",
    "        \n",
    "        dist = np.array(data.corr(method=self.method))      \n",
    "        total_dist =  np.zeros((iters,1))\n",
    "        centers = dist[ids]\n",
    "        class_label = np.argmax(centers,0)\n",
    "                 \n",
    "        for j in range(iters):\n",
    "            new_centers = []   \n",
    "            for i in range(k):\n",
    "                pos = class_label==i\n",
    "                new_dist = dist[:,pos]\n",
    "                new_index = np.argmax(sum(new_dist,1))            \n",
    "                new_centers.append(dist[new_index])      \n",
    "                max_dist = np.max(sum(new_dist,1))              \n",
    "                total_dist[j] +=max_dist\n",
    "            centers = new_centers\n",
    "            class_label =  np.argmax(centers,0)\n",
    "              \n",
    "        return centers,class_label,total_dist        \n",
    "        \n",
    "    def plot(self,data,k,iters):\n",
    "        centers,class_label,*_ = self.km_model(data,k,iters)\n",
    "        fig = plt.subplot(1,1,1)\n",
    "        for i in range(k):\n",
    "            pos = class_label==i\n",
    "            fig.scatter(x[pos,0],x[pos,1])\n",
    "            fig.scatter(centers[i,0],centers[i,1],color='r',marker='*',linewidths=10)\n",
    "        plt.show()"
   ]
  },
  {
   "cell_type": "markdown",
   "metadata": {},
   "source": [
    "# KM20181209"
   ]
  },
  {
   "cell_type": "code",
   "execution_count": 1,
   "metadata": {
    "collapsed": true
   },
   "outputs": [],
   "source": [
    "import numpy as np\n",
    "from sklearn.datasets import load_iris\n",
    "import matplotlib.pyplot as plt\n",
    "%matplotlib inline\n",
    "\n",
    "data = load_iris()[\"data\"]"
   ]
  },
  {
   "cell_type": "code",
   "execution_count": 2,
   "metadata": {
    "collapsed": true
   },
   "outputs": [],
   "source": [
    "def dist_eduli(vec1, vec2):\n",
    "    diff = np.sum(np.power(vec1 - vec2, 2), axis=-1)\n",
    "    return np.sqrt(diff)\n",
    "\n",
    "def get_random(k, m):\n",
    "    index = set()\n",
    "    while len(index)!=k:\n",
    "        temp = np.random.randint(m)\n",
    "        index.add(temp)\n",
    "    return list(index)\n",
    "\n",
    "def updata(data, centers, m, mats, k):\n",
    "    for i in range(m):\n",
    "        temp_dist = dist_eduli(data[i], centers)\n",
    "        cent = np.argmin(temp_dist)\n",
    "        mats[i, 0] = cent\n",
    "        mats[i, 1] = temp_dist[cent]\n",
    "    for i in range(k):\n",
    "        means = np.mean(data[mats[:,0]==i], axis=0)\n",
    "        centers[i] = means\n",
    "    sse = np.sum(mats[:,1])\n",
    "    return mats, centers, sse\n",
    "\n",
    "def km(data_train, k=3, iters=20, error=0.01):\n",
    "    m, n = data_train.shape\n",
    "    center_index = get_random(k, m)\n",
    "    centers = data_train[center_index]\n",
    "    mats = np.zeros((m, 2))\n",
    "    sse_old = np.inf\n",
    "    \n",
    "    for i in range(iters):\n",
    "        mats, centers, sse = updata(data_train, centers, m, mats, k)\n",
    "        if (sse_old - sse) > error:\n",
    "            sseold = sse\n",
    "        else:\n",
    "            break\n",
    "    return mats, centers, sse "
   ]
  },
  {
   "cell_type": "code",
   "execution_count": 19,
   "metadata": {},
   "outputs": [
    {
     "data": {
      "image/png": "[encoded data removed]",
      "text/plain": [
       "<matplotlib.figure.Figure at 0x1212bc320>"
      ]
     },
     "metadata": {},
     "output_type": "display_data"
    }
   ],
   "source": [
    "mats, centers, sse = km(data, k=3)\n",
    "for i in range(3):\n",
    "    plt.scatter(data[mats[:,0]==i, 0], data[mats[:, 0]==i, 1])"
   ]
  },
  {
   "cell_type": "code",
   "execution_count": 205,
   "metadata": {},
   "outputs": [
    {
     "data": {
      "image/png": "[encoded data removed]",
      "text/plain": [
       "<matplotlib.figure.Figure at 0x121486c88>"
      ]
     },
     "metadata": {},
     "output_type": "display_data"
    }
   ],
   "source": [
    "class km:\n",
    "    def __init__(self, iters, error=0.01)->\"迭代计算的终止条件\":\n",
    "        self.iters = iters\n",
    "        self.error = error\n",
    "    \n",
    "    def dist_eduli(self, vec1, vec2)->\"真是目的，计算向量与 矩阵的距离\":\n",
    "        diff = np.sum(np.power(vec1 - vec2, 2), axis=-1)\n",
    "        return np.sqrt(diff)\n",
    "\n",
    "    def get_random(self, k, m)->\"初始的中心点选择\":\n",
    "        index = set()\n",
    "        while len(index)!=k:\n",
    "            temp = np.random.randint(m)\n",
    "            index.add(temp)\n",
    "        return list(index)\n",
    "    \n",
    "    def updata(self, data, centers, m, mats, k):\n",
    "        for i in range(m):\n",
    "            temp_dist = self.dist_eduli(data[i], centers)\n",
    "            # 求一个点 到中心的距离，得到该点的 类别归属。\n",
    "            cent = np.argmin(temp_dist)\n",
    "            mats[i, 0] = cent\n",
    "            mats[i, 1] = temp_dist[cent]\n",
    "\n",
    "        for i in range(k):\n",
    "            means = np.mean(data[mats[:,0]==i], axis=0)\n",
    "            centers[i] = means\n",
    "        sse = np.sum(mats[:,1])\n",
    "        return mats, centers, sse\n",
    "\n",
    "    def __call__(self, data, k):\n",
    "        if isinstance(data, list):\n",
    "            data = np.array(data)\n",
    "        elif isinstance(data, np.ndarray):\n",
    "            pass\n",
    "        else:\n",
    "            raise TypeError(\"The type of data must be numpy.ndarray, but {} find\".format(type(data)))\n",
    "        \n",
    "        m, n = data.shape\n",
    "        center_index = self.get_random(k, m)\n",
    "        self.centers = data[center_index]\n",
    "        self.mats = np.zeros((m, 2))\n",
    "        self.sse_old = np.inf\n",
    "        \n",
    "        for i in range(self.iters):\n",
    "            self.mats, self.centers, self.sse = self.updata(data, self.centers, m, self.mats, k)\n",
    "            if (self.sse_old - self.sse) > self.error:\n",
    "                self.sseold = self.sse\n",
    "            else:\n",
    "                break\n",
    "        return self.mats, self.centers, self.sse \n",
    "        \n",
    "    @property\n",
    "    def get_mats(self):\n",
    "        return self.mats\n",
    "    \n",
    "    @property\n",
    "    def get_centers(self):\n",
    "        return self.centers\n",
    "    \n",
    "\n",
    "kmmodel = km(20)\n",
    "mats, centers, sse = kmmodel(np.matrix(data), 3)\n",
    "for i in range(3):\n",
    "    plt.scatter(data[mats[:,0]==i, 0], data[mats[:, 0]==i, 1])"
   ]
  },
  {
   "cell_type": "code",
   "execution_count": 4,
   "metadata": {},
   "outputs": [
    {
     "data": {
      "text/plain": [
       "matrix([[5.9016129 , 2.7483871 , 4.39354839, 1.43387097],\n",
       "        [5.006     , 3.418     , 1.464     , 0.244     ],\n",
       "        [6.85      , 3.07368421, 5.74210526, 2.07105263]])"
      ]
     },
     "execution_count": 4,
     "metadata": {},
     "output_type": "execute_result"
    }
   ],
   "source": [
    "model.get_centers"
   ]
  },
  {
   "cell_type": "markdown",
   "metadata": {
    "collapsed": true
   },
   "source": [
    "#  20181210 BiKM"
   ]
  },
  {
   "cell_type": "code",
   "execution_count": 229,
   "metadata": {},
   "outputs": [
    {
     "name": "stdout",
     "output_type": "stream",
     "text": [
      "best_split :0, sse_total: 128.40419523672944\n",
      "best_split :0, sse_total: 122.08705888359998\n",
      "best_split :1, sse_total: 92.77185384091368\n"
     ]
    }
   ],
   "source": [
    "def dist_eduli(vec1, vec2):\n",
    "    diff = np.sum(np.power(vec1 - vec2, 2), axis=-1)\n",
    "    return np.sqrt(diff)\n",
    "\n",
    "def BiKM(data, k, KMk=2):\n",
    "    m, n = data.shape\n",
    "    mats_total = np.zeros((m, 2))\n",
    "    index = np.random.randint(0, m)\n",
    "    center_all = [data[index]]\n",
    "    mats_total[:,1] = dist_eduli(center_all, data)\n",
    "    sse_total = np.sum(mats_total[:, 1])\n",
    "    best_split = 0\n",
    "\n",
    "    while len(center_all) < k:\n",
    "        for i in range(len(center_all)):\n",
    "            temp_data = data[mats_total[:,0] == i]\n",
    "            sse_qt = np.sum(mats_total[mats_total[:,0] != i, 1])\n",
    "            mats, centers, sse = kmmodel(temp_data, KMk)  # 调用KModel\n",
    "            # 满足条件 则更新。\n",
    "            if sse + sse_qt < sse_total:\n",
    "                sse_total = sse + sse_qt\n",
    "                best_split = i\n",
    "                print(\"best_split :{}, sse_total: {}\".format(best_split, sse_total))\n",
    "                # 中心点的更新，将第一个中心赋值到 best_split, 第二个追加到列表上。 顺序不重要\n",
    "                center_all[best_split] = centers[0]\n",
    "                center_all.append(centers[1])\n",
    "                # 更新顺损失 矩阵。\n",
    "                mats[mats[:,0] != 0, 0] = len(center_all) - 1\n",
    "                mats[mats[:,0] == 0, 0] = best_split\n",
    "                mats_total[mats_total[:,0] == best_split, :] = mats\n",
    "    return mats_total, center_all, sse_total\n",
    "            \n",
    "ks = 3\n",
    "mats_totals, center_alls, sse_totals = BiKM(data, ks)"
   ]
  },
  {
   "cell_type": "code",
   "execution_count": 230,
   "metadata": {},
   "outputs": [
    {
     "data": {
      "image/png": "[encoded data removed]",
      "text/plain": [
       "<matplotlib.figure.Figure at 0x121417f28>"
      ]
     },
     "metadata": {},
     "output_type": "display_data"
    }
   ],
   "source": [
    "for i in range(ks):\n",
    "    plt.scatter(data[mats_totals[:,0]==i, 0], data[mats_totals[:, 0]==i, 1])"
   ]
  },
  {
   "cell_type": "code",
   "execution_count": null,
   "metadata": {
    "collapsed": true
   },
   "outputs": [],
   "source": []
  },
  {
   "cell_type": "code",
   "execution_count": null,
   "metadata": {
    "collapsed": true
   },
   "outputs": [],
   "source": []
  }
 ],
 "metadata": {
  "kernelspec": {
   "display_name": "Python 3",
   "language": "python",
   "name": "python3"
  },
  "language_info": {
   "codemirror_mode": {
    "name": "ipython",
    "version": 3
   },
   "file_extension": ".py",
   "mimetype": "text/x-python",
   "name": "python",
   "nbconvert_exporter": "python",
   "pygments_lexer": "ipython3",
   "version": "3.6.2"
  }
 },
 "nbformat": 4,
 "nbformat_minor": 2
}
