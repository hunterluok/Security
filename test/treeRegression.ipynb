{
 "cells": [
  {
   "cell_type": "code",
   "execution_count": 190,
   "metadata": {},
   "outputs": [
    {
     "data": {
      "text/plain": [
       "array([[ 0.5488135 ,  0.71518937,  0.60276338,  0.54488318,  0.4236548 ,\n",
       "         0.64589411,  0.43758721,  0.891773  ,  0.96366276,  0.38344152,\n",
       "        18.40631483],\n",
       "       [ 0.79172504,  0.52889492,  0.56804456,  0.92559664,  0.07103606,\n",
       "         0.0871293 ,  0.0202184 ,  0.83261985,  0.77815675,  0.87001215,\n",
       "        19.60677754]])"
      ]
     },
     "execution_count": 190,
     "metadata": {},
     "output_type": "execute_result"
    }
   ],
   "source": [
    "import numpy as np\n",
    "from sklearn.metrics import mean_squared_error\n",
    "from sklearn.datasets import make_friedman1\n",
    "from sklearn.ensemble import GradientBoostingRegressor\n",
    "\n",
    "X, y = make_friedman1(n_samples=1200, random_state=0, noise=1.0)\n",
    "x_train, x_test = X[:200], X[200:300]\n",
    "y_train, y_test = y[:200], y[200:300]\n",
    "\n",
    "y_train = y_train.reshape((200, 1))\n",
    "data = np.concatenate([x_train, y_train], axis=1)\n",
    "\n",
    "y_test = y_test.reshape((x_test.shape[0], 1))\n",
    "testdata = np.concatenate([x_test, y_test], axis=1)\n",
    "data[:2]"
   ]
  },
  {
   "cell_type": "code",
   "execution_count": 217,
   "metadata": {},
   "outputs": [],
   "source": [
    "class treeNode:\n",
    "    def __init__(self, label_class=None, feature=None, value=None, right_tree=None, left_tree=None):\n",
    "        self.feature = feature\n",
    "        self.value = value\n",
    "        self.right_tree = right_tree\n",
    "        self.left_tree = left_tree\n",
    "        self.label_class = label_class\n",
    "        \n",
    "    def __name__(self):\n",
    "        return \"treenode\"\n",
    "    \n",
    "    \n",
    "class Tree:\n",
    "    def __init__(self, min_leafs=5, max_depth=10):\n",
    "        self.min_leafs = min_leafs\n",
    "        self.max_depth = max_depth\n",
    "        \n",
    "    def binsplitdata(self, data, feature, value):\n",
    "        mat0 = data[data[:, feature] > value, : ]\n",
    "        mat1 = data[data[:, feature] <= value, : ]\n",
    "        return mat0, mat1\n",
    "    \n",
    "    # 利用字典的方式创建一棵树。\n",
    "    \"\"\"\n",
    "    def createTree_old(self, data, leafType=regleaf, errType=regerr, ops=(1,4)):\n",
    "        # 这里阐释了如何 利用递归的思想去 建立决策树\n",
    "        feat, val = self.choosebestsplit(data, leafType, errType, ops)\n",
    "        # 如果没有可以再次切分的  feature 就返回val\n",
    "        if feat == None:\n",
    "            return val\n",
    "        # 这里注意创建了一个新的 字典？\n",
    "        retTree = {}\n",
    "        retTree['spInd'] = feat\n",
    "        retTree['spVal'] = val\n",
    "        lSet,rSet = self.binsplitdata(data,feat,val)\n",
    "        retTree['left'] = self.createTree_old(lSet,leafType,errType, ops)\n",
    "        retTree['right'] = self.createTree_old(rSet,leafType,errType, ops)\n",
    "        return retTree\n",
    "    \"\"\"\n",
    "    \n",
    "    @classmethod\n",
    "    def get_deep(cls, model):\n",
    "        max_deep = 0\n",
    "        if model.right_tree is not None:\n",
    "            temp_deep = 1 + cls.get_deep(model.right_tree)\n",
    "            if temp_deep > max_deep:\n",
    "                max_deep = temp_deep\n",
    "        if model.left_tree is not None:\n",
    "            temp_deep = 1 + cls.get_deep(model.left_tree)\n",
    "            if temp_deep > max_deep:\n",
    "                max_deep = temp_deep\n",
    "        return max_deep\n",
    "\n",
    "    @classmethod\n",
    "    def print_leafs(cls, model):\n",
    "        if model.label_class is not None:\n",
    "            print(\"leaf value is {}\".format(model.label_class))\n",
    "        if model.left_tree is not None:\n",
    "            cls.print_leafs(model.left_tree)\n",
    "        if model.right_tree is not None:\n",
    "            cls.print_leafs(model.right_tree)\n",
    "            \n",
    "    @classmethod\n",
    "    def predict_line(cls, model, line):\n",
    "        if model.label_class is not None:\n",
    "            return model.label_class\n",
    "        split_feature = model.feature\n",
    "        split_value = model.value\n",
    "        if line[split_feature] > split_value:\n",
    "            return cls.predict_line(model.right_tree, line)\n",
    "        else:\n",
    "            return cls.predict_line(model.left_tree, line)\n",
    "        \n",
    "    @classmethod\n",
    "    def predict(cls, model, data):\n",
    "        myre = []\n",
    "        for line in data:\n",
    "            te = cls.predict_line(model, line)\n",
    "            myre.append(te)\n",
    "        myre = np.array(myre).reshape(len(data), 1)\n",
    "        return myre"
   ]
  },
  {
   "cell_type": "code",
   "execution_count": 218,
   "metadata": {
    "collapsed": true
   },
   "outputs": [],
   "source": [
    "class cartreeregression(Tree):\n",
    "    def __init__(self, min_leafs=4):\n",
    "        super(cartreeregression, self).__init__()\n",
    "        self.min_leafs = min_leafs\n",
    "        \n",
    "    def regleaf(self, data):\n",
    "        return np.mean(data[:,-1])\n",
    "    \n",
    "    def regerr(self, data):\n",
    "        return np.var(data[:, -1]) \n",
    "    \n",
    "    def createTree(self, data):\n",
    "        retTree = treeNode()\n",
    "        # 可以添加其他条件,终止树 停止生长，分类和回归树有不同的搞法。\n",
    "        # 这里阐释了如何 利用递归的思想去 建立决策树\n",
    "        feat, val = self.choosebestsplit(data)\n",
    "        # 如果没有可以再次切分的  feature 就返回val\n",
    "        if feat is None:\n",
    "            retTree.label_class = self.regleaf(data)\n",
    "            return retTree\n",
    "        \n",
    "        retTree.feature = feat\n",
    "        retTree.value = val\n",
    "        lSet, rSet = self.binsplitdata(data, feat, val)\n",
    "        retTree.left_tree = self.createTree(lSet)\n",
    "        retTree.right_tree = self.createTree(rSet)\n",
    "        return retTree\n",
    "    \n",
    "    def choosebestsplit(self, data):\n",
    "        data = np.array(data)\n",
    "        m, n = data.shape\n",
    "    \n",
    "    \n",
    "        # 计算初始的方差。\n",
    "        S = self.regerr(data)\n",
    "        best_s = np.inf\n",
    "        best_feat = None \n",
    "        best_val = None\n",
    "    \n",
    "        for i in range(n-1): # n-1 feature\n",
    "            for j in np.unique(data[:, i]):\n",
    "                mat0, mat1 = self.binsplitdata(data, i, j)\n",
    "                # 控制叶子的数量。不进行控制 进行充分的生长\n",
    "                if (np.shape(mat0)[0] < self.min_leafs) or (np.shape(mat1)[0] < self.min_leafs):\n",
    "                    continue\n",
    "                new_s = self.regerr(mat0) + self.regerr(mat1)\n",
    "                if new_s < best_s: \n",
    "                    best_feat = i\n",
    "                    best_val = j\n",
    "                    best_s = new_s\n",
    "                #if S - best_s < 0.01:这个地方需要再思考下\n",
    "                    #return best_feat, best_val\n",
    "        return best_feat, best_val"
   ]
  },
  {
   "cell_type": "code",
   "execution_count": 219,
   "metadata": {
    "collapsed": true
   },
   "outputs": [],
   "source": [
    "def getMean(tree, i=0, flag=False):\n",
    "    \"\"\"\n",
    "    如果 树的两个分支都不是树的话，求均值就可以了。 value 为none时 label_class一定不为none, 否则已经结束\n",
    "    \"\"\"\n",
    "    if tree.right_tree.value is not None:\n",
    "        tree.right_tree.label_class = getMean(tree.right_tree, i=i+1)\n",
    "    if tree.left_tree.value is not None:\n",
    "        tree.left_tree.label_class = getMean(tree.left_tree, i=i+1)\n",
    "    means = (tree.right_tree.label_class + tree.left_tree.label_class) / 2.0\n",
    "    print(\"level is {} and value is {}\".format(i, means))\n",
    "    return means"
   ]
  },
  {
   "cell_type": "code",
   "execution_count": 220,
   "metadata": {
    "collapsed": true
   },
   "outputs": [],
   "source": [
    "def binsplitdata(data, feature, value):\n",
    "    mat0 = data[data[:, feature] > value, : ]\n",
    "    mat1 = data[data[:, feature] <= value, : ]\n",
    "    return mat0, mat1"
   ]
  },
  {
   "cell_type": "code",
   "execution_count": 221,
   "metadata": {
    "collapsed": true
   },
   "outputs": [],
   "source": [
    "def myprune(tree, testData, min_leafs=10, diff_err=10):\n",
    "    if np.shape(testData)[0] < min_leafs:\n",
    "        # 这里是有一定的合理性的\n",
    "        tree.label_class = getMean(tree)\n",
    "        tree.right_tree = None\n",
    "        tree.left_tree = None\n",
    "        tree.value = None\n",
    "        tree.feature = None\n",
    "        return tree\n",
    "    \n",
    "    if tree.feature is not None:\n",
    "        lSet, rSet = binsplitdata(testData, tree.feature, tree.value)\n",
    "        \n",
    "    if tree.left_tree.label_class is None and tree.left_tree.value is not None: # and lSet.shape[0] > min_leafs:\n",
    "        tree.left_tree = myprune(tree.left_tree, lSet)\n",
    "        \n",
    "    if tree.right_tree.label_class is None and tree.right_tree.value is not None:# and rSet.shape[0] > min_leafs:\n",
    "        tree.right_tree = myprune(tree.right_tree, rSet)\n",
    "        \n",
    "    #if tree.left_tree is not None and not tree.right_tree is not None and tree.left_tree.label_class is not None and tree.right_tree.label_class is not None:\n",
    "    if tree.left_tree.label_class is not None and tree.right_tree.label_class is not None:\n",
    "        lSet, rSet = binsplitdata(testData, tree.feature, tree.value)\n",
    "        errorNoMerge = sum(np.power(lSet[:,-1] - tree.left_tree.label_class,2)) + sum(np.power(rSet[:,-1] - tree.right_tree.label_class, 2.0))\n",
    "        \n",
    "        # 这里注意 有点意思\n",
    "        #treeMean = (tree['left'] + tree['right']) / 2.0\n",
    "        treeMean = (tree.left_tree.label_class + tree.right_tree.label_class) / 2.0\n",
    "        \n",
    "        # 合并之后的 的 方差\n",
    "        errorMerge = sum(np.power(testData[:,-1] - treeMean, 2))\n",
    "        m, n = testData.shape\n",
    "        print(\"errormerge {}, errornomerge {} m is {} ---\".format(errorMerge / m, errorNoMerge/m, m))\n",
    "        print((errorMerge - errorNoMerge) / m, \"means\")\n",
    "        if (errorMerge - errorNoMerge) / m < diff_err:\n",
    "        #if errorMerge < errorNoMerge:\n",
    "            print(\"merging\")\n",
    "            tree.label_class = treeMean\n",
    "            tree.right_tree = None\n",
    "            tree.left_tree = None\n",
    "            tree.value = None\n",
    "            tree.feature = None\n",
    "            return tree\n",
    "        else:\n",
    "            return tree\n",
    "    else:\n",
    "        return tree"
   ]
  },
  {
   "cell_type": "code",
   "execution_count": 222,
   "metadata": {
    "scrolled": true
   },
   "outputs": [
    {
     "name": "stdout",
     "output_type": "stream",
     "text": [
      "28\n",
      "level is 1 and value is 25.709386021612325\n",
      "level is 1 and value is 20.80591948217272\n",
      "level is 0 and value is 23.257652751892522\n",
      "level is 2 and value is 20.221109115918708\n",
      "level is 1 and value is 18.992399305288814\n",
      "level is 0 and value is 16.4784844509121\n",
      "errormerge 17.122145973675455, errornomerge 22.903938705279433 m is 12 ---\n",
      "-5.7817927316039786 means\n",
      "merging\n",
      "errormerge 29.989426201098308, errornomerge 17.122145973675455 m is 12 ---\n",
      "12.867280227422851 means\n",
      "level is 2 and value is 11.648435573537048\n",
      "level is 1 and value is 13.936585063628122\n",
      "level is 0 and value is 15.982687175850796\n",
      "level is 0 and value is 16.854483454725486\n",
      "level is 0 and value is 13.849750309495343\n",
      "errormerge 15.231256127905898, errornomerge 9.491255638130372 m is 10 ---\n",
      "5.7400004897755235 means\n",
      "merging\n",
      "errormerge 18.81743429892902, errornomerge 16.49288261068627 m is 12 ---\n",
      "2.3245516882427495 means\n",
      "merging\n",
      "errormerge 18.969043834889288, errornomerge 18.81743429892902 m is 12 ---\n",
      "0.15160953596026872 means\n",
      "merging\n",
      "errormerge 21.005042075088003, errornomerge 18.25826077181159 m is 13 ---\n",
      "2.746781303276416 means\n",
      "merging\n",
      "level is 4 and value is 5.416028860238969\n",
      "level is 3 and value is 6.9796492336779\n",
      "level is 2 and value is 8.241681076217795\n",
      "level is 1 and value is 9.751884847604655\n",
      "level is 0 and value is 10.114698649150572\n",
      "errormerge 19.118884722241525, errornomerge 15.745326988846644 m is 22 ---\n",
      "3.3735577333948807 means\n",
      "merging\n",
      "errormerge 22.648601279479347, errornomerge 18.35521964998196 m is 23 ---\n",
      "4.293381629497387 means\n",
      "merging\n",
      "errormerge 44.27292295456994, errornomerge 30.461478047380062 m is 28 ---\n",
      "13.811444907189882 means\n"
     ]
    }
   ],
   "source": [
    "mymodel = cartreeregression(min_leafs=3)\n",
    "result = mymodel.createTree(data)\n",
    "print(get_deep(result))\n",
    "sx = myprune(result, testdata, min_leafs=50, diff_err=2)"
   ]
  },
  {
   "cell_type": "code",
   "execution_count": 223,
   "metadata": {},
   "outputs": [
    {
     "name": "stdout",
     "output_type": "stream",
     "text": [
      "errormerge 29.989426201098308, errornomerge 17.122145973675455 m is 12 ---\n",
      "12.867280227422851 means\n",
      "errormerge 44.27292295456994, errornomerge 30.461478047380062 m is 28 ---\n",
      "13.811444907189882 means\n"
     ]
    },
    {
     "data": {
      "text/plain": [
       "24"
      ]
     },
     "execution_count": 223,
     "metadata": {},
     "output_type": "execute_result"
    }
   ],
   "source": [
    "sx = myprune(result, testdata, min_leafs=10, diff_err=10)\n",
    "get_deep(sx)"
   ]
  },
  {
   "cell_type": "code",
   "execution_count": 224,
   "metadata": {},
   "outputs": [],
   "source": [
    "pred_test = mymodel.predict(sx, testdata[:, :-1])"
   ]
  },
  {
   "cell_type": "code",
   "execution_count": 225,
   "metadata": {
    "collapsed": true
   },
   "outputs": [],
   "source": [
    "import matplotlib.pyplot as plt\n",
    "%matplotlib inline"
   ]
  },
  {
   "cell_type": "code",
   "execution_count": 226,
   "metadata": {},
   "outputs": [
    {
     "data": {
      "text/plain": [
       "<matplotlib.collections.PathCollection at 0x1231adfd0>"
      ]
     },
     "execution_count": 226,
     "metadata": {},
     "output_type": "execute_result"
    },
    {
     "data": {
      "image/png": "[encoded data removed]",
      "text/plain": [
       "<matplotlib.figure.Figure at 0x1223cd5c0>"
      ]
     },
     "metadata": {},
     "output_type": "display_data"
    }
   ],
   "source": [
    "plt.scatter(np.arange(len(testdata)), testdata[:, -1])\n",
    "plt.scatter(np.arange(len(testdata)), pred_test)"
   ]
  },
  {
   "cell_type": "code",
   "execution_count": null,
   "metadata": {
    "collapsed": true
   },
   "outputs": [],
   "source": []
  },
  {
   "cell_type": "code",
   "execution_count": null,
   "metadata": {
    "collapsed": true
   },
   "outputs": [],
   "source": []
  },
  {
   "cell_type": "code",
   "execution_count": null,
   "metadata": {
    "collapsed": true
   },
   "outputs": [],
   "source": []
  }
 ],
 "metadata": {
  "kernelspec": {
   "display_name": "Python 3",
   "language": "python",
   "name": "python3"
  },
  "language_info": {
   "codemirror_mode": {
    "name": "ipython",
    "version": 3
   },
   "file_extension": ".py",
   "mimetype": "text/x-python",
   "name": "python",
   "nbconvert_exporter": "python",
   "pygments_lexer": "ipython3",
   "version": "3.6.2"
  }
 },
 "nbformat": 4,
 "nbformat_minor": 2
}
