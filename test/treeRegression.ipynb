{
 "cells": [
  {
   "cell_type": "code",
   "execution_count": 1,
   "metadata": {
    "collapsed": true
   },
   "outputs": [],
   "source": [
    "from numpy import *"
   ]
  },
  {
   "cell_type": "code",
   "execution_count": 2,
   "metadata": {
    "collapsed": true
   },
   "outputs": [],
   "source": [
    "class treeNode:\n",
    "    def __init__(self,feat,val,right,left):\n",
    "        featuretosplit = feat\n",
    "        valueofsplit = val\n",
    "        rightbranch = right\n",
    "        leftbranch = left"
   ]
  },
  {
   "cell_type": "code",
   "execution_count": 20,
   "metadata": {},
   "outputs": [
    {
     "data": {
      "text/plain": [
       "bool"
      ]
     },
     "execution_count": 20,
     "metadata": {},
     "output_type": "execute_result"
    }
   ],
   "source": [
    "#type(treeNode.__name__=='dict')"
   ]
  },
  {
   "cell_type": "code",
   "execution_count": 3,
   "metadata": {
    "collapsed": true
   },
   "outputs": [],
   "source": [
    "def binsplitdata(data,feature,value):\n",
    "    data = mat(data)\n",
    "    mat0 = data[nonzero(data[:,feature]>value)[0],:]\n",
    "    mat1 = data[nonzero(data[:,feature]<=value)[0],:]\n",
    "    return mat0,mat1"
   ]
  },
  {
   "cell_type": "code",
   "execution_count": 4,
   "metadata": {},
   "outputs": [
    {
     "data": {
      "text/plain": [
       "matrix([[1, 2, 0, 0],\n",
       "        [0, 1, 0, 0],\n",
       "        [0, 0, 1, 0],\n",
       "        [0, 0, 0, 1]])"
      ]
     },
     "execution_count": 4,
     "metadata": {},
     "output_type": "execute_result"
    }
   ],
   "source": [
    "data = mat([[1,2,0,0],[0,1,0,0],[0,0,1,0],[0,0,0,1]])\n",
    "data"
   ]
  },
  {
   "cell_type": "code",
   "execution_count": 5,
   "metadata": {},
   "outputs": [
    {
     "data": {
      "text/plain": [
       "matrix([[1, 2, 0, 0],\n",
       "        [0, 1, 0, 0]])"
      ]
     },
     "execution_count": 5,
     "metadata": {},
     "output_type": "execute_result"
    }
   ],
   "source": [
    "data[nonzero(data[:,1]>0)[0],:]"
   ]
  },
  {
   "cell_type": "code",
   "execution_count": 6,
   "metadata": {},
   "outputs": [
    {
     "data": {
      "text/plain": [
       "(matrix([[1, 2, 0, 0],\n",
       "         [0, 1, 0, 0]]), matrix([[0, 0, 1, 0],\n",
       "         [0, 0, 0, 1]]))"
      ]
     },
     "execution_count": 6,
     "metadata": {},
     "output_type": "execute_result"
    }
   ],
   "source": [
    "binsplitdata(data,1,0)"
   ]
  },
  {
   "cell_type": "code",
   "execution_count": 7,
   "metadata": {},
   "outputs": [
    {
     "data": {
      "text/plain": [
       "0.75"
      ]
     },
     "execution_count": 7,
     "metadata": {},
     "output_type": "execute_result"
    }
   ],
   "source": [
    "def regleaf(data):\n",
    "    return mean(data[:,-1])\n",
    "regleaf(data[:,:2])"
   ]
  },
  {
   "cell_type": "code",
   "execution_count": 8,
   "metadata": {},
   "outputs": [
    {
     "data": {
      "text/plain": [
       "0.75"
      ]
     },
     "execution_count": 8,
     "metadata": {},
     "output_type": "execute_result"
    }
   ],
   "source": [
    "def regerr(data):\n",
    "    return var(data[:,-1])* shape(data)[0]\n",
    "regerr(data)"
   ]
  },
  {
   "cell_type": "code",
   "execution_count": 9,
   "metadata": {
    "collapsed": true
   },
   "outputs": [],
   "source": [
    "def createTree(data,leafType=regleaf,errType=regerr,ops=(1,4)):\n",
    "    feat,val = choosebestsplit(data,leafType,errType,ops)\n",
    "    if feat == None:\n",
    "        return val\n",
    "    retTree = {}\n",
    "    retTree['spInd'] = feat\n",
    "    retTree['spVal'] = val\n",
    "    lSet,rSet = binsplitdata(data,feat,val)\n",
    "    retTree['left'] = createTree(lSet,leafType,errType,ops)\n",
    "    retTree['right'] = createTree(rSet,leafType,errType,ops)\n",
    "    return retTree"
   ]
  },
  {
   "cell_type": "code",
   "execution_count": 10,
   "metadata": {},
   "outputs": [
    {
     "data": {
      "text/plain": [
       "matrix([[ 0.75]])"
      ]
     },
     "execution_count": 10,
     "metadata": {},
     "output_type": "execute_result"
    }
   ],
   "source": [
    "t = data[:,-1] - mean(data[:,-1])\n",
    "s = 0.\n",
    "for i in t:\n",
    "    s += i**2\n",
    "s"
   ]
  },
  {
   "cell_type": "code",
   "execution_count": 11,
   "metadata": {
    "collapsed": true
   },
   "outputs": [],
   "source": [
    "test = mat([[1],[2],[1]])"
   ]
  },
  {
   "cell_type": "code",
   "execution_count": 12,
   "metadata": {},
   "outputs": [
    {
     "data": {
      "text/plain": [
       "{1, 2}"
      ]
     },
     "execution_count": 12,
     "metadata": {},
     "output_type": "execute_result"
    }
   ],
   "source": [
    "def count_dict(data):\n",
    "    data = data.reshape((-1,)).A[0]\n",
    "    dict_count = {}\n",
    "    for i in data:\n",
    "        dict_count[i]=1\n",
    "    return dict_count\n",
    "set(count_dict(test))"
   ]
  },
  {
   "cell_type": "code",
   "execution_count": 13,
   "metadata": {
    "collapsed": true
   },
   "outputs": [],
   "source": [
    "def choosebestsplit(data,leafType=regleaf,errType=regerr,ops=(1,4)):\n",
    "    data = mat(data)\n",
    "    m,n = data.shape\n",
    "    \n",
    "    tols = ops[0]\n",
    "    tolN = ops[1]\n",
    "    \n",
    "    if len(set(data[:,-1].T.tolist()[0]))==1:\n",
    "        return None,leafType(data)\n",
    "    \n",
    "    S = regerr(data)\n",
    "    best_s = inf\n",
    "    best_feat = 0 \n",
    "    best_val = 0\n",
    "    \n",
    "    for i in range(n-1): # n-1 feature\n",
    "        for j in set(count_dict(data[:,i])): # python3 中这里没法直接使用 set(data[:,i])\n",
    "            mat0,mat1 = binsplitdata(data,i,j)\n",
    "            if (shape(mat0)[0]<tolN) or (shape(mat1)[0]<tolN):\n",
    "                continue\n",
    "            new_s = errType(mat0) + errType(mat1)\n",
    "            if new_s < best_s:\n",
    "                best_feat = i\n",
    "                best_val = j\n",
    "                best_s = new_s   \n",
    "                \n",
    "    if (S-best_s)<tols:\n",
    "        return None,leafType(data)\n",
    "    mat0,mat1 = binsplitdata(data,best_feat,best_val)\n",
    "    if (shape(mat0)[0]<tolN) or (shape(mat1)[0]<tolN):\n",
    "        return None,leafType(data)\n",
    "    return best_feat,best_val"
   ]
  },
  {
   "cell_type": "code",
   "execution_count": 14,
   "metadata": {},
   "outputs": [
    {
     "data": {
      "text/plain": [
       "'/Users/luokui/Documents/机器学习实战/机器学习实战及配套代码/machinelearninginaction/Ch09/ex0.txt'"
      ]
     },
     "execution_count": 14,
     "metadata": {},
     "output_type": "execute_result"
    }
   ],
   "source": [
    "path = '/Users/luokui/Documents/机器学习实战/机器学习实战及配套代码/machinelearninginaction/Ch09/'\n",
    "path = path +'ex0.txt'\n",
    "path "
   ]
  },
  {
   "cell_type": "code",
   "execution_count": 15,
   "metadata": {
    "collapsed": true
   },
   "outputs": [],
   "source": [
    "def loaddata(path):\n",
    "    data = []\n",
    "    with open(path) as f:\n",
    "        lines = f.readlines()\n",
    "        for line in lines:\n",
    "            temp = line.strip().split('\\t')\n",
    "            temp = [float(i) for i in temp]\n",
    "            data.append(temp)\n",
    "    return mat(data)\n",
    "data = loaddata(path)"
   ]
  },
  {
   "cell_type": "code",
   "execution_count": 16,
   "metadata": {},
   "outputs": [
    {
     "data": {
      "text/plain": [
       "{'left': {'left': {'left': 3.9871631999999999,\n",
       "   'right': 2.9836209534883724,\n",
       "   'spInd': 1,\n",
       "   'spVal': 0.79758300000000004},\n",
       "  'right': 1.980035071428571,\n",
       "  'spInd': 1,\n",
       "  'spVal': 0.58200200000000002},\n",
       " 'right': {'left': 1.0289583666666666,\n",
       "  'right': -0.023838155555555553,\n",
       "  'spInd': 1,\n",
       "  'spVal': 0.19783400000000001},\n",
       " 'spInd': 1,\n",
       " 'spVal': 0.39434999999999998}"
      ]
     },
     "execution_count": 16,
     "metadata": {},
     "output_type": "execute_result"
    }
   ],
   "source": [
    "createTree(data)"
   ]
  },
  {
   "cell_type": "code",
   "execution_count": 17,
   "metadata": {},
   "outputs": [
    {
     "data": {
      "image/png": "[encoded data removed]",
      "text/plain": [
       "<matplotlib.figure.Figure at 0x1177bb9b0>"
      ]
     },
     "metadata": {},
     "output_type": "display_data"
    }
   ],
   "source": [
    "import matplotlib.pyplot as plt\n",
    "plt.scatter(data[:,1].A,data[:,2].A)\n",
    "plt.show()"
   ]
  },
  {
   "cell_type": "code",
   "execution_count": null,
   "metadata": {
    "collapsed": true
   },
   "outputs": [],
   "source": []
  },
  {
   "cell_type": "code",
   "execution_count": 21,
   "metadata": {
    "collapsed": true
   },
   "outputs": [],
   "source": [
    "def isTree(obj):\n",
    "    return (type(obj).__name__=='dict')\n",
    "\n",
    "def getMean(tree):\n",
    "    if isTree(tree['right']):\n",
    "        tree['right'] = getMean(tree['right'])\n",
    "    if isTree(tree['left']):\n",
    "        tree['left'] = getMean(tree['left'])\n",
    "    return (tree['left'] + tree['right'])/2.0\n"
   ]
  },
  {
   "cell_type": "code",
   "execution_count": null,
   "metadata": {
    "collapsed": true
   },
   "outputs": [],
   "source": [
    "def prune(tree,testData):\n",
    "    if shape(testData)[0] == 0:\n",
    "        return getMean(tree)\n",
    "    \n",
    "    if (isTree(tree['right']) or isTree(tree['left'])):\n",
    "        lSet,rSet = binsplitdata(testData,tree['spInd'],tree['spVal'])\n",
    "        \n",
    "    if isTree(tree['left']):\n",
    "        tree['left'] = prune(tree['left'],lSet)\n",
    "        \n",
    "    if isTree(tree['right']):\n",
    "        tree['right'] = prune(tree['right'],rSet)\n",
    "        \n",
    "    if not isTree(tree['left']) and not isTree(tree['right']):\n",
    "        lSet,rSet = binsplitdata(testData,tree['spInd'],tree['spVal'])\n",
    "        errorNoMerge = sum(power(lSet[:,-1] - tree['left'],2)) + sum(power(rSet[:,-1] - tree['right'])/2.0)\n",
    "        \n",
    "        treeMean(tree['left'] + tree['right']) / 2.0\n",
    "        \n",
    "        errorMerge = sum(power(testData[:,-1] - treeMean,2))\n",
    "        if errorMerge < errorNoMerge:\n",
    "            print(\"merging\")\n",
    "            return treeMean\n",
    "        else:\n",
    "            return tree\n",
    "    else:\n",
    "        return tree"
   ]
  },
  {
   "cell_type": "code",
   "execution_count": null,
   "metadata": {
    "collapsed": true
   },
   "outputs": [],
   "source": []
  },
  {
   "cell_type": "code",
   "execution_count": null,
   "metadata": {
    "collapsed": true
   },
   "outputs": [],
   "source": []
  }
 ],
 "metadata": {
  "kernelspec": {
   "display_name": "Python 3",
   "language": "python",
   "name": "python3"
  },
  "language_info": {
   "codemirror_mode": {
    "name": "ipython",
    "version": 3
   },
   "file_extension": ".py",
   "mimetype": "text/x-python",
   "name": "python",
   "nbconvert_exporter": "python",
   "pygments_lexer": "ipython3",
   "version": "3.6.2"
  }
 },
 "nbformat": 4,
 "nbformat_minor": 2
}
