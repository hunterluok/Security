{
 "cells": [
  {
   "cell_type": "markdown",
   "metadata": {},
   "source": [
    "#（1） 正规方程组"
   ]
  },
  {
   "cell_type": "code",
   "execution_count": null,
   "metadata": {
    "collapsed": true
   },
   "outputs": [],
   "source": [
    "import numpy as np\n",
    "from numpy import *\n",
    "x = np.arange(20).reshape(10,2)\n",
    "y = np.random.rand(10,1) +np.matmul(x,[[2],[1]])\n",
    "\n",
    "def linear(x,y):\n",
    "    x = mat(x);y=mat(y) # 如果不mat的 话 *就是不能进行矩阵的乘法。而是逐元乘积\n",
    "    xtx = (x.T * x).I\n",
    "    w  = xtx * x.T *y\n",
    "    y_pred = x*w\n",
    "    loss = np.mean(np.array((y_pred-y))**2)\n",
    "    return np.array(y_pred),loss\n",
    "    \n",
    "\n",
    "y_pred,loss = linear(x,y)\n",
    "\n",
    "# t = np.array((y - x * (mat(x.T)*mat(x)).I * x.T * y))**2\n",
    "import matplotlib.pyplot as plt\n",
    "plt.plot(np.arange(len(y_pred)),y_pred,color=\"red\")\n",
    "plt.plot(np.arange(len(y_pred)),np.array(y).flatten(),color='black') # 将np.array()进行flatten 就不是矩阵了\n",
    "plt.show()"
   ]
  },
  {
   "cell_type": "markdown",
   "metadata": {},
   "source": [
    "# (2) local weight linear regression"
   ]
  },
  {
   "cell_type": "code",
   "execution_count": null,
   "metadata": {
    "collapsed": true
   },
   "outputs": [],
   "source": [
    "def lwlr(test,x,y,k):\n",
    "    x = mat(x);y =mat(y);mat(test)\n",
    "    m,n = x.shape\n",
    "    w = mat(eye(m))\n",
    "    \n",
    "    for i in range(m):\n",
    "        diff = test-x[i]\n",
    "        w[i,i] = exp(-(diff * diff.T)/(2.*k**2))\n",
    "    \n",
    "    xtx = (x.T * w * x).I\n",
    "    w = xtx * (x.T * w) * y\n",
    "    y_pred = x * w\n",
    "    \n",
    "    loss = np.mean(np.array((y_pred-y))**2)\n",
    "    return y_pred,loss\n",
    "\n",
    "lwlr(mat([1,2]),x,y,0.1)"
   ]
  },
  {
   "cell_type": "code",
   "execution_count": 2,
   "metadata": {
    "collapsed": true
   },
   "outputs": [],
   "source": [
    "# (3) rigde regression"
   ]
  },
  {
   "cell_type": "code",
   "execution_count": null,
   "metadata": {
    "collapsed": true
   },
   "outputs": [],
   "source": [
    "import numpy as np\n",
    "from numpy import *\n",
    "x = np.arange(20).reshape(10,2)\n",
    "y = np.random.rand(10,1) +np.matmul(x,[[2],[1]])\n",
    "\n",
    "def linear(x,y,lam=0.2):\n",
    "    x = mat(x);y=mat(y) # 如果不mat的 话 *就是不能进行矩阵的乘法。而是逐元乘积\n",
    "    xtx = (x.T * x + lam * mat(eye(x.shape[1]))).I\n",
    "    w  = xtx * x.T *y\n",
    "    y_pred = x*w\n",
    "    loss = np.mean(np.array((y_pred-y))**2)\n",
    "    return np.array(y_pred),loss\n",
    "    \n",
    "\n",
    "y_pred,loss = linear(x,y)\n",
    "\n",
    "# t = np.array((y - x * (mat(x.T)*mat(x)).I * x.T * y))**2\n",
    "import matplotlib.pyplot as plt\n",
    "plt.plot(np.arange(len(y_pred)),y_pred,color=\"red\")\n",
    "plt.plot(np.arange(len(y_pred)),np.array(y).flatten(),color='black')\n",
    "plt.show()"
   ]
  },
  {
   "cell_type": "code",
   "execution_count": 3,
   "metadata": {
    "collapsed": true
   },
   "outputs": [],
   "source": [
    "#(4) forward stagewise linear regression"
   ]
  },
  {
   "cell_type": "code",
   "execution_count": null,
   "metadata": {
    "collapsed": true
   },
   "outputs": [],
   "source": [
    "import numpy as np\n",
    "from numpy import *\n",
    "x = np.arange(20).reshape(10,2)\n",
    "y = np.random.rand(10,1) +np.matmul(x,[[2],[1]])\n",
    "\n",
    "def cost(y_pred,y):\n",
    "    return np.mean(np.array((y_pred-y))**2)\n",
    "\n",
    "def linear(x,y,iters=10,eps=0.01):\n",
    "    x = mat(x);y=mat(y)\n",
    "    m,n = x.shape\n",
    "    #w = mat(ones(n)).T\n",
    "    w = zeros((n,1))\n",
    "    wtest = w.copy()\n",
    "    wmax = w.copy()\n",
    "    \n",
    "    for i in range(iters):\n",
    "        losses = inf\n",
    "        for j in range(n):\n",
    "            for sign in [-1,1]:\n",
    "                wtest = w.copy()\n",
    "                wtest[j] += sign*eps\n",
    "                y_pred = x *w\n",
    "                loss =cost(y_pred,y)\n",
    "                if loss<losses:\n",
    "                    losses =loss\n",
    "                    wmax = wtest\n",
    "        w = wmax.copy()\n",
    "        \n",
    "    y_pred = x * w\n",
    "    return y_pred\n",
    "    \n",
    "\n",
    "y_pred = linear(x,y,iters=1000)\n",
    "\n",
    "# t = np.array((y - x * (mat(x.T)*mat(x)).I * x.T * y))**2\n",
    "import matplotlib.pyplot as plt\n",
    "plt.plot(np.arange(len(y_pred)),y_pred,color=\"red\")\n",
    "plt.plot(np.arange(len(y_pred)),np.array(y).flatten(),color='black')\n",
    "plt.show()"
   ]
  },
  {
   "cell_type": "code",
   "execution_count": null,
   "metadata": {
    "collapsed": true
   },
   "outputs": [],
   "source": []
  }
 ],
 "metadata": {
  "kernelspec": {
   "display_name": "Python 3",
   "language": "python",
   "name": "python3"
  },
  "language_info": {
   "codemirror_mode": {
    "name": "ipython",
    "version": 3
   },
   "file_extension": ".py",
   "mimetype": "text/x-python",
   "name": "python",
   "nbconvert_exporter": "python",
   "pygments_lexer": "ipython3",
   "version": "3.6.2"
  }
 },
 "nbformat": 4,
 "nbformat_minor": 2
}
