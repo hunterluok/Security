{
 "cells": [
  {
   "cell_type": "code",
   "execution_count": 1,
   "metadata": {},
   "outputs": [
    {
     "data": {
      "text/plain": [
       "[[1, 0, 1, 1],\n",
       " [1, 0, 1, 1],\n",
       " [1, 0, 0, 0],\n",
       " [0, 1, 0, 1],\n",
       " [0, 1, 1, 0],\n",
       " [0, 1, 2, 0],\n",
       " [2, 1, 0, 1]]"
      ]
     },
     "execution_count": 1,
     "metadata": {},
     "output_type": "execute_result"
    }
   ],
   "source": [
    "# 1 。FCBF算法。\n",
    "import numpy as np\n",
    "from math import log\n",
    "from collections import Counter\n",
    "\n",
    "data = [[1,0,1,1],[1,0,1,1],[1,0,0,0],[0,1,0,1],[0,1,1,0],[0,1,2,0],[2,1,0,1]]\n",
    "data"
   ]
  },
  {
   "cell_type": "code",
   "execution_count": 2,
   "metadata": {
    "collapsed": true
   },
   "outputs": [],
   "source": [
    "def calcu_entroyp(data):\n",
    "    data_len = len(data)\n",
    "    count = Counter(i for i in data).most_common()\n",
    "    entropy = - sum( j/data_len *log(j / data_len) for _, j in count)\n",
    "    return entropy\n",
    "\n",
    "def split_data(vect_a, vect_b, value = 0):\n",
    "    split_d = []\n",
    "    for i in range(len(vect_a)):\n",
    "        if vect_a[i] == value:\n",
    "            split_d.extend([vect_b[i]])\n",
    "        else:\n",
    "            pass\n",
    "    return split_d\n",
    "\n",
    "# calcu_entroyp(a)   \n",
    "# a = [1,1,0,0]\n",
    "# b = [0,0,1,0]\n",
    "# split_data(a,b)\n",
    "# vect_a = [1,1,0,0]\n",
    "# vect_b = [1,1,1,1]"
   ]
  },
  {
   "cell_type": "code",
   "execution_count": 5,
   "metadata": {},
   "outputs": [
    {
     "data": {
      "text/plain": [
       "(dict_keys([0, 2]), [0, 2])"
      ]
     },
     "execution_count": 5,
     "metadata": {},
     "output_type": "execute_result"
    }
   ],
   "source": [
    "def calcu_su(vect_a,vect_b):\n",
    "    entroy_a = calcu_entroyp(vect_a)\n",
    "    entroy_b = calcu_entroyp(vect_b)\n",
    "    entroy_all = 0\n",
    "    len_vect_a = len(vect_a)\n",
    "    for value in set(vect_a):   # vect_a 为feature ，vect_b 为目标向量。\n",
    "        split_d = split_data(vect_a, vect_b, value)  # 对数据进行切分。\n",
    "        len_split_d = len(split_d)\n",
    "        value_entrop = calcu_entroyp(split_d)\n",
    "        entroy_all += len_split_d/len_vect_a * value_entrop\n",
    "        \n",
    "    entroy_gain = entroy_a - entroy_all\n",
    "    su = 2 * entroy_gain / (entroy_a + entroy_b)  \n",
    "    return su\n",
    "\n",
    "#calcu_su(vect_a,vect_b)    \n",
    "\n",
    "def cal_sudict(data):\n",
    "    dict_su = {}\n",
    "    feature_len = len(data[0])\n",
    "    target = [line[-1] for line in data]\n",
    "    for i in range(feature_len-1):\n",
    "        vect_i = [line[i] for line in data]\n",
    "        su = round(calcu_su(vect_i,target),4)\n",
    "        dict_su.setdefault(i,su)\n",
    "    dict_su = dict(sorted(dict_su.items(),key = lambda row:row[-1], reverse=True))\n",
    "    return dict_su\n",
    "\n",
    "#temp = cal_sudict(data)\n",
    "#temp\n",
    "\n",
    "def get_last_feature(data):\n",
    "    temp = cal_sudict(data)\n",
    "    feature = list(temp.keys())\n",
    "    for i in range(len(feature)-1):\n",
    "        for j in range(i+1,len(feature),1):\n",
    "            vect_i = [line[feature[i]] for line in data]\n",
    "            vect_j = [line[feature[j]] for line in data]\n",
    "            su_i_j = round(calcu_su(vect_i,vect_j),4)\n",
    "            if su_i_j >= temp[feature[j]]:\n",
    "                del temp[feature[j]]\n",
    "                feature = list(temp.keys())\n",
    "    return temp.keys(), feature\n",
    "get_last_feature(data)\n",
    "\n",
    "# 2。relief 算法 及 reliefF算法"
   ]
  },
  {
   "cell_type": "code",
   "execution_count": null,
   "metadata": {
    "collapsed": true
   },
   "outputs": [],
   "source": []
  }
 ],
 "metadata": {
  "kernelspec": {
   "display_name": "Python 3",
   "language": "python",
   "name": "python3"
  },
  "language_info": {
   "codemirror_mode": {
    "name": "ipython",
    "version": 3
   },
   "file_extension": ".py",
   "mimetype": "text/x-python",
   "name": "python",
   "nbconvert_exporter": "python",
   "pygments_lexer": "ipython3",
   "version": "3.6.2"
  }
 },
 "nbformat": 4,
 "nbformat_minor": 2
}
