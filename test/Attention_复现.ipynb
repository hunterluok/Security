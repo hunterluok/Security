{
 "cells": [
  {
   "cell_type": "code",
   "execution_count": 15,
   "metadata": {
    "collapsed": true
   },
   "outputs": [],
   "source": [
    "import pandas as pd\n",
    "import re # \"\\n\\ns.\".replace(\"\\n\",\"\").strip('.')\n",
    "data = pd.read_csv(\"yelp_2013.csv\")"
   ]
  },
  {
   "cell_type": "code",
   "execution_count": 16,
   "metadata": {},
   "outputs": [
    {
     "data": {
      "text/html": [
       "<div>\n",
       "<style>\n",
       "    .dataframe thead tr:only-child th {\n",
       "        text-align: right;\n",
       "    }\n",
       "\n",
       "    .dataframe thead th {\n",
       "        text-align: left;\n",
       "    }\n",
       "\n",
       "    .dataframe tbody tr th {\n",
       "        vertical-align: top;\n",
       "    }\n",
       "</style>\n",
       "<table border=\"1\" class=\"dataframe\">\n",
       "  <thead>\n",
       "    <tr style=\"text-align: right;\">\n",
       "      <th></th>\n",
       "      <th>Unnamed: 0</th>\n",
       "      <th>Unnamed: 0.1</th>\n",
       "      <th>text</th>\n",
       "      <th>stars</th>\n",
       "      <th>date</th>\n",
       "      <th>year</th>\n",
       "    </tr>\n",
       "  </thead>\n",
       "  <tbody>\n",
       "    <tr>\n",
       "      <th>0</th>\n",
       "      <td>4</td>\n",
       "      <td>4</td>\n",
       "      <td>gute lage im stadtzentrum. shoppingmeile und s...</td>\n",
       "      <td>5</td>\n",
       "      <td>2013-11-20</td>\n",
       "      <td>2013</td>\n",
       "    </tr>\n",
       "    <tr>\n",
       "      <th>1</th>\n",
       "      <td>7</td>\n",
       "      <td>7</td>\n",
       "      <td>this is a fairly new property i think. it is a...</td>\n",
       "      <td>4</td>\n",
       "      <td>2013-07-07</td>\n",
       "      <td>2013</td>\n",
       "    </tr>\n",
       "    <tr>\n",
       "      <th>2</th>\n",
       "      <td>8</td>\n",
       "      <td>8</td>\n",
       "      <td>first time at this group of hotels. pretty new...</td>\n",
       "      <td>4</td>\n",
       "      <td>2013-04-27</td>\n",
       "      <td>2013</td>\n",
       "    </tr>\n",
       "  </tbody>\n",
       "</table>\n",
       "</div>"
      ],
      "text/plain": [
       "   Unnamed: 0  Unnamed: 0.1  \\\n",
       "0           4             4   \n",
       "1           7             7   \n",
       "2           8             8   \n",
       "\n",
       "                                                text  stars        date  year  \n",
       "0  gute lage im stadtzentrum. shoppingmeile und s...      5  2013-11-20  2013  \n",
       "1  this is a fairly new property i think. it is a...      4  2013-07-07  2013  \n",
       "2  first time at this group of hotels. pretty new...      4  2013-04-27  2013  "
      ]
     },
     "execution_count": 16,
     "metadata": {},
     "output_type": "execute_result"
    }
   ],
   "source": [
    "data.head(3)"
   ]
  },
  {
   "cell_type": "code",
   "execution_count": 17,
   "metadata": {
    "collapsed": true
   },
   "outputs": [],
   "source": [
    "def get_data(path):\n",
    "    token = {}\n",
    "    data = pd.read_csv(path)\n",
    "    last_data = {}\n",
    "    last_data.setdefault(\"data\",[])\n",
    "    last_data.setdefault(\"label\",[])\n",
    "    \n",
    "    for line in data.text:\n",
    "        line = line.strip().split(\" \")\n",
    "        temp_line = [word.replace('\\n','').strip('[.,\"\"]').lower() for word in line if len(word)>0]\n",
    "        last_data[\"data\"].append(temp_line)\n",
    "        for word in temp_line:\n",
    "            token.setdefault(word,0)\n",
    "            token[word] += 1\n",
    "    for line in data.stars:\n",
    "        last_data[\"label\"].append(line)\n",
    "    \n",
    "    word2indx = {}\n",
    "    word_list = []\n",
    "    for key in token.keys():\n",
    "        word_list.append(key)\n",
    "        word2indx.setdefault(key, len(word_list)-1)\n",
    "    return token, word2indx, word_list, last_data\n",
    "        \n",
    "tokens, word2indx, word_list, last_data= get_data(\"yelp_2013.csv\")"
   ]
  },
  {
   "cell_type": "code",
   "execution_count": 18,
   "metadata": {
    "collapsed": true,
    "scrolled": true
   },
   "outputs": [],
   "source": [
    "token = {}\n",
    "for line in data.text[:10]:\n",
    "    temp_line = line.strip().split(\" \")\n",
    "    for word in temp_line:\n",
    "        word = word.replace('\\n','').strip('[.,\"\"]')\n",
    "        token.setdefault(word,0)\n",
    "        token[word] += 1"
   ]
  },
  {
   "cell_type": "code",
   "execution_count": 168,
   "metadata": {
    "collapsed": true
   },
   "outputs": [],
   "source": [
    "# import spacy\n",
    "# tokensizer = spacy.load('en')\n",
    "# min(last_data['label'])"
   ]
  },
  {
   "cell_type": "code",
   "execution_count": null,
   "metadata": {
    "collapsed": true
   },
   "outputs": [],
   "source": [
    "# word_list\n",
    "# import torch\n",
    "da = []\n",
    "for line in last_data['data']:\n",
    "    temp = []\n",
    "    for key in line:\n",
    "        index = word2indx[key]\n",
    "        temp.append(index)\n",
    "    da.append(temp)"
   ]
  },
  {
   "cell_type": "code",
   "execution_count": 183,
   "metadata": {
    "collapsed": true
   },
   "outputs": [],
   "source": [
    "import numpy as np\n",
    "da = np.load(\"da.npy\")"
   ]
  },
  {
   "cell_type": "code",
   "execution_count": 6,
   "metadata": {
    "collapsed": true
   },
   "outputs": [],
   "source": [
    "def get_batch(das, labels, batch_size=128):\n",
    "    m = len(das)\n",
    "    index = np.random.permutation(m)\n",
    "    das = np.array(das)[index]\n",
    "    labels = np.array(labels)[index]\n",
    "    n_batch = int(m / batch_size)\n",
    "    for i in range(n_batch):\n",
    "        yield das[i * batch_size : (i + 1) * batch_size], labels[i * batch_size : (i+1) * batch_size]"
   ]
  },
  {
   "cell_type": "code",
   "execution_count": 8,
   "metadata": {
    "collapsed": true,
    "scrolled": true
   },
   "outputs": [],
   "source": [
    "import keras\n",
    "from keras.layers import Embedding, Input, GRU, Wrapper, Bidirectional, Dense, Lambda\n",
    "from keras import Sequential\n",
    "from keras.models import Model\n",
    "from keras.preprocessing.sequence import pad_sequences\n",
    "from keras.utils import  to_categorical\n",
    "import keras.backend as K"
   ]
  },
  {
   "cell_type": "code",
   "execution_count": 21,
   "metadata": {
    "collapsed": true
   },
   "outputs": [],
   "source": [
    "data  = pad_sequences(da, maxlen=input_len, padding=\"post\", truncating=\"post\")\n",
    "labels = to_categorical(np.array(last_data['label']) - 1)\n",
    "\n",
    "def split_data(data, label):\n",
    "    m = len(data)\n",
    "    data = np.array(data)\n",
    "    label = np.array(label)\n",
    "    train_data = data[:int(m * 0.7)]\n",
    "    train_label = label[:int(m * 0.7)]\n",
    "    valid_data = data[int(m * 0.7) : int(m * 0.9)]\n",
    "    valid_label = label[int(m * 0.7) : int(m * 0.9)]\n",
    "    test_data = data[int(m * 0.9) :]\n",
    "    test_label = label[int(m * 0.9) : ]\n",
    "    return train_data, train_label, valid_data, valid_label, test_data, test_label\n",
    "    \n",
    "train_data, train_label, valid_data, valid_label, test_data, test_label =  split_data(data, labels)  "
   ]
  },
  {
   "cell_type": "code",
   "execution_count": 184,
   "metadata": {},
   "outputs": [
    {
     "name": "stdout",
     "output_type": "stream",
     "text": [
      "687583 72\n"
     ]
    }
   ],
   "source": [
    "vocab_size = len(word2indx)\n",
    "input_len = len(da[1])\n",
    "print(vocab_size, input_len)\n",
    "atten_size  = 10\n",
    "hop = 3"
   ]
  },
  {
   "cell_type": "code",
   "execution_count": 185,
   "metadata": {
    "collapsed": true
   },
   "outputs": [],
   "source": [
    "inputs = Input(shape=(72,))\n",
    "embed = Embedding(input_dim=vocab_size + 1, input_length=input_len, output_dim=100)\n",
    "x = embed(inputs)"
   ]
  },
  {
   "cell_type": "code",
   "execution_count": 190,
   "metadata": {},
   "outputs": [
    {
     "data": {
      "text/plain": [
       "TensorShape([Dimension(None), Dimension(300)])"
      ]
     },
     "execution_count": 190,
     "metadata": {},
     "output_type": "execute_result"
    }
   ],
   "source": [
    "rnn_model = Bidirectional(GRU(50, return_sequences=True))\n",
    "rnn_result = rnn_model(x)\n",
    "# b, n , zu\n",
    "atten_1 = Dense(atten_size, activation=\"tanh\", use_bias=False)(rnn_result) # b * n * da\n",
    "atten_2 = Dense(hop, activation=\"softmax\", use_bias=False)(atten_1) # b * n * r\n",
    "\n",
    "def change_shape_1(tensors):\n",
    "    atten_3 = K.reshape(tensors, [-1, 3, 72])\n",
    "    atten_result = K.batch_dot(atten_3, rnn_result) \n",
    "    atten_flatten = K.reshape(atten_result, [-1, 3 * 2 * 50])\n",
    "    return atten_flatten\n",
    "\n",
    "\n",
    "atten_flatten = Lambda(change_shape_1)(atten_2)\n",
    "atten_flatten.shape\n",
    "#atten_3 = K.reshape(atten_2, [-1, 3, 72]) # b * r * n   // b * n * 2u\n",
    "#atten_3.shape  # b * r * n 为最后的 attention 向量。"
   ]
  },
  {
   "cell_type": "code",
   "execution_count": 191,
   "metadata": {},
   "outputs": [
    {
     "data": {
      "text/plain": [
       "TensorShape([Dimension(None), Dimension(5)])"
      ]
     },
     "execution_count": 191,
     "metadata": {},
     "output_type": "execute_result"
    }
   ],
   "source": [
    "fc_model = Dense(10)\n",
    "fc_model_re_1 = fc_model(atten_flatten)\n",
    "fc_model_2 = Dense(5, activation=\"softmax\")\n",
    "out_put = fc_model_2(fc_model_re_1)\n",
    "out_put.shape"
   ]
  },
  {
   "cell_type": "code",
   "execution_count": 192,
   "metadata": {
    "scrolled": true
   },
   "outputs": [
    {
     "name": "stdout",
     "output_type": "stream",
     "text": [
      "_________________________________________________________________\n",
      "Layer (type)                 Output Shape              Param #   \n",
      "=================================================================\n",
      "input_5 (InputLayer)         (None, 72)                0         \n",
      "_________________________________________________________________\n",
      "embedding_3 (Embedding)      (None, 72, 100)           68758400  \n",
      "_________________________________________________________________\n",
      "bidirectional_5 (Bidirection (None, 72, 100)           45300     \n",
      "_________________________________________________________________\n",
      "dense_57 (Dense)             (None, 72, 10)            1000      \n",
      "_________________________________________________________________\n",
      "dense_58 (Dense)             (None, 72, 3)             30        \n",
      "_________________________________________________________________\n",
      "lambda_23 (Lambda)           (None, 300)               0         \n",
      "_________________________________________________________________\n",
      "dense_59 (Dense)             (None, 10)                3010      \n",
      "_________________________________________________________________\n",
      "dense_60 (Dense)             (None, 5)                 55        \n",
      "=================================================================\n",
      "Total params: 68,807,795\n",
      "Trainable params: 68,807,795\n",
      "Non-trainable params: 0\n",
      "_________________________________________________________________\n"
     ]
    }
   ],
   "source": [
    "model = Model(inputs, out_put)\n",
    "model.summary()"
   ]
  },
  {
   "cell_type": "code",
   "execution_count": 194,
   "metadata": {
    "collapsed": true
   },
   "outputs": [],
   "source": [
    "# 可自定义 损失函数，及使用 r * r 的正则化项目\n",
    "model.compile(optimizer=\"adam\", loss=\"categorical_crossentropy\", metrics=[\"acc\"])"
   ]
  },
  {
   "cell_type": "code",
   "execution_count": 197,
   "metadata": {
    "scrolled": true
   },
   "outputs": [
    {
     "name": "stdout",
     "output_type": "stream",
     "text": [
      "iter is 0\n",
      "iter is 1\n",
      "iter is 2\n",
      "iter is 3\n"
     ]
    }
   ],
   "source": [
    "# just test !!\n",
    "for iters in range(4):\n",
    "    print(\"iter is {}\".format(iters))\n",
    "    model.fit(train_data[:10000], train_label[:10000], verbose=1, batch_size=512*4, epochs=10,\n",
    "             validation_data=(valid_data[:1000], valid_label[:1000]))\n",
    "    if iters % 2 ==0:\n",
    "        score = model.evaluate(test_data, test_label)"
   ]
  },
  {
   "cell_type": "code",
   "execution_count": null,
   "metadata": {
    "collapsed": true
   },
   "outputs": [],
   "source": []
  }
 ],
 "metadata": {
  "kernelspec": {
   "display_name": "Python 3",
   "language": "python",
   "name": "python3"
  },
  "language_info": {
   "codemirror_mode": {
    "name": "ipython",
    "version": 3
   },
   "file_extension": ".py",
   "mimetype": "text/x-python",
   "name": "python",
   "nbconvert_exporter": "python",
   "pygments_lexer": "ipython3",
   "version": "3.6.2"
  }
 },
 "nbformat": 4,
 "nbformat_minor": 2
}
