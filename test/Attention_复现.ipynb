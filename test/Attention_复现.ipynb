{
 "cells": [
  {
   "cell_type": "code",
   "execution_count": 2,
   "metadata": {},
   "outputs": [],
   "source": [
    "import glob\n",
    "glob.glob(\"/Users/luokui/Documents/Akeras/*\")"
   ]
  },
  {
   "cell_type": "code",
   "execution_count": 4,
   "metadata": {},
   "outputs": [],
   "source": [
    "import pandas as pd\n",
    "import numpy as np\n",
    "import re  \n",
    "# \"\\n\\ns.\".replace(\"\\n\",\"\").strip('.')\n",
    "path = \"/Users/luokui/Documents/Akeras/yelp_2013.csv\"\n",
    "data = pd.read_csv(path)"
   ]
  },
  {
   "cell_type": "code",
   "execution_count": 5,
   "metadata": {},
   "outputs": [],
   "source": [
    "def get_data(path):\n",
    "    token = {}\n",
    "    data = pd.read_csv(path)\n",
    "    last_data = {}\n",
    "    last_data.setdefault(\"data\", [])\n",
    "    last_data.setdefault(\"label\", [])\n",
    "    \n",
    "    for line in data.text:\n",
    "        line = line.strip().split(\" \")\n",
    "        temp_line = [word.replace('\\n', '').strip('[.,\"\"]').lower() for word in line if len(word)>0]\n",
    "        last_data[\"data\"].append(temp_line)\n",
    "        for word in temp_line:\n",
    "            token.setdefault(word,0)\n",
    "            token[word] += 1\n",
    "    for line in data.stars:\n",
    "        last_data[\"label\"].append(line)\n",
    "    \n",
    "    word2indx = {}\n",
    "    word_list = []\n",
    "    for key in token.keys():\n",
    "        word_list.append(key)\n",
    "        word2indx.setdefault(key, len(word_list)-1)\n",
    "    return token, word2indx, word_list, last_data\n",
    "        \n",
    "tokens, word2indx, word_list, last_data= get_data(path)"
   ]
  },
  {
   "cell_type": "code",
   "execution_count": 6,
   "metadata": {
    "scrolled": true
   },
   "outputs": [
    {
     "data": {
      "text/plain": [
       "'\\ntoken = {}\\nfor line in data.text[:10]:\\n    temp_line = line.strip().split(\" \")\\n    for word in temp_line:\\n        word = word.replace(\\'\\n\\', \\'\\').strip(\\'[.,\"\"]\\')\\n        token.setdefault(word, 0)\\n        token[word] += 1\\n'"
      ]
     },
     "execution_count": 6,
     "metadata": {},
     "output_type": "execute_result"
    }
   ],
   "source": [
    "\"\"\"\n",
    "token = {}\n",
    "for line in data.text[:10]:\n",
    "    temp_line = line.strip().split(\" \")\n",
    "    for word in temp_line:\n",
    "        word = word.replace('\\n', '').strip('[.,\"\"]')\n",
    "        token.setdefault(word, 0)\n",
    "        token[word] += 1\n",
    "\"\"\""
   ]
  },
  {
   "cell_type": "code",
   "execution_count": 7,
   "metadata": {},
   "outputs": [],
   "source": [
    "# word_list\n",
    "da = []\n",
    "for line in last_data['data']:\n",
    "    temp = []\n",
    "    for key in line:\n",
    "        index = word2indx[key]\n",
    "        temp.append(index)\n",
    "    da.append(temp)"
   ]
  },
  {
   "cell_type": "code",
   "execution_count": 8,
   "metadata": {},
   "outputs": [
    {
     "data": {
      "text/plain": [
       "'\\ndef get_batch(das, labels, batch_size=128):\\n    m = len(das)\\n    index = np.random.permutation(m)\\n    das = np.array(das)[index]\\n    labels = np.array(labels)[index]\\n    n_batch = int(m / batch_size)\\n    for i in range(n_batch):\\n        yield das[i * batch_size : (i + 1) * batch_size], labels[i * batch_size : (i+1) * batch_size]\\n'"
      ]
     },
     "execution_count": 8,
     "metadata": {},
     "output_type": "execute_result"
    }
   ],
   "source": [
    "\"\"\"\n",
    "def get_batch(das, labels, batch_size=128):\n",
    "    m = len(das)\n",
    "    index = np.random.permutation(m)\n",
    "    das = np.array(das)[index]\n",
    "    labels = np.array(labels)[index]\n",
    "    n_batch = int(m / batch_size)\n",
    "    for i in range(n_batch):\n",
    "        yield das[i * batch_size : (i + 1) * batch_size], labels[i * batch_size : (i+1) * batch_size]\n",
    "\"\"\""
   ]
  },
  {
   "cell_type": "code",
   "execution_count": 9,
   "metadata": {
    "scrolled": true
   },
   "outputs": [
    {
     "name": "stderr",
     "output_type": "stream",
     "text": [
      "Using TensorFlow backend.\n"
     ]
    }
   ],
   "source": [
    "import keras\n",
    "from keras.layers import Embedding, Input, GRU, Wrapper, Bidirectional, Dense, Lambda\n",
    "from keras import Sequential\n",
    "from keras.models import Model\n",
    "from keras.preprocessing.sequence import pad_sequences\n",
    "from keras.utils import  to_categorical\n",
    "import keras.backend as K"
   ]
  },
  {
   "cell_type": "code",
   "execution_count": 10,
   "metadata": {},
   "outputs": [
    {
     "name": "stdout",
     "output_type": "stream",
     "text": [
      "687583 72\n"
     ]
    }
   ],
   "source": [
    "vocab_size = len(word2indx)\n",
    "input_len = 72\n",
    "print(vocab_size, input_len)\n",
    "atten_size  = 10\n",
    "hidden_size = 50\n",
    "hop = 3"
   ]
  },
  {
   "cell_type": "code",
   "execution_count": 11,
   "metadata": {},
   "outputs": [],
   "source": [
    "# 切分数据\n",
    "data  = pad_sequences(da, maxlen=input_len, padding=\"post\", truncating=\"post\")\n",
    "labels = to_categorical(np.array(last_data['label']) - 1)\n",
    "\n",
    "def split_data(data, label):\n",
    "    m = len(data)\n",
    "    data = np.array(data)\n",
    "    label = np.array(label)\n",
    "    train_data = data[:int(m * 0.7)]\n",
    "    train_label = label[:int(m * 0.7)]\n",
    "    valid_data = data[int(m * 0.7) : int(m * 0.9)]\n",
    "    valid_label = label[int(m * 0.7) : int(m * 0.9)]\n",
    "    test_data = data[int(m * 0.9) :]\n",
    "    test_label = label[int(m * 0.9) : ]\n",
    "    return train_data, train_label, valid_data, valid_label, test_data, test_label\n",
    "    \n",
    "train_data, train_label, valid_data, valid_label, test_data, test_label = split_data(data, labels)  "
   ]
  },
  {
   "cell_type": "code",
   "execution_count": 12,
   "metadata": {},
   "outputs": [],
   "source": [
    "def change_shape(tensors):\n",
    "    atten_3 = K.permute_dimensions(tensors, [0, 2, 1])\n",
    "    # atten_3 = K.reshape(tensors, [-1, 3, 72])                           # 这种搞法有问题的\n",
    "    atten_result = K.batch_dot(atten_3, rnn_result)\n",
    "    flatted = K.batch_flatten(atten_result)                               # 注意这里的两个步骤\n",
    "    atten_flatten = K.reshape(flatted, [-1, hop * 2 * hidden_size])\n",
    "    return atten_flatten\n",
    "\n",
    "\n",
    "# 对 attention norm\n",
    "def norm_atten(tensors):\n",
    "    atten2_t = K.batch_dot(K.permute_dimensions(tensors, [0, 2, 1]), tensors) - 1\n",
    "    atten2_t = K.pow(atten2_t, 2)\n",
    "    atten2_norm = K.sqrt(K.mean(K.sum(K.sum(atten2_t, axis=-1), axis=-1)))\n",
    "    return atten2_norm"
   ]
  },
  {
   "cell_type": "code",
   "execution_count": 14,
   "metadata": {},
   "outputs": [
    {
     "ename": "AttributeError",
     "evalue": "module 'tensorflow' has no attribute 'get_default_graph'",
     "output_type": "error",
     "traceback": [
      "\u001b[0;31m---------------------------------------------------------------------------\u001b[0m",
      "\u001b[0;31mAttributeError\u001b[0m                            Traceback (most recent call last)",
      "\u001b[0;32m<ipython-input-14-b85e21b0268c>\u001b[0m in \u001b[0;36m<module>\u001b[0;34m\u001b[0m\n\u001b[0;32m----> 1\u001b[0;31m \u001b[0minputs\u001b[0m \u001b[0;34m=\u001b[0m \u001b[0mInput\u001b[0m\u001b[0;34m(\u001b[0m\u001b[0mshape\u001b[0m\u001b[0;34m=\u001b[0m\u001b[0;34m(\u001b[0m\u001b[0minput_len\u001b[0m\u001b[0;34m,\u001b[0m\u001b[0;34m)\u001b[0m\u001b[0;34m)\u001b[0m\u001b[0;34m\u001b[0m\u001b[0;34m\u001b[0m\u001b[0m\n\u001b[0m\u001b[1;32m      2\u001b[0m \u001b[0membed\u001b[0m \u001b[0;34m=\u001b[0m \u001b[0mEmbedding\u001b[0m\u001b[0;34m(\u001b[0m\u001b[0minput_dim\u001b[0m\u001b[0;34m=\u001b[0m\u001b[0mvocab_size\u001b[0m \u001b[0;34m+\u001b[0m \u001b[0;36m1\u001b[0m\u001b[0;34m,\u001b[0m \u001b[0minput_length\u001b[0m\u001b[0;34m=\u001b[0m\u001b[0minput_len\u001b[0m\u001b[0;34m,\u001b[0m \u001b[0moutput_dim\u001b[0m\u001b[0;34m=\u001b[0m\u001b[0;36m100\u001b[0m\u001b[0;34m)\u001b[0m\u001b[0;34m\u001b[0m\u001b[0;34m\u001b[0m\u001b[0m\n\u001b[1;32m      3\u001b[0m \u001b[0membed_inputs\u001b[0m \u001b[0;34m=\u001b[0m \u001b[0membed\u001b[0m\u001b[0;34m(\u001b[0m\u001b[0minputs\u001b[0m\u001b[0;34m)\u001b[0m\u001b[0;34m\u001b[0m\u001b[0;34m\u001b[0m\u001b[0m\n\u001b[1;32m      4\u001b[0m \u001b[0;34m\u001b[0m\u001b[0m\n\u001b[1;32m      5\u001b[0m \u001b[0mrnn_model\u001b[0m \u001b[0;34m=\u001b[0m \u001b[0mBidirectional\u001b[0m\u001b[0;34m(\u001b[0m\u001b[0mGRU\u001b[0m\u001b[0;34m(\u001b[0m\u001b[0mhidden_size\u001b[0m\u001b[0;34m,\u001b[0m \u001b[0mreturn_sequences\u001b[0m\u001b[0;34m=\u001b[0m\u001b[0;32mTrue\u001b[0m\u001b[0;34m)\u001b[0m\u001b[0;34m)\u001b[0m\u001b[0;34m\u001b[0m\u001b[0;34m\u001b[0m\u001b[0m\n",
      "\u001b[0;32m~/anaconda3/lib/python3.7/site-packages/Keras-2.2.4-py3.7.egg/keras/engine/input_layer.py\u001b[0m in \u001b[0;36mInput\u001b[0;34m(shape, batch_shape, name, dtype, sparse, tensor)\u001b[0m\n\u001b[1;32m    176\u001b[0m                              \u001b[0mname\u001b[0m\u001b[0;34m=\u001b[0m\u001b[0mname\u001b[0m\u001b[0;34m,\u001b[0m \u001b[0mdtype\u001b[0m\u001b[0;34m=\u001b[0m\u001b[0mdtype\u001b[0m\u001b[0;34m,\u001b[0m\u001b[0;34m\u001b[0m\u001b[0;34m\u001b[0m\u001b[0m\n\u001b[1;32m    177\u001b[0m                              \u001b[0msparse\u001b[0m\u001b[0;34m=\u001b[0m\u001b[0msparse\u001b[0m\u001b[0;34m,\u001b[0m\u001b[0;34m\u001b[0m\u001b[0;34m\u001b[0m\u001b[0m\n\u001b[0;32m--> 178\u001b[0;31m                              input_tensor=tensor)\n\u001b[0m\u001b[1;32m    179\u001b[0m     \u001b[0;31m# Return tensor including _keras_shape and _keras_history.\u001b[0m\u001b[0;34m\u001b[0m\u001b[0;34m\u001b[0m\u001b[0;34m\u001b[0m\u001b[0m\n\u001b[1;32m    180\u001b[0m     \u001b[0;31m# Note that in this case train_output and test_output are the same pointer.\u001b[0m\u001b[0;34m\u001b[0m\u001b[0;34m\u001b[0m\u001b[0;34m\u001b[0m\u001b[0m\n",
      "\u001b[0;32m~/anaconda3/lib/python3.7/site-packages/Keras-2.2.4-py3.7.egg/keras/legacy/interfaces.py\u001b[0m in \u001b[0;36mwrapper\u001b[0;34m(*args, **kwargs)\u001b[0m\n\u001b[1;32m     89\u001b[0m                 warnings.warn('Update your `' + object_name + '` call to the ' +\n\u001b[1;32m     90\u001b[0m                               'Keras 2 API: ' + signature, stacklevel=2)\n\u001b[0;32m---> 91\u001b[0;31m             \u001b[0;32mreturn\u001b[0m \u001b[0mfunc\u001b[0m\u001b[0;34m(\u001b[0m\u001b[0;34m*\u001b[0m\u001b[0margs\u001b[0m\u001b[0;34m,\u001b[0m \u001b[0;34m**\u001b[0m\u001b[0mkwargs\u001b[0m\u001b[0;34m)\u001b[0m\u001b[0;34m\u001b[0m\u001b[0;34m\u001b[0m\u001b[0m\n\u001b[0m\u001b[1;32m     92\u001b[0m         \u001b[0mwrapper\u001b[0m\u001b[0;34m.\u001b[0m\u001b[0m_original_function\u001b[0m \u001b[0;34m=\u001b[0m \u001b[0mfunc\u001b[0m\u001b[0;34m\u001b[0m\u001b[0;34m\u001b[0m\u001b[0m\n\u001b[1;32m     93\u001b[0m         \u001b[0;32mreturn\u001b[0m \u001b[0mwrapper\u001b[0m\u001b[0;34m\u001b[0m\u001b[0;34m\u001b[0m\u001b[0m\n",
      "\u001b[0;32m~/anaconda3/lib/python3.7/site-packages/Keras-2.2.4-py3.7.egg/keras/engine/input_layer.py\u001b[0m in \u001b[0;36m__init__\u001b[0;34m(self, input_shape, batch_size, batch_input_shape, dtype, input_tensor, sparse, name)\u001b[0m\n\u001b[1;32m     37\u001b[0m         \u001b[0;32mif\u001b[0m \u001b[0;32mnot\u001b[0m \u001b[0mname\u001b[0m\u001b[0;34m:\u001b[0m\u001b[0;34m\u001b[0m\u001b[0;34m\u001b[0m\u001b[0m\n\u001b[1;32m     38\u001b[0m             \u001b[0mprefix\u001b[0m \u001b[0;34m=\u001b[0m \u001b[0;34m'input'\u001b[0m\u001b[0;34m\u001b[0m\u001b[0;34m\u001b[0m\u001b[0m\n\u001b[0;32m---> 39\u001b[0;31m             \u001b[0mname\u001b[0m \u001b[0;34m=\u001b[0m \u001b[0mprefix\u001b[0m \u001b[0;34m+\u001b[0m \u001b[0;34m'_'\u001b[0m \u001b[0;34m+\u001b[0m \u001b[0mstr\u001b[0m\u001b[0;34m(\u001b[0m\u001b[0mK\u001b[0m\u001b[0;34m.\u001b[0m\u001b[0mget_uid\u001b[0m\u001b[0;34m(\u001b[0m\u001b[0mprefix\u001b[0m\u001b[0;34m)\u001b[0m\u001b[0;34m)\u001b[0m\u001b[0;34m\u001b[0m\u001b[0;34m\u001b[0m\u001b[0m\n\u001b[0m\u001b[1;32m     40\u001b[0m         \u001b[0msuper\u001b[0m\u001b[0;34m(\u001b[0m\u001b[0mInputLayer\u001b[0m\u001b[0;34m,\u001b[0m \u001b[0mself\u001b[0m\u001b[0;34m)\u001b[0m\u001b[0;34m.\u001b[0m\u001b[0m__init__\u001b[0m\u001b[0;34m(\u001b[0m\u001b[0mdtype\u001b[0m\u001b[0;34m=\u001b[0m\u001b[0mdtype\u001b[0m\u001b[0;34m,\u001b[0m \u001b[0mname\u001b[0m\u001b[0;34m=\u001b[0m\u001b[0mname\u001b[0m\u001b[0;34m)\u001b[0m\u001b[0;34m\u001b[0m\u001b[0;34m\u001b[0m\u001b[0m\n\u001b[1;32m     41\u001b[0m \u001b[0;34m\u001b[0m\u001b[0m\n",
      "\u001b[0;32m~/anaconda3/lib/python3.7/site-packages/Keras-2.2.4-py3.7.egg/keras/backend/tensorflow_backend.py\u001b[0m in \u001b[0;36mget_uid\u001b[0;34m(prefix)\u001b[0m\n\u001b[1;32m     72\u001b[0m     \"\"\"\n\u001b[1;32m     73\u001b[0m     \u001b[0;32mglobal\u001b[0m \u001b[0m_GRAPH_UID_DICTS\u001b[0m\u001b[0;34m\u001b[0m\u001b[0;34m\u001b[0m\u001b[0m\n\u001b[0;32m---> 74\u001b[0;31m     \u001b[0mgraph\u001b[0m \u001b[0;34m=\u001b[0m \u001b[0mtf\u001b[0m\u001b[0;34m.\u001b[0m\u001b[0mget_default_graph\u001b[0m\u001b[0;34m(\u001b[0m\u001b[0;34m)\u001b[0m\u001b[0;34m\u001b[0m\u001b[0;34m\u001b[0m\u001b[0m\n\u001b[0m\u001b[1;32m     75\u001b[0m     \u001b[0;32mif\u001b[0m \u001b[0mgraph\u001b[0m \u001b[0;32mnot\u001b[0m \u001b[0;32min\u001b[0m \u001b[0m_GRAPH_UID_DICTS\u001b[0m\u001b[0;34m:\u001b[0m\u001b[0;34m\u001b[0m\u001b[0;34m\u001b[0m\u001b[0m\n\u001b[1;32m     76\u001b[0m         \u001b[0m_GRAPH_UID_DICTS\u001b[0m\u001b[0;34m[\u001b[0m\u001b[0mgraph\u001b[0m\u001b[0;34m]\u001b[0m \u001b[0;34m=\u001b[0m \u001b[0mdefaultdict\u001b[0m\u001b[0;34m(\u001b[0m\u001b[0mint\u001b[0m\u001b[0;34m)\u001b[0m\u001b[0;34m\u001b[0m\u001b[0;34m\u001b[0m\u001b[0m\n",
      "\u001b[0;31mAttributeError\u001b[0m: module 'tensorflow' has no attribute 'get_default_graph'"
     ]
    }
   ],
   "source": [
    "inputs = Input(shape=(input_len,))\n",
    "embed = Embedding(input_dim=vocab_size + 1, input_length=input_len, output_dim=100)\n",
    "embed_inputs = embed(inputs)\n",
    "\n",
    "rnn_model = Bidirectional(GRU(hidden_size, return_sequences=True))\n",
    "rnn_result = rnn_model(embed_inputs)                                       # b, n , zu\n",
    "atten_1 = Dense(atten_size, activation=\"tanh\", use_bias=False)(rnn_result) # b * n * da\n",
    "atten_2 = Dense(hop, activation=\"softmax\", use_bias=False)(atten_1)        # b * n * r\n",
    "\n",
    "atten_flatten = Lambda(change_shape)(atten_2)             # b * r * n   // b * n * 2u\n",
    "atten2_norms = Lambda(norm_atten)(atten_2)"
   ]
  },
  {
   "cell_type": "code",
   "execution_count": 18,
   "metadata": {},
   "outputs": [
    {
     "data": {
      "text/plain": [
       "TensorShape([Dimension(None), Dimension(5)])"
      ]
     },
     "execution_count": 18,
     "metadata": {},
     "output_type": "execute_result"
    }
   ],
   "source": [
    "# y_class = 5\n",
    "# fc = 10\n",
    "fc_model = Dense(10)(atten_flatten)\n",
    "out_put = Dense(5, activation=\"softmax\")(fc_model)\n",
    "model = Model(inputs, out_put)\n",
    "model.summary()"
   ]
  },
  {
   "cell_type": "code",
   "execution_count": 24,
   "metadata": {},
   "outputs": [],
   "source": [
    "# 可自定义 损失函数，及使用 r * r 的正则化项目， 在其他电脑。 sliced rnn\n",
    "# model.compile(optimizer=\"adam\", loss=\"categorical_crossentropy\", metrics=[\"acc\"])\n",
    "def my_loss(y, y_pred):\n",
    "    return K.mean(K.categorical_crossentropy(y, y_pred, from_logits=True)) + atten2_norms\n",
    "\n",
    "model.compile(optimizer=\"adam\", loss=my_loss, metrics=[\"acc\"])"
   ]
  },
  {
   "cell_type": "code",
   "execution_count": 27,
   "metadata": {
    "scrolled": true
   },
   "outputs": [
    {
     "name": "stdout",
     "output_type": "stream",
     "text": [
      "iter is 0\n",
      "iter is 1\n",
      "iter is 2\n",
      "iter is 3\n"
     ]
    }
   ],
   "source": [
    "# just test !!\n",
    "for iters in range(4):\n",
    "    print(\"iter is {}\".format(iters))\n",
    "    \"\"\"\n",
    "    model.fit(train_data[:10000], train_label[:10000], verbose=1, batch_size=512*4, epochs=10,\n",
    "             validation_data=(valid_data[:1000], valid_label[:1000]))\n",
    "    if iters % 2 ==0:\n",
    "        score = model.evaluate(test_data, test_label)\n",
    "    \"\"\""
   ]
  },
  {
   "cell_type": "code",
   "execution_count": null,
   "metadata": {
    "collapsed": true
   },
   "outputs": [],
   "source": []
  }
 ],
 "metadata": {
  "kernelspec": {
   "display_name": "Python 3",
   "language": "python",
   "name": "python3"
  },
  "language_info": {
   "codemirror_mode": {
    "name": "ipython",
    "version": 3
   },
   "file_extension": ".py",
   "mimetype": "text/x-python",
   "name": "python",
   "nbconvert_exporter": "python",
   "pygments_lexer": "ipython3",
   "version": "3.7.4"
  }
 },
 "nbformat": 4,
 "nbformat_minor": 2
}
