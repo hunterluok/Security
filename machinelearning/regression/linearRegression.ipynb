{
 "cells": [
  {
   "cell_type": "markdown",
   "metadata": {},
   "source": [
    "（1）正规方程组\n",
    "（2）local weight linear regression\n",
    "（3）rigde regression\n",
    "（4）forward stagewise linear regression\n",
    "（5）Gauss SGD"
   ]
  },
  {
   "cell_type": "code",
   "execution_count": null,
   "metadata": {
    "collapsed": true
   },
   "outputs": [],
   "source": []
  },
  {
   "cell_type": "markdown",
   "metadata": {},
   "source": [
    "# （1） 正规方程组"
   ]
  },
  {
   "cell_type": "code",
   "execution_count": 3,
   "metadata": {},
   "outputs": [
    {
     "data": {
      "image/png": "[encoded data removed]",
      "text/plain": [
       "<matplotlib.figure.Figure at 0x106bd50b8>"
      ]
     },
     "metadata": {},
     "output_type": "display_data"
    }
   ],
   "source": [
    "import numpy as np\n",
    "from numpy import *\n",
    "x = np.arange(20).reshape(10, 2)\n",
    "y = np.random.rand(10, 1) +np.matmul(x, [[2], [1]])\n",
    "\n",
    "def linear(x,y):\n",
    "    x = mat(x)\n",
    "    y = mat(y) # 如果不mat的 话 *就是不能进行矩阵的乘法。而是逐元乘积\n",
    "    xtx = (x.T * x).I\n",
    "    w = xtx * x.T * y\n",
    "    y_pred = x * w\n",
    "    loss = np.mean(np.array((y_pred - y)) ** 2)\n",
    "    return np.array(y_pred), loss\n",
    "    \n",
    "\n",
    "y_pred, loss = linear(x, y)\n",
    "\n",
    "# t = np.array((y - x * (mat(x.T)*mat(x)).I * x.T * y))**2\n",
    "import matplotlib.pyplot as plt\n",
    "plt.plot(np.arange(len(y_pred)),y_pred,color=\"red\")\n",
    "plt.plot(np.arange(len(y_pred)),np.array(y).flatten(),color='black') # 将np.array()进行flatten 就不是矩阵了\n",
    "plt.show()"
   ]
  },
  {
   "cell_type": "markdown",
   "metadata": {},
   "source": [
    "# (2) local weight linear regression"
   ]
  },
  {
   "cell_type": "code",
   "execution_count": 5,
   "metadata": {},
   "outputs": [
    {
     "data": {
      "text/plain": [
       "(matrix([[ 1.75331895],\n",
       "         [ 7.03075735],\n",
       "         [12.30819576],\n",
       "         [17.58563417],\n",
       "         [22.86307257],\n",
       "         [28.14051098],\n",
       "         [33.41794939],\n",
       "         [38.69538779],\n",
       "         [43.9728262 ],\n",
       "         [49.25026461]]), 13.164776131288274)"
      ]
     },
     "execution_count": 5,
     "metadata": {},
     "output_type": "execute_result"
    }
   ],
   "source": [
    "from numpy import *\n",
    "def lwlr(test, x, y, k):\n",
    "    x = mat(x)\n",
    "    y = mat(y)\n",
    "    test = mat(test)\n",
    "    m, n = x.shape\n",
    "    w = mat(eye(m))\n",
    "    \n",
    "    for i in range(m):\n",
    "        diff = test - x[i]\n",
    "        w[i, i] = exp(-(diff * diff.T) / (2.*k**2))\n",
    "    \n",
    "    xtx = (x.T * w * x).I\n",
    "    # ws w!\n",
    "    ws = xtx * (x.T * w) * y\n",
    "    y_pred = x * ws\n",
    "    \n",
    "    loss = np.mean(np.array((y_pred-y))**2)\n",
    "    return y_pred,loss\n",
    "\n",
    "lwlr(mat([1, 2]), x, y, 0.1)"
   ]
  },
  {
   "cell_type": "markdown",
   "metadata": {
    "collapsed": true
   },
   "source": [
    "# (3) rigde regression"
   ]
  },
  {
   "cell_type": "code",
   "execution_count": 7,
   "metadata": {},
   "outputs": [
    {
     "data": {
      "image/png": "[encoded data removed]",
      "text/plain": [
       "<matplotlib.figure.Figure at 0x112f2fc18>"
      ]
     },
     "metadata": {},
     "output_type": "display_data"
    }
   ],
   "source": [
    "import numpy as np\n",
    "from numpy import *\n",
    "x = np.arange(20).reshape(10,2)\n",
    "y = np.random.rand(10,1) +np.matmul(x,[[2],[1]])\n",
    "\n",
    "def linear(x,y,lam=0.2):\n",
    "    x = mat(x);y=mat(y) # 如果不mat的 话 *就是不能进行矩阵的乘法。而是逐元乘积\n",
    "    xtx = (x.T * x + lam * mat(eye(x.shape[1]))).I\n",
    "    w  = xtx * x.T *y\n",
    "    y_pred = x*w\n",
    "    loss = np.mean(np.array((y_pred-y))**2)\n",
    "    return np.array(y_pred),loss\n",
    "    \n",
    "\n",
    "y_pred,loss = linear(x,y)\n",
    "\n",
    "# t = np.array((y - x * (mat(x.T)*mat(x)).I * x.T * y))**2\n",
    "import matplotlib.pyplot as plt\n",
    "plt.plot(np.arange(len(y_pred)),y_pred,color=\"red\")\n",
    "plt.plot(np.arange(len(y_pred)),np.array(y).flatten(),color='black')\n",
    "plt.show()"
   ]
  },
  {
   "cell_type": "markdown",
   "metadata": {
    "collapsed": true
   },
   "source": [
    "# (4) forward stagewise linear regression"
   ]
  },
  {
   "cell_type": "code",
   "execution_count": 6,
   "metadata": {},
   "outputs": [
    {
     "data": {
      "image/png": "[encoded data removed]",
      "text/plain": [
       "<matplotlib.figure.Figure at 0x11603df28>"
      ]
     },
     "metadata": {},
     "output_type": "display_data"
    }
   ],
   "source": [
    "import numpy as np\n",
    "from numpy import *\n",
    "x = np.arange(20).reshape(10,2)\n",
    "y = np.random.rand(10,1) +np.matmul(x,[[2],[1]])\n",
    "\n",
    "def cost(y_pred,y):\n",
    "    return np.mean(np.array((y_pred-y))**2)\n",
    "\n",
    "def linear(x,y,iters=10,eps=0.01):\n",
    "    x = mat(x);y=mat(y)\n",
    "    m,n = x.shape\n",
    "    #w = mat(ones(n)).T\n",
    "    w = zeros((n,1))\n",
    "    wtest = w.copy()\n",
    "    wmax = w.copy()\n",
    "    \n",
    "    for i in range(iters):\n",
    "        losses = inf\n",
    "        for j in range(n):\n",
    "            for sign in [-1,1]:\n",
    "                wtest = w.copy()\n",
    "                wtest[j] += sign*eps\n",
    "                y_pred = x *w\n",
    "                loss =cost(y_pred,y)\n",
    "                if loss<losses:\n",
    "                    losses =loss\n",
    "                    wmax = wtest\n",
    "        w = wmax.copy()\n",
    "        \n",
    "    y_pred = x * w\n",
    "    return y_pred\n",
    "    \n",
    "\n",
    "y_pred = linear(x,y,iters=1000)\n",
    "\n",
    "# t = np.array((y - x * (mat(x.T)*mat(x)).I * x.T * y))**2\n",
    "import matplotlib.pyplot as plt\n",
    "plt.plot(np.arange(len(y_pred)),y_pred,color=\"red\")\n",
    "plt.plot(np.arange(len(y_pred)),np.array(y).flatten(),color='black')\n",
    "plt.show()"
   ]
  },
  {
   "cell_type": "markdown",
   "metadata": {
    "collapsed": true
   },
   "source": [
    "# (5)Gauss SGD"
   ]
  },
  {
   "cell_type": "code",
   "execution_count": 2,
   "metadata": {},
   "outputs": [
    {
     "name": "stdout",
     "output_type": "stream",
     "text": [
      "(500, 2)\n"
     ]
    },
    {
     "data": {
      "text/plain": [
       "<matplotlib.collections.PathCollection at 0x10e61add8>"
      ]
     },
     "execution_count": 2,
     "metadata": {},
     "output_type": "execute_result"
    },
    {
     "data": {
      "image/png": "[encoded data removed]",
      "text/plain": [
       "<matplotlib.figure.Figure at 0x10ae53c18>"
      ]
     },
     "metadata": {},
     "output_type": "display_data"
    }
   ],
   "source": [
    "import numpy as np\n",
    "import matplotlib.pyplot as plt\n",
    "%matplotlib inline\n",
    "\n",
    "N = 1000\n",
    "# x = np.random.uniform(-1, 1, size=(N, 2))\n",
    "x = np.arange(1000).reshape((-1,2))\n",
    "print(x.shape)\n",
    "w = np.array([[0.1], [0.2]])\n",
    "y = np.matmul(x, w) + np.random.randn(500, 1)\n",
    "# y = np.matmul(np.sin(x), w) + np.random.randn(N, 1)\n",
    "plt.scatter(x[:,0], x[:,1], color=\"red\")"
   ]
  },
  {
   "cell_type": "markdown",
   "metadata": {},
   "source": [
    "#  SGD解法"
   ]
  },
  {
   "cell_type": "code",
   "execution_count": 3,
   "metadata": {
    "collapsed": true
   },
   "outputs": [],
   "source": [
    "from sklearn.datasets import  load_iris\n",
    "data = load_iris().data"
   ]
  },
  {
   "cell_type": "code",
   "execution_count": 18,
   "metadata": {
    "collapsed": true
   },
   "outputs": [],
   "source": [
    "w = [0.1, 0.2, 0.3, 0.2]\n",
    "y = np.matmul(data, w)"
   ]
  },
  {
   "cell_type": "code",
   "execution_count": 5,
   "metadata": {
    "collapsed": true
   },
   "outputs": [],
   "source": [
    "# np.corrcoef(data[:4]) # 注意这里的用法可能出现问题的"
   ]
  },
  {
   "cell_type": "code",
   "execution_count": 8,
   "metadata": {},
   "outputs": [
    {
     "data": {
      "text/plain": [
       "matrix([[0.1],\n",
       "        [0.2],\n",
       "        [0.3],\n",
       "        [0.2]])"
      ]
     },
     "execution_count": 8,
     "metadata": {},
     "output_type": "execute_result"
    }
   ],
   "source": [
    "# N =100000\n",
    "from numpy import *\n",
    "def sgd_test(data, N=100000, y=y):\n",
    "    m, n = data.shape\n",
    "    w = np.random.randn(n,1)\n",
    "    for i in range(N):\n",
    "        index = np.random.randint(0, m)\n",
    "        error = np.matmul(np.array(data[index]), w) - y[index]\n",
    "        w = w - 0.01 * np.matmul(mat(data[index]).T, mat(np.array(error)))\n",
    "    return w\n",
    "\n",
    "sgd_test(data)"
   ]
  },
  {
   "cell_type": "markdown",
   "metadata": {},
   "source": [
    "# Gauss SGD"
   ]
  },
  {
   "cell_type": "code",
   "execution_count": 41,
   "metadata": {},
   "outputs": [
    {
     "data": {
      "text/plain": [
       "0.010000000000000004"
      ]
     },
     "execution_count": 41,
     "metadata": {},
     "output_type": "execute_result"
    }
   ],
   "source": [
    "def l2_norm(x1, x2):\n",
    "    temp_power = np.power(x1-x2, 2).mean()\n",
    "    result = np.sqrt(temp_power)\n",
    "    \n",
    "    return result\n",
    "\n",
    "x1 = np.array([0.1, 0.2, 0.3])\n",
    "x2 = np.array([0.11, 0.19, 0.31])\n",
    "l2_norm(x1, x2)"
   ]
  },
  {
   "cell_type": "code",
   "execution_count": 43,
   "metadata": {},
   "outputs": [
    {
     "data": {
      "text/plain": [
       "array([[0.1],\n",
       "       [0.2],\n",
       "       [0.3],\n",
       "       [0.2]])"
      ]
     },
     "execution_count": 43,
     "metadata": {},
     "output_type": "execute_result"
    }
   ],
   "source": [
    "def gd_test(data, y, N=100000):\n",
    "    ws = np.random.randn(4, 1)\n",
    "    label = y.reshape(-1, 1)\n",
    "    for i in range(N):\n",
    "        error = np.matmul(data, ws) - label\n",
    "        ws = ws - 0.0001 * np.matmul(data.T, error)\n",
    "        yz = l2_norm(error, label)\n",
    "        if yz < 1:\n",
    "            print(yz)\n",
    "            return ws\n",
    "    return ws\n",
    "\n",
    "gd_test(data, y)"
   ]
  },
  {
   "cell_type": "code",
   "execution_count": 88,
   "metadata": {},
   "outputs": [
    {
     "data": {
      "text/plain": [
       "array([[1.    , 1.    , 1.    , 1.    ],\n",
       "       [0.995 , 0.9692, 1.    , 1.    ],\n",
       "       [0.9802, 0.9888, 0.9988, 1.    ],\n",
       "       [0.9692, 0.9802, 0.9988, 1.    ],\n",
       "       [0.9988, 0.9988, 1.    , 1.    ],\n",
       "       [0.9888, 0.9802, 0.9888, 0.995 ],\n",
       "       [0.9692, 0.9988, 1.    , 0.9988],\n",
       "       [0.9988, 0.9988, 0.9988, 1.    ],\n",
       "       [0.9406, 0.956 , 1.    , 1.    ],\n",
       "       [0.995 , 0.9802, 0.9988, 0.9988]])"
      ]
     },
     "execution_count": 88,
     "metadata": {},
     "output_type": "execute_result"
    }
   ],
   "source": [
    "def gauss_func(data, vec, hh=0.3):\n",
    "    diff_data = data - vec\n",
    "    # re = exp(- (np.matmul(diff_data, diff_data.T)) / (2 * np.power(hh, 2)))\n",
    "    re = exp(- (np.power(diff_data, 2)) / (2 * np.power(hh, 2)))\n",
    "    return np.round(re,4)\n",
    "    \n",
    "gauss_func(data[:10], data[0], hh=2)"
   ]
  },
  {
   "cell_type": "code",
   "execution_count": 83,
   "metadata": {},
   "outputs": [],
   "source": [
    "# tx = data[:10] - data[0]\n",
    "# np.power(tx, 2)"
   ]
  },
  {
   "cell_type": "code",
   "execution_count": 84,
   "metadata": {},
   "outputs": [
    {
     "name": "stdout",
     "output_type": "stream",
     "text": [
      "[[ 0.    0.    0.    0.    0.    0.    0.    0.    0.    0.  ]\n",
      " [ 0.    0.29  0.23  0.3  -0.03 -0.26  0.15  0.07  0.44  0.24]\n",
      " [ 0.    0.23  0.26  0.31  0.01 -0.27  0.23  0.06  0.46  0.19]\n",
      " [ 0.    0.3   0.31  0.42  0.01 -0.28  0.29  0.1   0.59  0.27]\n",
      " [ 0.   -0.03  0.01  0.01  0.02  0.01  0.04 -0.    0.01 -0.02]\n",
      " [ 0.   -0.26 -0.27 -0.28  0.01  0.38 -0.17 -0.04 -0.45 -0.21]\n",
      " [ 0.    0.15  0.23  0.29  0.04 -0.17  0.27  0.06  0.41  0.13]\n",
      " [ 0.    0.07  0.06  0.1  -0.   -0.04  0.06  0.03  0.13  0.07]\n",
      " [ 0.    0.44  0.46  0.59  0.01 -0.45  0.41  0.13  0.85  0.38]\n",
      " [ 0.    0.24  0.19  0.27 -0.02 -0.21  0.13  0.07  0.38  0.22]]\n"
     ]
    }
   ],
   "source": [
    "tx1 = np.matmul(tx, tx.T)\n",
    "tx1.shape\n",
    "print(np.round(tx1, 2))"
   ]
  },
  {
   "cell_type": "code",
   "execution_count": 90,
   "metadata": {},
   "outputs": [
    {
     "data": {
      "text/plain": [
       "array([[ 1.67642875],\n",
       "       [ 2.63611353],\n",
       "       [-0.53193978],\n",
       "       [ 1.97478389]])"
      ]
     },
     "execution_count": 90,
     "metadata": {},
     "output_type": "execute_result"
    }
   ],
   "source": [
    "def gauss_gd_test(data, y, gauss_func=gauss_func, lambdas=0.01, N=100):\n",
    "    ws = np.random.randn(4, 1)\n",
    "    label = y.reshape(-1, 1)\n",
    "    m, n = data.shape\n",
    "    for i in range(N):\n",
    "        index = np.random.randint(0, m)\n",
    "        temp_data = gauss_func(data, data[index])\n",
    "        \n",
    "        error = np.matmul(temp_data, ws) - label\n",
    "        ws = ws - lambdas * np.matmul(temp_data.T, error)\n",
    "        yz = l2_norm(error, label)\n",
    "        if yz < 1:\n",
    "            print(yz)\n",
    "            return ws\n",
    "    return ws\n",
    "\n",
    "gauss_gd_test(data, y, N=1000000)"
   ]
  },
  {
   "cell_type": "code",
   "execution_count": 91,
   "metadata": {},
   "outputs": [
    {
     "data": {
      "text/plain": [
       "[0.1, 0.2, 0.3, 0.2]"
      ]
     },
     "execution_count": 91,
     "metadata": {},
     "output_type": "execute_result"
    }
   ],
   "source": [
    "w"
   ]
  },
  {
   "cell_type": "code",
   "execution_count": null,
   "metadata": {
    "collapsed": true
   },
   "outputs": [],
   "source": []
  }
 ],
 "metadata": {
  "kernelspec": {
   "display_name": "Python 3",
   "language": "python",
   "name": "python3"
  },
  "language_info": {
   "codemirror_mode": {
    "name": "ipython",
    "version": 3
   },
   "file_extension": ".py",
   "mimetype": "text/x-python",
   "name": "python",
   "nbconvert_exporter": "python",
   "pygments_lexer": "ipython3",
   "version": "3.6.2"
  }
 },
 "nbformat": 4,
 "nbformat_minor": 2
}
