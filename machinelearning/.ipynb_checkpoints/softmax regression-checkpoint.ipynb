{
 "cells": [
  {
   "cell_type": "code",
   "execution_count": 1,
   "metadata": {
    "collapsed": true
   },
   "outputs": [],
   "source": [
    "from sklearn.datasets import load_iris\n",
    "import numpy as np\n",
    "\n",
    "data = load_iris()[\"data\"]\n",
    "label = load_iris()[\"target\"]"
   ]
  },
  {
   "cell_type": "code",
   "execution_count": 2,
   "metadata": {
    "collapsed": true
   },
   "outputs": [],
   "source": [
    "def get_exp(x, w):\n",
    "    resu = np.exp(np.matmul(x, w))\n",
    "    return resu"
   ]
  },
  {
   "cell_type": "code",
   "execution_count": 25,
   "metadata": {
    "scrolled": true
   },
   "outputs": [],
   "source": [
    "def updata_w(data, label, maxiter=200, beta=0.01, verbose=False):\n",
    "    m, n = data.shape\n",
    "    k = np.unique(label)\n",
    "    w = np.random.randn(n, len(k))\n",
    "    count = 0\n",
    "    while count < maxiter:\n",
    "        count += 1\n",
    "        err = get_exp(data, w)\n",
    "        sums = -np.sum(err, axis=-1, keepdims=True)\n",
    "        prob =  err / sums\n",
    "        for i in range(m):\n",
    "            prob[i,label[i]] += 1\n",
    "        w = w + beta * 1/m * np.matmul(data.T, prob)\n",
    "        # 1/m 这个地方需要特别的注意，否则会出现问题的。\n",
    "        if verbose:\n",
    "            if count % 10 == 0:\n",
    "                #loss = calcu_loss_prob(prob, label, m)\n",
    "                loss = calcu_loss_err(err, label, m)\n",
    "                print(\"iter {}, the loss is {}\".format(count, loss))\n",
    "    return w\n",
    "\n",
    "\n",
    "def calcu_loss_err(err, label, m):\n",
    "    sums = 0\n",
    "    for i in range(m):\n",
    "        if err[i, label[i]] / np.sum(err[i, :]) > 0:\n",
    "            sums -= np.log(err[i, label[i]] / np.sum(err[i, :]))\n",
    "        else:\n",
    "            sums -= 0\n",
    "    return sums / m\n",
    "\n",
    "\n",
    "def calcu_loss_prob(prob, label, m):\n",
    "    sums = 0\n",
    "    for i in range(m):\n",
    "        temp = prob[i, label[i]]\n",
    "        if temp > 0:\n",
    "            sums -= np.log(prob[i, label[i]])\n",
    "        else:\n",
    "            sums -= 0\n",
    "    return sums / m"
   ]
  },
  {
   "cell_type": "code",
   "execution_count": 26,
   "metadata": {
    "collapsed": true
   },
   "outputs": [],
   "source": [
    "def predict(test, w, label):\n",
    "    pred = get_exp(test, w)\n",
    "    sums = np.sum(pred, axis=-1, keepdims=True)\n",
    "    prob = pred / sums\n",
    "    result = np.argmax(prob, axis=-1)\n",
    "    acc = np.sum(label == result) / (len(label) + 0.01)\n",
    "    return result, acc"
   ]
  },
  {
   "cell_type": "code",
   "execution_count": 27,
   "metadata": {},
   "outputs": [
    {
     "data": {
      "text/plain": [
       "(array([0, 0, 0, 0, 0, 0, 0, 0, 0, 0, 0, 0, 0, 0, 0, 0, 0, 0, 0, 0, 0, 0,\n",
       "        0, 0, 0, 0, 0, 0, 0, 0, 0, 0, 0, 0, 0, 0, 0, 0, 0, 0, 0, 0, 0, 0,\n",
       "        0, 0, 0, 0, 0, 0, 1, 1, 1, 2, 1, 1, 1, 1, 1, 1, 1, 1, 1, 1, 1, 1,\n",
       "        1, 1, 2, 1, 1, 1, 2, 1, 1, 1, 1, 2, 1, 1, 1, 1, 1, 2, 1, 1, 1, 2,\n",
       "        1, 1, 2, 1, 1, 1, 1, 1, 1, 1, 1, 1, 2, 2, 2, 2, 2, 2, 2, 2, 2, 2,\n",
       "        2, 2, 2, 2, 2, 2, 2, 2, 2, 2, 2, 2, 2, 2, 2, 2, 2, 2, 2, 2, 2, 2,\n",
       "        2, 2, 2, 2, 2, 2, 2, 2, 2, 2, 2, 2, 2, 2, 2, 2, 2, 2]),\n",
       " 0.9532697820145324)"
      ]
     },
     "execution_count": 27,
     "metadata": {},
     "output_type": "execute_result"
    }
   ],
   "source": [
    "w = updata_w(data, label, maxiter=1000)\n",
    "predict(data, w, label)"
   ]
  },
  {
   "cell_type": "code",
   "execution_count": null,
   "metadata": {
    "collapsed": true
   },
   "outputs": [],
   "source": []
  }
 ],
 "metadata": {
  "kernelspec": {
   "display_name": "Python 3",
   "language": "python",
   "name": "python3"
  },
  "language_info": {
   "codemirror_mode": {
    "name": "ipython",
    "version": 3
   },
   "file_extension": ".py",
   "mimetype": "text/x-python",
   "name": "python",
   "nbconvert_exporter": "python",
   "pygments_lexer": "ipython3",
   "version": "3.6.2"
  }
 },
 "nbformat": 4,
 "nbformat_minor": 2
}
