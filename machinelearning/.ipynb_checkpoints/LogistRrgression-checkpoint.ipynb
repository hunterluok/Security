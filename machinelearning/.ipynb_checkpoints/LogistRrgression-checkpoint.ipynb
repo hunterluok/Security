{
 "cells": [
  {
   "cell_type": "code",
   "execution_count": null,
   "metadata": {
    "collapsed": true
   },
   "outputs": [],
   "source": []
  },
  {
   "cell_type": "markdown",
   "metadata": {},
   "source": [
    "# 1 LogistR"
   ]
  },
  {
   "cell_type": "code",
   "execution_count": 1,
   "metadata": {
    "collapsed": true
   },
   "outputs": [],
   "source": [
    "import numpy as np\n",
    "from sklearn.datasets import load_iris\n",
    "data = load_iris()[\"data\"]\n",
    "label = load_iris()[\"target\"]"
   ]
  },
  {
   "cell_type": "code",
   "execution_count": 2,
   "metadata": {},
   "outputs": [
    {
     "data": {
      "text/plain": [
       "array([4.9, 3. , 1.4, 0.2])"
      ]
     },
     "execution_count": 2,
     "metadata": {},
     "output_type": "execute_result"
    }
   ],
   "source": [
    "td = data[label != 2]\n",
    "tl = label[label != 2]\n",
    "td[1]"
   ]
  },
  {
   "cell_type": "code",
   "execution_count": 3,
   "metadata": {
    "collapsed": true
   },
   "outputs": [],
   "source": [
    "def sigmoid(w, x):\n",
    "    sig = 1 / (np.exp(-np.matmul(x, w)) + 1)\n",
    "    return sig"
   ]
  },
  {
   "cell_type": "code",
   "execution_count": 5,
   "metadata": {
    "collapsed": true
   },
   "outputs": [],
   "source": [
    "# 单样本sgd\n",
    "def updata_w(data, label, beta=0.01, maxiter=100):\n",
    "    m, n = data.shape\n",
    "    w = np.random.randn(n, 1)\n",
    "    count = 0\n",
    "    while count < maxiter:\n",
    "        count += 1\n",
    "        for indx in range(m):\n",
    "            i = np.random.randint(0, m)\n",
    "            pi = sigmoid(w, data[i])\n",
    "            error = label[i] - pi\n",
    "            w = w + beta * (1 / m) * np.multiply(np.array([data[i]]).T, error)\n",
    "    return w\n",
    "# updata_w(td, tl)"
   ]
  },
  {
   "cell_type": "code",
   "execution_count": 6,
   "metadata": {
    "collapsed": true
   },
   "outputs": [],
   "source": [
    "# 全样本 多次循环 进行计算，"
   ]
  },
  {
   "cell_type": "code",
   "execution_count": 40,
   "metadata": {
    "collapsed": true
   },
   "outputs": [],
   "source": [
    "def get_loss(m, p, label):\n",
    "    sums = 0\n",
    "    for i in range(m):\n",
    "        if p[i][0] > 0 or p[i][0] < 1:\n",
    "            sums += label[i][0] * np.log(p[i][0]) + (1 - label[i][0]) * np.log(1 - p[i][0])\n",
    "        else:\n",
    "            sums += 0\n",
    "    return - 1/m * sums"
   ]
  },
  {
   "cell_type": "code",
   "execution_count": 41,
   "metadata": {},
   "outputs": [
    {
     "data": {
      "text/plain": [
       "1.0"
      ]
     },
     "execution_count": 41,
     "metadata": {},
     "output_type": "execute_result"
    }
   ],
   "source": [
    "def updata_w_gd(data, label, beta=0.01, maxiter=100):\n",
    "    m, n = data.shape\n",
    "    w = np.random.randn(n, 1)\n",
    "    count = 0\n",
    "    label = label.reshape(m, 1)\n",
    "    \n",
    "    while count < maxiter:\n",
    "        count += 1\n",
    "        p = sigmoid(w, data)\n",
    "        error = label - p\n",
    "        w = w + beta * np.matmul(data.T, error) # python3 2个np.ndarray matrix 必须进行matmul\n",
    "        if count % 5==0:\n",
    "            loss = get_loss(m, p, label)\n",
    "            # print(\"iter is {}, loss is {}\".format(count, loss))\n",
    "        \n",
    "    return w\n",
    "\n",
    "ws = updata_w_gd(td, tl)\n",
    "\n",
    "def predict(test, w, label):\n",
    "    m, n = test.shape\n",
    "    rest = sigmoid(w, test)\n",
    "    # 这里注意不要搞错了\n",
    "    pred = [1 if i[0] > 0.5 else 0 for i in rest]\n",
    "    acc = np.sum(pred == label) / m\n",
    "    return acc, pred, rest\n",
    "    \n",
    "acc, pred , rest= predict(td, ws, tl) \n",
    "acc "
   ]
  },
  {
   "cell_type": "markdown",
   "metadata": {},
   "source": [
    "# 2 GBDT+LR test"
   ]
  },
  {
   "cell_type": "code",
   "execution_count": 61,
   "metadata": {
    "collapsed": true
   },
   "outputs": [],
   "source": [
    "from sklearn.ensemble import GradientBoostingClassifier\n",
    "from sklearn.preprocessing import OneHotEncoder\n",
    "from sklearn.linear_model import LogisticRegression"
   ]
  },
  {
   "cell_type": "code",
   "execution_count": 62,
   "metadata": {},
   "outputs": [],
   "source": [
    "n_trees = 10\n",
    "clf = GradientBoostingClassifier(n_estimators=n_trees, learning_rate=1.0,\n",
    "                                 max_depth=4, random_state=0)\n",
    "result = clf.fit(td, tl)"
   ]
  },
  {
   "cell_type": "code",
   "execution_count": 63,
   "metadata": {},
   "outputs": [
    {
     "data": {
      "text/plain": [
       "1.0"
      ]
     },
     "execution_count": 63,
     "metadata": {},
     "output_type": "execute_result"
    }
   ],
   "source": [
    "acc = np.sum(result.predict(td) == tl) / len(tl)\n",
    "# result.score(td, tl) 等价的\n",
    "tx = result.apply(td)  # 这个地方注意 \n",
    "txn = tx.reshape(-1, n_trees)\n",
    "enc = OneHotEncoder()\n",
    "re = enc.fit_transform(txn).toarray()"
   ]
  },
  {
   "cell_type": "code",
   "execution_count": 69,
   "metadata": {},
   "outputs": [
    {
     "data": {
      "text/plain": [
       "1.0"
      ]
     },
     "execution_count": 69,
     "metadata": {},
     "output_type": "execute_result"
    }
   ],
   "source": [
    "m1 = LogisticRegression(n_jobs=-1, penalty='l2', C=2, solver='lbfgs')\n",
    "last_re = m1.fit(txn, tl)\n",
    "last_re.score(txn, tl)"
   ]
  }
 ],
 "metadata": {
  "kernelspec": {
   "display_name": "Python 3",
   "language": "python",
   "name": "python3"
  },
  "language_info": {
   "codemirror_mode": {
    "name": "ipython",
    "version": 3
   },
   "file_extension": ".py",
   "mimetype": "text/x-python",
   "name": "python",
   "nbconvert_exporter": "python",
   "pygments_lexer": "ipython3",
   "version": "3.6.2"
  }
 },
 "nbformat": 4,
 "nbformat_minor": 2
}
