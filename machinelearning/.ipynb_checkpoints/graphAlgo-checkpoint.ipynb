{
 "cells": [
  {
   "cell_type": "code",
   "execution_count": 3,
   "metadata": {
    "collapsed": true
   },
   "outputs": [],
   "source": [
    "import numpy as np"
   ]
  },
  {
   "cell_type": "code",
   "execution_count": 4,
   "metadata": {},
   "outputs": [
    {
     "data": {
      "text/plain": [
       "array([[0, 1, 1, 1],\n",
       "       [1, 0, 0, 1],\n",
       "       [0, 0, 0, 0],\n",
       "       [0, 1, 1, 0]])"
      ]
     },
     "execution_count": 4,
     "metadata": {},
     "output_type": "execute_result"
    }
   ],
   "source": [
    "M = np.array([[0, 1, 1, 1], [1, 0, 0, 1], [0, 0, 0, 0], [0, 1, 1, 0]])\n",
    "sums = np.sum(M, axis=-1, keepdims=True)\n",
    "m = np.round(M / (sums + 0.01), 2)\n",
    "p = m.T\n",
    "p"
   ]
  },
  {
   "cell_type": "code",
   "execution_count": 8,
   "metadata": {},
   "outputs": [
    {
     "data": {
      "text/plain": [
       "array([[0.25],\n",
       "       [0.25],\n",
       "       [0.25],\n",
       "       [0.25]])"
      ]
     },
     "execution_count": 8,
     "metadata": {},
     "output_type": "execute_result"
    }
   ],
   "source": [
    "v = np.repeat(0.25, 4).reshape(4, 1)\n",
    "v"
   ]
  },
  {
   "cell_type": "code",
   "execution_count": 9,
   "metadata": {
    "collapsed": true
   },
   "outputs": [],
   "source": [
    "old_v = v\n",
    "iters = 0\n",
    "while iters < 1000:\n",
    "    iters += 1\n",
    "    new_v = np.matmul(p, old_v)\n",
    "    p = np.matmul(p, p)\n",
    "    temp = old_v\n",
    "    old_v = new_v\n",
    "    \n",
    "    if np.sqrt(np.power(temp - new_v, 2).sum()) < 0.02:\n",
    "        break"
   ]
  },
  {
   "cell_type": "code",
   "execution_count": 10,
   "metadata": {},
   "outputs": [
    {
     "data": {
      "text/plain": [
       "array([[9.70374401e-06],\n",
       "       [1.41086538e-05],\n",
       "       [1.41086538e-05],\n",
       "       [1.41086538e-05]])"
      ]
     },
     "execution_count": 10,
     "metadata": {},
     "output_type": "execute_result"
    }
   ],
   "source": [
    "old_v"
   ]
  },
  {
   "cell_type": "code",
   "execution_count": 11,
   "metadata": {},
   "outputs": [
    {
     "data": {
      "text/plain": [
       "0.4999739851618181"
      ]
     },
     "execution_count": 11,
     "metadata": {},
     "output_type": "execute_result"
    }
   ],
   "source": [
    "np.sqrt(np.power(old_v - v, 2).sum())"
   ]
  },
  {
   "cell_type": "code",
   "execution_count": 16,
   "metadata": {},
   "outputs": [
    {
     "data": {
      "text/plain": [
       "{'d_0': {'u_1': 1},\n",
       " 'd_1': {'u_0': 1, 'u_3': 1},\n",
       " 'd_2': {'u_0': 1, 'u_3': 1},\n",
       " 'd_3': {'u_0': 1, 'u_1': 1},\n",
       " 'u_0': {'d_1': 1, 'd_2': 1, 'd_3': 1},\n",
       " 'u_1': {'d_0': 1, 'd_3': 1},\n",
       " 'u_2': {},\n",
       " 'u_3': {'d_1': 1, 'd_2': 1}}"
      ]
     },
     "execution_count": 16,
     "metadata": {},
     "output_type": "execute_result"
    }
   ],
   "source": [
    "def gene_data(data):\n",
    "    \"\"\"\n",
    "    生成user_item 矩阵的 二部图，利用字典存储起来\n",
    "    \"\"\"\n",
    "    data_dict = {}\n",
    "    m, n = data.shape\n",
    "    for i in range(m):\n",
    "        temp_dict = {}\n",
    "        for j in range(n):\n",
    "            if data[i, j] != 0:\n",
    "                temp_dict[\"d_\" + str(j)] = data[i, j]\n",
    "        data_dict[\"u_\" + str(i)] = temp_dict\n",
    "        \n",
    "    for j in range(n):\n",
    "        temp_dict = {}\n",
    "        for i in range(m):\n",
    "            if data[i, j] != 0:\n",
    "                temp_dict[\"u_\" + str(i)]  = data[i, j]\n",
    "        data_dict['d_' + str(j)] = temp_dict\n",
    "    \n",
    "    return data_dict\n",
    "\n",
    "# tx = gene_data(M)"
   ]
  },
  {
   "cell_type": "code",
   "execution_count": 45,
   "metadata": {
    "collapsed": true
   },
   "outputs": [],
   "source": [
    "def update(data, user=\"u_1\", alpha=0.85, maxiters=100, yuzhi=0.001):\n",
    "    # 将旧的存储起来\n",
    "    rank = {}\n",
    "    for k in data.keys():\n",
    "        rank[k] = 0\n",
    "    rank[user] = 1\n",
    "    \n",
    "    maxs = 0\n",
    "    while maxs < maxiters:\n",
    "        temp = {}\n",
    "        for k in data.keys():\n",
    "            temp[k] = 0  \n",
    "        maxs += 1\n",
    "        for key, value in data.items():\n",
    "            for k, v in value.items():\n",
    "                temp[k] += alpha * rank[key] / (len(value) + 0.01)\n",
    "                if k == user:\n",
    "                    temp[k] += (1 - alpha)         \n",
    "        sums = 0\n",
    "        for k in data.keys():\n",
    "            sums += temp[k] - rank[k]  \n",
    "        if abs(sums) < yuzhi:\n",
    "            break\n",
    "        rank = temp\n",
    "        if maxs % 10 ==0:\n",
    "            print(\"maxs {}, sums={}\".format(maxs, sums))     \n",
    "    return rank"
   ]
  },
  {
   "cell_type": "code",
   "execution_count": 43,
   "metadata": {},
   "outputs": [
    {
     "name": "stdout",
     "output_type": "stream",
     "text": [
      "maxs 10, sums=0.06559505529113482\n",
      "maxs 20, sums=0.012287146611602878\n",
      "maxs 30, sums=0.00230147841537838\n"
     ]
    },
    {
     "data": {
      "text/plain": [
       "[('d_0', 0.10488655364125173)]"
      ]
     },
     "execution_count": 43,
     "metadata": {},
     "output_type": "execute_result"
    }
   ],
   "source": [
    "def recomd(tx, user, top_k=2):\n",
    "    scores = update(tx, user=user)\n",
    "    \n",
    "    # 计算user 已经购买过的 item\n",
    "    items = tx[user]\n",
    "    \n",
    "    orl = []\n",
    "    for k in items.keys():\n",
    "        orl.append(k)\n",
    "        \n",
    "    remcomds = {}\n",
    "    for k in scores.keys():\n",
    "        if k.startswith('d_'):\n",
    "            if k not in orl:\n",
    "                remcomds[k] = scores[k]\n",
    "                \n",
    "    remcomds = sorted(remcomds.items(), key=lambda row: row[1], reverse=True)\n",
    "    if len(remcomds) < 2:\n",
    "        return remcomds\n",
    "    else:\n",
    "        return remcomds[:2]\n",
    "        \n",
    "recomd(tx, user=\"u_0\")"
   ]
  }
 ],
 "metadata": {
  "kernelspec": {
   "display_name": "Python 3",
   "language": "python",
   "name": "python3"
  },
  "language_info": {
   "codemirror_mode": {
    "name": "ipython",
    "version": 3
   },
   "file_extension": ".py",
   "mimetype": "text/x-python",
   "name": "python",
   "nbconvert_exporter": "python",
   "pygments_lexer": "ipython3",
   "version": "3.6.2"
  }
 },
 "nbformat": 4,
 "nbformat_minor": 2
}
