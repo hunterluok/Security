{
 "cells": [
  {
   "cell_type": "code",
   "execution_count": 1,
   "metadata": {
    "collapsed": true
   },
   "outputs": [],
   "source": [
    "from numpy import *"
   ]
  },
  {
   "cell_type": "code",
   "execution_count": 2,
   "metadata": {
    "collapsed": true
   },
   "outputs": [],
   "source": [
    "def pred_value(data,dim,threadvalue,thread_dirct):\n",
    "    m,n = data.shape\n",
    "    preds = ones((m,1))\n",
    "    if thread_dirct =='lt':\n",
    "        preds[data[:,dim] <= threadvalue] = -1.0\n",
    "    else:\n",
    "        preds[data[:,dim] > threadvalue] = -1.0\n",
    "    return preds"
   ]
  },
  {
   "cell_type": "code",
   "execution_count": 3,
   "metadata": {
    "collapsed": true
   },
   "outputs": [],
   "source": [
    "def loadSimpData():\n",
    "    datMat = matrix([[ 1. ,  2.1],[ 2. , 1.1], [ 1.3, 1. ], [1., 1.], [2., 1.]])\n",
    "    classLabels = [1.0, 1.0, -1.0, -1.0, 1.0]\n",
    "    return datMat,classLabels\n",
    "\n",
    "data,label = loadSimpData()"
   ]
  },
  {
   "cell_type": "code",
   "execution_count": 4,
   "metadata": {
    "collapsed": true
   },
   "outputs": [],
   "source": [
    "def adaboost_model(data,label,D,N=10.0):\n",
    "    m,n = mat(data).shape\n",
    "    label = matrix(label).T\n",
    "    numsteps = N\n",
    "    beststump = {}\n",
    "    minerr = inf\n",
    "    \n",
    "    for i in range(n):\n",
    "        minvalue, maxvalue = data[:,i].min(),data[:,i].max()\n",
    "        step = (maxvalue-minvalue) / numsteps\n",
    "        #print(step)\n",
    "        for j in range(-1,int(numsteps)+1):\n",
    "            for k in ['lt','rh']:\n",
    "                threadvalues = minvalue + j * step\n",
    "                preds = pred_value(data,i,threadvalues,k)\n",
    "                \n",
    "                errarr = mat(ones((m,1)))\n",
    "                errarr[preds == label]=0 # 构造一个误差矩阵，当不相等时 为1 否则为1。\n",
    "\n",
    "                weight_err = mat(D).T *errarr\n",
    "                #print(\"dim={},weighterr={},thread={},dir={}\".format(i,weight_err,threadvalues,k))\n",
    "                \n",
    "                if weight_err<minerr:\n",
    "                    minerr = weight_err\n",
    "                    beststump['bestclass'] = preds #.copy()\n",
    "                    beststump['best_dim'] = i\n",
    "                    beststump['best_threadvalue'] = threadvalues\n",
    "                    beststump['best_dir'] = k\n",
    "                    beststump['min_err'] = minerr\n",
    "                    #print(\"best_dim={},minerr={},best_thread={},best_dir={}\".format(i,minerr,threadvalue,k))\n",
    "    return beststump"
   ]
  },
  {
   "cell_type": "code",
   "execution_count": 5,
   "metadata": {
    "collapsed": true
   },
   "outputs": [],
   "source": [
    "#perd_err = 1-sum(pred_value(data,dim=0,threadvalue=1.3,thread_dirct='lt')==mat(label).T)/5\n",
    "#round(perd_err,2)\n",
    "#print(\"pred_err={:.2f}\".format(perd_err))"
   ]
  },
  {
   "cell_type": "code",
   "execution_count": 7,
   "metadata": {
    "collapsed": true
   },
   "outputs": [],
   "source": [
    "#fx = adaboost_model(data,label,d,10)"
   ]
  },
  {
   "cell_type": "code",
   "execution_count": 9,
   "metadata": {
    "collapsed": true
   },
   "outputs": [],
   "source": [
    "#preds = fx['bestclass']\n",
    "#multiply(mat(label).T,preds)\n",
    "#print(preds)"
   ]
  },
  {
   "cell_type": "code",
   "execution_count": 49,
   "metadata": {
    "collapsed": true
   },
   "outputs": [],
   "source": [
    "def f(data,label,iters=10,N=10.): # iters 决定弱分类器的个数\n",
    "    m,n = mat(data).shape\n",
    "    D = ones((m,1))/m\n",
    "    model_agg = []\n",
    "    aggclassest = mat(zeros((m,1)))\n",
    "    \n",
    "    if mat(label).shape[0] !=m:\n",
    "        label = mat(label)\n",
    "    else:\n",
    "        label = mat(label).T\n",
    "    if label.shape[0] ==m:\n",
    "        raise KeyError(\"The dim of label is wrong\")\n",
    "    \n",
    "    for i in range(iters):\n",
    "        bestmodel = adaboost_model(data,label,D,10)\n",
    "        model_agg.append(bestmodel)\n",
    "        \n",
    "        err = bestmodel['min_err']\n",
    "        alpha = 0.5* log((1.0-err)/max(err,1e-16))\n",
    "        bestmodel['alphas'] = alpha\n",
    "    \n",
    "        preds = bestmodel['bestclass']\n",
    "        if preds.shape[0]!=m:\n",
    "            preds = preds.T\n",
    "            \n",
    "        temp = -1 * multiply(multiply(alpha,mat(label).T),preds)\n",
    "        D = multiply(D,exp(temp))/sum(D)\n",
    "        \n",
    "        aggclassest += multiply(alpha,preds)\n",
    "        #print(\"aggclassset :\",aggclassest)\n",
    "        \n",
    "        aggerrors = multiply(sign(aggclassest)!=mat(label).T,ones((m,1)))\n",
    "        errrate = aggerrors.sum() / m\n",
    "        if errstate ==0:\n",
    "            break\n",
    "        \n",
    "    return model_agg,aggclassest"
   ]
  },
  {
   "cell_type": "code",
   "execution_count": 11,
   "metadata": {
    "collapsed": true,
    "scrolled": true
   },
   "outputs": [],
   "source": [
    "#m = f(data,5,label)"
   ]
  },
  {
   "cell_type": "code",
   "execution_count": 27,
   "metadata": {
    "collapsed": true
   },
   "outputs": [],
   "source": [
    "def adaclassify(data,classifierArr,label):\n",
    "    data = mat(data)\n",
    "    m = data.shape[0]\n",
    "    aggclassset = mat(zeros((m,1)))\n",
    "    for i in range(len(classifierArr)):\n",
    "        preds = pred_value(data,classifierArr[i]['best_dim'],classifierArr[i]['best_threadvalue'],classifierArr[i]['best_dir'])\n",
    "        aggclassset += multiply(classifierArr[i]['alphas'],preds)\n",
    "        #print(aggclassset)\n",
    "    last_pred = sign(aggclassset)\n",
    "    err = sum((last_pred!=mat(label).T))/m\n",
    "    \n",
    "    return aggclassset,last_pred,err"
   ]
  },
  {
   "cell_type": "code",
   "execution_count": 28,
   "metadata": {
    "collapsed": true
   },
   "outputs": [],
   "source": [
    "#adaclassify(data,m,label)"
   ]
  },
  {
   "cell_type": "code",
   "execution_count": 29,
   "metadata": {
    "collapsed": true
   },
   "outputs": [],
   "source": [
    "trainp = '/Users/luokui/Documents/机器学习实战/机器学习实战及配套代码/machinelearninginaction/Ch07/horseColicTraining2.txt'"
   ]
  },
  {
   "cell_type": "code",
   "execution_count": 30,
   "metadata": {
    "collapsed": true
   },
   "outputs": [],
   "source": [
    "testp = '/Users/luokui/Documents/机器学习实战/机器学习实战及配套代码/machinelearninginaction/Ch07/horseColicTest2.txt'"
   ]
  },
  {
   "cell_type": "code",
   "execution_count": 31,
   "metadata": {
    "collapsed": true
   },
   "outputs": [],
   "source": [
    "def loaddata(path):\n",
    "    nfeat = len(open(trainp).readline().strip().split('\\t'))\n",
    "    data = []\n",
    "    label = []\n",
    "    fr = open(path)\n",
    "    for line in fr.readlines():\n",
    "        lines = []\n",
    "        curline = line.strip().split('\\t')\n",
    "        for i in range(nfeat-1):\n",
    "            lines.append(float(curline[i]))\n",
    "        data.append(lines)\n",
    "        label.append(float(curline[-1]))\n",
    "    return array(data),array(label)"
   ]
  },
  {
   "cell_type": "code",
   "execution_count": 32,
   "metadata": {
    "collapsed": true
   },
   "outputs": [],
   "source": [
    "td,tl = loaddata(trainp)\n",
    "testt,testl=loaddata(testp)"
   ]
  },
  {
   "cell_type": "code",
   "execution_count": 20,
   "metadata": {
    "collapsed": true
   },
   "outputs": [],
   "source": [
    "#adaboost_model(data,10,label)\n",
    "models = f(td,10,tl)"
   ]
  },
  {
   "cell_type": "code",
   "execution_count": 22,
   "metadata": {
    "collapsed": true
   },
   "outputs": [],
   "source": [
    "a,b=adaclassify(testt,models,testl)"
   ]
  },
  {
   "cell_type": "code",
   "execution_count": 38,
   "metadata": {
    "collapsed": true
   },
   "outputs": [],
   "source": [
    "re={}\n",
    "for i in [1,10,50,100]:\n",
    "    models = f(td,i,tl)\n",
    "    agg_pred,last_pred,b = adaclassify(testt,models,testl)\n",
    "    re.setdefault('agg_preds',[])\n",
    "    re.setdefault('last_preds',[])\n",
    "    re.setdefault('errs',[])\n",
    "    re['agg_preds'].append(agg_pred)\n",
    "    re['last_preds'].append(last_pred)\n",
    "    re['errs'].append(b)"
   ]
  },
  {
   "cell_type": "code",
   "execution_count": 163,
   "metadata": {},
   "outputs": [
    {
     "data": {
      "image/png": "[encoded data removed]",
      "text/plain": [
       "<matplotlib.figure.Figure at 0x10ea70128>"
      ]
     },
     "metadata": {},
     "output_type": "display_data"
    },
    {
     "name": "stdout",
     "output_type": "stream",
     "text": [
      "the area under the cureve is : 0.8568576469495774\n"
     ]
    }
   ],
   "source": [
    "def plot_roc(preds,classlabels):\n",
    "    import matplotlib.pyplot as plt\n",
    "    cur = (1.0,1.0)\n",
    "    ySum = 0.\n",
    "    numPosClas = sum(array(classlabels)==1.0)\n",
    "    yStep = 1/float(numPosClas)\n",
    "    xStep = 1/float(len(classlabels)-numPosClas)\n",
    "    \n",
    "    temps = preds.A.reshape(-1)\n",
    "    sortedindices = temps.argsort()\n",
    "    \n",
    "    fig = plt.figure()\n",
    "    fig.clf()\n",
    "    ax = plt.subplot(1,1,1)\n",
    "    \n",
    "    for index in sortedindices:\n",
    "        if classlabels[index]==1.0:\n",
    "            delX = 0\n",
    "            delY = yStep\n",
    "        else:\n",
    "            delX = xStep\n",
    "            delY = 0\n",
    "            ySum += cur[1]\n",
    "        ax.plot([cur[0],cur[0]-delX],[cur[1],cur[1]-delY],c='r')\n",
    "        cur = (cur[0]-delX,cur[1]-delY)\n",
    "    ax.plot([0,1],[0,1],'b--')\n",
    "    ax.axis([0,1,0,1])\n",
    "    plt.show()\n",
    "    print(\"the area under the cureve is :\",ySum * xStep)\n",
    "\n",
    "modelss,predss = f(td,tl)\n",
    "plot_roc(predss,tl)"
   ]
  },
  {
   "cell_type": "code",
   "execution_count": 139,
   "metadata": {
    "collapsed": true
   },
   "outputs": [],
   "source": [
    "#temp = predss.A.reshape(-1)\n",
    "#xx = temp.argsort()"
   ]
  },
  {
   "cell_type": "code",
   "execution_count": 165,
   "metadata": {
    "scrolled": false
   },
   "outputs": [
    {
     "data": {
      "image/png": "[encoded data removed]",
      "text/plain": [
       "<matplotlib.figure.Figure at 0x112d15400>"
      ]
     },
     "metadata": {},
     "output_type": "display_data"
    },
    {
     "name": "stdout",
     "output_type": "stream",
     "text": [
      "the area under the cureve is : 0.8568576469495774\n"
     ]
    }
   ],
   "source": [
    "import matplotlib.pyplot as plt\n",
    "cur = (1.0,1.0)\n",
    "ySum = 0.\n",
    "numPosClas = sum(array(tl)==1.0)\n",
    "yStep = 1/float(numPosClas)\n",
    "xStep = 1/float(len(tl)-numPosClas)\n",
    "    \n",
    "temps = predss.A.reshape(-1)\n",
    "sds = temps.argsort()\n",
    "    \n",
    "fig = plt.figure(figsize=(12,8))\n",
    "fig.clf()\n",
    "ax = plt.subplot(1,1,1)\n",
    "    \n",
    "for index in sds:\n",
    "    #print(index)\n",
    "    if tl[index]==1.0:\n",
    "        delX = 0\n",
    "        delY = yStep\n",
    "    else:\n",
    "        delX = xStep\n",
    "        delY = 0\n",
    "        ySum += cur[1]\n",
    "    ax.plot([cur[0],cur[0]-delX],[cur[1],cur[1]-delY],c='r')\n",
    "    cur = (cur[0]-delX,cur[1]-delY)\n",
    "ax.plot([0,1],[0,1],'b--')\n",
    "ax.axis([0,1,0,1])\n",
    "plt.show()\n",
    "print(\"the area under the cureve is :\",ySum * xStep)"
   ]
  },
  {
   "cell_type": "code",
   "execution_count": null,
   "metadata": {
    "collapsed": true
   },
   "outputs": [],
   "source": []
  },
  {
   "cell_type": "code",
   "execution_count": null,
   "metadata": {
    "collapsed": true
   },
   "outputs": [],
   "source": []
  },
  {
   "cell_type": "code",
   "execution_count": null,
   "metadata": {
    "collapsed": true
   },
   "outputs": [],
   "source": []
  },
  {
   "cell_type": "code",
   "execution_count": null,
   "metadata": {
    "collapsed": true
   },
   "outputs": [],
   "source": []
  }
 ],
 "metadata": {
  "kernelspec": {
   "display_name": "Python 3",
   "language": "python",
   "name": "python3"
  },
  "language_info": {
   "codemirror_mode": {
    "name": "ipython",
    "version": 3
   },
   "file_extension": ".py",
   "mimetype": "text/x-python",
   "name": "python",
   "nbconvert_exporter": "python",
   "pygments_lexer": "ipython3",
   "version": "3.6.2"
  }
 },
 "nbformat": 4,
 "nbformat_minor": 2
}
