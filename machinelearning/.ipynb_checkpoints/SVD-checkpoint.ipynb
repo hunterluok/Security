{
 "cells": [
  {
   "cell_type": "code",
   "execution_count": 1,
   "metadata": {
    "collapsed": true
   },
   "outputs": [],
   "source": [
    "from numpy import *\n",
    "import numpy as np"
   ]
  },
  {
   "cell_type": "code",
   "execution_count": 2,
   "metadata": {
    "collapsed": true
   },
   "outputs": [],
   "source": [
    "path = './machinelearninginaction/Ch14/0_5.txt'"
   ]
  },
  {
   "cell_type": "code",
   "execution_count": 3,
   "metadata": {
    "collapsed": true
   },
   "outputs": [],
   "source": [
    "def loadExData():\n",
    "    return[[1, 1, 1, 0, 0],\n",
    "           [2, 2, 2, 0, 0],\n",
    "           [1, 1, 1, 0, 0],\n",
    "           [5, 5, 5, 0, 0],\n",
    "           [1, 1, 0, 2, 2],\n",
    "           [0, 0, 0, 3, 3],\n",
    "           [0, 0, 0, 1, 1]]\n",
    "data = loadExData()"
   ]
  },
  {
   "cell_type": "code",
   "execution_count": 5,
   "metadata": {},
   "outputs": [
    {
     "name": "stdout",
     "output_type": "stream",
     "text": [
      "1 1 1 0 0 \n",
      "1 1 1 0 0 \n",
      "1 1 1 0 0 \n",
      "1 1 1 0 0 \n",
      "1 1 0 1 1 \n",
      "0 0 0 1 1 \n",
      "0 0 0 1 1 \n"
     ]
    }
   ],
   "source": [
    "def pd(data, thresd=0.8):\n",
    "    if isinstance(data, list):\n",
    "        m = len(data)\n",
    "        n = len(data[0])\n",
    "        for i in range(m):\n",
    "            for j in range(n):\n",
    "                if  data[i][j]>thresd:\n",
    "                    print(1, end=' ')\n",
    "                else:\n",
    "                    print(0, end=' ')\n",
    "            print('')        \n",
    "            \n",
    "    elif isinstance(data, np.matrixlib.defmatrix.matrix):\n",
    "        m, n = data.shape\n",
    "        for i in range(m):\n",
    "            for j in range(n):\n",
    "                if  data[i, j]>thresd:\n",
    "                    print(1, end=' ')\n",
    "                else:\n",
    "                    print(0, end=' ')\n",
    "            print('')\n",
    "        \n",
    "    else:\n",
    "        raise KeyError(\"Wrong, please wait...\")\n",
    "    \n",
    "pd(data)"
   ]
  },
  {
   "cell_type": "code",
   "execution_count": 16,
   "metadata": {
    "collapsed": true
   },
   "outputs": [],
   "source": [
    "def get_data(path):\n",
    "    data = []\n",
    "    with open(path,'r') as f:\n",
    "        line = f.readline()\n",
    "        while line:\n",
    "            temp =[]\n",
    "            line = line.strip()\n",
    "            for i in range(32):\n",
    "                temp.append(int(line[i]))\n",
    "            data.append(temp)\n",
    "            line = f.readline()\n",
    "    return data"
   ]
  },
  {
   "cell_type": "code",
   "execution_count": 17,
   "metadata": {
    "collapsed": true
   },
   "outputs": [],
   "source": [
    "def chose_sig(sig, variance, big1=True):\n",
    "    sums = sum(sig)\n",
    "    sub_sig = []\n",
    "    s = 0\n",
    "    big_1 =[]\n",
    "    for i in sig:\n",
    "        s += i\n",
    "        sub_sig.append(i)\n",
    "        if s / sums > variance:\n",
    "            break\n",
    "    for i in sig:\n",
    "        if i >= 1:\n",
    "            big_1.append(i)\n",
    "    \n",
    "    return sub_sig, s, big_1  "
   ]
  },
  {
   "cell_type": "code",
   "execution_count": 9,
   "metadata": {
    "collapsed": true
   },
   "outputs": [],
   "source": [
    "def restruct_data(data, variance, num=5, ifnum=False):\n",
    "    s, sigs, v = np.linalg.svd(data)\n",
    "    sub_sig, loss, big_1 = chose_sig(sigs, variance=variance, big1=True)\n",
    "    if ifnum:\n",
    "        sub_sig = big_1[:num]\n",
    "    msig = mat(np.diag(sub_sig))\n",
    "    m, n = msig.shape\n",
    "    redata = mat(s[:, :m]) * msig * mat(v[:m, :])\n",
    "    return redata,sub_sig"
   ]
  },
  {
   "cell_type": "code",
   "execution_count": 13,
   "metadata": {
    "collapsed": true
   },
   "outputs": [],
   "source": [
    "#data = get_data(path)\n",
    "#nd,_ = restruct_data(data,variance=0.8,num=3,ifnum=False)"
   ]
  },
  {
   "cell_type": "code",
   "execution_count": 14,
   "metadata": {
    "collapsed": true
   },
   "outputs": [],
   "source": [
    "import  matplotlib.pylab as plt\n",
    "#plt.plot(np.arange(len(_)),_,'r')\n",
    "#plt.plot(np.arange(len(_)),np.repeat(1,9),'b')\n",
    "#plt.show()"
   ]
  },
  {
   "cell_type": "code",
   "execution_count": 12,
   "metadata": {
    "collapsed": true
   },
   "outputs": [],
   "source": [
    "from numpy import *\n",
    "data= mat(data)\n",
    "from numpy import linalg as lg"
   ]
  },
  {
   "cell_type": "code",
   "execution_count": 8,
   "metadata": {
    "collapsed": true
   },
   "outputs": [],
   "source": [
    "def edlidist(x, y):\n",
    "    \"\"\"\n",
    "    欧式距离的倒数 作为相似度\n",
    "    \"\"\"\n",
    "    x = mat(x)\n",
    "    y = mat(y)\n",
    "    temp = lg.norm(x - y)\n",
    "    return 1. / (1 + temp)"
   ]
  },
  {
   "cell_type": "code",
   "execution_count": 9,
   "metadata": {
    "collapsed": true
   },
   "outputs": [],
   "source": [
    "def pearsonSim(x, y):\n",
    "    if len(x)<3:\n",
    "        return 1.\n",
    "    else:\n",
    "        return 0.5 + 0.5 * corrcoef(x, y, rowvar=0)[0][1] \n",
    "    # corrcoef 得到的是一个 相关系数矩阵，然后第一行第2个值"
   ]
  },
  {
   "cell_type": "code",
   "execution_count": 92,
   "metadata": {},
   "outputs": [
    {
     "name": "stdout",
     "output_type": "stream",
     "text": [
      "[4]\n",
      "(array([4]), array([0]))\n",
      "1\n",
      "0.5\n",
      "0.5\n",
      "**********\n",
      "[4]\n",
      "(array([4]), array([0]))\n",
      "1\n",
      "1.0\n",
      "1.0\n",
      "**********\n",
      "[]\n",
      "(array([], dtype=int64), array([], dtype=int64))\n"
     ]
    }
   ],
   "source": [
    "simTotal = 0.\n",
    "ratsimTotal = 0.\n",
    "\n",
    "for j in range(n):\n",
    "    userrating = data[user, j]\n",
    "    if userrating == 0:\n",
    "        continue\n",
    "    overlap = nonzero(logical_and(data[:,3].A > 0, data[:,j].A > 0))[0]\n",
    "    overlaps = nonzero(logical_and(data[:,3].A > 0, data[:,j].A > 0))\n",
    "    \n",
    "    print(overlap)\n",
    "    print(overlaps)\n",
    "    \n",
    "    if len(overlap) == 0:\n",
    "        similarity = 0\n",
    "    else:\n",
    "        similarity = edlidist(data[overlap, 3],data[overlap, j])\n",
    "        #print(data[overlap,3])\n",
    "        #print(similarity)\n",
    "        #print(\"***\"*10)\n",
    "        simTotal += similarity\n",
    "        ratsimTotal += similarity * userrating\n",
    "        print(userrating)\n",
    "        print(simTotal)\n",
    "        print(ratsimTotal)\n",
    "        print('**'*5)\n",
    "    \n",
    "    #if simTotal == 0:\n",
    "    #    return 0\n",
    "    #else:\n",
    "    #    return ratsimTotal/simTotal\n",
    "    #print(overlap)"
   ]
  },
  {
   "cell_type": "code",
   "execution_count": 67,
   "metadata": {},
   "outputs": [
    {
     "data": {
      "text/plain": [
       "array([3, 4])"
      ]
     },
     "execution_count": 67,
     "metadata": {},
     "output_type": "execute_result"
    }
   ],
   "source": [
    "unrateditem = nonzero(data[2,:].A==0)[1]\n",
    "unrateditem"
   ]
  },
  {
   "cell_type": "code",
   "execution_count": 1,
   "metadata": {
    "collapsed": true
   },
   "outputs": [],
   "source": [
    "def standest(data,user,edlidist,item):\n",
    "    m,n = data.shape\n",
    "    simtotal = 0.\n",
    "    ratsimtotal = 0.\n",
    "    for i in range(n):\n",
    "        userrating = data[user,i]\n",
    "        if userrating == 0:       # 得到该 用户评分不为0的。\n",
    "            continue\n",
    "        overlap = nonzero(logical_and(data[:,item].A>0,data[:,i].A>0))[0]\n",
    "        \n",
    "        if len(overlap) == 0:\n",
    "            similarity = 0\n",
    "        else:\n",
    "            similarity = edlidist(data[overlap,item],data[overlap,i])\n",
    "        \n",
    "        print(\"the %d and %d similarity is :%f\" % (item,i,similarity))\n",
    "        simtotal += similarity #总相似度，\n",
    "        ratsimtotal += similarity * userrating #\n",
    "        \n",
    "    if simtotal==0.:\n",
    "        return 0.\n",
    "    else:\n",
    "        return ratsimtotal / simtotal # 将评分 规划到  1-5之间。"
   ]
  },
  {
   "cell_type": "code",
   "execution_count": 89,
   "metadata": {
    "collapsed": true
   },
   "outputs": [],
   "source": [
    "def recommend(data,user,n=3,simeans=edlidist,estmethod = sgdest):\n",
    "    unrateditem = nonzero(data[user,:].A==0)[1] # [1]是取值。\n",
    "    if len(unrateditem)==0:\n",
    "        return 'your rated everything'\n",
    "    itemscores = []\n",
    "    for item in unrateditem:\n",
    "        estimatedScore = estmethod(data,user,edlidist,item)\n",
    "        itemscores.append((item,estimatedScore))\n",
    "    return sorted(itemscores,key=lambda row:row[1],reverse=True)[:n]"
   ]
  },
  {
   "cell_type": "code",
   "execution_count": 90,
   "metadata": {},
   "outputs": [
    {
     "data": {
      "text/plain": [
       "matrix([[4, 4, 0, 2, 2],\n",
       "        [4, 0, 0, 3, 3],\n",
       "        [4, 0, 0, 1, 1],\n",
       "        [1, 1, 1, 2, 0],\n",
       "        [2, 2, 2, 0, 0],\n",
       "        [1, 1, 1, 0, 0],\n",
       "        [5, 5, 5, 0, 0]])"
      ]
     },
     "execution_count": 90,
     "metadata": {},
     "output_type": "execute_result"
    }
   ],
   "source": [
    "data"
   ]
  },
  {
   "cell_type": "code",
   "execution_count": 91,
   "metadata": {},
   "outputs": [
    {
     "name": "stdout",
     "output_type": "stream",
     "text": [
      "item = 1 and 0 similarity is :0.418941\n",
      "item = 2 and 0 similarity is :0.440182\n"
     ]
    },
    {
     "data": {
      "text/plain": [
       "[(1, 4.0), (2, 4.0)]"
      ]
     },
     "execution_count": 91,
     "metadata": {},
     "output_type": "execute_result"
    }
   ],
   "source": [
    "recommend(data,2,n=2)"
   ]
  },
  {
   "cell_type": "code",
   "execution_count": 32,
   "metadata": {
    "collapsed": true
   },
   "outputs": [],
   "source": [
    "data[0,1]=data[0,0]=data[1,0]=data[2,0]=4"
   ]
  },
  {
   "cell_type": "code",
   "execution_count": 36,
   "metadata": {},
   "outputs": [
    {
     "name": "stdout",
     "output_type": "stream",
     "text": [
      "the 1 and 0 similarity is :1.000000\n",
      "the 1 and 3 similarity is :0.309017\n",
      "the 1 and 4 similarity is :0.333333\n",
      "the 2 and 0 similarity is :1.000000\n",
      "the 2 and 3 similarity is :0.500000\n",
      "the 2 and 4 similarity is :0.000000\n"
     ]
    },
    {
     "data": {
      "text/plain": [
       "[(2, 3.0), (1, 2.8266504712098603)]"
      ]
     },
     "execution_count": 36,
     "metadata": {},
     "output_type": "execute_result"
    }
   ],
   "source": [
    "data=mat([[4,4,0,2,2],[4,0,0,3,3],[4,0,0,1,1],[1,1,1,2,0],[2,2,2,0,0],[1,1,1,0,0],[5,5,5,0,0]])\n",
    "recommend(data,2,n=3)"
   ]
  },
  {
   "cell_type": "code",
   "execution_count": 37,
   "metadata": {},
   "outputs": [
    {
     "data": {
      "text/plain": [
       "matrix([[4, 4, 0, 2, 2],\n",
       "        [4, 0, 0, 3, 3],\n",
       "        [4, 0, 0, 1, 1],\n",
       "        [1, 1, 1, 2, 0],\n",
       "        [2, 2, 2, 0, 0],\n",
       "        [1, 1, 1, 0, 0],\n",
       "        [5, 5, 5, 0, 0]])"
      ]
     },
     "execution_count": 37,
     "metadata": {},
     "output_type": "execute_result"
    }
   ],
   "source": [
    "data"
   ]
  },
  {
   "cell_type": "code",
   "execution_count": 41,
   "metadata": {
    "collapsed": true
   },
   "outputs": [],
   "source": [
    "overlap = nonzero(logical_and(data[:,1].A>0,data[:,2].A>0))"
   ]
  },
  {
   "cell_type": "code",
   "execution_count": 42,
   "metadata": {},
   "outputs": [
    {
     "data": {
      "text/plain": [
       "matrix([[1, 2, 1, 5]])"
      ]
     },
     "execution_count": 42,
     "metadata": {},
     "output_type": "execute_result"
    }
   ],
   "source": [
    "data[overlap]"
   ]
  },
  {
   "cell_type": "code",
   "execution_count": 16,
   "metadata": {
    "collapsed": true
   },
   "outputs": [],
   "source": [
    "def sgdest(data, user, sim, item, varians=0.8):\n",
    "    data = mat(data)\n",
    "    m, n = data.shape\n",
    "    u, sigs, v = linalg.svd(data)\n",
    "    sums = sum(sigs)\n",
    "    s = 0.\n",
    "    for k in range(len(sigs)):\n",
    "        s += sigs[k]\n",
    "        if s / sums > varians:\n",
    "            new_sigs = mat(diag(sigs[:k]))\n",
    "            \n",
    "    formated = data.T * mat(u[:,:k]) * mat(new_sigs.I) # 这里注意对 U 进行变换。\n",
    "    #return formated\n",
    "    \n",
    "    # 基于ITEM之间的相似性。\n",
    "    \n",
    "    simtotal = 0.\n",
    "    ratsim = 0.\n",
    "    \n",
    "    print(n)\n",
    "    \n",
    "    # 剩下的 和基于 物品的相似度计算一致的。\n",
    "    for i in range(n):\n",
    "        userrating = data[user, i]\n",
    "        if userrating==0 and i==item:\n",
    "            continue\n",
    "        similarity = sim(formated[item, :],formated[i, :])\n",
    "        print(\"item = %d and %d similarity is :%f\" %(item,i,similarity))\n",
    "        simtotal += similarity\n",
    "        ratsim += similarity * userrating\n",
    "    if simtotal == 0:\n",
    "        return 0\n",
    "    else:\n",
    "        return ratsim / simtotal"
   ]
  },
  {
   "cell_type": "code",
   "execution_count": 17,
   "metadata": {},
   "outputs": [
    {
     "name": "stdout",
     "output_type": "stream",
     "text": [
      "5\n",
      "item = 3 and 0 similarity is :0.493875\n",
      "item = 3 and 1 similarity is :0.493875\n",
      "item = 3 and 2 similarity is :0.442884\n",
      "item = 3 and 4 similarity is :1.000000\n"
     ]
    },
    {
     "data": {
      "text/plain": [
       "0.5885847147620481"
      ]
     },
     "execution_count": 17,
     "metadata": {},
     "output_type": "execute_result"
    }
   ],
   "source": [
    "sgdest(data=data,user=2,item=3,sim=edlidist)"
   ]
  },
  {
   "cell_type": "code",
   "execution_count": 59,
   "metadata": {},
   "outputs": [
    {
     "data": {
      "text/plain": [
       "(5, 7)"
      ]
     },
     "execution_count": 59,
     "metadata": {},
     "output_type": "execute_result"
    }
   ],
   "source": []
  },
  {
   "cell_type": "code",
   "execution_count": null,
   "metadata": {
    "collapsed": true
   },
   "outputs": [],
   "source": []
  }
 ],
 "metadata": {
  "kernelspec": {
   "display_name": "Python 3",
   "language": "python",
   "name": "python3"
  },
  "language_info": {
   "codemirror_mode": {
    "name": "ipython",
    "version": 3
   },
   "file_extension": ".py",
   "mimetype": "text/x-python",
   "name": "python",
   "nbconvert_exporter": "python",
   "pygments_lexer": "ipython3",
   "version": "3.6.2"
  }
 },
 "nbformat": 4,
 "nbformat_minor": 2
}
