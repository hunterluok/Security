{
 "cells": [
  {
   "cell_type": "markdown",
   "metadata": {
    "collapsed": true
   },
   "source": [
    "# 基于EM算法的聚类"
   ]
  },
  {
   "cell_type": "markdown",
   "metadata": {},
   "source": [
    "# 1 数据分布服从高斯分布的情况"
   ]
  },
  {
   "cell_type": "code",
   "execution_count": 436,
   "metadata": {
    "collapsed": true
   },
   "outputs": [],
   "source": [
    "# 读取matlab格式的数据\n",
    "import scipy.io as sio  \n",
    "import matplotlib.pyplot as plt\n",
    "from pylab import *\n",
    "import numpy as np  \n",
    "%matplotlib inline"
   ]
  },
  {
   "cell_type": "code",
   "execution_count": 379,
   "metadata": {
    "collapsed": true
   },
   "outputs": [],
   "source": [
    "# path =\"kmeansdata.mat\"\n",
    "# the path of .mat data\n",
    "#data=sio.loadmat(path)['X']\n",
    "#data[:2]\n",
    "# np.save(\"emdata.npy\", data)"
   ]
  },
  {
   "cell_type": "code",
   "execution_count": 440,
   "metadata": {},
   "outputs": [
    {
     "data": {
      "text/plain": [
       "(100, 2)"
      ]
     },
     "execution_count": 440,
     "metadata": {},
     "output_type": "execute_result"
    }
   ],
   "source": [
    "data = np.load(\"emdata.npy\")\n",
    "data.shape"
   ]
  },
  {
   "cell_type": "code",
   "execution_count": 441,
   "metadata": {},
   "outputs": [
    {
     "data": {
      "text/plain": [
       "<matplotlib.collections.PathCollection at 0x1254bfa58>"
      ]
     },
     "execution_count": 441,
     "metadata": {},
     "output_type": "execute_result"
    },
    {
     "data": {
      "image/png": "[encoded data removed]",
      "text/plain": [
       "<matplotlib.figure.Figure at 0x125573630>"
      ]
     },
     "metadata": {},
     "output_type": "display_data"
    }
   ],
   "source": [
    "plt.scatter(data[:, 0], data[:, 1])"
   ]
  },
  {
   "cell_type": "code",
   "execution_count": 442,
   "metadata": {
    "scrolled": true
   },
   "outputs": [],
   "source": [
    "# 多元高斯分布\n",
    "d1 = np.random.multivariate_normal(mean=[0,0], cov=[[1, 0], [0,1]], size = 100)"
   ]
  },
  {
   "cell_type": "code",
   "execution_count": 471,
   "metadata": {},
   "outputs": [
    {
     "data": {
      "text/plain": [
       "array([[0.32383756, 0.        ],\n",
       "       [0.        , 0.32383756]])"
      ]
     },
     "execution_count": 471,
     "metadata": {},
     "output_type": "execute_result"
    }
   ],
   "source": [
    "m = 2 # 特征数量\n",
    "N = 100\n",
    "pi = 3.14\n",
    "k = 3\n",
    "#q = np.zeros((N, k), dtype=np.float32)\n",
    "q = np.random.uniform(size=(N, k), high=1, low=0)\n",
    "q = q / np.sum(q, axis=1, keepdims=True) # 将概率矩阵归一化\n",
    "\n",
    "ms = np.random.randn(k, m)\n",
    "\n",
    "\n",
    "# 构造k 个协方差矩阵进行计算\n",
    "covs = np.zeros((k, m, m))\n",
    "# 确保协方差矩阵中的每个元素的值都是大于0的。方差不可能小于0 的\n",
    "for i in range(k):\n",
    "    covs[i] = np.random.random(1) * np.eye(2)\n",
    "    \n",
    "\n",
    "# 各个类别的先验概率：\n",
    "priors = np.round(np.repeat(1/k, k), 2).reshape(k, 1)\n",
    "maxiters = 10\n",
    "iters = 0\n",
    "covs[1]"
   ]
  },
  {
   "cell_type": "code",
   "execution_count": 472,
   "metadata": {},
   "outputs": [
    {
     "name": "stdout",
     "output_type": "stream",
     "text": [
      "[[0.29540041 0.        ]\n",
      " [0.         0.29540041]]\n",
      "[[0.32383756 0.        ]\n",
      " [0.         0.32383756]]\n",
      "[[0.17562726 0.        ]\n",
      " [0.         0.17562726]]\n"
     ]
    }
   ],
   "source": [
    "for i in range(3):\n",
    "    print(covs[i])"
   ]
  },
  {
   "cell_type": "code",
   "execution_count": 473,
   "metadata": {
    "scrolled": true
   },
   "outputs": [],
   "source": [
    "# tx = np.matmul(np.random.randn(N, k), priors.reshape(k, 1))\n",
    "# np.sum(np.sum(np.multiply(q, np.log(q))))\n",
    "# const = -(m / 2) * np.log(2 * pi) - 0.5 * log(np.linalg.det(np.cov(covs[1])))\n",
    "# const\n",
    "# np.sum(q,axis=1)"
   ]
  },
  {
   "cell_type": "code",
   "execution_count": 474,
   "metadata": {},
   "outputs": [
    {
     "data": {
      "text/plain": [
       "'\\ni = 2\\ndets = np.linalg.det(covs[i])\\ninvs = np.linalg.inv(covs[i])\\nconst = -(m / 2) * np.log(2 * pi) - 0.5 * np.log(dets)\\nxm = data - ms[i]\\ntemp = const - 0.5 * np.diag(np.matmul(np.matmul(xm, invs), xm.T))\\ntemp.shape\\n'"
      ]
     },
     "execution_count": 474,
     "metadata": {},
     "output_type": "execute_result"
    }
   ],
   "source": [
    "\"\"\"\n",
    "i = 2\n",
    "dets = np.linalg.det(covs[i])\n",
    "invs = np.linalg.inv(covs[i])\n",
    "const = -(m / 2) * np.log(2 * pi) - 0.5 * np.log(dets)\n",
    "xm = data - ms[i]\n",
    "temp = const - 0.5 * np.diag(np.matmul(np.matmul(xm, invs), xm.T))\n",
    "temp.shape\n",
    "\"\"\""
   ]
  },
  {
   "cell_type": "code",
   "execution_count": 480,
   "metadata": {},
   "outputs": [],
   "source": [
    "iters = 0\n",
    "binf = np.repeat(0., 20)\n",
    "# binf[0] = -np.Inf\n",
    "while iters < 19:\n",
    "    iters += 1\n",
    "    # 计算高斯分布的数据：\n",
    "    #：\n",
    "    temp = np.zeros((N, 3))\n",
    "    for i in range(3):\n",
    "        dets = np.linalg.det(covs[i])\n",
    "        invs = np.linalg.inv(covs[i]+ 0.001)\n",
    "        \n",
    "        const = -(m / 2) * np.log(2 * pi) - 0.5 * log(dets)\n",
    "        xm = data - ms[i]\n",
    "        temp[:,i] = const - 0.5 * np.diag(np.matmul(np.matmul(xm, invs), xm.T))\n",
    "        \n",
    "    \n",
    "    # 计算似然:\n",
    "    temp1 = np.sum(np.matmul(q, np.log(priors)))\n",
    "    temp2 = np.sum(np.sum(np.multiply(q, temp)))\n",
    "    temp3 = np.sum(np.sum(np.multiply(q, np.log(q))))\n",
    "    binf[iters] = temp1 + temp2 - temp3\n",
    "    if np.abs(binf[iters] - binf[iters-1]) < 0.001:\n",
    "        break\n",
    "    \n",
    "    #temp = temp + priors.T\n",
    "    #temp_q = np.exp(temp - np.max(temp, axis=1, keepdims=True))\n",
    "    temp_q = np.multiply(np.exp(temp), priors.T)\n",
    "    q = temp_q / np.sum(temp_q, axis=1, keepdims=True)\n",
    "    \n",
    "    priors = np.sum(q, axis=0).reshape(k, 1)\n",
    "    #for i in range(k):\n",
    "    ms = np.matmul(data.T, q).T / (np.sum(q, keepdims=True, axis=0).T + 0.001)\n",
    "    \n",
    "    for i in range(k):\n",
    "        xm = data - ms[i]\n",
    "        # covs[i] = np.matmul(xm, xm.T)\n",
    "        covs[i] =  np.matmul(xm.T, np.multiply(xm, q[:,i:i+1]))\n",
    "        covs[i] = covs[i] / (np.sum(q, axis=0)[i] + 0.001)"
   ]
  },
  {
   "cell_type": "code",
   "execution_count": 481,
   "metadata": {
    "scrolled": true
   },
   "outputs": [],
   "source": [
    "# np.sum(temp_q / np.sum(temp_q, axis=1, keepdims=True),axis=1)\n",
    "# np.max(temp, axis=1, keepdims=True)"
   ]
  },
  {
   "cell_type": "code",
   "execution_count": 482,
   "metadata": {},
   "outputs": [
    {
     "data": {
      "text/plain": [
       "array([ 0.        , 81.07513245, 81.47602899, 81.93988878, 82.46680756,\n",
       "       83.02415526, 83.51498167, 83.82881638, 83.96694559, 84.01343045,\n",
       "       84.02763453, 84.03200755, 84.03341626, 84.03390241,  0.        ,\n",
       "        0.        ,  0.        ,  0.        ,  0.        ,  0.        ])"
      ]
     },
     "execution_count": 482,
     "metadata": {},
     "output_type": "execute_result"
    }
   ],
   "source": [
    "# np.argmax(q, axis=1)\n",
    "binf"
   ]
  },
  {
   "cell_type": "code",
   "execution_count": 483,
   "metadata": {},
   "outputs": [],
   "source": [
    "tx = np.argmax(q, axis=1)"
   ]
  },
  {
   "cell_type": "code",
   "execution_count": 484,
   "metadata": {},
   "outputs": [
    {
     "data": {
      "image/png": "[encoded data removed]",
      "text/plain": [
       "<matplotlib.figure.Figure at 0x1254672e8>"
      ]
     },
     "metadata": {},
     "output_type": "display_data"
    }
   ],
   "source": [
    "color=[\"red\", \"yellow\", \"blue\"]\n",
    "for i in range(N):\n",
    "    plt.scatter(data[i,0], data[i, 1], color=color[tx[i]])"
   ]
  },
  {
   "cell_type": "code",
   "execution_count": null,
   "metadata": {
    "collapsed": true
   },
   "outputs": [],
   "source": []
  },
  {
   "cell_type": "code",
   "execution_count": null,
   "metadata": {
    "collapsed": true
   },
   "outputs": [],
   "source": []
  }
 ],
 "metadata": {
  "kernelspec": {
   "display_name": "Python 3",
   "language": "python",
   "name": "python3"
  },
  "language_info": {
   "codemirror_mode": {
    "name": "ipython",
    "version": 3
   },
   "file_extension": ".py",
   "mimetype": "text/x-python",
   "name": "python",
   "nbconvert_exporter": "python",
   "pygments_lexer": "ipython3",
   "version": "3.6.2"
  }
 },
 "nbformat": 4,
 "nbformat_minor": 2
}
