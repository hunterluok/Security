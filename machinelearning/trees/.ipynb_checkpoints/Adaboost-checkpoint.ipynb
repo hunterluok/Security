{
 "cells": [
  {
   "cell_type": "code",
   "execution_count": 246,
   "metadata": {},
   "outputs": [],
   "source": [
    "import numpy as np\n",
    "from sklearn.datasets import load_iris\n",
    "from sklearn.metrics import classification_report"
   ]
  },
  {
   "cell_type": "code",
   "execution_count": 287,
   "metadata": {},
   "outputs": [],
   "source": [
    "data = load_iris()['data']\n",
    "label = load_iris()['target']\n",
    "data = data[label!=1]\n",
    "label = label[label != 1]\n",
    "label = np.array([1 if i == 2 else -1 for i in label])"
   ]
  },
  {
   "cell_type": "code",
   "execution_count": 288,
   "metadata": {},
   "outputs": [],
   "source": [
    "class AdaBoost:\n",
    "    def __init__(self, \n",
    "                 steps=10,\n",
    "                 iters=100):\n",
    "        self.steps = steps\n",
    "        self.iters = iters\n",
    "    \n",
    "    def pred_value(self, data, dim, threadvalue, thread_dirct):\n",
    "        m,n = data.shape\n",
    "        preds = np.ones((m, 1))\n",
    "        if thread_dirct == 'lt':\n",
    "            preds[data[:, dim] <= threadvalue] = -1.0\n",
    "        else:\n",
    "            preds[data[:, dim] > threadvalue] = -1.0\n",
    "        return preds\n",
    "\n",
    "    def base_model(self, data, label, D):\n",
    "        m, n = data.shape\n",
    "        numsteps = self.steps\n",
    "        beststump = {}\n",
    "        minerr = np.inf\n",
    "    \n",
    "        for i in range(n):\n",
    "            minvalue, maxvalue = data[:, i].min(), data[:, i].max()\n",
    "            step = (maxvalue - minvalue) / numsteps\n",
    "            #print(step)\n",
    "            for j in range(1, int(numsteps)+1):\n",
    "                for k in ['lt', 'rh']:\n",
    "                    threadvalues = minvalue + j * step\n",
    "                    preds = pred_value(data, i, threadvalues, k)\n",
    "                \n",
    "                    errarr = np.ones((m, 1))\n",
    "                    errarr[preds.flatten() == label] = 0 \n",
    "                    # 构造一个误差矩阵，当不相等时 为1 否则为1。\n",
    "                    weight_err = np.dot(D.T, errarr)[0][0]\n",
    "                #print(\"dim={},weighterr={},thread={},dir={}\".format(i,weight_err,threadvalues,k))\n",
    "                    if weight_err < minerr:\n",
    "                        minerr = weight_err\n",
    "                        beststump['bestclass'] = preds #.copy()\n",
    "                        beststump['best_dim'] = i\n",
    "                        beststump['best_threadvalue'] = threadvalues\n",
    "                        beststump['best_dir'] = k\n",
    "                        beststump['min_err'] = minerr\n",
    "                    #print(\"best_dim={},minerr={},best_thread={},best_dir={}\".format(i,minerr,threadvalue,k))\n",
    "        return beststump\n",
    "\n",
    "    def adaboost(self, data, label): # iters 决定弱分类器的个数\n",
    "        m, n = data.shape\n",
    "        D = np.ones((m, 1)) / m\n",
    "        model_agg = []\n",
    "        aggclassest = np.zeros((m, 1))\n",
    "    \n",
    "        i = 0\n",
    "        while i < self.iters:\n",
    "            i += 1\n",
    "            bestmodel = self.base_model(data, label, D)\n",
    "            model_agg.append(bestmodel)\n",
    "        \n",
    "            err = bestmodel['min_err']\n",
    "            print(\"iters {}, err is {}\".format(i, err))\n",
    "            alpha = 0.5 * np.log((1.0 - err) / max(err, 0.001))\n",
    "            bestmodel['alphas'] = alpha\n",
    "    \n",
    "            preds = bestmodel['bestclass']\n",
    "            temp = -1 * np.multiply(np.multiply(alpha, label.T), preds)\n",
    "            mid = np.multiply(D, np.exp(temp))\n",
    "            D = mid / sum(mid)\n",
    "        \n",
    "            aggclassest += np.multiply(alpha, preds)\n",
    "            aggerrors = np.sum(np.sign(aggclassest.flatten()) != label)\n",
    "            errrate = aggerrors / m\n",
    "            if errrate < 0.001:\n",
    "                break\n",
    "        return model_agg\n",
    "\n",
    "    @staticmethod\n",
    "    def adaclassify(data, classifierArr, label):\n",
    "        m = data.shape[0]\n",
    "        aggclassset = np.zeros((m, 1))\n",
    "        for i in range(len(classifierArr)):\n",
    "            preds = pred_value(data, classifierArr[i]['best_dim'], classifierArr[i]['best_threadvalue'],classifierArr[i]['best_dir'])\n",
    "            aggclassset += np.multiply(classifierArr[i]['alphas'], preds)\n",
    "        #print(aggclassset)\n",
    "        last_pred = np.sign(aggclassset)\n",
    "        err = np.sum((last_pred != label)) / m\n",
    "        return aggclassset,last_pred, err"
   ]
  },
  {
   "cell_type": "code",
   "execution_count": 289,
   "metadata": {},
   "outputs": [],
   "source": [
    "mymodel = AdaBoost()"
   ]
  },
  {
   "cell_type": "code",
   "execution_count": 290,
   "metadata": {},
   "outputs": [
    {
     "name": "stdout",
     "output_type": "stream",
     "text": [
      "iters 1, err is 0.0\n",
      "              precision    recall  f1-score   support\n",
      "\n",
      "          -1       1.00      1.00      1.00        50\n",
      "           1       1.00      1.00      1.00        50\n",
      "\n",
      "    accuracy                           1.00       100\n",
      "   macro avg       1.00      1.00      1.00       100\n",
      "weighted avg       1.00      1.00      1.00       100\n",
      "\n"
     ]
    }
   ],
   "source": [
    "models = mymodel.adaboost(data, label)\n",
    "agg_pred, last_pred, b = mymodel.adaclassify(data, models, label)\n",
    "print(classification_report(label, re['last_preds'][0].flatten()))"
   ]
  },
  {
   "cell_type": "code",
   "execution_count": 291,
   "metadata": {},
   "outputs": [
    {
     "data": {
      "image/png": "[encoded data removed]",
      "text/plain": [
       "<Figure size 432x288 with 1 Axes>"
      ]
     },
     "metadata": {
      "needs_background": "light"
     },
     "output_type": "display_data"
    },
    {
     "name": "stdout",
     "output_type": "stream",
     "text": [
      "the area under the cureve is : 1.0\n"
     ]
    }
   ],
   "source": [
    "def plot_roc(preds, classlabels):\n",
    "    import matplotlib.pyplot as plt\n",
    "    cur = (1.0, 1.0)\n",
    "    ySum = 0.\n",
    "    numPosClas = sum(classlabels == 1.0)\n",
    "    yStep = 1 / float(numPosClas)\n",
    "    xStep = 1 / float(len(classlabels)-numPosClas)\n",
    "    \n",
    "    temps = preds.reshape(-1)\n",
    "    sortedindices = temps.argsort()\n",
    "    \n",
    "    fig = plt.figure()\n",
    "    fig.clf()\n",
    "    ax = plt.subplot(1,1,1)\n",
    "    \n",
    "    for index in sortedindices:\n",
    "        if classlabels[index]==1.0:\n",
    "            delX = 0\n",
    "            delY = yStep\n",
    "        else:\n",
    "            delX = xStep\n",
    "            delY = 0\n",
    "            ySum += cur[1]\n",
    "        ax.plot([cur[0],cur[0]-delX],[cur[1],cur[1]-delY],c='r')\n",
    "        cur = (cur[0]-delX,cur[1]-delY)\n",
    "    ax.plot([0,1],[0,1],'b--')\n",
    "    ax.axis([0,1,0,1])\n",
    "    plt.show()\n",
    "    print(\"the area under the cureve is :\",ySum * xStep)\n",
    "    \n",
    "# modelss, predss = (data,label)\n",
    "plot_roc(last_pred,label)"
   ]
  },
  {
   "cell_type": "code",
   "execution_count": 266,
   "metadata": {},
   "outputs": [],
   "source": [
    "#temp = predss.A.reshape(-1)\n",
    "#xx = temp.argsort()"
   ]
  },
  {
   "cell_type": "code",
   "execution_count": 165,
   "metadata": {
    "scrolled": false
   },
   "outputs": [
    {
     "data": {
      "image/png": "[encoded data removed]",
      "text/plain": [
       "<matplotlib.figure.Figure at 0x112d15400>"
      ]
     },
     "metadata": {},
     "output_type": "display_data"
    },
    {
     "name": "stdout",
     "output_type": "stream",
     "text": [
      "the area under the cureve is : 0.8568576469495774\n"
     ]
    }
   ],
   "source": [
    "import matplotlib.pyplot as plt\n",
    "cur = (1.0,1.0)\n",
    "ySum = 0.\n",
    "numPosClas = sum(array(tl)==1.0)\n",
    "yStep = 1/float(numPosClas)\n",
    "xStep = 1/float(len(tl)-numPosClas)\n",
    "    \n",
    "temps = predss.A.reshape(-1)\n",
    "sds = temps.argsort()\n",
    "    \n",
    "fig = plt.figure(figsize=(12,8))\n",
    "fig.clf()\n",
    "ax = plt.subplot(1,1,1)\n",
    "    \n",
    "for index in sds:\n",
    "    #print(index)\n",
    "    if tl[index]==1.0:\n",
    "        delX = 0\n",
    "        delY = yStep\n",
    "    else:\n",
    "        delX = xStep\n",
    "        delY = 0\n",
    "        ySum += cur[1]\n",
    "    ax.plot([cur[0],cur[0]-delX],[cur[1],cur[1]-delY],c='r')\n",
    "    cur = (cur[0]-delX,cur[1]-delY)\n",
    "ax.plot([0,1],[0,1],'b--')\n",
    "ax.axis([0,1,0,1])\n",
    "plt.show()\n",
    "print(\"the area under the cureve is :\",ySum * xStep)"
   ]
  },
  {
   "cell_type": "code",
   "execution_count": null,
   "metadata": {
    "collapsed": true
   },
   "outputs": [],
   "source": []
  },
  {
   "cell_type": "code",
   "execution_count": null,
   "metadata": {
    "collapsed": true
   },
   "outputs": [],
   "source": []
  },
  {
   "cell_type": "code",
   "execution_count": null,
   "metadata": {
    "collapsed": true
   },
   "outputs": [],
   "source": []
  },
  {
   "cell_type": "code",
   "execution_count": null,
   "metadata": {
    "collapsed": true
   },
   "outputs": [],
   "source": []
  }
 ],
 "metadata": {
  "kernelspec": {
   "display_name": "Python 3",
   "language": "python",
   "name": "python3"
  },
  "language_info": {
   "codemirror_mode": {
    "name": "ipython",
    "version": 3
   },
   "file_extension": ".py",
   "mimetype": "text/x-python",
   "name": "python",
   "nbconvert_exporter": "python",
   "pygments_lexer": "ipython3",
   "version": "3.6.8"
  }
 },
 "nbformat": 4,
 "nbformat_minor": 2
}
