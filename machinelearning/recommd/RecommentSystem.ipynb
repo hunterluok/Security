{
 "cells": [
  {
   "cell_type": "markdown",
   "metadata": {},
   "source": [
    "# 推荐算法"
   ]
  },
  {
   "cell_type": "code",
   "execution_count": 168,
   "metadata": {},
   "outputs": [
    {
     "data": {
      "text/plain": [
       "array([[5, 4, 0, 3, 0],\n",
       "       [4, 2, 4, 3, 1],\n",
       "       [5, 0, 5, 5, 3],\n",
       "       [4, 1, 0, 0, 1]])"
      ]
     },
     "execution_count": 168,
     "metadata": {},
     "output_type": "execute_result"
    }
   ],
   "source": [
    "import numpy as np\n",
    "data = np.array([[5, 4, 0, 3, 0],\n",
    "       [4, 2, 4, 3, 1],\n",
    "       [5, 0, 5, 5, 3],\n",
    "       [4, 1, 0, 0, 1]])\n",
    "data\n",
    "# 行为用户 列为 评分"
   ]
  },
  {
   "cell_type": "markdown",
   "metadata": {},
   "source": [
    "# 1基于用户的算法"
   ]
  },
  {
   "cell_type": "code",
   "execution_count": 169,
   "metadata": {},
   "outputs": [
    {
     "data": {
      "text/plain": [
       "array([[ 1.        ,  0.28317606, -0.15861032,  0.63444127],\n",
       "       [ 0.28317606,  1.        ,  0.66513304,  0.25671802],\n",
       "       [-0.15861032,  0.66513304,  1.        ,  0.09722222],\n",
       "       [ 0.63444127,  0.25671802,  0.09722222,  1.        ]])"
      ]
     },
     "execution_count": 169,
     "metadata": {},
     "output_type": "execute_result"
    }
   ],
   "source": [
    "#  。计算相似矩阵\n",
    "corr = np.corrcoef(data)\n",
    "corr"
   ]
  },
  {
   "cell_type": "code",
   "execution_count": 171,
   "metadata": {},
   "outputs": [
    {
     "data": {
      "text/plain": [
       "[('3', 3.159588963050062), ('2', 1.5129831727316518)]"
      ]
     },
     "execution_count": 171,
     "metadata": {},
     "output_type": "execute_result"
    }
   ],
   "source": [
    "def user_base_recomd(data, user, corr, topk=2):\n",
    "    m, n = data.shape\n",
    "    not_points = [i for i, value in enumerate(data[user]) if value==0]\n",
    "    if not not_points:\n",
    "        raise ValueError(\"The User don't need any recomd...\")\n",
    "    \n",
    "    result = {}\n",
    "    for not_point in not_points:\n",
    "        score = 0.0\n",
    "        for index, value in enumerate(data[:, not_point]):\n",
    "            if value !=0 :\n",
    "                score += value * corr[index, user]\n",
    "        result[str(not_point)] = score\n",
    "    results = sorted(result.items(), key=lambda row: row[1], reverse=True)\n",
    "    return results[:topk]\n",
    "    \n",
    "user_base_recomd(data, user=3, corr=corr, topk=2)"
   ]
  },
  {
   "cell_type": "markdown",
   "metadata": {},
   "source": [
    "# 2基于物品的推荐算法"
   ]
  },
  {
   "cell_type": "code",
   "execution_count": 172,
   "metadata": {},
   "outputs": [],
   "source": [
    "item_corr = np.corrcoef(data.T)\n",
    "# 物品间的相似度系数\n",
    "from logging import log\n",
    "import logging\n",
    "# logging.info(\"hehe\")"
   ]
  },
  {
   "cell_type": "code",
   "execution_count": 173,
   "metadata": {},
   "outputs": [],
   "source": [
    "def item_base_recomd(data, user, corr=item_corr, topk=2):\n",
    "    m, n =data.shape\n",
    "    if user > m-1:\n",
    "        raise ValueError(\"The value of user must < {}, but {} > {}\".format(m, user, m-1))\n",
    "\n",
    "    not_points = [index for index, value in enumerate(data[user]) if value==0]\n",
    "    if not not_points:\n",
    "        raise KeyError(\"E, not need ...\")\n",
    "    logging.info(\"not points {}\".format(not_points))\n",
    "    \n",
    "    result = {}\n",
    "    for not_point in not_points:\n",
    "        score = 0.0\n",
    "        for index, point in enumerate(data[user]):\n",
    "            if point != 0:\n",
    "                score += point * corr[not_point, index]\n",
    "        result[not_point] = score\n",
    "        # not_point 可以不用str\n",
    "    result = sorted(result.items(), key=lambda row: row[1], reverse=True)\n",
    "    \n",
    "    if len(result) <=topk:\n",
    "        return result\n",
    "    else:\n",
    "        return result[:topk]"
   ]
  },
  {
   "cell_type": "code",
   "execution_count": 174,
   "metadata": {},
   "outputs": [
    {
     "ename": "KeyError",
     "evalue": "'E, not need ...'",
     "output_type": "error",
     "traceback": [
      "\u001b[0;31m---------------------------------------------------------------------------\u001b[0m",
      "\u001b[0;31mKeyError\u001b[0m                                  Traceback (most recent call last)",
      "\u001b[0;32m<ipython-input-174-a2b7c4c3f877>\u001b[0m in \u001b[0;36m<module>\u001b[0;34m()\u001b[0m\n\u001b[0;32m----> 1\u001b[0;31m \u001b[0mprint\u001b[0m\u001b[0;34m(\u001b[0m\u001b[0;34m\"item_base recom\"\u001b[0m\u001b[0;34m,\u001b[0m \u001b[0mitem_base_recomd\u001b[0m\u001b[0;34m(\u001b[0m\u001b[0mdata\u001b[0m\u001b[0;34m,\u001b[0m \u001b[0muser\u001b[0m\u001b[0;34m=\u001b[0m\u001b[0;36m1\u001b[0m\u001b[0;34m,\u001b[0m \u001b[0mtopk\u001b[0m\u001b[0;34m=\u001b[0m\u001b[0;36m1\u001b[0m\u001b[0;34m)\u001b[0m\u001b[0;34m)\u001b[0m\u001b[0;34m\u001b[0m\u001b[0m\n\u001b[0m\u001b[1;32m      2\u001b[0m \u001b[0mprint\u001b[0m\u001b[0;34m(\u001b[0m\u001b[0;34m\"user_bace recom\"\u001b[0m\u001b[0;34m,\u001b[0m \u001b[0muser_base_recomd\u001b[0m\u001b[0;34m(\u001b[0m\u001b[0mdata\u001b[0m\u001b[0;34m,\u001b[0m \u001b[0muser\u001b[0m\u001b[0;34m=\u001b[0m\u001b[0;36m1\u001b[0m\u001b[0;34m,\u001b[0m \u001b[0mcorr\u001b[0m\u001b[0;34m=\u001b[0m\u001b[0mcorr\u001b[0m\u001b[0;34m,\u001b[0m \u001b[0mtopk\u001b[0m\u001b[0;34m=\u001b[0m\u001b[0;36m1\u001b[0m\u001b[0;34m)\u001b[0m\u001b[0;34m)\u001b[0m\u001b[0;34m\u001b[0m\u001b[0m\n\u001b[1;32m      3\u001b[0m \u001b[0;34m\u001b[0m\u001b[0m\n\u001b[1;32m      4\u001b[0m \u001b[0;31m# 两者推荐的结论不一致。\u001b[0m\u001b[0;34m\u001b[0m\u001b[0;34m\u001b[0m\u001b[0m\n",
      "\u001b[0;32m<ipython-input-173-5b108fd43cba>\u001b[0m in \u001b[0;36mitem_base_recomd\u001b[0;34m(data, user, corr, topk)\u001b[0m\n\u001b[1;32m      6\u001b[0m     \u001b[0mnot_points\u001b[0m \u001b[0;34m=\u001b[0m \u001b[0;34m[\u001b[0m\u001b[0mindex\u001b[0m \u001b[0;32mfor\u001b[0m \u001b[0mindex\u001b[0m\u001b[0;34m,\u001b[0m \u001b[0mvalue\u001b[0m \u001b[0;32min\u001b[0m \u001b[0menumerate\u001b[0m\u001b[0;34m(\u001b[0m\u001b[0mdata\u001b[0m\u001b[0;34m[\u001b[0m\u001b[0muser\u001b[0m\u001b[0;34m]\u001b[0m\u001b[0;34m)\u001b[0m \u001b[0;32mif\u001b[0m \u001b[0mvalue\u001b[0m\u001b[0;34m==\u001b[0m\u001b[0;36m0\u001b[0m\u001b[0;34m]\u001b[0m\u001b[0;34m\u001b[0m\u001b[0m\n\u001b[1;32m      7\u001b[0m     \u001b[0;32mif\u001b[0m \u001b[0;32mnot\u001b[0m \u001b[0mnot_points\u001b[0m\u001b[0;34m:\u001b[0m\u001b[0;34m\u001b[0m\u001b[0m\n\u001b[0;32m----> 8\u001b[0;31m         \u001b[0;32mraise\u001b[0m \u001b[0mKeyError\u001b[0m\u001b[0;34m(\u001b[0m\u001b[0;34m\"E, not need ...\"\u001b[0m\u001b[0;34m)\u001b[0m\u001b[0;34m\u001b[0m\u001b[0m\n\u001b[0m\u001b[1;32m      9\u001b[0m     \u001b[0mlogging\u001b[0m\u001b[0;34m.\u001b[0m\u001b[0minfo\u001b[0m\u001b[0;34m(\u001b[0m\u001b[0;34m\"not points {}\"\u001b[0m\u001b[0;34m.\u001b[0m\u001b[0mformat\u001b[0m\u001b[0;34m(\u001b[0m\u001b[0mnot_points\u001b[0m\u001b[0;34m)\u001b[0m\u001b[0;34m)\u001b[0m\u001b[0;34m\u001b[0m\u001b[0m\n\u001b[1;32m     10\u001b[0m \u001b[0;34m\u001b[0m\u001b[0m\n",
      "\u001b[0;31mKeyError\u001b[0m: 'E, not need ...'"
     ]
    }
   ],
   "source": [
    "print(\"item_base recom\", item_base_recomd(data, user=1, topk=1))\n",
    "print(\"user_bace recom\", user_base_recomd(data, user=1, corr=corr, topk=1))\n",
    "\n",
    "# 两者推荐的结论不一致。"
   ]
  },
  {
   "cell_type": "markdown",
   "metadata": {},
   "source": [
    "# 3基于余弦相似度的推荐计算"
   ]
  },
  {
   "cell_type": "code",
   "execution_count": 175,
   "metadata": {
    "collapsed": true
   },
   "outputs": [],
   "source": [
    "# test \n",
    "data = np.array([[4, 3, 0, 5, 0], [5, 0, 4, 4, 0], [4, 0, 5, 0, 3],\n",
    "                [2, 3, 0, 1, 0], [0, 4, 2, 0, 5]])"
   ]
  },
  {
   "cell_type": "code",
   "execution_count": 176,
   "metadata": {
    "collapsed": true
   },
   "outputs": [],
   "source": [
    "def calu_cossim(vec1, vec2):\n",
    "    v12_doc = np.sum(np.dot(vec1, vec2))\n",
    "    vec1_norm = np.sqrt(np.sum(np.power(vec1, 2)))\n",
    "    vec2_norm = np.sqrt(np.sum(np.power(vec2, 2)))\n",
    "    return  v12_doc / (vec1_norm * vec2_norm + 0.01)"
   ]
  },
  {
   "cell_type": "code",
   "execution_count": 182,
   "metadata": {},
   "outputs": [],
   "source": [
    "def calu_cossim_matrix(data, func=calu_cossim):\n",
    "    m, n = data.shape\n",
    "    cos_matirx = np.zeros((m, m))\n",
    "    for i in range(0, m):\n",
    "        for j in range(i+1, m):\n",
    "            cos_matirx[j, i] = calu_cossim(data[i], data[j])\n",
    "    return np.round(cos_matirx, 2)\n",
    "cos_matrix = calu_cossim_matrix(data, func=calu_cossim)"
   ]
  },
  {
   "cell_type": "code",
   "execution_count": 183,
   "metadata": {},
   "outputs": [],
   "source": [
    "item_cossim_matrix = calu_cossim_matrix(data.T, calu_cossim)"
   ]
  },
  {
   "cell_type": "code",
   "execution_count": 184,
   "metadata": {},
   "outputs": [
    {
     "name": "stdout",
     "output_type": "stream",
     "text": [
      "item_base recom [(2, 3.64), (4, 2.81)]\n",
      "user_bace recom [('2', 5.1), ('4', 2.21)]\n"
     ]
    }
   ],
   "source": [
    "print(\"item_base recom\", item_base_recomd(data, user=0, corr=item_cossim_matrix, topk=2))\n",
    "print(\"user_bace recom\", user_base_recomd(data, user=0, corr=cos_matrix, topk=2))\n",
    "# 这里使用不同的相似性矩阵，不然会出错的, 利用下三三角存储 也会减少计算量"
   ]
  },
  {
   "cell_type": "code",
   "execution_count": 185,
   "metadata": {},
   "outputs": [
    {
     "data": {
      "text/plain": [
       "array([[0.  , 0.  , 0.  , 0.  , 0.  ],\n",
       "       [0.75, 0.  , 0.  , 0.  , 0.  ],\n",
       "       [0.32, 0.75, 0.  , 0.  , 0.  ],\n",
       "       [0.83, 0.5 , 0.3 , 0.  , 0.  ],\n",
       "       [0.25, 0.16, 0.53, 0.48, 0.  ]])"
      ]
     },
     "execution_count": 185,
     "metadata": {},
     "output_type": "execute_result"
    }
   ],
   "source": [
    "cos_matrix"
   ]
  },
  {
   "cell_type": "code",
   "execution_count": null,
   "metadata": {
    "collapsed": true
   },
   "outputs": [],
   "source": []
  }
 ],
 "metadata": {
  "kernelspec": {
   "display_name": "Python 3",
   "language": "python",
   "name": "python3"
  },
  "language_info": {
   "codemirror_mode": {
    "name": "ipython",
    "version": 3
   },
   "file_extension": ".py",
   "mimetype": "text/x-python",
   "name": "python",
   "nbconvert_exporter": "python",
   "pygments_lexer": "ipython3",
   "version": "3.6.2"
  }
 },
 "nbformat": 4,
 "nbformat_minor": 2
}
