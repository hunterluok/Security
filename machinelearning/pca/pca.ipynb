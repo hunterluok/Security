{
 "cells": [
  {
   "cell_type": "code",
   "execution_count": 8,
   "metadata": {},
   "outputs": [
    {
     "data": {
      "text/plain": [
       "array([[5.1, 3.5, 1.4, 0.2],\n       [4.9, 3. , 1.4, 0.2],\n       [4.7, 3.2, 1.3, 0.2],\n       [4.6, 3.1, 1.5, 0.2]])"
      ]
     },
     "execution_count": 8,
     "metadata": {},
     "output_type": "execute_result"
    }
   ],
   "source": [
    "import os\n",
    "import numpy as np\n",
    "from sklearn.datasets import  load_iris\n",
    "data = load_iris()['data']\n",
    "data[:4]"
   ]
  },
  {
   "cell_type": "code",
   "execution_count": 3,
   "metadata": {},
   "outputs": [],
   "source": [
    "def get_data(path='iris.data.txt'):\n",
    "    with open(path,'r') as f:\n",
    "        data = []\n",
    "        for i in f.readlines():\n",
    "            line = [j.strip() for j in i.split(',')[:4]]\n",
    "            try:\n",
    "                temp = [float(i) for i in line]\n",
    "            except:     # nice 利用异常机制 捕获这种错误。\n",
    "                print(line)\n",
    "                continue\n",
    "            data.append(temp)\n",
    "        return data"
   ]
  },
  {
   "cell_type": "code",
   "execution_count": 5,
   "metadata": {},
   "outputs": [
    {
     "name": "stdout",
     "output_type": "stream",
     "text": [
      "[[ 0.68112222 -0.04215111  1.26582     0.51282889]\n [-0.04215111  0.18871289 -0.32745867 -0.12082844]\n [ 1.26582    -0.32745867  3.09550267  1.286972  ]\n [ 0.51282889 -0.12082844  1.286972    0.57713289]]\n"
     ]
    }
   ],
   "source": [
    "dm = np.mean(data, axis=0)\n",
    "nd = data - dm\n",
    "cov = 1 / len(nd) * np.matmul(nd.T, nd)  # 构造协方差矩阵 \n",
    "## covMat = np.cov(meanRemoved, rowvar=0) #直接构建协方差矩阵。\n",
    "print(cov)"
   ]
  },
  {
   "cell_type": "code",
   "execution_count": 6,
   "metadata": {},
   "outputs": [
    {
     "data": {
      "text/plain": [
       "array([[ 0.36138659, -0.65658877],\n       [-0.08452251, -0.73016143],\n       [ 0.85667061,  0.17337266],\n       [ 0.3582892 ,  0.07548102]])"
      ]
     },
     "execution_count": 6,
     "metadata": {},
     "output_type": "execute_result"
    }
   ],
   "source": [
    "from numpy import linalg\n",
    "eigVals, eigVects = linalg.eig(cov)\n",
    "eigVects[:, :2]"
   ]
  },
  {
   "cell_type": "code",
   "execution_count": 7,
   "metadata": {},
   "outputs": [
    {
     "data": {
      "text/plain": [
       "array([[5.08303897, 3.51741393, 1.40321372, 0.21353169],\n       [4.7462619 , 3.15749994, 1.46356177, 0.24024592],\n       [4.70411871, 3.1956816 , 1.30821697, 0.17518015],\n       [4.6422117 , 3.05696697, 1.46132981, 0.23973218]])"
      ]
     },
     "execution_count": 7,
     "metadata": {},
     "output_type": "execute_result"
    }
   ],
   "source": [
    "# pnd 为取前两个主成分的数据\n",
    "pnd = np.matmul(nd, eigVects[:,:2])\n",
    "# pnd+dm - data\n",
    "pnd = np.asarray(pnd)\n",
    "# 数据重构\n",
    "recondata = np.matmul(pnd, eigVects[:,:2].T) + dm\n",
    "recondata[:4]"
   ]
  },
  {
   "cell_type": "code",
   "execution_count": 10,
   "metadata": {},
   "outputs": [
    {
     "data": {
      "text/plain": [
       "<matplotlib.collections.PathCollection at 0x1232b3780>"
      ]
     },
     "execution_count": 10,
     "metadata": {},
     "output_type": "execute_result"
    },
    {
     "data": {
      "image/png": "[encoded data removed]",
      "text/plain": [
       "<matplotlib.figure.Figure at 0x1231a7f98>"
      ]
     },
     "metadata": {},
     "output_type": "display_data"
    }
   ],
   "source": [
    "import matplotlib.pyplot as plt\n",
    "%matplotlib inline\n",
    "plt.scatter(pnd[:,0], pnd[:,1], color='r', marker='*')"
   ]
  },
  {
   "cell_type": "code",
   "execution_count": 15,
   "metadata": {},
   "outputs": [],
   "source": [
    "from numpy import *\n",
    "def pca(dataMat, topNfeat=9999999):\n",
    "    meanVals = mean(dataMat, axis=0)\n",
    "    meanRemoved = dataMat - meanVals \n",
    "    covMat = np.cov(meanRemoved, rowvar=0)\n",
    "    eigVals, eigVects = linalg.eig(mat(covMat))\n",
    "    eigValInd = argsort(eigVals)             #sort, sort goes smallest to largest\n",
    "    eigValInd = eigValInd[ : -(topNfeat+1) : -1]  #cut off unwanted dimensions\n",
    "    redEigVects = eigVects[:, eigValInd]       #reorganize eig vects largest to smallest\n",
    "    lowDDataMat = meanRemoved * redEigVects#transform data into new dimensions\n",
    "    reconMat = (lowDDataMat * redEigVects.T) + meanVals\n",
    "    return lowDDataMat, reconMat\n",
    "lowd, rm = pca(data, topNfeat=2)"
   ]
  },
  {
   "cell_type": "code",
   "execution_count": 16,
   "metadata": {
    "collapsed": true
   },
   "outputs": [],
   "source": [
    "def replaceNanWithMean(): \n",
    "    datMat = loadDataSet('secom.data', ' ')\n",
    "    numFeat = shape(datMat)[1]\n",
    "    for i in range(numFeat):\n",
    "        meanVal = mean(datMat[nonzero(~isnan(datMat[:,i].A))[0],i]) #values that are not NaN (a number)\n",
    "        datMat[nonzero(isnan(datMat[:,i].A))[0],i] = meanVal  #set NaN values to mean\n",
    "    return datMat"
   ]
  },
  {
   "cell_type": "code",
   "execution_count": null,
   "metadata": {
    "collapsed": true
   },
   "outputs": [],
   "source": []
  }
 ],
 "metadata": {
  "kernelspec": {
   "display_name": "Python 3",
   "language": "python",
   "name": "python3"
  },
  "language_info": {
   "codemirror_mode": {
    "name": "ipython",
    "version": 3
   },
   "file_extension": ".py",
   "mimetype": "text/x-python",
   "name": "python",
   "nbconvert_exporter": "python",
   "pygments_lexer": "ipython3",
   "version": "3.6.2"
  }
 },
 "nbformat": 4,
 "nbformat_minor": 2
}
