{
 "cells": [
  {
   "cell_type": "code",
   "execution_count": 25,
   "metadata": {
    "collapsed": true
   },
   "outputs": [],
   "source": [
    "from numpy import *"
   ]
  },
  {
   "cell_type": "code",
   "execution_count": 26,
   "metadata": {
    "collapsed": true
   },
   "outputs": [],
   "source": [
    "A  = matrix([[0.5,0.2,0.3],[0.3,0.5,0.2],[0.2,0.3,0.5]])\n",
    "#A  = matrix([[0.5,0.3,0.2],[0.3,0.2,0.5],[0.2,0.5,0.3]])\n",
    "B = matrix([[0.5,0.5],[0.4,0.6],[0.7,0.3]])\n",
    "pi = matrix([0.2,0.4,0.4]).T"
   ]
  },
  {
   "cell_type": "code",
   "execution_count": 27,
   "metadata": {},
   "outputs": [
    {
     "name": "stdout",
     "output_type": "stream",
     "text": [
      "[[ 0.5  0.2  0.3]\n",
      " [ 0.3  0.5  0.2]\n",
      " [ 0.2  0.3  0.5]] \n",
      " [[ 0.5  0.5]\n",
      " [ 0.4  0.6]\n",
      " [ 0.7  0.3]] \n",
      " [[ 0.2]\n",
      " [ 0.4]\n",
      " [ 0.4]]\n"
     ]
    }
   ],
   "source": [
    "print(A,'\\n',B,'\\n',pi)"
   ]
  },
  {
   "cell_type": "code",
   "execution_count": 28,
   "metadata": {
    "collapsed": true
   },
   "outputs": [],
   "source": [
    "o = ['1','0','1']"
   ]
  },
  {
   "cell_type": "code",
   "execution_count": 29,
   "metadata": {},
   "outputs": [
    {
     "name": "stdout",
     "output_type": "stream",
     "text": [
      "初始转移矩阵的值 \n",
      "[[ 0.1 ]\n",
      " [ 0.16]\n",
      " [ 0.28]],\n",
      "^^^^^^^^^^\n",
      "\n",
      "[[0.027999999999999997], [0.05039999999999999], [0.041999999999999996]]\n",
      "[[0.007559999999999999], [0.010079999999999999], [0.014699999999999998]]\n"
     ]
    }
   ],
   "source": [
    "for i in range(len(o)):\n",
    "    if o[i]=='1' and i==0:\n",
    "        t1 = multiply(B[:,0],pi)\n",
    "        print(\"初始转移矩阵的值 \\n{},\\n{}\\n\".format(t1,'^'*10))\n",
    "    \n",
    "    if o[i]=='0':\n",
    "        inter_temp = []\n",
    "        for j in range(3):\n",
    "            temp = multiply(t1,A[:,j])\n",
    "            temp = max(temp) * B[j,1]\n",
    "            inter_temp.append(temp.tolist()[0]) # 使得矩阵的维度 为2维的\n",
    "            #print(\"**\"*10)\n",
    "        print(inter_temp)\n",
    "        \n",
    "    if o[i]=='1'and i!=0:\n",
    "        inter_temp2 = []\n",
    "        for j in range(3):\n",
    "            temp = multiply(inter_temp,A[:,j])\n",
    "            temp = max(temp) * B[j,0]\n",
    "            inter_temp2.append(temp.tolist()[0]) # 使得矩阵的维度 为2维的\n",
    "            #print(\"**\"*10)\n",
    "        print(inter_temp2)\n",
    "        "
   ]
  },
  {
   "cell_type": "code",
   "execution_count": 64,
   "metadata": {},
   "outputs": [
    {
     "name": "stdout",
     "output_type": "stream",
     "text": [
      "初始转移矩阵的值 \n",
      "[[ 0.1 ]\n",
      " [ 0.16]\n",
      " [ 0.28]],\n",
      "^^^^^^^^^^\n",
      "\n",
      "**********\n",
      "[[0.027999999999999997], [0.05039999999999999], [0.041999999999999996]] **********\n",
      "[[0.007559999999999999], [0.010079999999999999], [0.014699999999999998]] **********\n"
     ]
    }
   ],
   "source": [
    "m,n = A.shape\n",
    "resu ={}\n",
    "\n",
    "for i in range(len(o)):\n",
    "    if o[i]=='1' and i==0:\n",
    "        tes = multiply(B[:,0],pi)\n",
    "        print(\"初始转移矩阵的值 \\n{},\\n{}\\n\".format(tes,'^'*10))\n",
    "        print('*'*10)\n",
    "        resu.setdefault(i,tes.argmax()+1)\n",
    "    \n",
    "    else:\n",
    "        temp_dir = {}\n",
    "        inter_temp = []\n",
    "        \n",
    "        for j in range(n):\n",
    "            temp = multiply(tes,A[:,j])\n",
    "            \n",
    "            max_value = max(temp)  \n",
    "            temp_dir.setdefault(temp.argmax()+1,max_value)\n",
    "            \n",
    "            if o[i]=='0':\n",
    "                temp = max_value * B[j,1]\n",
    "            else:\n",
    "                temp = max_value * B[j,0]\n",
    "            inter_temp.append(temp.tolist()[0]) # 使得矩阵的维度 为2维的\n",
    "        \n",
    "        temp_dir = sorted(temp_dir.items(),key=lambda row:row[1],reverse=True)\n",
    "        \n",
    "        resu.setdefault(i,temp_dir[0][0])  \n",
    "        tes = inter_temp\n",
    "        \n",
    "        print(tes,'*'*10)"
   ]
  },
  {
   "cell_type": "code",
   "execution_count": 98,
   "metadata": {
    "collapsed": true
   },
   "outputs": [],
   "source": [
    "def verbi_algorith(A,B,pi,o):\n",
    "    m,n = A.shape\n",
    "    resu ={}\n",
    "    re_p = []\n",
    "    \n",
    "    for i in range(len(o)):\n",
    "        if o[i]=='1' and i==0:\n",
    "            tes = multiply(B[:,0],pi)\n",
    "            #print(\"初始转移矩阵的值 \\n{},\\n{}\\n\".format(tes,'^'*10))\n",
    "            #print('*'*10)\n",
    "            \n",
    "            resu.setdefault(i+1,tes.argmax()+1)\n",
    "            re_p.append(tes)\n",
    "    \n",
    "        else:\n",
    "            temp_dir = {}\n",
    "            inter_temp = []\n",
    "        \n",
    "            for j in range(n):\n",
    "                temp = multiply(tes,A[:,j])\n",
    "            \n",
    "                max_value = max(temp)  \n",
    "                temp_dir.setdefault(temp.argmax()+1,max_value)\n",
    "            \n",
    "                if o[i]=='0':\n",
    "                    temp = max_value * B[j,1]\n",
    "                else:\n",
    "                    temp = max_value * B[j,0]\n",
    "                inter_temp.append(temp.tolist()[0]) # 使得矩阵的维度 为2维的\n",
    "                \n",
    "            tes = inter_temp\n",
    "            re_p.append(tes)\n",
    "        \n",
    "            temp_dir = sorted(temp_dir.items(),key=lambda row:row[1],reverse=True)\n",
    "            resu.setdefault(i+1,temp_dir[0][0])  \n",
    "            \n",
    "    return resu,re_p"
   ]
  },
  {
   "cell_type": "code",
   "execution_count": 92,
   "metadata": {},
   "outputs": [
    {
     "data": {
      "text/plain": [
       "matrix([[ 0.5,  0.2,  0.3],\n",
       "        [ 0.3,  0.5,  0.2],\n",
       "        [ 0.2,  0.3,  0.5]])"
      ]
     },
     "execution_count": 92,
     "metadata": {},
     "output_type": "execute_result"
    }
   ],
   "source": [
    "A"
   ]
  },
  {
   "cell_type": "code",
   "execution_count": 93,
   "metadata": {},
   "outputs": [
    {
     "data": {
      "text/plain": [
       "matrix([[ 0.5,  0.5],\n",
       "        [ 0.4,  0.6],\n",
       "        [ 0.7,  0.3]])"
      ]
     },
     "execution_count": 93,
     "metadata": {},
     "output_type": "execute_result"
    }
   ],
   "source": [
    "B"
   ]
  },
  {
   "cell_type": "code",
   "execution_count": 94,
   "metadata": {},
   "outputs": [
    {
     "data": {
      "text/plain": [
       "matrix([[ 0.2],\n",
       "        [ 0.4],\n",
       "        [ 0.4]])"
      ]
     },
     "execution_count": 94,
     "metadata": {},
     "output_type": "execute_result"
    }
   ],
   "source": [
    "pi"
   ]
  },
  {
   "cell_type": "code",
   "execution_count": 95,
   "metadata": {
    "collapsed": true
   },
   "outputs": [],
   "source": [
    "o1 = ['1','0','1','0']\n",
    "o2 = ['1','0','1','1','0','1','0','0']"
   ]
  },
  {
   "cell_type": "code",
   "execution_count": 99,
   "metadata": {},
   "outputs": [
    {
     "data": {
      "text/plain": [
       "({1: 3, 2: 3, 3: 3}, [matrix([[ 0.1 ],\n",
       "          [ 0.16],\n",
       "          [ 0.28]]),\n",
       "  [[0.027999999999999997], [0.05039999999999999], [0.041999999999999996]],\n",
       "  [[0.007559999999999999], [0.010079999999999999], [0.014699999999999998]]])"
      ]
     },
     "execution_count": 99,
     "metadata": {},
     "output_type": "execute_result"
    }
   ],
   "source": [
    "verbi_algorith(A,B,pi,o)"
   ]
  },
  {
   "cell_type": "code",
   "execution_count": 97,
   "metadata": {},
   "outputs": [
    {
     "data": {
      "text/plain": [
       "({1: 3, 2: 3, 3: 3, 4: 3}, [matrix([[ 0.1 ],\n",
       "          [ 0.16],\n",
       "          [ 0.28]]),\n",
       "  [[0.027999999999999997], [0.05039999999999999], [0.041999999999999996]],\n",
       "  [[0.007559999999999999], [0.010079999999999999], [0.014699999999999998]],\n",
       "  [[0.0018899999999999998], [0.0030239999999999993], [0.0022049999999999995]]])"
      ]
     },
     "execution_count": 97,
     "metadata": {},
     "output_type": "execute_result"
    }
   ],
   "source": [
    "verbi_algorith(A,B,pi,o1)"
   ]
  },
  {
   "cell_type": "code",
   "execution_count": 68,
   "metadata": {},
   "outputs": [
    {
     "data": {
      "text/plain": [
       "['1', '0', '1']"
      ]
     },
     "execution_count": 68,
     "metadata": {},
     "output_type": "execute_result"
    }
   ],
   "source": [
    "o"
   ]
  },
  {
   "cell_type": "code",
   "execution_count": null,
   "metadata": {
    "collapsed": true
   },
   "outputs": [],
   "source": []
  }
 ],
 "metadata": {
  "kernelspec": {
   "display_name": "Python 3",
   "language": "python",
   "name": "python3"
  },
  "language_info": {
   "codemirror_mode": {
    "name": "ipython",
    "version": 3
   },
   "file_extension": ".py",
   "mimetype": "text/x-python",
   "name": "python",
   "nbconvert_exporter": "python",
   "pygments_lexer": "ipython3",
   "version": "3.6.2"
  }
 },
 "nbformat": 4,
 "nbformat_minor": 2
}
