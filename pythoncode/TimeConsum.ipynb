{
 "cells": [
  {
   "cell_type": "code",
   "execution_count": 1,
   "metadata": {
    "collapsed": true
   },
   "outputs": [],
   "source": [
    "import time\n",
    "import numpy as np\n",
    "import matplotlib.pyplot as plt\n",
    "%matplotlib inline"
   ]
  },
  {
   "cell_type": "code",
   "execution_count": 23,
   "metadata": {},
   "outputs": [
    {
     "data": {
      "text/plain": [
       "(10, 0.09808683395385742)"
      ]
     },
     "execution_count": 23,
     "metadata": {},
     "output_type": "execute_result"
    }
   ],
   "source": [
    "def get_time_ration(n):\n",
    "    data = np.round(np.random.random(n) * 10, 0)\n",
    "    length = len(data)\n",
    "    count = 0\n",
    "    start_time = time.time()\n",
    "    for i in range(length):\n",
    "        for j in range(i+1, length):\n",
    "            for k in range(j+1, length):\n",
    "                if data[i] + data[j] + data[k] == 0:\n",
    "                    count += 1\n",
    "    times = time.time() - start_time\n",
    "    return count, times\n",
    "get_time_ration(1)"
   ]
  },
  {
   "cell_type": "code",
   "execution_count": 26,
   "metadata": {},
   "outputs": [],
   "source": [
    "def cal_time(n, k):\n",
    "    c1, time_n = get_time_ration(n)\n",
    "    new_n = n * k\n",
    "    c2, time_kn = get_time_ration(new_n)\n",
    "    ration = time_kn / time_n\n",
    "    return ration\n",
    "cal_time(64, 2)"
   ]
  },
  {
   "cell_type": "code",
   "execution_count": 33,
   "metadata": {},
   "outputs": [
    {
     "data": {
      "text/plain": [
       "<matplotlib.collections.PathCollection at 0x11d613be0>"
      ]
     },
     "execution_count": 33,
     "metadata": {},
     "output_type": "execute_result"
    },
    {
     "data": {
      "image/png": "[encoded data removed]",
      "text/plain": [
       "<matplotlib.figure.Figure at 0x11e012c88>"
      ]
     },
     "metadata": {},
     "output_type": "display_data"
    }
   ],
   "source": [
    "#ks = np.arange(10)\n",
    "#y = [cal_time(32*(i+1),2) for i in ks]\n",
    "plt.scatter(ks ,y)"
   ]
  },
  {
   "cell_type": "code",
   "execution_count": null,
   "metadata": {
    "collapsed": true
   },
   "outputs": [],
   "source": []
  }
 ],
 "metadata": {
  "kernelspec": {
   "display_name": "Python 3",
   "language": "python",
   "name": "python3"
  },
  "language_info": {
   "codemirror_mode": {
    "name": "ipython",
    "version": 3
   },
   "file_extension": ".py",
   "mimetype": "text/x-python",
   "name": "python",
   "nbconvert_exporter": "python",
   "pygments_lexer": "ipython3",
   "version": "3.6.2"
  }
 },
 "nbformat": 4,
 "nbformat_minor": 2
}
