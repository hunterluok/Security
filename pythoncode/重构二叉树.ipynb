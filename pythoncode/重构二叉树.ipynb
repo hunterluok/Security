{
 "cells": [
  {
   "cell_type": "code",
   "execution_count": 120,
   "metadata": {},
   "outputs": [],
   "source": [
    "preorder = [1, 2, 4, 7, 3, 5, 6, 8]\n",
    "inorder = [4, 7, 2, 1, 5, 3, 6, 8]"
   ]
  },
  {
   "cell_type": "code",
   "execution_count": 121,
   "metadata": {},
   "outputs": [],
   "source": [
    "class node:\n",
    "    def __init__(self, value=None, left=None, right=None):\n",
    "        self.value = value\n",
    "        self.left = left\n",
    "        self.right = right"
   ]
  },
  {
   "cell_type": "code",
   "execution_count": 122,
   "metadata": {},
   "outputs": [],
   "source": [
    "def reconstruct(preorder, inorder, lens = 8):\n",
    "    #\n",
    "    mynode = None\n",
    "    if len(preorder) == 1 and len(inorder)==1:\n",
    "        if preorder[0] == inorder[0]:\n",
    "            return node(preorder[0])\n",
    "        else:\n",
    "            raise ValueError(\"preorder {} is not = inorder {}\".format(preorder[0], inorder[0]))\n",
    "    \n",
    "    rootvalue = preorder[0]\n",
    "    mynode = node(rootvalue)\n",
    "    \n",
    "    # 终止条件\n",
    "\n",
    "    root_posion = inorder.index(rootvalue)\n",
    "    right_len = lens - root_posion - 1\n",
    "    \n",
    "    if root_posion > 0:\n",
    "        # 注意这里使用\n",
    "        temp_pre = preorder[1: root_posion + 1].copy()\n",
    "        temp_ino = inorder[0 : root_posion].copy()\n",
    "        mynode.left = reconstruct(temp_pre, temp_ino,  root_posion)\n",
    "    if  right_len > 0:\n",
    "        temp_pre  = preorder[root_posion+1: lens].copy()\n",
    "        temp_ino = inorder[root_posion+1: lens].copy()\n",
    "        mynode.right = reconstruct(temp_pre, temp_ino,  lens - root_posion -1)\n",
    "    return mynode"
   ]
  },
  {
   "cell_type": "code",
   "execution_count": 123,
   "metadata": {},
   "outputs": [],
   "source": [
    "def print_values(node):\n",
    "    if node.value is not None:\n",
    "        print(node.value)\n",
    "    if node.left is not None:\n",
    "        print_values(node.left)\n",
    "    if node.right is not None:\n",
    "        print_values(node.right)"
   ]
  },
  {
   "cell_type": "code",
   "execution_count": 124,
   "metadata": {},
   "outputs": [],
   "source": [
    "res = reconstruct(preorder, inorder)"
   ]
  },
  {
   "cell_type": "code",
   "execution_count": 125,
   "metadata": {},
   "outputs": [
    {
     "name": "stdout",
     "output_type": "stream",
     "text": [
      "1\n",
      "2\n",
      "4\n",
      "7\n",
      "3\n",
      "5\n",
      "6\n",
      "8\n"
     ]
    }
   ],
   "source": [
    "print_values(res)"
   ]
  },
  {
   "cell_type": "code",
   "execution_count": null,
   "metadata": {},
   "outputs": [],
   "source": []
  }
 ],
 "metadata": {
  "kernelspec": {
   "display_name": "Python 3",
   "language": "python",
   "name": "python3"
  },
  "language_info": {
   "codemirror_mode": {
    "name": "ipython",
    "version": 3
   },
   "file_extension": ".py",
   "mimetype": "text/x-python",
   "name": "python",
   "nbconvert_exporter": "python",
   "pygments_lexer": "ipython3",
   "version": "3.6.8"
  }
 },
 "nbformat": 4,
 "nbformat_minor": 2
}
