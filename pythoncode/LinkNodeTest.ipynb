{
 "cells": [
  {
   "cell_type": "code",
   "execution_count": 1,
   "metadata": {
    "collapsed": true
   },
   "outputs": [],
   "source": [
    "import numpy as np"
   ]
  },
  {
   "cell_type": "code",
   "execution_count": 14,
   "metadata": {
    "collapsed": true
   },
   "outputs": [],
   "source": [
    "class _node:\n",
    "    def __init__(self, value, nexts=None):\n",
    "        self.value = value\n",
    "        self.nexts = nexts"
   ]
  },
  {
   "cell_type": "code",
   "execution_count": 21,
   "metadata": {},
   "outputs": [],
   "source": [
    "tem = _node(1)\n",
    "p = tem"
   ]
  },
  {
   "cell_type": "code",
   "execution_count": 22,
   "metadata": {
    "collapsed": true
   },
   "outputs": [],
   "source": [
    "for i in range(2, 11):\n",
    "    p.nexts = _node(i)\n",
    "    p = p.nexts"
   ]
  },
  {
   "cell_type": "code",
   "execution_count": 18,
   "metadata": {},
   "outputs": [
    {
     "name": "stdout",
     "output_type": "stream",
     "text": [
      "1\n",
      "2\n",
      "3\n",
      "4\n",
      "5\n",
      "6\n",
      "7\n",
      "8\n",
      "9\n",
      "10\n"
     ]
    }
   ],
   "source": [
    "p = tem\n",
    "while p:\n",
    "    print(p.value)\n",
    "    p = p.nexts"
   ]
  },
  {
   "cell_type": "code",
   "execution_count": 119,
   "metadata": {},
   "outputs": [
    {
     "name": "stdout",
     "output_type": "stream",
     "text": [
      "True\n",
      "4\n",
      "3\n",
      "2\n",
      "1\n"
     ]
    }
   ],
   "source": [
    "class linknode:\n",
    "    \"\"\"\n",
    "    依旧还是 栈？\n",
    "    \"\"\"\n",
    "    def __init__(self):\n",
    "        self.first = None\n",
    "        self.last = None\n",
    "        \n",
    "    def isempty(self):\n",
    "        return self.first is None\n",
    "        \n",
    "    def add_head(self, value):\n",
    "        self.first = _node(value, self.first)\n",
    "        \n",
    "        # 仅仅修改了头部 这里是可行的。\n",
    "        p = self.first\n",
    "        while p.nexts is not None:\n",
    "            p = p.nexts\n",
    "        self.last = p\n",
    "\n",
    "    def show(self):\n",
    "        p = self.first\n",
    "        while p:\n",
    "            print(p.value)\n",
    "            p = p.nexts\n",
    "            \n",
    "    def pop(self):\n",
    "        if self.first is None:\n",
    "            raise KeyError(\"the linkedlist is empty\")\n",
    "        else:\n",
    "            e = self.first.value\n",
    "            self.first = self.first.nexts\n",
    "            return e\n",
    "        \n",
    "        p = self.first\n",
    "        while p.nexts is not None:\n",
    "            e = p.value\n",
    "            p = p.nexts\n",
    "            return e\n",
    "        \n",
    "    def pop_last(self):\n",
    "        if self.first is None:\n",
    "            raise KeyError(\"the linkedlist is empty\")  \n",
    "        p = self.first\n",
    "        if p.nexts is None:\n",
    "            e = p.value\n",
    "            self.first = None\n",
    "            return e\n",
    "        while p.nexts.nexts is not None:\n",
    "            p = p.nexts\n",
    "        e = p.nexts.value\n",
    "        p.nexts = None\n",
    "        return e\n",
    "    \n",
    "    def append(self, value):\n",
    "        if self.first is None:\n",
    "            self.first = _node(value)\n",
    "        p = self.first\n",
    "        while p.nexts is not None:\n",
    "            p = p.nexts\n",
    "        p.nexts = _node(value)\n",
    "        \n",
    "        self.last = _node(value)\n",
    "        \n",
    "        \n",
    "    def add_midd(self, advalue, target=5):\n",
    "        # .....省略检测的 代码。 在链表的中介 添加元素。\n",
    "        p = self.first\n",
    "        while p.value < target:\n",
    "            p = p.nexts\n",
    "        # p.value = 5\n",
    "        # 这里的 代码短小精悍\n",
    "        temp = _node(advalue)\n",
    "        temp.nexts = p.nexts\n",
    "        p.nexts = temp\n",
    "        \n",
    "    def sub_mid(self, target):\n",
    "        p = self.first\n",
    "        if p.value == target:\n",
    "            # p = p.nexts 为什么这里会失效呢\n",
    "            self.first = self.first.nexts\n",
    "            print(\"omit the first element {}\".format(target))\n",
    "            \n",
    "        while p.nexts is not None and p.nexts.value != target:\n",
    "            p = p.nexts\n",
    "            \n",
    "        if p.nexts is not None:\n",
    "            # p.nexts.value == target\n",
    "            p.nexts = p.nexts.nexts\n",
    "            print(\"ok, omit!\")\n",
    "        else:\n",
    "            return KeyError(\"the target:{} is not in linkedlist\".format(target))\n",
    "        \n",
    "        \n",
    "a = linknode()\n",
    "print(a.isempty())\n",
    "# a.add_head(22)\n",
    "# a.add_head(31)\n",
    "# a.add_head(10)\n",
    "# a.add_head(101)\n",
    "for i in range(1, 5):\n",
    "    a.add_head(i)\n",
    "\n",
    "a.show()"
   ]
  },
  {
   "cell_type": "code",
   "execution_count": 120,
   "metadata": {},
   "outputs": [
    {
     "name": "stdout",
     "output_type": "stream",
     "text": [
      "4\n",
      "3\n",
      "2\n",
      "1\n",
      "5\n",
      "6\n",
      "7\n",
      "8\n",
      "9\n",
      "____\n",
      "4\n",
      "3\n",
      "2\n",
      "1\n",
      "5\n",
      "100\n",
      "6\n",
      "7\n",
      "8\n",
      "9\n",
      "********************\n",
      "omit the first element 4\n",
      "3\n",
      "2\n",
      "1\n",
      "5\n",
      "100\n",
      "6\n",
      "7\n",
      "8\n",
      "9\n"
     ]
    }
   ],
   "source": [
    "for j in range(5, 10):\n",
    "    a.append(j)\n",
    "    \n",
    "a.show()\n",
    "a.add_midd(100)\n",
    "print(\"____\")\n",
    "a.show()\n",
    "print(\"*\"*20)\n",
    "a.sub_mid(4)\n",
    "a.show()"
   ]
  },
  {
   "cell_type": "code",
   "execution_count": 121,
   "metadata": {},
   "outputs": [
    {
     "data": {
      "text/plain": [
       "9"
      ]
     },
     "execution_count": 121,
     "metadata": {},
     "output_type": "execute_result"
    }
   ],
   "source": [
    "a.last.value"
   ]
  },
  {
   "cell_type": "code",
   "execution_count": 80,
   "metadata": {},
   "outputs": [
    {
     "data": {
      "text/plain": [
       "101"
      ]
     },
     "execution_count": 80,
     "metadata": {},
     "output_type": "execute_result"
    }
   ],
   "source": [
    "a.pop()"
   ]
  },
  {
   "cell_type": "code",
   "execution_count": 81,
   "metadata": {},
   "outputs": [
    {
     "name": "stdout",
     "output_type": "stream",
     "text": [
      "10\n",
      "31\n",
      "22\n"
     ]
    }
   ],
   "source": [
    "a.show()"
   ]
  },
  {
   "cell_type": "code",
   "execution_count": 82,
   "metadata": {},
   "outputs": [
    {
     "data": {
      "text/plain": [
       "22"
      ]
     },
     "execution_count": 82,
     "metadata": {},
     "output_type": "execute_result"
    }
   ],
   "source": [
    "a.pop_last()"
   ]
  },
  {
   "cell_type": "code",
   "execution_count": 83,
   "metadata": {},
   "outputs": [
    {
     "name": "stdout",
     "output_type": "stream",
     "text": [
      "10\n",
      "31\n"
     ]
    }
   ],
   "source": [
    "a.show()"
   ]
  },
  {
   "cell_type": "code",
   "execution_count": 86,
   "metadata": {},
   "outputs": [
    {
     "ename": "KeyError",
     "evalue": "'the linkedlist is empty'",
     "traceback": [
      "\u001b[0;31m---------------------------------------------------------------------------\u001b[0m",
      "\u001b[0;31mKeyError\u001b[0m                                  Traceback (most recent call last)",
      "\u001b[0;32m<ipython-input-86-353a8f813834>\u001b[0m in \u001b[0;36m<module>\u001b[0;34m()\u001b[0m\n\u001b[0;32m----> 1\u001b[0;31m \u001b[0ma\u001b[0m\u001b[0;34m.\u001b[0m\u001b[0mpop\u001b[0m\u001b[0;34m(\u001b[0m\u001b[0;34m)\u001b[0m\u001b[0;34m\u001b[0m\u001b[0m\n\u001b[0m",
      "\u001b[0;32m<ipython-input-79-e4f2b670b2a7>\u001b[0m in \u001b[0;36mpop\u001b[0;34m(self)\u001b[0m\n\u001b[1;32m     20\u001b[0m     \u001b[0;32mdef\u001b[0m \u001b[0mpop\u001b[0m\u001b[0;34m(\u001b[0m\u001b[0mself\u001b[0m\u001b[0;34m)\u001b[0m\u001b[0;34m:\u001b[0m\u001b[0;34m\u001b[0m\u001b[0m\n\u001b[1;32m     21\u001b[0m         \u001b[0;32mif\u001b[0m \u001b[0mself\u001b[0m\u001b[0;34m.\u001b[0m\u001b[0mfirst\u001b[0m \u001b[0;32mis\u001b[0m \u001b[0;32mNone\u001b[0m\u001b[0;34m:\u001b[0m\u001b[0;34m\u001b[0m\u001b[0m\n\u001b[0;32m---> 22\u001b[0;31m             \u001b[0;32mraise\u001b[0m \u001b[0mKeyError\u001b[0m\u001b[0;34m(\u001b[0m\u001b[0;34m\"the linkedlist is empty\"\u001b[0m\u001b[0;34m)\u001b[0m\u001b[0;34m\u001b[0m\u001b[0m\n\u001b[0m\u001b[1;32m     23\u001b[0m         \u001b[0;32melse\u001b[0m\u001b[0;34m:\u001b[0m\u001b[0;34m\u001b[0m\u001b[0m\n\u001b[1;32m     24\u001b[0m             \u001b[0me\u001b[0m \u001b[0;34m=\u001b[0m \u001b[0mself\u001b[0m\u001b[0;34m.\u001b[0m\u001b[0mfirst\u001b[0m\u001b[0;34m.\u001b[0m\u001b[0mvalue\u001b[0m\u001b[0;34m\u001b[0m\u001b[0m\n",
      "\u001b[0;31mKeyError\u001b[0m: 'the linkedlist is empty'"
     ],
     "output_type": "error"
    }
   ],
   "source": [
    "a.pop()"
   ]
  },
  {
   "cell_type": "code",
   "execution_count": 145,
   "metadata": {},
   "outputs": [],
   "source": [
    "data = np.random.randint(10, size=(20, 10))"
   ]
  },
  {
   "cell_type": "code",
   "execution_count": 146,
   "metadata": {},
   "outputs": [
    {
     "name": "stdout",
     "output_type": "stream",
     "text": [
      "20 10\n"
     ]
    }
   ],
   "source": [
    "m, n = data.shape\n",
    "print(m, n)"
   ]
  },
  {
   "cell_type": "code",
   "execution_count": 147,
   "metadata": {},
   "outputs": [
    {
     "data": {
      "text/plain": [
       "{'doc_0': {0: 3, 2: 1, 3: 1, 6: 1, 7: 2, 8: 1, 9: 1},\n",
       " 'doc_1': {0: 2, 1: 2, 2: 2, 4: 1, 6: 1, 7: 1, 8: 1},\n",
       " 'doc_10': {0: 2, 1: 1, 3: 1, 4: 2, 5: 2, 7: 1, 9: 1},\n",
       " 'doc_11': {0: 2, 2: 2, 4: 2, 5: 1, 6: 1, 7: 1, 9: 1},\n",
       " 'doc_12': {1: 1, 2: 2, 3: 1, 4: 1, 5: 2, 8: 1, 9: 2},\n",
       " 'doc_13': {0: 3, 1: 2, 2: 1, 3: 1, 5: 1, 6: 1, 7: 1},\n",
       " 'doc_14': {0: 1, 1: 1, 2: 1, 3: 3, 7: 2, 8: 1, 9: 1},\n",
       " 'doc_15': {1: 1, 2: 1, 3: 1, 5: 1, 6: 1, 7: 1, 8: 1, 9: 3},\n",
       " 'doc_16': {0: 1, 2: 1, 4: 2, 6: 1, 7: 1, 8: 3, 9: 1},\n",
       " 'doc_17': {0: 2, 1: 3, 3: 1, 4: 1, 7: 2, 9: 1},\n",
       " 'doc_18': {0: 1, 1: 2, 4: 2, 5: 2, 6: 3},\n",
       " 'doc_19': {0: 1, 1: 2, 3: 1, 5: 1, 6: 1, 7: 2, 9: 2},\n",
       " 'doc_2': {0: 3, 1: 1, 2: 1, 3: 1, 6: 2, 7: 1, 9: 1},\n",
       " 'doc_3': {0: 2, 1: 3, 4: 2, 5: 2, 6: 1},\n",
       " 'doc_4': {0: 1, 1: 1, 2: 1, 6: 2, 7: 3, 8: 2},\n",
       " 'doc_5': {0: 1, 1: 1, 2: 3, 3: 3, 6: 2},\n",
       " 'doc_6': {0: 3, 2: 2, 4: 1, 5: 1, 7: 1, 8: 1, 9: 1},\n",
       " 'doc_7': {0: 1, 2: 1, 3: 1, 4: 3, 5: 1, 6: 1, 8: 1, 9: 1},\n",
       " 'doc_8': {0: 2, 1: 1, 2: 1, 5: 1, 6: 2, 7: 1, 8: 1, 9: 1},\n",
       " 'doc_9': {1: 1, 3: 1, 5: 3, 6: 1, 7: 2, 9: 2}}"
      ]
     },
     "execution_count": 147,
     "metadata": {},
     "output_type": "execute_result"
    }
   ],
   "source": [
    "dicts = {}\n",
    "for i in range(m):\n",
    "    key = \"doc_\" + str(i)\n",
    "    dicts.setdefault(key, {})\n",
    "    for item in data[i]:\n",
    "        dicts[key].setdefault(item, 0)\n",
    "        dicts[key][item] += 1\n",
    "        \n",
    "dicts"
   ]
  },
  {
   "cell_type": "code",
   "execution_count": 148,
   "metadata": {},
   "outputs": [
    {
     "name": "stdout",
     "output_type": "stream",
     "text": [
      "{0: 17, 2: 14, 3: 12, 6: 15, 7: 15, 8: 10, 9: 14, 1: 15, 4: 10, 5: 12}\n"
     ]
    },
    {
     "data": {
      "text/plain": [
       "{0: 0.16193086714622043,\n",
       " 1: 0.28701562790862034,\n",
       " 2: 0.35596091320507534,\n",
       " 3: 0.5099926374620989,\n",
       " 4: 0.6921476802268618,\n",
       " 5: 0.5099926374620989,\n",
       " 6: 0.28701562790862034,\n",
       " 7: 0.28701562790862034,\n",
       " 8: 0.6921476802268618,\n",
       " 9: 0.35596091320507534}"
      ]
     },
     "execution_count": 148,
     "metadata": {},
     "output_type": "execute_result"
    }
   ],
   "source": [
    "# 计算 idf \n",
    "all_dicts = {}\n",
    "for i in range(m):\n",
    "    for j in set(data[i]):\n",
    "        all_dicts.setdefault(j, 0)\n",
    "        all_dicts[j] += 1\n",
    "        \n",
    "print(all_dicts)\n",
    "all_dicts = {k : np.log(m / (v + 0.01)) for k, v in all_dicts.items()}\n",
    "all_dicts"
   ]
  },
  {
   "cell_type": "code",
   "execution_count": 149,
   "metadata": {},
   "outputs": [
    {
     "data": {
      "text/plain": [
       "{'doc_0': {0: 0.4857926014386613,\n",
       "  2: 0.35596091320507534,\n",
       "  3: 0.5099926374620989,\n",
       "  6: 0.28701562790862034,\n",
       "  7: 0.5740312558172407,\n",
       "  8: 0.6921476802268618,\n",
       "  9: 0.35596091320507534},\n",
       " 'doc_1': {0: 0.32386173429244086,\n",
       "  1: 0.5740312558172407,\n",
       "  2: 0.7119218264101507,\n",
       "  4: 0.6921476802268618,\n",
       "  6: 0.28701562790862034,\n",
       "  7: 0.28701562790862034,\n",
       "  8: 0.6921476802268618},\n",
       " 'doc_10': {0: 0.32386173429244086,\n",
       "  1: 0.28701562790862034,\n",
       "  3: 0.5099926374620989,\n",
       "  4: 1.3842953604537236,\n",
       "  5: 1.0199852749241978,\n",
       "  7: 0.28701562790862034,\n",
       "  9: 0.35596091320507534},\n",
       " 'doc_11': {0: 0.32386173429244086,\n",
       "  2: 0.7119218264101507,\n",
       "  4: 1.3842953604537236,\n",
       "  5: 0.5099926374620989,\n",
       "  6: 0.28701562790862034,\n",
       "  7: 0.28701562790862034,\n",
       "  9: 0.35596091320507534},\n",
       " 'doc_12': {1: 0.28701562790862034,\n",
       "  2: 0.7119218264101507,\n",
       "  3: 0.5099926374620989,\n",
       "  4: 0.6921476802268618,\n",
       "  5: 1.0199852749241978,\n",
       "  8: 0.6921476802268618,\n",
       "  9: 0.7119218264101507},\n",
       " 'doc_13': {0: 0.4857926014386613,\n",
       "  1: 0.5740312558172407,\n",
       "  2: 0.35596091320507534,\n",
       "  3: 0.5099926374620989,\n",
       "  5: 0.5099926374620989,\n",
       "  6: 0.28701562790862034,\n",
       "  7: 0.28701562790862034},\n",
       " 'doc_14': {0: 0.16193086714622043,\n",
       "  1: 0.28701562790862034,\n",
       "  2: 0.35596091320507534,\n",
       "  3: 1.5299779123862967,\n",
       "  7: 0.5740312558172407,\n",
       "  8: 0.6921476802268618,\n",
       "  9: 0.35596091320507534},\n",
       " 'doc_15': {1: 0.28701562790862034,\n",
       "  2: 0.35596091320507534,\n",
       "  3: 0.5099926374620989,\n",
       "  5: 0.5099926374620989,\n",
       "  6: 0.28701562790862034,\n",
       "  7: 0.28701562790862034,\n",
       "  8: 0.6921476802268618,\n",
       "  9: 1.067882739615226},\n",
       " 'doc_16': {0: 0.16193086714622043,\n",
       "  2: 0.35596091320507534,\n",
       "  4: 1.3842953604537236,\n",
       "  6: 0.28701562790862034,\n",
       "  7: 0.28701562790862034,\n",
       "  8: 2.0764430406805854,\n",
       "  9: 0.35596091320507534},\n",
       " 'doc_17': {0: 0.32386173429244086,\n",
       "  1: 0.861046883725861,\n",
       "  3: 0.5099926374620989,\n",
       "  4: 0.6921476802268618,\n",
       "  7: 0.5740312558172407,\n",
       "  9: 0.35596091320507534},\n",
       " 'doc_18': {0: 0.16193086714622043,\n",
       "  1: 0.5740312558172407,\n",
       "  4: 1.3842953604537236,\n",
       "  5: 1.0199852749241978,\n",
       "  6: 0.861046883725861},\n",
       " 'doc_19': {0: 0.16193086714622043,\n",
       "  1: 0.5740312558172407,\n",
       "  3: 0.5099926374620989,\n",
       "  5: 0.5099926374620989,\n",
       "  6: 0.28701562790862034,\n",
       "  7: 0.5740312558172407,\n",
       "  9: 0.7119218264101507},\n",
       " 'doc_2': {0: 0.4857926014386613,\n",
       "  1: 0.28701562790862034,\n",
       "  2: 0.35596091320507534,\n",
       "  3: 0.5099926374620989,\n",
       "  6: 0.5740312558172407,\n",
       "  7: 0.28701562790862034,\n",
       "  9: 0.35596091320507534},\n",
       " 'doc_3': {0: 0.32386173429244086,\n",
       "  1: 0.861046883725861,\n",
       "  4: 1.3842953604537236,\n",
       "  5: 1.0199852749241978,\n",
       "  6: 0.28701562790862034},\n",
       " 'doc_4': {0: 0.16193086714622043,\n",
       "  1: 0.28701562790862034,\n",
       "  2: 0.35596091320507534,\n",
       "  6: 0.5740312558172407,\n",
       "  7: 0.861046883725861,\n",
       "  8: 1.3842953604537236},\n",
       " 'doc_5': {0: 0.16193086714622043,\n",
       "  1: 0.28701562790862034,\n",
       "  2: 1.067882739615226,\n",
       "  3: 1.5299779123862967,\n",
       "  6: 0.5740312558172407},\n",
       " 'doc_6': {0: 0.4857926014386613,\n",
       "  2: 0.7119218264101507,\n",
       "  4: 0.6921476802268618,\n",
       "  5: 0.5099926374620989,\n",
       "  7: 0.28701562790862034,\n",
       "  8: 0.6921476802268618,\n",
       "  9: 0.35596091320507534},\n",
       " 'doc_7': {0: 0.16193086714622043,\n",
       "  2: 0.35596091320507534,\n",
       "  3: 0.5099926374620989,\n",
       "  4: 2.0764430406805854,\n",
       "  5: 0.5099926374620989,\n",
       "  6: 0.28701562790862034,\n",
       "  8: 0.6921476802268618,\n",
       "  9: 0.35596091320507534},\n",
       " 'doc_8': {0: 0.32386173429244086,\n",
       "  1: 0.28701562790862034,\n",
       "  2: 0.35596091320507534,\n",
       "  5: 0.5099926374620989,\n",
       "  6: 0.5740312558172407,\n",
       "  7: 0.28701562790862034,\n",
       "  8: 0.6921476802268618,\n",
       "  9: 0.35596091320507534},\n",
       " 'doc_9': {1: 0.28701562790862034,\n",
       "  3: 0.5099926374620989,\n",
       "  5: 1.5299779123862967,\n",
       "  6: 0.28701562790862034,\n",
       "  7: 0.5740312558172407,\n",
       "  9: 0.7119218264101507}}"
      ]
     },
     "execution_count": 149,
     "metadata": {},
     "output_type": "execute_result"
    }
   ],
   "source": [
    "tfidfs = {}\n",
    "for doc, value in dicts.items():\n",
    "    tfidfs.setdefault(doc, {})\n",
    "    for item, count in value.items(): \n",
    "        tfidf_value = count * all_dicts[item]\n",
    "        tfidfs[doc][item] = tfidf_value\n",
    "\n",
    "tfidfs"
   ]
  },
  {
   "cell_type": "code",
   "execution_count": 150,
   "metadata": {},
   "outputs": [
    {
     "data": {
      "text/plain": [
       "{'doc_0': {0: 3, 2: 1, 3: 1, 6: 1, 7: 2, 8: 1, 9: 1},\n",
       " 'doc_1': {0: 2, 1: 2, 2: 2, 4: 1, 6: 1, 7: 1, 8: 1},\n",
       " 'doc_10': {0: 2, 1: 1, 3: 1, 4: 2, 5: 2, 7: 1, 9: 1},\n",
       " 'doc_11': {0: 2, 2: 2, 4: 2, 5: 1, 6: 1, 7: 1, 9: 1},\n",
       " 'doc_12': {1: 1, 2: 2, 3: 1, 4: 1, 5: 2, 8: 1, 9: 2},\n",
       " 'doc_13': {0: 3, 1: 2, 2: 1, 3: 1, 5: 1, 6: 1, 7: 1},\n",
       " 'doc_14': {0: 1, 1: 1, 2: 1, 3: 3, 7: 2, 8: 1, 9: 1},\n",
       " 'doc_15': {1: 1, 2: 1, 3: 1, 5: 1, 6: 1, 7: 1, 8: 1, 9: 3},\n",
       " 'doc_16': {0: 1, 2: 1, 4: 2, 6: 1, 7: 1, 8: 3, 9: 1},\n",
       " 'doc_17': {0: 2, 1: 3, 3: 1, 4: 1, 7: 2, 9: 1},\n",
       " 'doc_18': {0: 1, 1: 2, 4: 2, 5: 2, 6: 3},\n",
       " 'doc_19': {0: 1, 1: 2, 3: 1, 5: 1, 6: 1, 7: 2, 9: 2},\n",
       " 'doc_2': {0: 3, 1: 1, 2: 1, 3: 1, 6: 2, 7: 1, 9: 1},\n",
       " 'doc_3': {0: 2, 1: 3, 4: 2, 5: 2, 6: 1},\n",
       " 'doc_4': {0: 1, 1: 1, 2: 1, 6: 2, 7: 3, 8: 2},\n",
       " 'doc_5': {0: 1, 1: 1, 2: 3, 3: 3, 6: 2},\n",
       " 'doc_6': {0: 3, 2: 2, 4: 1, 5: 1, 7: 1, 8: 1, 9: 1},\n",
       " 'doc_7': {0: 1, 2: 1, 3: 1, 4: 3, 5: 1, 6: 1, 8: 1, 9: 1},\n",
       " 'doc_8': {0: 2, 1: 1, 2: 1, 5: 1, 6: 2, 7: 1, 8: 1, 9: 1},\n",
       " 'doc_9': {1: 1, 3: 1, 5: 3, 6: 1, 7: 2, 9: 2}}"
      ]
     },
     "execution_count": 150,
     "metadata": {},
     "output_type": "execute_result"
    }
   ],
   "source": [
    "dicts"
   ]
  },
  {
   "cell_type": "code",
   "execution_count": null,
   "metadata": {
    "collapsed": true
   },
   "outputs": [],
   "source": []
  }
 ],
 "metadata": {
  "kernelspec": {
   "display_name": "Python 3",
   "language": "python",
   "name": "python3"
  },
  "language_info": {
   "codemirror_mode": {
    "name": "ipython",
    "version": 3
   },
   "file_extension": ".py",
   "mimetype": "text/x-python",
   "name": "python",
   "nbconvert_exporter": "python",
   "pygments_lexer": "ipython3",
   "version": "3.6.2"
  }
 },
 "nbformat": 4,
 "nbformat_minor": 2
}
