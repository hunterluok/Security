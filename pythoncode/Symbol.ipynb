{
 "cells": [
  {
   "cell_type": "code",
   "execution_count": 8,
   "metadata": {
    "collapsed": true
   },
   "outputs": [],
   "source": [
    "import numpy as np"
   ]
  },
  {
   "cell_type": "markdown",
   "metadata": {},
   "source": [
    "# 1单纯利用列表版"
   ]
  },
  {
   "cell_type": "code",
   "execution_count": 1,
   "metadata": {
    "collapsed": true
   },
   "outputs": [],
   "source": [
    "class dicts:\n",
    "    def __init__(self):\n",
    "        self._key = []\n",
    "        self._value = []\n",
    "        \n",
    "    def __getitem__(self, key):\n",
    "        for i in range(len(self._key)):\n",
    "            if self._key[i] == key:\n",
    "                return self._value[i]\n",
    "        return \"not found\"\n",
    "    \n",
    "    def __setitem__(self, key, value):\n",
    "        # 同一个健 只保留 最新添加的值\n",
    "        for i in range(len(self._key)):\n",
    "            if self._key[i] == key:\n",
    "                self._value[i] = value\n",
    "        # 利用列表的 性质 追加数据，这里需要注意\n",
    "        self._key += [key]\n",
    "        self._value += [value]\n",
    "        \n",
    "    def __contains__(self, key):\n",
    "        # 'K' in m 注意这里的用法 需要注意的 地方\n",
    "        if key in self._key:\n",
    "            return True\n",
    "        else:\n",
    "            return False"
   ]
  },
  {
   "cell_type": "code",
   "execution_count": 2,
   "metadata": {
    "collapsed": true
   },
   "outputs": [],
   "source": [
    "m = dicts()\n",
    "# 这个地方的括号 需要注意"
   ]
  },
  {
   "cell_type": "code",
   "execution_count": 3,
   "metadata": {
    "collapsed": true
   },
   "outputs": [],
   "source": [
    "m[\"L\"] = 2\n",
    "m[\"K\"] = 33\n",
    "m[\"L\"] = 22"
   ]
  },
  {
   "cell_type": "code",
   "execution_count": 4,
   "metadata": {},
   "outputs": [
    {
     "data": {
      "text/plain": [
       "33"
      ]
     },
     "execution_count": 4,
     "metadata": {},
     "output_type": "execute_result"
    }
   ],
   "source": [
    "m[\"K\"]"
   ]
  },
  {
   "cell_type": "code",
   "execution_count": 5,
   "metadata": {},
   "outputs": [
    {
     "data": {
      "text/plain": [
       "True"
      ]
     },
     "execution_count": 5,
     "metadata": {},
     "output_type": "execute_result"
    }
   ],
   "source": [
    "'K' in m"
   ]
  },
  {
   "cell_type": "code",
   "execution_count": 9,
   "metadata": {},
   "outputs": [
    {
     "data": {
      "text/plain": [
       "[[], [], [], []]"
      ]
     },
     "execution_count": 9,
     "metadata": {},
     "output_type": "execute_result"
    }
   ],
   "source": [
    "t = np.zeros((4, 0)).tolist()\n",
    "t"
   ]
  },
  {
   "cell_type": "code",
   "execution_count": 10,
   "metadata": {},
   "outputs": [
    {
     "data": {
      "text/plain": [
       "[1]"
      ]
     },
     "execution_count": 10,
     "metadata": {},
     "output_type": "execute_result"
    }
   ],
   "source": [
    "t[1].append(1)\n",
    "t[1]"
   ]
  },
  {
   "cell_type": "markdown",
   "metadata": {},
   "source": [
    "# 2利用哈希表版"
   ]
  },
  {
   "cell_type": "code",
   "execution_count": 11,
   "metadata": {
    "collapsed": true
   },
   "outputs": [],
   "source": [
    "class dicts2:\n",
    "    \n",
    "    def __init__(self, m=1024):\n",
    "        self._m = m\n",
    "        # 这里需要注意，转化成List 方便下面的 append 操作, 两个列表一个存 key, 一个存 value.\n",
    "        self._key = np.zeros((self._m, 0)).tolist()  \n",
    "        self._value = np.zeros((self._m, 0)).tolist()\n",
    "        \n",
    "    def __setitem__(self, key, value):\n",
    "        hash_key = hash(key)\n",
    "        i = hash_key % self._m\n",
    "        for j in range(len(self._key[i])):\n",
    "            if self._key[i][j] == key:\n",
    "                self._value[i][j] == value\n",
    "        self._key[i].append(key)\n",
    "        self._value[i].append(value)\n",
    "        \n",
    "    def __getitem__(self, key):\n",
    "        hash_key = hash(key)\n",
    "        # 求余函，确保 所有的 key 都分配到固定数量的桶中\n",
    "        i = hash_key % self._m\n",
    "        for j in range(len(self._key[i])):\n",
    "            if self._key[i][j] == key:\n",
    "                return self._value[i][j]\n",
    "        return \"not found\"\n",
    "    \n",
    "    def __contains__(self, key):\n",
    "        hash_key = hash(key)\n",
    "        i = hash_key % self._m\n",
    "        for j in range(len(self._key[i])):\n",
    "            if self._key[i][j] == key:\n",
    "                return True\n",
    "            else:\n",
    "                return False\n",
    "            \n",
    "    def __iter__(self):\n",
    "        # 利用 索引取值的\n",
    "        for i in range(len(self._key)):\n",
    "            for j in range(len(self._key[i])):\n",
    "                yield self._key[i][j], self._value[i][j]"
   ]
  },
  {
   "cell_type": "code",
   "execution_count": 12,
   "metadata": {
    "collapsed": true
   },
   "outputs": [],
   "source": [
    "b = dicts2()"
   ]
  },
  {
   "cell_type": "code",
   "execution_count": 13,
   "metadata": {
    "collapsed": true,
    "scrolled": true
   },
   "outputs": [],
   "source": [
    "test = {k: v for k, v in zip(np.arange(20), np.arange(40, 60))}\n",
    "for k, v in test.items():\n",
    "    b[k] = v"
   ]
  },
  {
   "cell_type": "code",
   "execution_count": 14,
   "metadata": {
    "collapsed": true
   },
   "outputs": [],
   "source": [
    "b[\"lk\"] = \"xx\"\n",
    "b[\"xb\"] = \"love\"\n",
    "b[\"xxxxx\"] = \"hehe\""
   ]
  },
  {
   "cell_type": "code",
   "execution_count": 15,
   "metadata": {},
   "outputs": [
    {
     "data": {
      "text/plain": [
       "'love'"
      ]
     },
     "execution_count": 15,
     "metadata": {},
     "output_type": "execute_result"
    }
   ],
   "source": [
    "b[\"xb\"]"
   ]
  },
  {
   "cell_type": "code",
   "execution_count": 16,
   "metadata": {},
   "outputs": [
    {
     "data": {
      "text/plain": [
       "'not found'"
      ]
     },
     "execution_count": 16,
     "metadata": {},
     "output_type": "execute_result"
    }
   ],
   "source": [
    "b[\"xxxx\"]"
   ]
  },
  {
   "cell_type": "code",
   "execution_count": 17,
   "metadata": {},
   "outputs": [
    {
     "data": {
      "text/plain": [
       "False"
      ]
     },
     "execution_count": 17,
     "metadata": {},
     "output_type": "execute_result"
    }
   ],
   "source": [
    "\"xsss\" in b"
   ]
  },
  {
   "cell_type": "code",
   "execution_count": 18,
   "metadata": {
    "scrolled": true
   },
   "outputs": [
    {
     "name": "stdout",
     "output_type": "stream",
     "text": [
      "0 40\n",
      "1 41\n",
      "lk xx\n",
      "2 42\n",
      "3 43\n",
      "4 44\n",
      "5 45\n",
      "6 46\n",
      "7 47\n",
      "8 48\n",
      "9 49\n",
      "10 50\n",
      "11 51\n",
      "12 52\n",
      "13 53\n",
      "14 54\n",
      "15 55\n",
      "16 56\n",
      "17 57\n",
      "18 58\n",
      "19 59\n",
      "xxxxx hehe\n",
      "xb love\n"
     ]
    }
   ],
   "source": [
    "for x, y in b:\n",
    "    print(x, y)"
   ]
  },
  {
   "cell_type": "markdown",
   "metadata": {
    "collapsed": true
   },
   "source": [
    "# 3BST"
   ]
  },
  {
   "cell_type": "code",
   "execution_count": 27,
   "metadata": {
    "collapsed": true
   },
   "outputs": [],
   "source": [
    "class _node:\n",
    "    def __init__(self, key, value, left=None, right=None):\n",
    "        self.key = key\n",
    "        self.value = value\n",
    "        self.left = left\n",
    "        self.right = right"
   ]
  },
  {
   "cell_type": "code",
   "execution_count": 75,
   "metadata": {},
   "outputs": [],
   "source": [
    "class bst:\n",
    "    def __init__(self):\n",
    "        self.head = None\n",
    "        \n",
    "    def _set(self, x, key, value):\n",
    "        if x is None:\n",
    "            return _node(key, value)\n",
    "        if key < x.key:\n",
    "            x.left = self._set(x.left, key, value)\n",
    "        elif key > x.key:\n",
    "            x.right = self._set(x.right, key, value)\n",
    "        else:\n",
    "            x.value = value\n",
    "        return x\n",
    "        \n",
    "    def _get(self, x, key):\n",
    "        if x is None:\n",
    "            return KeyError(\"xxxx\")\n",
    "        \n",
    "        if x.key == key:\n",
    "            return x.value\n",
    "\n",
    "        if key < x.key:\n",
    "            return self._get(x.left, key)\n",
    "        else:\n",
    "            return self._get(x.right, key)\n",
    "        \n",
    "    def __getitem__(self, key):\n",
    "        return self._get(self.head, key)\n",
    "    \n",
    "    def __setitem__(self, key, value):\n",
    "        self.head = self._set(self.head, key, value)\n",
    "        \n",
    "        \n",
    "    def prints(self, best, a):\n",
    "        if best is None:\n",
    "            return\n",
    "        self.prints(best.left, a)\n",
    "        # print(best.key, best.value)\n",
    "        a += [best.key]\n",
    "        self.prints(best.right, a)\n",
    "        \n",
    "    def __iter__(self):\n",
    "        a = []\n",
    "        self.prints(self.head, a)\n",
    "        return iter(a)"
   ]
  },
  {
   "cell_type": "code",
   "execution_count": 76,
   "metadata": {
    "collapsed": true
   },
   "outputs": [],
   "source": [
    "bests = bst()"
   ]
  },
  {
   "cell_type": "code",
   "execution_count": 77,
   "metadata": {},
   "outputs": [],
   "source": [
    "bests[\"x\"] = 22\n",
    "bests[\"y\"] = 33\n",
    "bests[\"sx\"] = 12\n",
    "bests[\"xf\"] = 33"
   ]
  },
  {
   "cell_type": "code",
   "execution_count": 78,
   "metadata": {},
   "outputs": [
    {
     "name": "stdout",
     "output_type": "stream",
     "text": [
      "sx\n",
      "x\n",
      "xf\n",
      "y\n"
     ]
    }
   ],
   "source": [
    "for key in bests:\n",
    "    print(key)"
   ]
  },
  {
   "cell_type": "code",
   "execution_count": 57,
   "metadata": {},
   "outputs": [
    {
     "data": {
      "text/plain": [
       "<__main__._node at 0x119852160>"
      ]
     },
     "execution_count": 57,
     "metadata": {},
     "output_type": "execute_result"
    }
   ],
   "source": [
    "bests.head.left"
   ]
  },
  {
   "cell_type": "code",
   "execution_count": 60,
   "metadata": {
    "collapsed": true
   },
   "outputs": [],
   "source": [
    "def prints(best):\n",
    "    if best is None:\n",
    "        return\n",
    "    prints(best.left)\n",
    "    print(best.key, best.value)\n",
    "    prints(best.right)"
   ]
  },
  {
   "cell_type": "code",
   "execution_count": 61,
   "metadata": {},
   "outputs": [
    {
     "name": "stdout",
     "output_type": "stream",
     "text": [
      "sx 12\n",
      "x 22\n",
      "xf 33\n",
      "y 33\n"
     ]
    }
   ],
   "source": [
    "prints(bests.head)"
   ]
  },
  {
   "cell_type": "code",
   "execution_count": 62,
   "metadata": {
    "collapsed": true
   },
   "outputs": [],
   "source": [
    "def prints(best, a):\n",
    "    if best is None:\n",
    "        return\n",
    "    prints(best.left)\n",
    "    # print(best.key, best.value)\n",
    "    a += [best.key]\n",
    "    prints(best.right)"
   ]
  },
  {
   "cell_type": "code",
   "execution_count": null,
   "metadata": {
    "collapsed": true
   },
   "outputs": [],
   "source": []
  }
 ],
 "metadata": {
  "kernelspec": {
   "display_name": "Python 3",
   "language": "python",
   "name": "python3"
  },
  "language_info": {
   "codemirror_mode": {
    "name": "ipython",
    "version": 3
   },
   "file_extension": ".py",
   "mimetype": "text/x-python",
   "name": "python",
   "nbconvert_exporter": "python",
   "pygments_lexer": "ipython3",
   "version": "3.6.2"
  }
 },
 "nbformat": 4,
 "nbformat_minor": 2
}
