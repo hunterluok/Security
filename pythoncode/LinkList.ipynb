{
 "cells": [
  {
   "cell_type": "code",
   "execution_count": 649,
   "metadata": {
    "collapsed": true
   },
   "outputs": [],
   "source": [
    "class _linknode:\n",
    "    def __init__(self, value, link):\n",
    "        self.value = value\n",
    "        self.link = link"
   ]
  },
  {
   "cell_type": "code",
   "execution_count": 650,
   "metadata": {},
   "outputs": [],
   "source": [
    "class linklist:\n",
    "    def __init__(self):\n",
    "        self.node = None\n",
    "        self.count = 0\n",
    "        \n",
    "    # 判断链表是否为空\n",
    "    def isempty(self):\n",
    "        return self.node is None\n",
    "        \n",
    "    # 向链表中添加元素。\n",
    "    def add(self, new_value):\n",
    "        self.node = _linknode(new_value, self.node)\n",
    "        self.count += 1\n",
    "        return True\n",
    "    \n",
    "    def link_len(self):\n",
    "        return self.count\n",
    "    \n",
    "    def find_value(self, find_value):\n",
    "        temp_node = self.node\n",
    "        if temp_node.value == find_value:\n",
    "            return True\n",
    "        while temp_node.link is not None:\n",
    "            temp_node = temp_node.link\n",
    "            if temp_node.value == find_value:\n",
    "                return True\n",
    "        return False\n",
    "    \n",
    "    def pop_value(self, value):\n",
    "        if not self.find_value(value):\n",
    "            return \"value {} not in the linklist\".format(value)\n",
    "        \n",
    "        temp_node = self.node\n",
    "        while temp_node.link is not None:\n",
    "            if temp_node.value == value:\n",
    "                temp = self.temp_node.link\n",
    "            else:\n",
    "                temp_node = temp_node.link\n",
    "                \n",
    "    def add_midd(self, value):\n",
    "        # midd = _linknode(new_value, None)\n",
    "        pass\n",
    "        \n",
    "    def pop(self):\n",
    "        if self.node is None:\n",
    "            return \"empty\"\n",
    "        else:\n",
    "            value = self.node.value\n",
    "            self.node = self.node.link\n",
    "            self.count -= 1\n",
    "            return value\n",
    "        \n",
    "    def print_value(self):\n",
    "        temp_node = self.node\n",
    "        if self.isempty():\n",
    "            return \"not exist values to print\"\n",
    "        while temp_node is not None:\n",
    "            print(temp_node.value)\n",
    "            temp_node = temp_node.link"
   ]
  },
  {
   "cell_type": "code",
   "execution_count": 651,
   "metadata": {},
   "outputs": [
    {
     "data": {
      "text/plain": [
       "True"
      ]
     },
     "execution_count": 651,
     "metadata": {},
     "output_type": "execute_result"
    }
   ],
   "source": [
    "a = linklist()\n",
    "a.isempty()"
   ]
  },
  {
   "cell_type": "code",
   "execution_count": 652,
   "metadata": {},
   "outputs": [
    {
     "data": {
      "text/plain": [
       "True"
      ]
     },
     "execution_count": 652,
     "metadata": {},
     "output_type": "execute_result"
    }
   ],
   "source": [
    "a.add(1)\n",
    "a.add(33)\n",
    "a.add(101)\n",
    "a.add(222)\n",
    "a.add(1)"
   ]
  },
  {
   "cell_type": "code",
   "execution_count": 653,
   "metadata": {},
   "outputs": [
    {
     "data": {
      "text/plain": [
       "True"
      ]
     },
     "execution_count": 653,
     "metadata": {},
     "output_type": "execute_result"
    }
   ],
   "source": [
    "a.find_value(1)"
   ]
  },
  {
   "cell_type": "code",
   "execution_count": 654,
   "metadata": {},
   "outputs": [
    {
     "name": "stdout",
     "output_type": "stream",
     "text": [
      "1\n",
      "222\n",
      "101\n",
      "33\n",
      "1\n"
     ]
    }
   ],
   "source": [
    "a.isempty()\n",
    "a.print_value()"
   ]
  },
  {
   "cell_type": "code",
   "execution_count": 655,
   "metadata": {},
   "outputs": [
    {
     "name": "stdout",
     "output_type": "stream",
     "text": [
      "1\n",
      "222\n",
      "101\n",
      "33\n",
      "1\n"
     ]
    }
   ],
   "source": [
    "a.print_value()"
   ]
  },
  {
   "cell_type": "code",
   "execution_count": 659,
   "metadata": {},
   "outputs": [],
   "source": [
    "class _linknode:\n",
    "    def __init__(self, value, link):\n",
    "        self.value = value\n",
    "        self.link = link\n",
    "        \n",
    "class linklists:\n",
    "    def __init__(self):\n",
    "        self.first = None\n",
    "        self.last = None\n",
    "        self.count = 0\n",
    "        \n",
    "    # 判断链表是否为空\n",
    "    def isempty(self):\n",
    "        return self.first is None\n",
    "        \n",
    "    # 向链表中添加元素。\n",
    "    def add(self, new_value):\n",
    "        old_link = self.last\n",
    "        self.last = _linknode(new_value, None)\n",
    "        if self.isempty():\n",
    "            # 两者 一起进行变换。\n",
    "            self.first = self.last\n",
    "        else:\n",
    "            old_link.link = self.last\n",
    "        self.count += 1\n",
    "        return True\n",
    "    \n",
    "    def pop(self):\n",
    "        if self.first is None:\n",
    "            return \"empty\"\n",
    "        else:\n",
    "            value = self.first.value\n",
    "            self.first = self.first.link\n",
    "            if self.isempty():\n",
    "                self.last = None\n",
    "            self.count -= 1\n",
    "            return value"
   ]
  },
  {
   "cell_type": "code",
   "execution_count": 686,
   "metadata": {},
   "outputs": [],
   "source": [
    "b = linklists()"
   ]
  },
  {
   "cell_type": "code",
   "execution_count": 687,
   "metadata": {},
   "outputs": [
    {
     "data": {
      "text/plain": [
       "True"
      ]
     },
     "execution_count": 687,
     "metadata": {},
     "output_type": "execute_result"
    }
   ],
   "source": [
    "b.add(22)\n",
    "b.add(33)\n",
    "b.add(44)\n",
    "b.add(100)"
   ]
  },
  {
   "cell_type": "code",
   "execution_count": 688,
   "metadata": {},
   "outputs": [
    {
     "data": {
      "text/plain": [
       "'empty'"
      ]
     },
     "execution_count": 688,
     "metadata": {},
     "output_type": "execute_result"
    }
   ],
   "source": [
    "b.pop()"
   ]
  },
  {
   "cell_type": "code",
   "execution_count": 689,
   "metadata": {},
   "outputs": [
    {
     "ename": "AttributeError",
     "evalue": "'NoneType' object has no attribute 'value'",
     "output_type": "error",
     "traceback": [
      "\u001b[0;31m---------------------------------------------------------------------------\u001b[0m",
      "\u001b[0;31mAttributeError\u001b[0m                            Traceback (most recent call last)",
      "\u001b[0;32m<ipython-input-689-63360e6f0fb1>\u001b[0m in \u001b[0;36m<module>\u001b[0;34m()\u001b[0m\n\u001b[0;32m----> 1\u001b[0;31m \u001b[0mb\u001b[0m\u001b[0;34m.\u001b[0m\u001b[0mfirst\u001b[0m\u001b[0;34m.\u001b[0m\u001b[0mvalue\u001b[0m\u001b[0;34m\u001b[0m\u001b[0m\n\u001b[0m\u001b[1;32m      2\u001b[0m \u001b[0mb\u001b[0m\u001b[0;34m.\u001b[0m\u001b[0mlast\u001b[0m\u001b[0;34m.\u001b[0m\u001b[0mlink\u001b[0m\u001b[0;34m\u001b[0m\u001b[0m\n",
      "\u001b[0;31mAttributeError\u001b[0m: 'NoneType' object has no attribute 'value'"
     ]
    }
   ],
   "source": [
    "b.first.value\n",
    "b.last.link"
   ]
  },
  {
   "cell_type": "code",
   "execution_count": 690,
   "metadata": {},
   "outputs": [
    {
     "data": {
      "text/plain": [
       "'empty'"
      ]
     },
     "execution_count": 690,
     "metadata": {},
     "output_type": "execute_result"
    }
   ],
   "source": [
    "b.pop()"
   ]
  },
  {
   "cell_type": "code",
   "execution_count": 682,
   "metadata": {},
   "outputs": [
    {
     "data": {
      "text/plain": [
       "'empty'"
      ]
     },
     "execution_count": 682,
     "metadata": {},
     "output_type": "execute_result"
    }
   ],
   "source": [
    "b.pop()"
   ]
  },
  {
   "cell_type": "code",
   "execution_count": 683,
   "metadata": {},
   "outputs": [
    {
     "data": {
      "text/plain": [
       "'empty'"
      ]
     },
     "execution_count": 683,
     "metadata": {},
     "output_type": "execute_result"
    }
   ],
   "source": [
    "b.pop()"
   ]
  },
  {
   "cell_type": "code",
   "execution_count": 684,
   "metadata": {},
   "outputs": [],
   "source": [
    "class test:\n",
    "    def __init__(self):\n",
    "        self.a = 0\n",
    "        self.b = 0\n",
    "        \n",
    "    def change(self, x):\n",
    "        self.b = self.a\n",
    "        self.a += x"
   ]
  },
  {
   "cell_type": "code",
   "execution_count": null,
   "metadata": {
    "collapsed": true
   },
   "outputs": [],
   "source": []
  },
  {
   "cell_type": "code",
   "execution_count": null,
   "metadata": {
    "collapsed": true
   },
   "outputs": [],
   "source": []
  },
  {
   "cell_type": "code",
   "execution_count": null,
   "metadata": {
    "collapsed": true
   },
   "outputs": [],
   "source": []
  }
 ],
 "metadata": {
  "kernelspec": {
   "display_name": "Python 3",
   "language": "python",
   "name": "python3"
  },
  "language_info": {
   "codemirror_mode": {
    "name": "ipython",
    "version": 3
   },
   "file_extension": ".py",
   "mimetype": "text/x-python",
   "name": "python",
   "nbconvert_exporter": "python",
   "pygments_lexer": "ipython3",
   "version": "3.6.2"
  }
 },
 "nbformat": 4,
 "nbformat_minor": 2
}
