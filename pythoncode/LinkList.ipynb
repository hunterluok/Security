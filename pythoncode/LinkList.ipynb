{
 "cells": [
  {
   "cell_type": "code",
   "execution_count": 76,
   "metadata": {
    "collapsed": true
   },
   "outputs": [],
   "source": [
    "class _linknode:\n",
    "    def __init__(self, value=None, link=None):\n",
    "        self.value = value\n",
    "        self.link = link"
   ]
  },
  {
   "cell_type": "code",
   "execution_count": 167,
   "metadata": {},
   "outputs": [],
   "source": [
    "class linklist:\n",
    "    def __init__(self):\n",
    "        self.node = None\n",
    "        self.count = 0\n",
    "        \n",
    "    # 判断链表是否为空\n",
    "    def isempty(self):\n",
    "        return self.node is None\n",
    "        \n",
    "    # 向链表中添加元素。\n",
    "    # 在尾部添加元素\n",
    "    def add(self, new_value):\n",
    "        new_node = _linknode(new_value)\n",
    "        if self.node is None:\n",
    "            self.node = new_node\n",
    "            self.count += 1\n",
    "            return \n",
    "        temp = self.node\n",
    "        if temp.link is not None:\n",
    "            temp = temp.link\n",
    "        temp.link = new_node\n",
    "        # 这里类似于 是 栈的功能。self.node = _linknode(new_value, self.node)\n",
    "        self.count += 1\n",
    "        return True\n",
    "    \n",
    "    def add_head(self, data):\n",
    "        # 在头部添加数据。\n",
    "        new_node = _linknode(data)\n",
    "        new_node.link = self.node\n",
    "        self.node = new_node\n",
    "        self.count += 1\n",
    "        print('add a node at head')\n",
    "    \n",
    "    def link_len(self):\n",
    "        return self.count\n",
    "    \n",
    "    def find_value(self, find_value):\n",
    "        temp_node = self.node\n",
    "        if temp_node.value == find_value:\n",
    "            return True\n",
    "        while temp_node.link is not None:\n",
    "            temp_node = temp_node.link\n",
    "            if temp_node.value == find_value:\n",
    "                return True\n",
    "        return False\n",
    "    \n",
    "    def pop_value(self, value):\n",
    "        # 有问题\n",
    "        if not self.find_value(value):\n",
    "            return \"value {} not in the linklist\".format(value)\n",
    "        \n",
    "        temp_node = self.node\n",
    "        while temp_node.link is not None:\n",
    "            if temp_node.value == value:\n",
    "                temp = self.temp_node.link\n",
    "            else:\n",
    "                temp_node = temp_node.link\n",
    "    \n",
    "    def omit_value(self, position=2):\n",
    "        if position == 0:\n",
    "            self.node = self.node.link\n",
    "            return \n",
    "        temp = self.node\n",
    "        flag = 0\n",
    "        if position >= self.count:\n",
    "            print(\"wrong\")\n",
    "            return\n",
    "        while flag < position - 1:\n",
    "            temp = temp.link\n",
    "            flag += 1\n",
    "        temp.link = temp.link.link\n",
    "        self.count -= 1\n",
    "                \n",
    "    def add_midd(self, position, value):\n",
    "        \"\"\"\n",
    "        不能在 头 添加\n",
    "        :param position: \n",
    "        :param value: \n",
    "        :return: \n",
    "        \"\"\"\n",
    "        \n",
    "        if self.count < position:\n",
    "            raise ValueError(\"position is not fit\")\n",
    "        # 其他判断 position是否合适的条建\n",
    "        new_node= _linknode(value)\n",
    "        temp = self.node\n",
    "        flag = 0\n",
    "        while flag < position - 1:\n",
    "            temp = temp.link\n",
    "            flag += 1\n",
    "        new_node.link = temp.link\n",
    "        temp.link = new_node\n",
    "        self.count += 1\n",
    "        \n",
    "    def pop(self):\n",
    "        if self.node is None:\n",
    "            return \"empty\"\n",
    "        else:\n",
    "            value = self.node.value\n",
    "            self.node = self.node.link\n",
    "            self.count -= 1\n",
    "            return value\n",
    "        \n",
    "    def print_value(self):\n",
    "        temp_node = self.node\n",
    "        if self.isempty():\n",
    "            return \"not exist values to print\"\n",
    "        while temp_node is not None:\n",
    "            print(temp_node.value)\n",
    "            temp_node = temp_node.link"
   ]
  },
  {
   "cell_type": "code",
   "execution_count": 168,
   "metadata": {},
   "outputs": [
    {
     "data": {
      "text/plain": [
       "True"
      ]
     },
     "execution_count": 168,
     "metadata": {},
     "output_type": "execute_result"
    }
   ],
   "source": [
    "a = linklist()\n",
    "a.isempty()"
   ]
  },
  {
   "cell_type": "code",
   "execution_count": 169,
   "metadata": {},
   "outputs": [
    {
     "name": "stdout",
     "output_type": "stream",
     "text": [
      "1\n222\n3\n"
     ]
    },
    {
     "data": {
      "text/plain": [
       "3"
      ]
     },
     "execution_count": 169,
     "metadata": {},
     "output_type": "execute_result"
    }
   ],
   "source": [
    "a.add(1)\n",
    "a.add(222)\n",
    "a.add(3)\n",
    "a.print_value()\n",
    "a.count"
   ]
  },
  {
   "cell_type": "code",
   "execution_count": 170,
   "metadata": {},
   "outputs": [
    {
     "name": "stdout",
     "output_type": "stream",
     "text": [
      "1\n4\n222\n3\n"
     ]
    }
   ],
   "source": [
    "a.add_midd(1, 4)\n",
    "a.find_value(1)\n",
    "a.print_value()"
   ]
  },
  {
   "cell_type": "code",
   "execution_count": 171,
   "metadata": {},
   "outputs": [
    {
     "name": "stdout",
     "output_type": "stream",
     "text": [
      "add a node at head\n1008\n1\n424\n4\n222\n3\n"
     ]
    }
   ],
   "source": [
    "# a.isempty()\n",
    "a.add_midd(1, 424)\n",
    "a.add_head(1008)\n",
    "a.print_value()"
   ]
  },
  {
   "cell_type": "code",
   "execution_count": 172,
   "metadata": {},
   "outputs": [
    {
     "name": "stdout",
     "output_type": "stream",
     "text": [
      "1\n424\n4\n222\n3\n"
     ]
    }
   ],
   "source": [
    "#print(a.count)\n",
    "a.omit_value(0)\n",
    "a.print_value()"
   ]
  },
  {
   "cell_type": "code",
   "execution_count": 659,
   "metadata": {},
   "outputs": [],
   "source": [
    "class _linknode:\n",
    "    def __init__(self, value, link):\n",
    "        self.value = value\n",
    "        self.link = link\n",
    "        \n",
    "class linklists:\n",
    "    def __init__(self):\n",
    "        self.first = None\n",
    "        self.last = None\n",
    "        self.count = 0\n",
    "        \n",
    "    # 判断链表是否为空\n",
    "    def isempty(self):\n",
    "        return self.first is None\n",
    "        \n",
    "    # 向链表中添加元素。\n",
    "    def add(self, new_value):\n",
    "        old_link = self.last\n",
    "        self.last = _linknode(new_value, None)\n",
    "        if self.isempty():\n",
    "            # 两者 一起进行变换。\n",
    "            self.first = self.last\n",
    "        else:\n",
    "            old_link.link = self.last\n",
    "        self.count += 1\n",
    "        return True\n",
    "    \n",
    "    def pop(self):\n",
    "        if self.first is None:\n",
    "            return \"empty\"\n",
    "        else:\n",
    "            value = self.first.value\n",
    "            self.first = self.first.link\n",
    "            if self.isempty():\n",
    "                self.last = None\n",
    "            self.count -= 1\n",
    "            return value"
   ]
  },
  {
   "cell_type": "code",
   "execution_count": 686,
   "metadata": {},
   "outputs": [],
   "source": [
    "b = linklists()"
   ]
  },
  {
   "cell_type": "code",
   "execution_count": 687,
   "metadata": {},
   "outputs": [
    {
     "data": {
      "text/plain": [
       "True"
      ]
     },
     "execution_count": 687,
     "metadata": {},
     "output_type": "execute_result"
    }
   ],
   "source": [
    "b.add(22)\n",
    "b.add(33)\n",
    "b.add(44)\n",
    "b.add(100)"
   ]
  },
  {
   "cell_type": "code",
   "execution_count": 688,
   "metadata": {},
   "outputs": [
    {
     "data": {
      "text/plain": [
       "'empty'"
      ]
     },
     "execution_count": 688,
     "metadata": {},
     "output_type": "execute_result"
    }
   ],
   "source": [
    "b.pop()"
   ]
  },
  {
   "cell_type": "code",
   "execution_count": 689,
   "metadata": {},
   "outputs": [
    {
     "ename": "AttributeError",
     "evalue": "'NoneType' object has no attribute 'value'",
     "traceback": [
      "\u001b[0;31m---------------------------------------------------------------------------\u001b[0m",
      "\u001b[0;31mAttributeError\u001b[0m                            Traceback (most recent call last)",
      "\u001b[0;32m<ipython-input-689-63360e6f0fb1>\u001b[0m in \u001b[0;36m<module>\u001b[0;34m()\u001b[0m\n\u001b[0;32m----> 1\u001b[0;31m \u001b[0mb\u001b[0m\u001b[0;34m.\u001b[0m\u001b[0mfirst\u001b[0m\u001b[0;34m.\u001b[0m\u001b[0mvalue\u001b[0m\u001b[0;34m\u001b[0m\u001b[0m\n\u001b[0m\u001b[1;32m      2\u001b[0m \u001b[0mb\u001b[0m\u001b[0;34m.\u001b[0m\u001b[0mlast\u001b[0m\u001b[0;34m.\u001b[0m\u001b[0mlink\u001b[0m\u001b[0;34m\u001b[0m\u001b[0m\n",
      "\u001b[0;31mAttributeError\u001b[0m: 'NoneType' object has no attribute 'value'"
     ],
     "output_type": "error"
    }
   ],
   "source": [
    "b.first.value\n",
    "b.last.link"
   ]
  },
  {
   "cell_type": "code",
   "execution_count": 690,
   "metadata": {},
   "outputs": [
    {
     "data": {
      "text/plain": [
       "'empty'"
      ]
     },
     "execution_count": 690,
     "metadata": {},
     "output_type": "execute_result"
    }
   ],
   "source": [
    "b.pop()"
   ]
  },
  {
   "cell_type": "code",
   "execution_count": 682,
   "metadata": {},
   "outputs": [
    {
     "data": {
      "text/plain": [
       "'empty'"
      ]
     },
     "execution_count": 682,
     "metadata": {},
     "output_type": "execute_result"
    }
   ],
   "source": [
    "b.pop()"
   ]
  },
  {
   "cell_type": "code",
   "execution_count": 683,
   "metadata": {},
   "outputs": [
    {
     "data": {
      "text/plain": [
       "'empty'"
      ]
     },
     "execution_count": 683,
     "metadata": {},
     "output_type": "execute_result"
    }
   ],
   "source": [
    "b.pop()"
   ]
  },
  {
   "cell_type": "code",
   "execution_count": 684,
   "metadata": {},
   "outputs": [],
   "source": [
    "class test:\n",
    "    def __init__(self):\n",
    "        self.a = 0\n",
    "        self.b = 0\n",
    "        \n",
    "    def change(self, x):\n",
    "        self.b = self.a\n",
    "        self.a += x"
   ]
  },
  {
   "cell_type": "code",
   "execution_count": null,
   "metadata": {
    "collapsed": true
   },
   "outputs": [],
   "source": []
  },
  {
   "cell_type": "code",
   "execution_count": null,
   "metadata": {
    "collapsed": true
   },
   "outputs": [],
   "source": []
  },
  {
   "cell_type": "code",
   "execution_count": null,
   "metadata": {
    "collapsed": true
   },
   "outputs": [],
   "source": []
  }
 ],
 "metadata": {
  "kernelspec": {
   "display_name": "Python 3",
   "language": "python",
   "name": "python3"
  },
  "language_info": {
   "codemirror_mode": {
    "name": "ipython",
    "version": 3
   },
   "file_extension": ".py",
   "mimetype": "text/x-python",
   "name": "python",
   "nbconvert_exporter": "python",
   "pygments_lexer": "ipython3",
   "version": "3.6.2"
  }
 },
 "nbformat": 4,
 "nbformat_minor": 2
}
