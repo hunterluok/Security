{
 "cells": [
  {
   "cell_type": "code",
   "execution_count": 30,
   "metadata": {
    "collapsed": true
   },
   "outputs": [],
   "source": [
    "import numpy as np"
   ]
  },
  {
   "cell_type": "code",
   "execution_count": null,
   "metadata": {
    "collapsed": true
   },
   "outputs": [],
   "source": [
    "1 二分查找一个数据是否在集合中\n",
    "2 二分 计算一个值\n",
    "3 插入排序"
   ]
  },
  {
   "cell_type": "markdown",
   "metadata": {},
   "source": [
    "# 二分查找一个数据是否在集合中"
   ]
  },
  {
   "cell_type": "code",
   "execution_count": 121,
   "metadata": {},
   "outputs": [
    {
     "data": {
      "text/plain": [
       "array([81, 17, 77, 69, 69, 36, 92, 36, 82, 14,  5,  3, 76, 90, 84, 38, 76,\n",
       "       26, 82, 85])"
      ]
     },
     "execution_count": 121,
     "metadata": {},
     "output_type": "execute_result"
    }
   ],
   "source": [
    "a = np.array([1,3,4,66,33,22,100,53,14])\n",
    "a = sorted(a)\n",
    "b = np.random.randint(100,size=(20,))\n",
    "b"
   ]
  },
  {
   "cell_type": "code",
   "execution_count": 32,
   "metadata": {
    "collapsed": true
   },
   "outputs": [],
   "source": [
    "def find(data, target, low, high, t=1):\n",
    "    if (high - low) == 1:\n",
    "        if data[low] == target or data[high] == target:\n",
    "            return \"find_target: {}, use times {} --\".format(target, t) \n",
    "        else:\n",
    "            return \"not__find_target: {}, use times {} --\".format(target, t)\n",
    "    else:\n",
    "        mid =  (low + high) // 2\n",
    "        if data[mid] < target:\n",
    "            return find(data, target, low=mid, high=high, t=t+1)\n",
    "        elif data[mid] > target:\n",
    "            low = low\n",
    "            high = mid\n",
    "            return find(data, target, low=low, high=high, t=t+1)\n",
    "        else:\n",
    "            return \"find_target: {}, use times {} --\".format(target, t)"
   ]
  },
  {
   "cell_type": "code",
   "execution_count": 33,
   "metadata": {},
   "outputs": [
    {
     "name": "stdout",
     "output_type": "stream",
     "text": [
      "find_target: 1, use times 4 --\n",
      "find_target: 3, use times 3 --\n",
      "find_target: 4, use times 2 --\n",
      "find_target: 14, use times 3 --\n",
      "find_target: 22, use times 1 --\n",
      "find_target: 33, use times 3 --\n",
      "find_target: 53, use times 2 --\n",
      "find_target: 66, use times 3 --\n",
      "find_target: 100, use times 4 --\n"
     ]
    }
   ],
   "source": [
    "def get_result(data, d):\n",
    "    \"\"\"\n",
    "    data:origin dataset\n",
    "    d: target dataset\n",
    "    \"\"\"\n",
    "    data = sorted(data)\n",
    "    # 注意要排序的，不能有遗漏。\n",
    "    lows = 0\n",
    "    highs = len(d) - 1\n",
    "    t = 0\n",
    "    for i in d:\n",
    "        print(find(data=data, target=i, low=lows, high=highs))\n",
    "get_result(a, a)"
   ]
  },
  {
   "cell_type": "code",
   "execution_count": 77,
   "metadata": {
    "collapsed": true
   },
   "outputs": [],
   "source": [
    "def find(data, target, low, high):\n",
    "    global t\n",
    "    t +=1 \n",
    "    if (high - low) == 1:\n",
    "        if data[low] == target or data[high] == target:\n",
    "            return \"find_target: {}, use times {} --\".format(target, t) \n",
    "        else:\n",
    "            return \"notfind_target: {}, use times {} --\".format(target, t)\n",
    "    else:\n",
    "        mid =  (low + high) // 2\n",
    "        if data[mid] < target:\n",
    "            low = mid\n",
    "            high = high\n",
    "            return find(data, target, low=low, high=high)\n",
    "        elif data[mid] > target:\n",
    "            low = low\n",
    "            high = mid\n",
    "            return find(data, target, low=low, high=high)\n",
    "        else:\n",
    "            return \"find_target: {}, use times {} --\".format(target, t)"
   ]
  },
  {
   "cell_type": "markdown",
   "metadata": {
    "collapsed": true
   },
   "source": [
    "# 二分 计算一个值"
   ]
  },
  {
   "cell_type": "code",
   "execution_count": 16,
   "metadata": {},
   "outputs": [
    {
     "data": {
      "text/plain": [
       "64"
      ]
     },
     "execution_count": 16,
     "metadata": {},
     "output_type": "execute_result"
    }
   ],
   "source": [
    "def f(x):\n",
    "    if x<0:\n",
    "        raise ValueError(\"x 必须大于0\")\n",
    "    else:\n",
    "        return x**3"
   ]
  },
  {
   "cell_type": "code",
   "execution_count": 25,
   "metadata": {},
   "outputs": [
    {
     "data": {
      "text/plain": [
       "'find_target: 2.0, use times 1 --'"
      ]
     },
     "execution_count": 25,
     "metadata": {},
     "output_type": "execute_result"
    }
   ],
   "source": [
    "def get_x(f, target,low, high, eta, t=1):\n",
    "    # 这里 可以进行限制\n",
    "    if f(low) > target or f(high) < target:\n",
    "        return \"no\"\n",
    "    \n",
    "    mid = 0.5 * (low + high)\n",
    "    if high - low < eta:\n",
    "        return \"find_target: {}, use times {} --\".format(mid, t)\n",
    "    else:\n",
    "        pass\n",
    "    \n",
    "    if f(mid) > target:\n",
    "        high = mid\n",
    "        low = low\n",
    "        return get_x(f, target, low, mid, eta, t=t+1)\n",
    "    elif f(mid) < target:\n",
    "        return get_x(f, target, mid, high, eta, t=t+1)\n",
    "    else:\n",
    "        return \"find_target: {}, use times {} --\".format(mid, t)\n",
    "\n",
    "get_x(f,8,0,4,eta=0.01)"
   ]
  },
  {
   "cell_type": "markdown",
   "metadata": {},
   "source": [
    "# 3插入排序"
   ]
  },
  {
   "cell_type": "code",
   "execution_count": 79,
   "metadata": {
    "collapsed": true
   },
   "outputs": [],
   "source": [
    "def exchange_xy(a, x, y):\n",
    "    if a[x] > a[y]:\n",
    "        a[x], a[y] = a[y], a[x]"
   ]
  },
  {
   "cell_type": "code",
   "execution_count": 111,
   "metadata": {},
   "outputs": [
    {
     "data": {
      "text/plain": [
       "(array([96, 94, 94, 93, 91, 91, 91, 87, 79, 74, 73, 71, 70, 70, 67, 56, 44,\n",
       "        37, 18,  2]), 79)"
      ]
     },
     "execution_count": 111,
     "metadata": {},
     "output_type": "execute_result"
    }
   ],
   "source": [
    "def insert_sort(data):\n",
    "    lens = len(data)\n",
    "    count = 0\n",
    "    for i in range(lens-1):\n",
    "        for j in range(i+1, lens):\n",
    "            if data[j] > data[i]:\n",
    "                count += 1\n",
    "                exchange_xy(data,j,i)\n",
    "    return data, count\n",
    "insert_sort(tt)       "
   ]
  },
  {
   "cell_type": "code",
   "execution_count": 125,
   "metadata": {},
   "outputs": [
    {
     "data": {
      "text/plain": [
       "(['e', 'c', 'b', 'a'], 4)"
      ]
     },
     "execution_count": 125,
     "metadata": {},
     "output_type": "execute_result"
    }
   ],
   "source": [
    "def insert_sort_another(data):\n",
    "    lens = len(data)\n",
    "    count = 0\n",
    "    for i in range(1, lens):\n",
    "        j = i\n",
    "        while j > 0 and data[j] > data[j-1]:\n",
    "            count += 1\n",
    "            exchange_xy(data, j, j-1)\n",
    "            j -= 1\n",
    "    return data, count\n",
    "tx = ['a','c','e','b']\n",
    "insert_sort_another(tx)"
   ]
  },
  {
   "cell_type": "code",
   "execution_count": 122,
   "metadata": {},
   "outputs": [
    {
     "data": {
      "text/plain": [
       "array([81, 17, 77, 69, 69, 36, 92, 36, 82, 14,  5,  3, 76, 90, 84, 38, 76,\n",
       "       26, 82, 85])"
      ]
     },
     "execution_count": 122,
     "metadata": {},
     "output_type": "execute_result"
    }
   ],
   "source": [
    "#b = np.random.randint(10,size=(6,))\n",
    "import copy\n",
    "tx = copy.copy(b)\n",
    "tx"
   ]
  },
  {
   "cell_type": "code",
   "execution_count": null,
   "metadata": {
    "collapsed": true
   },
   "outputs": [],
   "source": []
  }
 ],
 "metadata": {
  "kernelspec": {
   "display_name": "Python 3",
   "language": "python",
   "name": "python3"
  },
  "language_info": {
   "codemirror_mode": {
    "name": "ipython",
    "version": 3
   },
   "file_extension": ".py",
   "mimetype": "text/x-python",
   "name": "python",
   "nbconvert_exporter": "python",
   "pygments_lexer": "ipython3",
   "version": "3.6.2"
  }
 },
 "nbformat": 4,
 "nbformat_minor": 2
}
