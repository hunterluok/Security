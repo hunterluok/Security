{
 "cells": [
  {
   "cell_type": "code",
   "execution_count": 81,
   "metadata": {},
   "outputs": [
    {
     "data": {
      "text/plain": [
       "[[4, 6], [7, 5], [9, 0]]"
      ]
     },
     "execution_count": 81,
     "metadata": {},
     "output_type": "execute_result"
    }
   ],
   "source": [
    "get(data)"
   ]
  },
  {
   "cell_type": "code",
   "execution_count": null,
   "metadata": {},
   "outputs": [],
   "source": [
    "import sys\n",
    "\n",
    "if __name__ == \"__main__\":\n",
    "    # 读取第一行的n\n",
    "    n = int(sys.stdin.readline().strip())\n",
    "    res = {}\n",
    "    for i in range(n):\n",
    "        # 读取每一行\n",
    "        line = sys.stdin.readline().strip()\n",
    "        # 把每一行的数字分隔后转化成int列表\n",
    "        values = list(map(int, line.split()))\n",
    "        first, second = values[0], values[1]\n",
    "        if first in res.keys():\n",
    "            old = res[first]\n",
    "            if second > old:\n",
    "                res[first] == second\n",
    "            else:\n",
    "                continue\n",
    "        else:\n",
    "            res.setdefault(first, second)\n",
    "    res = sorted(res.items(), key=lambda x: x[0])\n",
    "\n",
    "    index = len(res) - 1\n",
    "    result = []\n",
    "    temp = 0\n",
    "    while index >= 0:\n",
    "        line = res[index]\n",
    "        y_value = line[1]\n",
    "        if y_value >= temp:\n",
    "            result.append(index)\n",
    "            temp = y_value\n",
    "        index -= 1\n",
    "    result = result[::-1]\n",
    "    for i in result:\n",
    "        print(res[i][0], res[i][1])"
   ]
  },
  {
   "cell_type": "code",
   "execution_count": 70,
   "metadata": {},
   "outputs": [],
   "source": [
    "def get(data):\n",
    "    dicts = {}\n",
    "    for line in data:\n",
    "        if  len(line) == 1:\n",
    "            continue\n",
    "        first, second = line[0], line[1]\n",
    "        dicts.setdefault(first, second)\n",
    "    res = sorted(dicts.items(), key=lambda x:x[0])\n",
    "    index = len(dicts) - 1\n",
    "    result = []\n",
    "    temp = 0\n",
    "    while index>=0:\n",
    "        line = res[index]\n",
    "        y_value = line[1]\n",
    "        if y_value >= temp:\n",
    "            result.append(index)\n",
    "            temp = y_value\n",
    "        index  -= 1\n",
    "    result = result[::-1]\n",
    "    last_re = []\n",
    "    for i in result:\n",
    "        last_re.append([res[i][0], res[i][1]])\n",
    "    return last_re"
   ]
  },
  {
   "cell_type": "code",
   "execution_count": 71,
   "metadata": {},
   "outputs": [
    {
     "data": {
      "text/plain": [
       "[[4, 6], [7, 5], [9, 0]]"
      ]
     },
     "execution_count": 71,
     "metadata": {},
     "output_type": "execute_result"
    }
   ],
   "source": [
    "get(data)"
   ]
  },
  {
   "cell_type": "code",
   "execution_count": 104,
   "metadata": {},
   "outputs": [],
   "source": [
    "data = [[5], [1, 2], [5, 3], [4, 6], [7, 5], [9, 0]]"
   ]
  },
  {
   "cell_type": "code",
   "execution_count": 105,
   "metadata": {},
   "outputs": [
    {
     "data": {
      "text/plain": [
       "[[4, 6], [7, 5], [9, 0]]"
      ]
     },
     "execution_count": 105,
     "metadata": {},
     "output_type": "execute_result"
    }
   ],
   "source": [
    "res = get(data[1:])\n",
    "res"
   ]
  },
  {
   "cell_type": "code",
   "execution_count": null,
   "metadata": {},
   "outputs": [],
   "source": [
    "# 不考虑顺序时\n",
    "import sys\n",
    "\n",
    "if __name__ == \"__main__\":\n",
    "    # 读取第一行的n\n",
    "    n = int(sys.stdin.readline().strip())\n",
    "\n",
    "    line = sys.stdin.readline().strip()\n",
    "    # 把每一行的数字分隔后转化成int列表\n",
    "    a = list(map(int, line.split()))\n",
    "    res = 0\n",
    "    while len(a)!=0:\n",
    "        mins = min(a)\n",
    "        sums = sum(a)\n",
    "        result = mins * sums\n",
    "        if result > res:\n",
    "            res = result\n",
    "        a.remove(mins)\n",
    "    print(res)\n"
   ]
  },
  {
   "cell_type": "code",
   "execution_count": null,
   "metadata": {},
   "outputs": [],
   "source": []
  },
  {
   "cell_type": "code",
   "execution_count": 179,
   "metadata": {},
   "outputs": [
    {
     "name": "stdout",
     "output_type": "stream",
     "text": [
      "[81]\n",
      "[87]\n",
      "[47]\n",
      "[59]\n",
      "[81]\n",
      "[18]\n",
      "[25]\n",
      "[40]\n",
      "[56]\n",
      "[0]\n"
     ]
    },
    {
     "data": {
      "text/plain": [
       "7569"
      ]
     },
     "execution_count": 179,
     "metadata": {},
     "output_type": "execute_result"
    }
   ],
   "source": [
    "def cal(data, step=1, lens=10):\n",
    "    cal = []\n",
    "    maxs = 0\n",
    "    for i in range(lens-step+1):\n",
    "        temp = data[i : i+step]\n",
    "        new_max = min(temp) * sum(temp)\n",
    "        if maxs < new_max:\n",
    "            maxs = new_max\n",
    "    return maxs\n",
    "cal(a)"
   ]
  },
  {
   "cell_type": "code",
   "execution_count": null,
   "metadata": {},
   "outputs": [],
   "source": []
  },
  {
   "cell_type": "code",
   "execution_count": 170,
   "metadata": {},
   "outputs": [
    {
     "data": {
      "text/plain": [
       "[81, 87, 47, 59, 81, 18, 25, 40, 56, 0]"
      ]
     },
     "execution_count": 170,
     "metadata": {},
     "output_type": "execute_result"
    }
   ],
   "source": [
    "line = \"81 87 47 59 81 18 25 40 56 0\"\n",
    "a = list(map(int, line.split()))\n",
    "a"
   ]
  },
  {
   "cell_type": "code",
   "execution_count": 164,
   "metadata": {},
   "outputs": [
    {
     "name": "stdout",
     "output_type": "stream",
     "text": [
      "0 9\n"
     ]
    }
   ],
   "source": [
    "mins = min(a)\n",
    "min_index = a.index(mins)\n",
    "print(mins, min_index)"
   ]
  },
  {
   "cell_type": "code",
   "execution_count": 165,
   "metadata": {},
   "outputs": [],
   "source": [
    "def g(x):\n",
    "    mins = min(x)\n",
    "    sums = sum(x)\n",
    "    return mins * sums"
   ]
  },
  {
   "cell_type": "code",
   "execution_count": null,
   "metadata": {},
   "outputs": [],
   "source": [
    "import sys\n",
    "if __name__ == \"__main__\":\n",
    "    # 读取第一行的n\n",
    "    n = int(sys.stdin.readline().strip())\n",
    "    line = sys.stdin.readline().strip()\n",
    "    # 把每一行的数字分隔后转化成int列表\n",
    "    a = list(map(int, line.split()))\n",
    "    res = find(line)\n",
    "    print(res)"
   ]
  },
  {
   "cell_type": "code",
   "execution_count": 157,
   "metadata": {},
   "outputs": [
    {
     "data": {
      "text/plain": [
       "10"
      ]
     },
     "execution_count": 157,
     "metadata": {},
     "output_type": "execute_result"
    }
   ],
   "source": [
    "def find(x):\n",
    "    maxs_value = min(x) * sum(x)\n",
    "    if len(x)==1:\n",
    "        temp = min(x) * sum(x)\n",
    "        if temp > maxs_value:\n",
    "            maxs_value = temp\n",
    "            return maxs_value\n",
    "        else:\n",
    "            return maxs_value\n",
    "        \n",
    "    mins = min(x)\n",
    "    min_index = x.index(mins)\n",
    "    left = x[0 : min_index]\n",
    "    right = x[min_index+1 :]\n",
    "    \n",
    "    if len(left) > 0:\n",
    "        mins = min(left)\n",
    "        sums = sum(left)\n",
    "        temp = mins * sums\n",
    "        if temp > maxs_value:\n",
    "            maxs_value = temp\n",
    "        val = find(left)\n",
    "        if val > maxs_value:\n",
    "            maxs_value = val\n",
    "    if len(right) > 0:\n",
    "        mins = min(right)\n",
    "        sums = sum(right)\n",
    "        temp = mins * sums\n",
    "        if temp > maxs_value:\n",
    "            maxs_value = temp\n",
    "        val = find(right)\n",
    "        if val > maxs_value:\n",
    "            maxs_value = val\n",
    "    return maxs_value\n",
    "            \n",
    "find([1,2,3])"
   ]
  },
  {
   "cell_type": "code",
   "execution_count": 160,
   "metadata": {},
   "outputs": [
    {
     "data": {
      "text/plain": [
       "16685"
      ]
     },
     "execution_count": 160,
     "metadata": {},
     "output_type": "execute_result"
    }
   ],
   "source": [
    "find(a)"
   ]
  },
  {
   "cell_type": "code",
   "execution_count": null,
   "metadata": {},
   "outputs": [],
   "source": []
  }
 ],
 "metadata": {
  "kernelspec": {
   "display_name": "Python 3",
   "language": "python",
   "name": "python3"
  },
  "language_info": {
   "codemirror_mode": {
    "name": "ipython",
    "version": 3
   },
   "file_extension": ".py",
   "mimetype": "text/x-python",
   "name": "python",
   "nbconvert_exporter": "python",
   "pygments_lexer": "ipython3",
   "version": "3.6.8"
  }
 },
 "nbformat": 4,
 "nbformat_minor": 2
}
