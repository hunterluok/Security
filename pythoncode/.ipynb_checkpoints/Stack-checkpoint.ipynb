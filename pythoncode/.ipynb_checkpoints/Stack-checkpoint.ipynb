{
 "cells": [
  {
   "cell_type": "code",
   "execution_count": 1,
   "metadata": {
    "collapsed": true
   },
   "outputs": [],
   "source": [
    "import numpy as np"
   ]
  },
  {
   "cell_type": "markdown",
   "metadata": {},
   "source": [
    "# 动态数组实现栈"
   ]
  },
  {
   "cell_type": "code",
   "execution_count": 11,
   "metadata": {
    "collapsed": true
   },
   "outputs": [],
   "source": [
    "class Stack:\n",
    "    def __init__(self):\n",
    "        #self.size = size\n",
    "        self._a = []\n",
    "        \n",
    "    def __length__(self):\n",
    "        return len(self._a)\n",
    "    \n",
    "    def isEmpty(self):\n",
    "        return len(self._a) == 0\n",
    "    \n",
    "    def push(self, value):\n",
    "        self._a += [value]  # 利用了列表的特点。 两个列表之间可以互相加起来。\n",
    "        \n",
    "    def pop(self):\n",
    "        return self._a.pop()  #  列表可以进行pop 操作，而不能直接进行 push操作。"
   ]
  },
  {
   "cell_type": "code",
   "execution_count": 12,
   "metadata": {},
   "outputs": [
    {
     "data": {
      "text/plain": [
       "3"
      ]
     },
     "execution_count": 12,
     "metadata": {},
     "output_type": "execute_result"
    }
   ],
   "source": [
    "a = [1, 2, 3]\n",
    "a.pop() #"
   ]
  },
  {
   "cell_type": "code",
   "execution_count": 13,
   "metadata": {
    "collapsed": true
   },
   "outputs": [],
   "source": [
    "sta = Stack()\n",
    "sta.isEmpty()"
   ]
  },
  {
   "cell_type": "code",
   "execution_count": 16,
   "metadata": {
    "collapsed": true
   },
   "outputs": [],
   "source": [
    "sta.push(2)\n",
    "sta.push(22)"
   ]
  },
  {
   "cell_type": "code",
   "execution_count": 17,
   "metadata": {},
   "outputs": [
    {
     "data": {
      "text/plain": [
       "22"
      ]
     },
     "execution_count": 17,
     "metadata": {},
     "output_type": "execute_result"
    }
   ],
   "source": [
    "sta.pop()"
   ]
  },
  {
   "cell_type": "code",
   "execution_count": 18,
   "metadata": {},
   "outputs": [
    {
     "data": {
      "text/plain": [
       "[2, 2]"
      ]
     },
     "execution_count": 18,
     "metadata": {},
     "output_type": "execute_result"
    }
   ],
   "source": [
    "sta._a"
   ]
  },
  {
   "cell_type": "code",
   "execution_count": 20,
   "metadata": {},
   "outputs": [
    {
     "data": {
      "text/plain": [
       "2"
      ]
     },
     "execution_count": 20,
     "metadata": {},
     "output_type": "execute_result"
    }
   ],
   "source": [
    "sta.__length__()"
   ]
  },
  {
   "cell_type": "code",
   "execution_count": 32,
   "metadata": {},
   "outputs": [
    {
     "name": "stdout",
     "output_type": "stream",
     "text": [
      "push le  [1]\n",
      "push le  [1, 2]\n",
      "push le  [1, 2, 11]\n",
      "pop le 8 [1, 2]\n",
      "push le  [1, 2, 7]\n",
      "push le  [1, 2, 7, 3]\n",
      "push le  [1, 2, 7, 3, 4]\n",
      "push le  [1, 2, 7, 3, 4, 2]\n",
      "push le  [1, 2, 7, 3, 4, 2, 7]\n",
      "False\n",
      "7\n"
     ]
    }
   ],
   "source": [
    "ns = Stack()\n",
    "ts = [1, 2, 11, 8, 7, 3, 4, 2, 7]\n",
    "for i in ts:\n",
    "    if i % 2 == 0 and i > 4:\n",
    "        ns.pop()\n",
    "        print(\"pop: {}\".format(i), ns._a)\n",
    "    else:\n",
    "        ns.push(i)\n",
    "        print(\"push: \", ns._a)\n",
    "        \n",
    "print(ns.isEmpty())\n",
    "print(ns.__length__())"
   ]
  },
  {
   "cell_type": "markdown",
   "metadata": {
    "collapsed": true
   },
   "source": [
    "# 链表实现栈"
   ]
  },
  {
   "cell_type": "code",
   "execution_count": 3,
   "metadata": {
    "collapsed": true
   },
   "outputs": [],
   "source": [
    "class _node:\n",
    "    def __init__(self, item, nexts):\n",
    "        self.item = item\n",
    "        self.nexts = nexts"
   ]
  },
  {
   "cell_type": "code",
   "execution_count": 122,
   "metadata": {},
   "outputs": [],
   "source": [
    "class link:\n",
    "    def __init__(self):\n",
    "        self._first = None\n",
    "        self.count = 0\n",
    "        \n",
    "    def isempty(self):\n",
    "        return self._first is None\n",
    "    \n",
    "    def push(self, data):\n",
    "        # _node 中的最后一个 nexts 为 None\n",
    "        self._first = _node(data, self._first)\n",
    "        self.count += 1\n",
    "        \n",
    "    def pop(self):\n",
    "        item = self._first.item\n",
    "        self._first = self._first.nexts\n",
    "        self.count -= 1\n",
    "        return item\n",
    "\n",
    "    def search_data(self, data):\n",
    "        temp = self._first\n",
    "        while temp.item != data:\n",
    "            temp = temp.nexts\n",
    "            if temp.item == data:\n",
    "                return True\n",
    "            elif temp.nexts is None:\n",
    "                return False\n",
    "        return True  "
   ]
  },
  {
   "cell_type": "code",
   "execution_count": 136,
   "metadata": {},
   "outputs": [
    {
     "name": "stdout",
     "output_type": "stream",
     "text": [
      "True\n"
     ]
    }
   ],
   "source": [
    "test = link()\n",
    "print(test.isempty())\n",
    "\n",
    "for i in range(10):\n",
    "    test.push(i)"
   ]
  },
  {
   "cell_type": "code",
   "execution_count": 137,
   "metadata": {},
   "outputs": [
    {
     "data": {
      "text/plain": [
       "False"
      ]
     },
     "execution_count": 137,
     "metadata": {},
     "output_type": "execute_result"
    }
   ],
   "source": [
    "test.search_data(92)"
   ]
  },
  {
   "cell_type": "code",
   "execution_count": 138,
   "metadata": {},
   "outputs": [
    {
     "name": "stdout",
     "output_type": "stream",
     "text": [
      "9\n",
      "8\n",
      "7\n",
      "6\n",
      "5\n"
     ]
    }
   ],
   "source": [
    "for i in range(5):\n",
    "    print(test.pop())"
   ]
  },
  {
   "cell_type": "code",
   "execution_count": 141,
   "metadata": {},
   "outputs": [
    {
     "name": "stdout",
     "output_type": "stream",
     "text": [
      "False\n",
      "5\n",
      "True\n",
      "5\n",
      "False\n"
     ]
    }
   ],
   "source": [
    "print(test.isempty())\n",
    "print(test.count)\n",
    "print(test.search_data(4))\n",
    "print(test.count)\n",
    "print(test.search_data(33))"
   ]
  },
  {
   "cell_type": "code",
   "execution_count": null,
   "metadata": {
    "collapsed": true
   },
   "outputs": [],
   "source": []
  }
 ],
 "metadata": {
  "kernelspec": {
   "display_name": "Python 3",
   "language": "python",
   "name": "python3"
  },
  "language_info": {
   "codemirror_mode": {
    "name": "ipython",
    "version": 3
   },
   "file_extension": ".py",
   "mimetype": "text/x-python",
   "name": "python",
   "nbconvert_exporter": "python",
   "pygments_lexer": "ipython3",
   "version": "3.6.2"
  }
 },
 "nbformat": 4,
 "nbformat_minor": 2
}
