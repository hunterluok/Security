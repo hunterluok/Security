{
 "cells": [
  {
   "cell_type": "code",
   "execution_count": 1,
   "metadata": {
    "collapsed": true
   },
   "outputs": [],
   "source": [
    "from numpy import *"
   ]
  },
  {
   "cell_type": "code",
   "execution_count": 4,
   "metadata": {
    "collapsed": true
   },
   "outputs": [],
   "source": [
    "paths='/Users/luokui/Documents/机器学习实战/机器学习实战及配套代码/machinelearninginaction/Ch10/testSet.txt'\n",
    "\n",
    "def get_data(paths):\n",
    "    data = []\n",
    "    with open(paths,'r') as f:\n",
    "        fr = f.readlines()\n",
    "        for line in fr:\n",
    "            line = line.strip().split('\\t')\n",
    "            temp = [float(i) for i in line]\n",
    "            data.append(temp)   \n",
    "    return mat(data)\n",
    "data = get_data(paths)"
   ]
  },
  {
   "cell_type": "code",
   "execution_count": 52,
   "metadata": {
    "collapsed": true
   },
   "outputs": [],
   "source": [
    "def cal_dist(centers,data,k):\n",
    "    data= mat(data)\n",
    "    m,n = data.shape\n",
    "    dists = zeros((m,k))\n",
    "    for j in range(k):\n",
    "        for i in range(m):\n",
    "            dists[i,j] = sqrt(sum(pow((centers-data[i]).A,2)))\n",
    "    return dists"
   ]
  },
  {
   "cell_type": "code",
   "execution_count": 31,
   "metadata": {},
   "outputs": [],
   "source": [
    "def chose_center(data,k):\n",
    "    ids = []\n",
    "    m,n = data.shape\n",
    "    indexs =list(arange(m))\n",
    "    for i in range(k):\n",
    "        NL = len(indexs)\n",
    "        index = random.randint(0,NL,1)[0]  # 这个地方需要注意啊 ，\n",
    "        ids.append(indexs[index])\n",
    "        indexs.remove(indexs[index])\n",
    "    centers = data[ids]\n",
    "    return centers\n",
    "cen = chose_center(data,5)"
   ]
  },
  {
   "cell_type": "code",
   "execution_count": 53,
   "metadata": {},
   "outputs": [],
   "source": [
    "dists = cal_dist(cen,data,5)"
   ]
  },
  {
   "cell_type": "code",
   "execution_count": 58,
   "metadata": {},
   "outputs": [
    {
     "data": {
      "text/plain": [
       "array([3, 3, 3, 3, 3])"
      ]
     },
     "execution_count": 58,
     "metadata": {},
     "output_type": "execute_result"
    }
   ],
   "source": [
    "dists.argmax(0)"
   ]
  },
  {
   "cell_type": "code",
   "execution_count": 60,
   "metadata": {},
   "outputs": [
    {
     "data": {
      "text/plain": [
       "(80, 5)"
      ]
     },
     "execution_count": 60,
     "metadata": {},
     "output_type": "execute_result"
    }
   ],
   "source": [
    "dists.shape"
   ]
  },
  {
   "cell_type": "code",
   "execution_count": null,
   "metadata": {
    "collapsed": true
   },
   "outputs": [],
   "source": []
  }
 ],
 "metadata": {
  "kernelspec": {
   "display_name": "Python 3",
   "language": "python",
   "name": "python3"
  },
  "language_info": {
   "codemirror_mode": {
    "name": "ipython",
    "version": 3
   },
   "file_extension": ".py",
   "mimetype": "text/x-python",
   "name": "python",
   "nbconvert_exporter": "python",
   "pygments_lexer": "ipython3",
   "version": "3.6.2"
  }
 },
 "nbformat": 4,
 "nbformat_minor": 2
}
