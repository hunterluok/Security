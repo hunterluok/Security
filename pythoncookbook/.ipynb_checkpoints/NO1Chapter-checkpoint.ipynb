{
 "cells": [
  {
   "cell_type": "code",
   "execution_count": null,
   "metadata": {
    "collapsed": true
   },
   "outputs": [],
   "source": []
  },
  {
   "cell_type": "markdown",
   "metadata": {},
   "source": [
    "# 1 deque "
   ]
  },
  {
   "cell_type": "code",
   "execution_count": 1,
   "metadata": {
    "collapsed": true
   },
   "outputs": [],
   "source": [
    "from collections import deque"
   ]
  },
  {
   "cell_type": "code",
   "execution_count": 3,
   "metadata": {},
   "outputs": [],
   "source": [
    "a = deque()"
   ]
  },
  {
   "cell_type": "code",
   "execution_count": 8,
   "metadata": {
    "collapsed": true
   },
   "outputs": [],
   "source": [
    "a.append(1)\n",
    "a.append(2)"
   ]
  },
  {
   "cell_type": "code",
   "execution_count": 9,
   "metadata": {},
   "outputs": [
    {
     "data": {
      "text/plain": [
       "deque([1, 1, 2])"
      ]
     },
     "execution_count": 9,
     "metadata": {},
     "output_type": "execute_result"
    }
   ],
   "source": [
    "a"
   ]
  },
  {
   "cell_type": "code",
   "execution_count": 19,
   "metadata": {
    "collapsed": true
   },
   "outputs": [],
   "source": [
    "b = deque(maxlen=5)\n",
    "for i in range(10):\n",
    "    b.append(i)"
   ]
  },
  {
   "cell_type": "code",
   "execution_count": 20,
   "metadata": {},
   "outputs": [
    {
     "name": "stdout",
     "output_type": "stream",
     "text": [
      "5\n",
      "6\n",
      "7\n",
      "8\n",
      "9\n"
     ]
    }
   ],
   "source": [
    "for i in b:\n",
    "    print(i)"
   ]
  },
  {
   "cell_type": "code",
   "execution_count": 18,
   "metadata": {},
   "outputs": [
    {
     "name": "stdout",
     "output_type": "stream",
     "text": [
      "<_io.TextIOWrapper name='test.txt' mode='r' encoding='UTF-8'>\n",
      "1 2 3\n",
      "2 3 4\n",
      "3 4 5\n",
      "1 3 5\n"
     ]
    }
   ],
   "source": [
    "# 读取数据的测试\n",
    "with open(\"test.txt\") as f:\n",
    "    for line in f:\n",
    "        print(line.strip())"
   ]
  },
  {
   "cell_type": "markdown",
   "metadata": {},
   "source": [
    "# 2寻找最大的数据"
   ]
  },
  {
   "cell_type": "code",
   "execution_count": 53,
   "metadata": {},
   "outputs": [],
   "source": [
    "from heapq import  heappop, nlargest, nsmallest, heappush\n",
    "import numpy as np"
   ]
  },
  {
   "cell_type": "code",
   "execution_count": 31,
   "metadata": {},
   "outputs": [
    {
     "data": {
      "text/plain": [
       "array([0, 1, 2, 3, 4, 5, 6, 7, 8, 9])"
      ]
     },
     "execution_count": 31,
     "metadata": {},
     "output_type": "execute_result"
    }
   ],
   "source": [
    "a = np.arange(10)\n",
    "a"
   ]
  },
  {
   "cell_type": "code",
   "execution_count": 52,
   "metadata": {},
   "outputs": [
    {
     "data": {
      "text/plain": [
       "array([0, 1, 2, 3, 4, 5, 6, 7, 8, 9])"
      ]
     },
     "execution_count": 52,
     "metadata": {},
     "output_type": "execute_result"
    }
   ],
   "source": [
    "heappop(a.tolist())\n",
    "# 必须使用list\n",
    "a"
   ]
  },
  {
   "cell_type": "code",
   "execution_count": 62,
   "metadata": {},
   "outputs": [],
   "source": [
    "heappush(a.tolist(), 33)"
   ]
  },
  {
   "cell_type": "code",
   "execution_count": 37,
   "metadata": {},
   "outputs": [
    {
     "name": "stdout",
     "output_type": "stream",
     "text": [
      "<class 'numpy.ndarray'>\n"
     ]
    },
    {
     "data": {
      "text/plain": [
       "[0, 1, 2]"
      ]
     },
     "execution_count": 37,
     "metadata": {},
     "output_type": "execute_result"
    }
   ],
   "source": [
    "print(type(a))\n",
    "nlargest(3, a)\n",
    "nsmallest(3, a)\n"
   ]
  },
  {
   "cell_type": "code",
   "execution_count": 40,
   "metadata": {},
   "outputs": [
    {
     "data": {
      "text/plain": [
       "{'a': 0, 'b': 1, 'c': 2, 'd': 3}"
      ]
     },
     "execution_count": 40,
     "metadata": {},
     "output_type": "execute_result"
    }
   ],
   "source": [
    "dicts = {k:v for k, v in zip(\"abcd\",np.arange(4))}\n",
    "dicts"
   ]
  },
  {
   "cell_type": "code",
   "execution_count": 48,
   "metadata": {},
   "outputs": [],
   "source": [
    "class item:\n",
    "    def __init__(self, item):\n",
    "        self.item = item\n",
    "    \n",
    "    def __repr__(self):\n",
    "        return \"item({})\".format(item)"
   ]
  },
  {
   "cell_type": "code",
   "execution_count": 49,
   "metadata": {
    "collapsed": true
   },
   "outputs": [],
   "source": [
    "test =item(\"s\")"
   ]
  },
  {
   "cell_type": "code",
   "execution_count": 51,
   "metadata": {},
   "outputs": [
    {
     "data": {
      "text/plain": [
       "item(<class '__main__.item'>)"
      ]
     },
     "execution_count": 51,
     "metadata": {},
     "output_type": "execute_result"
    }
   ],
   "source": [
    "test.__repr__()\n",
    "test"
   ]
  },
  {
   "cell_type": "markdown",
   "metadata": {},
   "source": [
    "# 利用heap实现 LOF算法"
   ]
  },
  {
   "cell_type": "code",
   "execution_count": 64,
   "metadata": {},
   "outputs": [
    {
     "data": {
      "text/plain": [
       "array([[ 1,  3,  3],\n",
       "       [ 2,  3,  4],\n",
       "       [ 4,  1,  3],\n",
       "       [ 4,  3, 17],\n",
       "       [ 6,  5, 10],\n",
       "       [ 5,  7, 13]])"
      ]
     },
     "execution_count": 64,
     "metadata": {},
     "output_type": "execute_result"
    }
   ],
   "source": [
    "data = np.array([[1, 3, 3],[2, 3, 4],[4, 1, 3],\n",
    "                 [4, 3, 17], [6, 5, 10], [5, 7, 13]])\n",
    "data"
   ]
  },
  {
   "cell_type": "code",
   "execution_count": 66,
   "metadata": {},
   "outputs": [
    {
     "data": {
      "text/plain": [
       "1.4142135623730951"
      ]
     },
     "execution_count": 66,
     "metadata": {},
     "output_type": "execute_result"
    }
   ],
   "source": [
    "def get_dist(vec1, vec2):\n",
    "    return np.sqrt(sum(np.power((vec1 - vec2), 2)))\n",
    "\n",
    "# get_dist(data[0], data[1])"
   ]
  },
  {
   "cell_type": "code",
   "execution_count": 109,
   "metadata": {},
   "outputs": [
    {
     "data": {
      "text/plain": [
       "[[0.0, 1.41, 3.61, 14.32, 8.83, 11.49],\n",
       " [1.41, 0.0, 3.0, 13.15, 7.48, 10.3],\n",
       " [3.61, 3.0, 0.0, 14.14, 8.31, 11.7],\n",
       " [14.32, 13.15, 14.14, 0.0, 7.55, 5.74],\n",
       " [8.83, 7.48, 8.31, 7.55, 0.0, 3.74],\n",
       " [11.49, 10.3, 11.7, 5.74, 3.74, 0.0]]"
      ]
     },
     "execution_count": 109,
     "metadata": {},
     "output_type": "execute_result"
    }
   ],
   "source": [
    "def get_dist_matrix(data):\n",
    "    m, n = data.shape\n",
    "    matrix = np.zeros((m, m))\n",
    "    for index, line in enumerate(data):\n",
    "        for j in  range(m):\n",
    "            if index != j:\n",
    "                matrix[index,j] = get_dist(data[index], data[j])\n",
    "    return np.round(matrix, 2).tolist()\n",
    "\n",
    "\n",
    "ma = get_dist_matrix(data)\n",
    "ma"
   ]
  },
  {
   "cell_type": "code",
   "execution_count": 136,
   "metadata": {},
   "outputs": [
    {
     "name": "stdout",
     "output_type": "stream",
     "text": [
      "[[ 1  3]\n",
      " [ 2  4]\n",
      " [ 4  3]\n",
      " [ 2  3]\n",
      " [20  2]\n",
      " [10 17]]\n"
     ]
    },
    {
     "data": {
      "text/plain": [
       "[[0.0, 1.41, 3.0, 1.0, 19.03, 16.64],\n",
       " [1.41, 0.0, 2.24, 1.0, 18.11, 15.26],\n",
       " [3.0, 2.24, 0.0, 2.0, 16.03, 15.23],\n",
       " [1.0, 1.0, 2.0, 0.0, 18.03, 16.12],\n",
       " [19.03, 18.11, 16.03, 18.03, 0.0, 18.03],\n",
       " [16.64, 15.26, 15.23, 16.12, 18.03, 0.0]]"
      ]
     },
     "execution_count": 136,
     "metadata": {},
     "output_type": "execute_result"
    }
   ],
   "source": [
    "data = np.array([[1, 3],[2, 4],[4, 3],\n",
    "                 [2, 3], [20, 2], [10, 17]])\n",
    "print(data)\n",
    "ma = get_dist_matrix(data)\n",
    "ma"
   ]
  },
  {
   "cell_type": "code",
   "execution_count": 138,
   "metadata": {
    "collapsed": true
   },
   "outputs": [],
   "source": [
    "import matplotlib.pyplot as plt\n",
    "%matplotlib inline"
   ]
  },
  {
   "cell_type": "code",
   "execution_count": 143,
   "metadata": {},
   "outputs": [
    {
     "data": {
      "text/plain": [
       "<matplotlib.collections.PathCollection at 0x11edbb4a8>"
      ]
     },
     "execution_count": 143,
     "metadata": {},
     "output_type": "execute_result"
    },
    {
     "data": {
      "image/png": "[encoded data removed]",
      "text/plain": [
       "<matplotlib.figure.Figure at 0x11e83c048>"
      ]
     },
     "metadata": {},
     "output_type": "display_data"
    }
   ],
   "source": [
    "plt.scatter(np.array(data)[:,0],np.array(data)[:,1], color=\"red\")"
   ]
  },
  {
   "cell_type": "code",
   "execution_count": 142,
   "metadata": {},
   "outputs": [
    {
     "name": "stdout",
     "output_type": "stream",
     "text": [
      "2.17\n",
      "2.17\n",
      "3.64\n",
      "1.61\n",
      "18.5\n",
      "16.25\n"
     ]
    }
   ],
   "source": [
    "de = slice(1,3)\n",
    "for i in range(6):\n",
    "    dists = ma[i]\n",
    "    rd_x = nsmallest(3, dists)[de]\n",
    "    lrd_x = np.round(1 / (sum(rd_x) + 0.01), 2)\n",
    "    score = cald_lrd_k(rd_x, dists) / (lrd_x + 0.01)\n",
    "    print(np.round(score, 2))"
   ]
  },
  {
   "cell_type": "code",
   "execution_count": 125,
   "metadata": {
    "collapsed": true
   },
   "outputs": [],
   "source": [
    "def cald_lrd_k(rd_x, dists):\n",
    "    sums = 0\n",
    "    for value in rd_x:\n",
    "        index = dists.index(value)\n",
    "        \n",
    "        temp_rd = nsmallest(3, ma[index])[de]\n",
    "        temp_rdx = np.round(1 / sum(temp_rd), 2)\n",
    "        sums += temp_rdx\n",
    "    return sums"
   ]
  },
  {
   "cell_type": "code",
   "execution_count": 91,
   "metadata": {},
   "outputs": [
    {
     "name": "stdout",
     "output_type": "stream",
     "text": [
      "1.41\n",
      "[1.41, 3.0]\n"
     ]
    },
    {
     "data": {
      "text/plain": [
       "2"
      ]
     },
     "execution_count": 91,
     "metadata": {},
     "output_type": "execute_result"
    }
   ],
   "source": [
    "rd = nsmallest(3, ma[1])\n",
    "de = slice(1,3)\n",
    "print(rd[de][0])\n",
    "print(rd[de])\n",
    "ma[1].tolist().index(rd[de][1])"
   ]
  },
  {
   "cell_type": "code",
   "execution_count": 94,
   "metadata": {},
   "outputs": [
    {
     "data": {
      "text/plain": [
       "0.23"
      ]
     },
     "execution_count": 94,
     "metadata": {},
     "output_type": "execute_result"
    }
   ],
   "source": [
    "rdx = np.round(1 / sum(rd[de]), 2)\n",
    "rdx"
   ]
  },
  {
   "cell_type": "code",
   "execution_count": 108,
   "metadata": {},
   "outputs": [
    {
     "name": "stdout",
     "output_type": "stream",
     "text": [
      "[1.41, 3.61]\n",
      "0.2\n",
      "0\n",
      "[3.0, 3.61]\n",
      "0.15\n",
      "2\n",
      "0.35\n"
     ]
    },
    {
     "data": {
      "text/plain": [
       "1.5217391304347825"
      ]
     },
     "execution_count": 108,
     "metadata": {},
     "output_type": "execute_result"
    }
   ],
   "source": [
    "total = 0\n",
    "for value in  rd[de]:\n",
    "    index = ma[1].tolist().index(value) # 计算k degree 的 index\n",
    "    temp_rd = nsmallest(3, ma[index])[de]\n",
    "    temp_rdx = np.round(1 / sum(temp_rd), 2)\n",
    "    \n",
    "    print(temp_rd)\n",
    "    print(temp_rdx)\n",
    "    total += temp_rdx\n",
    "    # temp = (ma[1].tolist().index(rd[de][i]))\n",
    "    print(index)\n",
    "print(total)\n",
    "\n",
    "0.35 / rdx"
   ]
  },
  {
   "cell_type": "code",
   "execution_count": null,
   "metadata": {
    "collapsed": true
   },
   "outputs": [],
   "source": []
  },
  {
   "cell_type": "code",
   "execution_count": 79,
   "metadata": {},
   "outputs": [
    {
     "data": {
      "text/plain": [
       "array([0, 1, 2, 4, 5, 3])"
      ]
     },
     "execution_count": 79,
     "metadata": {},
     "output_type": "execute_result"
    }
   ],
   "source": [
    "ind = np.argsort(ma[0])\n",
    "ind"
   ]
  },
  {
   "cell_type": "code",
   "execution_count": 82,
   "metadata": {},
   "outputs": [
    {
     "data": {
      "text/plain": [
       "array([[ 0.  ,  1.41,  3.61, 14.32,  8.83, 11.49],\n",
       "       [ 1.41,  0.  ,  3.  , 13.15,  7.48, 10.3 ],\n",
       "       [ 3.61,  3.  ,  0.  , 14.14,  8.31, 11.7 ],\n",
       "       [14.32, 13.15, 14.14,  0.  ,  7.55,  5.74],\n",
       "       [ 8.83,  7.48,  8.31,  7.55,  0.  ,  3.74],\n",
       "       [11.49, 10.3 , 11.7 ,  5.74,  3.74,  0.  ]])"
      ]
     },
     "execution_count": 82,
     "metadata": {},
     "output_type": "execute_result"
    }
   ],
   "source": []
  },
  {
   "cell_type": "code",
   "execution_count": null,
   "metadata": {
    "collapsed": true
   },
   "outputs": [],
   "source": []
  }
 ],
 "metadata": {
  "kernelspec": {
   "display_name": "Python 3",
   "language": "python",
   "name": "python3"
  },
  "language_info": {
   "codemirror_mode": {
    "name": "ipython",
    "version": 3
   },
   "file_extension": ".py",
   "mimetype": "text/x-python",
   "name": "python",
   "nbconvert_exporter": "python",
   "pygments_lexer": "ipython3",
   "version": "3.6.2"
  }
 },
 "nbformat": 4,
 "nbformat_minor": 2
}
