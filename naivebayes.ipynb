{
 "cells": [
  {
   "cell_type": "code",
   "execution_count": null,
   "metadata": {
    "collapsed": true
   },
   "outputs": [],
   "source": [
    "# 利用词袋模型。\n",
    "def train(x,y):\n",
    "    numtraindocs = len(x)\n",
    "    numwords = len(x[0])\n",
    "    pri = sum(y)/float(numtraindocs)\n",
    "    \n",
    "    ponum = ones(numwords);p1num = ones(numwords) #初始化为1，2防止分母为0\n",
    "    podem = 2.0; p1dem=2.\n",
    "    for i in range(numtraindocs):\n",
    "        if y[i]==1:\n",
    "            p1num +=x[i]\n",
    "            p1dem += sum(x[i])\n",
    "        else:\n",
    "            ponum +=x[i]\n",
    "            podem +=sum(x[i])\n",
    "    p1vec = p1num/p1dem\n",
    "    povec = ponum/podem\n",
    "    return log(p1vec),log(povec),pri #注意这里的取对数\n",
    "\n",
    "def model(test,plvec,povec,pri):\n",
    "    p1 = sum(test*p1vec)+log(pri)\n",
    "    p0 = sum(test*povec)+log(pri)\n",
    "    if p1>p0:\n",
    "        return 1\n",
    "    else:\n",
    "        return 0\n",
    "\n",
    "p1vec,povec,pri = train(nd,label)\n",
    "model(thisDoc,p1vec,povec,pri)"
   ]
  }
 ],
 "metadata": {
  "kernelspec": {
   "display_name": "Python 3",
   "language": "python",
   "name": "python3"
  },
  "language_info": {
   "codemirror_mode": {
    "name": "ipython",
    "version": 3
   },
   "file_extension": ".py",
   "mimetype": "text/x-python",
   "name": "python",
   "nbconvert_exporter": "python",
   "pygments_lexer": "ipython3",
   "version": "3.6.2"
  }
 },
 "nbformat": 4,
 "nbformat_minor": 2
}
